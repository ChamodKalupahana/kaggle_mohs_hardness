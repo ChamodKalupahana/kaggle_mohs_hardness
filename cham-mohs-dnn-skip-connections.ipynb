{
 "cells": [
  {
   "cell_type": "code",
   "execution_count": 1,
   "id": "b61fdcbb",
   "metadata": {
    "_cell_guid": "b1076dfc-b9ad-4769-8c92-a6c4dae69d19",
    "_uuid": "8f2839f25d086af736a60e9eeb907d3b93b6e0e5",
    "execution": {
     "iopub.execute_input": "2023-11-28T00:41:22.308758Z",
     "iopub.status.busy": "2023-11-28T00:41:22.308466Z",
     "iopub.status.idle": "2023-11-28T00:41:35.597294Z",
     "shell.execute_reply": "2023-11-28T00:41:35.596315Z"
    },
    "papermill": {
     "duration": 13.299546,
     "end_time": "2023-11-28T00:41:35.599717",
     "exception": false,
     "start_time": "2023-11-28T00:41:22.300171",
     "status": "completed"
    },
    "tags": []
   },
   "outputs": [
    {
     "name": "stderr",
     "output_type": "stream",
     "text": [
      "/opt/conda/lib/python3.10/site-packages/scipy/__init__.py:146: UserWarning: A NumPy version >=1.16.5 and <1.23.0 is required for this version of SciPy (detected version 1.24.3\n",
      "  warnings.warn(f\"A NumPy version >={np_minversion} and <{np_maxversion}\"\n"
     ]
    },
    {
     "name": "stdout",
     "output_type": "stream",
     "text": [
      "/kaggle/input/playground-series-s3e25/sample_submission.csv\n",
      "/kaggle/input/playground-series-s3e25/train.csv\n",
      "/kaggle/input/playground-series-s3e25/test.csv\n"
     ]
    }
   ],
   "source": [
    "# This Python 3 environment comes with many helpful analytics libraries installed\n",
    "# It is defined by the kaggle/python Docker image: https://github.com/kaggle/docker-python\n",
    "# For example, here's several helpful packages to load\n",
    "\n",
    "import numpy as np # linear algebra\n",
    "import pandas as pd # data processing, CSV file I/O (e.g. pd.read_csv)\n",
    "import matplotlib.pyplot as plt\n",
    "\n",
    "import tensorflow as tf\n",
    "import tensorflow.keras.layers as layers\n",
    "\n",
    "# Input data files are available in the read-only \"../input/\" directory\n",
    "# For example, running this (by clicking run or pressing Shift+Enter) will list all files under the input directory\n",
    "\n",
    "import os\n",
    "for dirname, _, filenames in os.walk('/kaggle/input'):\n",
    "    for filename in filenames:\n",
    "        print(os.path.join(dirname, filename))\n",
    "\n",
    "# You can write up to 20GB to the current directory (/kaggle/working/) that gets preserved as output when you create a version using \"Save & Run All\" \n",
    "# You can also write temporary files to /kaggle/temp/, but they won't be saved outside of the current session"
   ]
  },
  {
   "cell_type": "code",
   "execution_count": 2,
   "id": "7ac30fac",
   "metadata": {
    "execution": {
     "iopub.execute_input": "2023-11-28T00:41:35.616075Z",
     "iopub.status.busy": "2023-11-28T00:41:35.615530Z",
     "iopub.status.idle": "2023-11-28T00:41:35.664645Z",
     "shell.execute_reply": "2023-11-28T00:41:35.663931Z"
    },
    "papermill": {
     "duration": 0.059246,
     "end_time": "2023-11-28T00:41:35.666671",
     "exception": false,
     "start_time": "2023-11-28T00:41:35.607425",
     "status": "completed"
    },
    "tags": []
   },
   "outputs": [],
   "source": [
    "filepath = \"/kaggle/input/playground-series-s3e25/train.csv\"\n",
    "\n",
    "dataset = pd.read_csv(filepath)"
   ]
  },
  {
   "cell_type": "code",
   "execution_count": 3,
   "id": "b3363f5d",
   "metadata": {
    "execution": {
     "iopub.execute_input": "2023-11-28T00:41:35.681400Z",
     "iopub.status.busy": "2023-11-28T00:41:35.680925Z",
     "iopub.status.idle": "2023-11-28T00:41:35.709256Z",
     "shell.execute_reply": "2023-11-28T00:41:35.708159Z"
    },
    "papermill": {
     "duration": 0.037913,
     "end_time": "2023-11-28T00:41:35.711320",
     "exception": false,
     "start_time": "2023-11-28T00:41:35.673407",
     "status": "completed"
    },
    "tags": []
   },
   "outputs": [
    {
     "name": "stdout",
     "output_type": "stream",
     "text": [
      "<class 'pandas.core.frame.DataFrame'>\n",
      "RangeIndex: 10407 entries, 0 to 10406\n",
      "Data columns (total 13 columns):\n",
      " #   Column                 Non-Null Count  Dtype  \n",
      "---  ------                 --------------  -----  \n",
      " 0   id                     10407 non-null  int64  \n",
      " 1   allelectrons_Total     10407 non-null  float64\n",
      " 2   density_Total          10407 non-null  float64\n",
      " 3   allelectrons_Average   10407 non-null  float64\n",
      " 4   val_e_Average          10407 non-null  float64\n",
      " 5   atomicweight_Average   10407 non-null  float64\n",
      " 6   ionenergy_Average      10407 non-null  float64\n",
      " 7   el_neg_chi_Average     10407 non-null  float64\n",
      " 8   R_vdw_element_Average  10407 non-null  float64\n",
      " 9   R_cov_element_Average  10407 non-null  float64\n",
      " 10  zaratio_Average        10407 non-null  float64\n",
      " 11  density_Average        10407 non-null  float64\n",
      " 12  Hardness               10407 non-null  float64\n",
      "dtypes: float64(12), int64(1)\n",
      "memory usage: 1.0 MB\n"
     ]
    }
   ],
   "source": [
    "dataset.info()"
   ]
  },
  {
   "cell_type": "code",
   "execution_count": 4,
   "id": "0d9438e0",
   "metadata": {
    "execution": {
     "iopub.execute_input": "2023-11-28T00:41:35.725931Z",
     "iopub.status.busy": "2023-11-28T00:41:35.725668Z",
     "iopub.status.idle": "2023-11-28T00:41:35.731137Z",
     "shell.execute_reply": "2023-11-28T00:41:35.730305Z"
    },
    "papermill": {
     "duration": 0.015095,
     "end_time": "2023-11-28T00:41:35.733154",
     "exception": false,
     "start_time": "2023-11-28T00:41:35.718059",
     "status": "completed"
    },
    "tags": []
   },
   "outputs": [],
   "source": [
    "y = dataset.pop('Hardness')\n",
    "x = dataset"
   ]
  },
  {
   "cell_type": "markdown",
   "id": "e677accb",
   "metadata": {
    "papermill": {
     "duration": 0.007176,
     "end_time": "2023-11-28T00:41:35.747160",
     "exception": false,
     "start_time": "2023-11-28T00:41:35.739984",
     "status": "completed"
    },
    "tags": []
   },
   "source": [
    "### Check dataset"
   ]
  },
  {
   "cell_type": "code",
   "execution_count": 5,
   "id": "92fb9cb4",
   "metadata": {
    "execution": {
     "iopub.execute_input": "2023-11-28T00:41:35.762200Z",
     "iopub.status.busy": "2023-11-28T00:41:35.761950Z",
     "iopub.status.idle": "2023-11-28T00:41:35.782708Z",
     "shell.execute_reply": "2023-11-28T00:41:35.781879Z"
    },
    "papermill": {
     "duration": 0.030197,
     "end_time": "2023-11-28T00:41:35.784570",
     "exception": false,
     "start_time": "2023-11-28T00:41:35.754373",
     "status": "completed"
    },
    "tags": []
   },
   "outputs": [
    {
     "data": {
      "text/html": [
       "<div>\n",
       "<style scoped>\n",
       "    .dataframe tbody tr th:only-of-type {\n",
       "        vertical-align: middle;\n",
       "    }\n",
       "\n",
       "    .dataframe tbody tr th {\n",
       "        vertical-align: top;\n",
       "    }\n",
       "\n",
       "    .dataframe thead th {\n",
       "        text-align: right;\n",
       "    }\n",
       "</style>\n",
       "<table border=\"1\" class=\"dataframe\">\n",
       "  <thead>\n",
       "    <tr style=\"text-align: right;\">\n",
       "      <th></th>\n",
       "      <th>id</th>\n",
       "      <th>allelectrons_Total</th>\n",
       "      <th>density_Total</th>\n",
       "      <th>allelectrons_Average</th>\n",
       "      <th>val_e_Average</th>\n",
       "      <th>atomicweight_Average</th>\n",
       "      <th>ionenergy_Average</th>\n",
       "      <th>el_neg_chi_Average</th>\n",
       "      <th>R_vdw_element_Average</th>\n",
       "      <th>R_cov_element_Average</th>\n",
       "      <th>zaratio_Average</th>\n",
       "      <th>density_Average</th>\n",
       "    </tr>\n",
       "  </thead>\n",
       "  <tbody>\n",
       "    <tr>\n",
       "      <th>0</th>\n",
       "      <td>0</td>\n",
       "      <td>100.0</td>\n",
       "      <td>0.841611</td>\n",
       "      <td>10.0</td>\n",
       "      <td>4.8</td>\n",
       "      <td>20.612526</td>\n",
       "      <td>11.08810</td>\n",
       "      <td>2.766</td>\n",
       "      <td>1.732</td>\n",
       "      <td>0.860</td>\n",
       "      <td>0.496070</td>\n",
       "      <td>0.91457</td>\n",
       "    </tr>\n",
       "    <tr>\n",
       "      <th>1</th>\n",
       "      <td>1</td>\n",
       "      <td>100.0</td>\n",
       "      <td>7.558488</td>\n",
       "      <td>10.0</td>\n",
       "      <td>4.8</td>\n",
       "      <td>20.298893</td>\n",
       "      <td>12.04083</td>\n",
       "      <td>2.755</td>\n",
       "      <td>1.631</td>\n",
       "      <td>0.910</td>\n",
       "      <td>0.492719</td>\n",
       "      <td>0.71760</td>\n",
       "    </tr>\n",
       "    <tr>\n",
       "      <th>2</th>\n",
       "      <td>2</td>\n",
       "      <td>76.0</td>\n",
       "      <td>8.885992</td>\n",
       "      <td>15.6</td>\n",
       "      <td>5.6</td>\n",
       "      <td>33.739258</td>\n",
       "      <td>12.08630</td>\n",
       "      <td>2.828</td>\n",
       "      <td>1.788</td>\n",
       "      <td>0.864</td>\n",
       "      <td>0.481478</td>\n",
       "      <td>1.50633</td>\n",
       "    </tr>\n",
       "    <tr>\n",
       "      <th>3</th>\n",
       "      <td>3</td>\n",
       "      <td>100.0</td>\n",
       "      <td>8.795296</td>\n",
       "      <td>10.0</td>\n",
       "      <td>4.8</td>\n",
       "      <td>20.213349</td>\n",
       "      <td>10.94850</td>\n",
       "      <td>2.648</td>\n",
       "      <td>1.626</td>\n",
       "      <td>0.936</td>\n",
       "      <td>0.489272</td>\n",
       "      <td>0.78937</td>\n",
       "    </tr>\n",
       "    <tr>\n",
       "      <th>4</th>\n",
       "      <td>4</td>\n",
       "      <td>116.0</td>\n",
       "      <td>9.577996</td>\n",
       "      <td>11.6</td>\n",
       "      <td>4.8</td>\n",
       "      <td>24.988133</td>\n",
       "      <td>11.82448</td>\n",
       "      <td>2.766</td>\n",
       "      <td>1.682</td>\n",
       "      <td>0.896</td>\n",
       "      <td>0.492736</td>\n",
       "      <td>1.86481</td>\n",
       "    </tr>\n",
       "  </tbody>\n",
       "</table>\n",
       "</div>"
      ],
      "text/plain": [
       "   id  allelectrons_Total  density_Total  allelectrons_Average  val_e_Average  \\\n",
       "0   0               100.0       0.841611                  10.0            4.8   \n",
       "1   1               100.0       7.558488                  10.0            4.8   \n",
       "2   2                76.0       8.885992                  15.6            5.6   \n",
       "3   3               100.0       8.795296                  10.0            4.8   \n",
       "4   4               116.0       9.577996                  11.6            4.8   \n",
       "\n",
       "   atomicweight_Average  ionenergy_Average  el_neg_chi_Average  \\\n",
       "0             20.612526           11.08810               2.766   \n",
       "1             20.298893           12.04083               2.755   \n",
       "2             33.739258           12.08630               2.828   \n",
       "3             20.213349           10.94850               2.648   \n",
       "4             24.988133           11.82448               2.766   \n",
       "\n",
       "   R_vdw_element_Average  R_cov_element_Average  zaratio_Average  \\\n",
       "0                  1.732                  0.860         0.496070   \n",
       "1                  1.631                  0.910         0.492719   \n",
       "2                  1.788                  0.864         0.481478   \n",
       "3                  1.626                  0.936         0.489272   \n",
       "4                  1.682                  0.896         0.492736   \n",
       "\n",
       "   density_Average  \n",
       "0          0.91457  \n",
       "1          0.71760  \n",
       "2          1.50633  \n",
       "3          0.78937  \n",
       "4          1.86481  "
      ]
     },
     "execution_count": 5,
     "metadata": {},
     "output_type": "execute_result"
    }
   ],
   "source": [
    "x.head()"
   ]
  },
  {
   "cell_type": "code",
   "execution_count": 6,
   "id": "7b4473b6",
   "metadata": {
    "execution": {
     "iopub.execute_input": "2023-11-28T00:41:35.799900Z",
     "iopub.status.busy": "2023-11-28T00:41:35.799460Z",
     "iopub.status.idle": "2023-11-28T00:41:35.805943Z",
     "shell.execute_reply": "2023-11-28T00:41:35.805032Z"
    },
    "papermill": {
     "duration": 0.016415,
     "end_time": "2023-11-28T00:41:35.808005",
     "exception": false,
     "start_time": "2023-11-28T00:41:35.791590",
     "status": "completed"
    },
    "tags": []
   },
   "outputs": [
    {
     "data": {
      "text/plain": [
       "0    6.0\n",
       "1    6.5\n",
       "2    2.5\n",
       "3    6.0\n",
       "4    6.0\n",
       "Name: Hardness, dtype: float64"
      ]
     },
     "execution_count": 6,
     "metadata": {},
     "output_type": "execute_result"
    }
   ],
   "source": [
    "y.head()"
   ]
  },
  {
   "cell_type": "code",
   "execution_count": 7,
   "id": "017585cc",
   "metadata": {
    "execution": {
     "iopub.execute_input": "2023-11-28T00:41:35.825731Z",
     "iopub.status.busy": "2023-11-28T00:41:35.825049Z",
     "iopub.status.idle": "2023-11-28T00:41:35.835363Z",
     "shell.execute_reply": "2023-11-28T00:41:35.834519Z"
    },
    "papermill": {
     "duration": 0.02191,
     "end_time": "2023-11-28T00:41:35.837698",
     "exception": false,
     "start_time": "2023-11-28T00:41:35.815788",
     "status": "completed"
    },
    "tags": []
   },
   "outputs": [
    {
     "data": {
      "text/plain": [
       "count    10407.000000\n",
       "mean         4.647126\n",
       "std          1.680525\n",
       "min          1.000000\n",
       "25%          3.000000\n",
       "50%          5.500000\n",
       "75%          6.000000\n",
       "max         10.000000\n",
       "Name: Hardness, dtype: float64"
      ]
     },
     "execution_count": 7,
     "metadata": {},
     "output_type": "execute_result"
    }
   ],
   "source": [
    "y.describe()"
   ]
  },
  {
   "cell_type": "code",
   "execution_count": 8,
   "id": "621902cc",
   "metadata": {
    "execution": {
     "iopub.execute_input": "2023-11-28T00:41:35.855324Z",
     "iopub.status.busy": "2023-11-28T00:41:35.855032Z",
     "iopub.status.idle": "2023-11-28T00:41:35.858664Z",
     "shell.execute_reply": "2023-11-28T00:41:35.857875Z"
    },
    "papermill": {
     "duration": 0.014526,
     "end_time": "2023-11-28T00:41:35.860525",
     "exception": false,
     "start_time": "2023-11-28T00:41:35.845999",
     "status": "completed"
    },
    "tags": []
   },
   "outputs": [],
   "source": [
    "#plt.bar(y.index, y)"
   ]
  },
  {
   "cell_type": "markdown",
   "id": "7b0d2982",
   "metadata": {
    "papermill": {
     "duration": 0.007171,
     "end_time": "2023-11-28T00:41:35.875265",
     "exception": false,
     "start_time": "2023-11-28T00:41:35.868094",
     "status": "completed"
    },
    "tags": []
   },
   "source": [
    "### Create DNN model"
   ]
  },
  {
   "cell_type": "code",
   "execution_count": 9,
   "id": "f0f313ab",
   "metadata": {
    "execution": {
     "iopub.execute_input": "2023-11-28T00:41:35.890845Z",
     "iopub.status.busy": "2023-11-28T00:41:35.890599Z",
     "iopub.status.idle": "2023-11-28T00:41:35.894737Z",
     "shell.execute_reply": "2023-11-28T00:41:35.893797Z"
    },
    "papermill": {
     "duration": 0.014379,
     "end_time": "2023-11-28T00:41:35.896919",
     "exception": false,
     "start_time": "2023-11-28T00:41:35.882540",
     "status": "completed"
    },
    "tags": []
   },
   "outputs": [
    {
     "name": "stdout",
     "output_type": "stream",
     "text": [
      "(10407, 12)\n"
     ]
    }
   ],
   "source": [
    "input_shape = x.shape\n",
    "print(input_shape)"
   ]
  },
  {
   "cell_type": "markdown",
   "id": "2a738360",
   "metadata": {
    "papermill": {
     "duration": 0.00735,
     "end_time": "2023-11-28T00:41:35.911575",
     "exception": false,
     "start_time": "2023-11-28T00:41:35.904225",
     "status": "completed"
    },
    "tags": []
   },
   "source": [
    "try with for loop"
   ]
  },
  {
   "cell_type": "code",
   "execution_count": 10,
   "id": "62f6330d",
   "metadata": {
    "execution": {
     "iopub.execute_input": "2023-11-28T00:41:35.927287Z",
     "iopub.status.busy": "2023-11-28T00:41:35.927022Z",
     "iopub.status.idle": "2023-11-28T00:41:40.120719Z",
     "shell.execute_reply": "2023-11-28T00:41:40.119743Z"
    },
    "papermill": {
     "duration": 4.204402,
     "end_time": "2023-11-28T00:41:40.123310",
     "exception": false,
     "start_time": "2023-11-28T00:41:35.918908",
     "status": "completed"
    },
    "tags": []
   },
   "outputs": [],
   "source": [
    "def dense_block(width):\n",
    "    def apply(dx):\n",
    "        dx = layers.Dense(width, activation='relu')(dx)\n",
    "        return dx\n",
    "    return apply\n",
    "\n",
    "def get_dense_network():\n",
    "    input_shape = x.shape[1]\n",
    "    #widths = [130, 64, 32, 16, 8, 4, 2, 1]\n",
    "    \n",
    "    # define widths of dense layers\n",
    "    widths_array = np.arange(5, 0, -1)\n",
    "    widths = [2**x for x in widths_array]\n",
    "    \n",
    "    input_layer = layers.Input(input_shape)\n",
    "    \n",
    "    for width in widths:\n",
    "        if width > input_shape:\n",
    "            first_width = width\n",
    "    dx = layers.Dense(first_width, activation='relu')(input_layer)\n",
    "    \n",
    "    skips = [dx]\n",
    "    skip_num = 1\n",
    "    \n",
    "    # Upblock\n",
    "    for width in widths[::-1]:\n",
    "        if width > input_shape:\n",
    "            dx = dense_block(width)(dx)\n",
    "            skips.append(dx)\n",
    "            \n",
    "    # Downblock\n",
    "    for width in widths:\n",
    "         #if width != widths[0]:\n",
    "        dx = dense_block(width)(dx)\n",
    "        if width > input_shape:\n",
    "            dx = layers.add([dx, skips[-1*skip_num]])\n",
    "            skip_num += 1\n",
    "        \n",
    "    output_layer = layers.Dense(1, activation='linear')(dx)\n",
    "    return tf.keras.Model(inputs=input_layer, outputs=output_layer)\n",
    "\n",
    "DNN_model = get_dense_network()\n",
    "\n",
    "loss_function = tf.keras.losses.MeanAbsoluteError()\n",
    "optimiser = tf.keras.optimizers.Adam(learning_rate=0.001)\n",
    "DNN_model.compile(loss = loss_function, optimizer=optimiser, metrics=['mae'])"
   ]
  },
  {
   "cell_type": "code",
   "execution_count": 11,
   "id": "000699da",
   "metadata": {
    "execution": {
     "iopub.execute_input": "2023-11-28T00:41:40.141988Z",
     "iopub.status.busy": "2023-11-28T00:41:40.141452Z",
     "iopub.status.idle": "2023-11-28T00:41:40.177923Z",
     "shell.execute_reply": "2023-11-28T00:41:40.176879Z"
    },
    "papermill": {
     "duration": 0.058426,
     "end_time": "2023-11-28T00:41:40.191233",
     "exception": false,
     "start_time": "2023-11-28T00:41:40.132807",
     "status": "completed"
    },
    "tags": []
   },
   "outputs": [
    {
     "name": "stdout",
     "output_type": "stream",
     "text": [
      "Model: \"model\"\n",
      "__________________________________________________________________________________________________\n",
      " Layer (type)                Output Shape                 Param #   Connected to                  \n",
      "==================================================================================================\n",
      " input_1 (InputLayer)        [(None, 12)]                 0         []                            \n",
      "                                                                                                  \n",
      " dense (Dense)               (None, 16)                   208       ['input_1[0][0]']             \n",
      "                                                                                                  \n",
      " dense_1 (Dense)             (None, 16)                   272       ['dense[0][0]']               \n",
      "                                                                                                  \n",
      " dense_2 (Dense)             (None, 32)                   544       ['dense_1[0][0]']             \n",
      "                                                                                                  \n",
      " dense_3 (Dense)             (None, 32)                   1056      ['dense_2[0][0]']             \n",
      "                                                                                                  \n",
      " add (Add)                   (None, 32)                   0         ['dense_3[0][0]',             \n",
      "                                                                     'dense_2[0][0]']             \n",
      "                                                                                                  \n",
      " dense_4 (Dense)             (None, 16)                   528       ['add[0][0]']                 \n",
      "                                                                                                  \n",
      " add_1 (Add)                 (None, 16)                   0         ['dense_4[0][0]',             \n",
      "                                                                     'dense_1[0][0]']             \n",
      "                                                                                                  \n",
      " dense_5 (Dense)             (None, 8)                    136       ['add_1[0][0]']               \n",
      "                                                                                                  \n",
      " dense_6 (Dense)             (None, 4)                    36        ['dense_5[0][0]']             \n",
      "                                                                                                  \n",
      " dense_7 (Dense)             (None, 2)                    10        ['dense_6[0][0]']             \n",
      "                                                                                                  \n",
      " dense_8 (Dense)             (None, 1)                    3         ['dense_7[0][0]']             \n",
      "                                                                                                  \n",
      "==================================================================================================\n",
      "Total params: 2793 (10.91 KB)\n",
      "Trainable params: 2793 (10.91 KB)\n",
      "Non-trainable params: 0 (0.00 Byte)\n",
      "__________________________________________________________________________________________________\n"
     ]
    }
   ],
   "source": [
    "DNN_model.summary()"
   ]
  },
  {
   "cell_type": "code",
   "execution_count": 12,
   "id": "5a1dd8d6",
   "metadata": {
    "execution": {
     "iopub.execute_input": "2023-11-28T00:41:40.212828Z",
     "iopub.status.busy": "2023-11-28T00:41:40.212542Z",
     "iopub.status.idle": "2023-11-28T00:41:40.505506Z",
     "shell.execute_reply": "2023-11-28T00:41:40.504583Z"
    },
    "papermill": {
     "duration": 0.30659,
     "end_time": "2023-11-28T00:41:40.507979",
     "exception": false,
     "start_time": "2023-11-28T00:41:40.201389",
     "status": "completed"
    },
    "tags": []
   },
   "outputs": [
    {
     "data": {
      "image/png": "[encoded data removed]",
      "text/plain": [
       "<IPython.core.display.Image object>"
      ]
     },
     "execution_count": 12,
     "metadata": {},
     "output_type": "execute_result"
    }
   ],
   "source": [
    "tf.keras.utils.plot_model(DNN_model, show_shapes=True)"
   ]
  },
  {
   "cell_type": "markdown",
   "id": "e73260e2",
   "metadata": {
    "papermill": {
     "duration": 0.011886,
     "end_time": "2023-11-28T00:41:40.531967",
     "exception": false,
     "start_time": "2023-11-28T00:41:40.520081",
     "status": "completed"
    },
    "tags": []
   },
   "source": [
    "### Test dataset"
   ]
  },
  {
   "cell_type": "code",
   "execution_count": 13,
   "id": "2780d3f4",
   "metadata": {
    "execution": {
     "iopub.execute_input": "2023-11-28T00:41:40.556597Z",
     "iopub.status.busy": "2023-11-28T00:41:40.556300Z",
     "iopub.status.idle": "2023-11-28T00:42:52.175850Z",
     "shell.execute_reply": "2023-11-28T00:42:52.174905Z"
    },
    "papermill": {
     "duration": 71.634078,
     "end_time": "2023-11-28T00:42:52.177743",
     "exception": false,
     "start_time": "2023-11-28T00:41:40.543665",
     "status": "completed"
    },
    "tags": []
   },
   "outputs": [
    {
     "name": "stdout",
     "output_type": "stream",
     "text": [
      "Epoch 1/50\n",
      "326/326 [==============================] - 9s 4ms/step - loss: 6.9941 - mae: 6.9941\n",
      "Epoch 2/50\n",
      "326/326 [==============================] - 1s 4ms/step - loss: 4.1794 - mae: 4.1794\n",
      "Epoch 3/50\n",
      "326/326 [==============================] - 1s 4ms/step - loss: 3.8504 - mae: 3.8504\n",
      "Epoch 4/50\n",
      "326/326 [==============================] - 1s 4ms/step - loss: 3.5142 - mae: 3.5142\n",
      "Epoch 5/50\n",
      "326/326 [==============================] - 1s 4ms/step - loss: 3.1861 - mae: 3.1861\n",
      "Epoch 6/50\n",
      "326/326 [==============================] - 1s 4ms/step - loss: 2.8851 - mae: 2.8851\n",
      "Epoch 7/50\n",
      "326/326 [==============================] - 1s 4ms/step - loss: 2.5989 - mae: 2.5989\n",
      "Epoch 8/50\n",
      "326/326 [==============================] - 1s 4ms/step - loss: 2.3543 - mae: 2.3543\n",
      "Epoch 9/50\n",
      "326/326 [==============================] - 1s 4ms/step - loss: 2.1807 - mae: 2.1807\n",
      "Epoch 10/50\n",
      "326/326 [==============================] - 1s 4ms/step - loss: 2.0520 - mae: 2.0520\n",
      "Epoch 11/50\n",
      "326/326 [==============================] - 1s 4ms/step - loss: 1.9450 - mae: 1.9450\n",
      "Epoch 12/50\n",
      "326/326 [==============================] - 1s 4ms/step - loss: 1.8476 - mae: 1.8476\n",
      "Epoch 13/50\n",
      "326/326 [==============================] - 1s 4ms/step - loss: 1.7540 - mae: 1.7540\n",
      "Epoch 14/50\n",
      "326/326 [==============================] - 1s 4ms/step - loss: 1.6718 - mae: 1.6718\n",
      "Epoch 15/50\n",
      "326/326 [==============================] - 1s 4ms/step - loss: 1.6164 - mae: 1.6164\n",
      "Epoch 16/50\n",
      "326/326 [==============================] - 1s 4ms/step - loss: 1.5836 - mae: 1.5836\n",
      "Epoch 17/50\n",
      "326/326 [==============================] - 1s 4ms/step - loss: 1.5614 - mae: 1.5614\n",
      "Epoch 18/50\n",
      "326/326 [==============================] - 1s 4ms/step - loss: 1.5380 - mae: 1.5380\n",
      "Epoch 19/50\n",
      "326/326 [==============================] - 1s 4ms/step - loss: 1.5177 - mae: 1.5177\n",
      "Epoch 20/50\n",
      "326/326 [==============================] - 1s 4ms/step - loss: 1.4995 - mae: 1.4995\n",
      "Epoch 21/50\n",
      "326/326 [==============================] - 1s 4ms/step - loss: 1.4821 - mae: 1.4821\n",
      "Epoch 22/50\n",
      "326/326 [==============================] - 1s 4ms/step - loss: 1.4655 - mae: 1.4655\n",
      "Epoch 23/50\n",
      "326/326 [==============================] - 1s 4ms/step - loss: 1.4521 - mae: 1.4521\n",
      "Epoch 24/50\n",
      "326/326 [==============================] - 1s 4ms/step - loss: 1.4480 - mae: 1.4480\n",
      "Epoch 25/50\n",
      "326/326 [==============================] - 1s 4ms/step - loss: 1.4462 - mae: 1.4462\n",
      "Epoch 26/50\n",
      "326/326 [==============================] - 1s 4ms/step - loss: 1.4445 - mae: 1.4445\n",
      "Epoch 27/50\n",
      "326/326 [==============================] - 1s 4ms/step - loss: 1.4427 - mae: 1.4427\n",
      "Epoch 28/50\n",
      "326/326 [==============================] - 1s 4ms/step - loss: 1.4407 - mae: 1.4407\n",
      "Epoch 29/50\n",
      "326/326 [==============================] - 1s 4ms/step - loss: 1.4394 - mae: 1.4394\n",
      "Epoch 30/50\n",
      "326/326 [==============================] - 1s 4ms/step - loss: 1.4393 - mae: 1.4393\n",
      "Epoch 31/50\n",
      "326/326 [==============================] - 1s 4ms/step - loss: 1.4392 - mae: 1.4392\n",
      "Epoch 32/50\n",
      "326/326 [==============================] - 1s 4ms/step - loss: 1.4390 - mae: 1.4390\n",
      "Epoch 33/50\n",
      "326/326 [==============================] - 1s 4ms/step - loss: 1.4389 - mae: 1.4389\n",
      "Epoch 34/50\n",
      "326/326 [==============================] - 1s 4ms/step - loss: 1.4387 - mae: 1.4387\n",
      "Epoch 35/50\n",
      "326/326 [==============================] - 1s 4ms/step - loss: 1.4386 - mae: 1.4386\n",
      "Epoch 36/50\n",
      "326/326 [==============================] - 1s 4ms/step - loss: 1.4385 - mae: 1.4385\n",
      "Epoch 37/50\n",
      "326/326 [==============================] - 1s 4ms/step - loss: 1.4384 - mae: 1.4384\n",
      "Epoch 38/50\n",
      "326/326 [==============================] - 1s 4ms/step - loss: 1.4383 - mae: 1.4383\n",
      "Epoch 39/50\n",
      "326/326 [==============================] - 1s 4ms/step - loss: 1.4381 - mae: 1.4381\n",
      "Epoch 40/50\n",
      "326/326 [==============================] - 1s 4ms/step - loss: 1.4380 - mae: 1.4380\n",
      "Epoch 41/50\n",
      "326/326 [==============================] - 1s 4ms/step - loss: 1.4378 - mae: 1.4378\n",
      "Epoch 42/50\n",
      "326/326 [==============================] - 1s 4ms/step - loss: 1.4377 - mae: 1.4377\n",
      "Epoch 43/50\n",
      "326/326 [==============================] - 1s 4ms/step - loss: 1.4378 - mae: 1.4378\n",
      "Epoch 44/50\n",
      "326/326 [==============================] - 1s 4ms/step - loss: 1.4377 - mae: 1.4377\n",
      "Epoch 45/50\n",
      "326/326 [==============================] - 1s 4ms/step - loss: 1.4378 - mae: 1.4378\n",
      "Epoch 46/50\n",
      "326/326 [==============================] - 1s 4ms/step - loss: 1.4377 - mae: 1.4377\n",
      "Epoch 47/50\n",
      "326/326 [==============================] - 1s 4ms/step - loss: 1.4378 - mae: 1.4378\n",
      "Epoch 48/50\n",
      "326/326 [==============================] - 1s 4ms/step - loss: 1.4377 - mae: 1.4377\n",
      "Epoch 49/50\n",
      "326/326 [==============================] - 1s 4ms/step - loss: 1.4377 - mae: 1.4377\n",
      "Epoch 50/50\n",
      "326/326 [==============================] - 1s 4ms/step - loss: 1.4377 - mae: 1.4377\n"
     ]
    },
    {
     "data": {
      "text/plain": [
       "<keras.src.callbacks.History at 0x7b917b06d630>"
      ]
     },
     "execution_count": 13,
     "metadata": {},
     "output_type": "execute_result"
    }
   ],
   "source": [
    "DNN_model.fit(x, y, epochs=50)"
   ]
  },
  {
   "cell_type": "markdown",
   "id": "88a74349",
   "metadata": {
    "papermill": {
     "duration": 0.116737,
     "end_time": "2023-11-28T00:42:52.451749",
     "exception": false,
     "start_time": "2023-11-28T00:42:52.335012",
     "status": "completed"
    },
    "tags": []
   },
   "source": [
    "### Test submission"
   ]
  },
  {
   "cell_type": "code",
   "execution_count": 14,
   "id": "c3b85e65",
   "metadata": {
    "execution": {
     "iopub.execute_input": "2023-11-28T00:42:52.692674Z",
     "iopub.status.busy": "2023-11-28T00:42:52.691788Z",
     "iopub.status.idle": "2023-11-28T00:42:52.724435Z",
     "shell.execute_reply": "2023-11-28T00:42:52.723626Z"
    },
    "papermill": {
     "duration": 0.158418,
     "end_time": "2023-11-28T00:42:52.726573",
     "exception": false,
     "start_time": "2023-11-28T00:42:52.568155",
     "status": "completed"
    },
    "tags": []
   },
   "outputs": [],
   "source": [
    "test_dataset = pd.read_csv(\"/kaggle/input/playground-series-s3e25/test.csv\")"
   ]
  },
  {
   "cell_type": "code",
   "execution_count": 15,
   "id": "3bef8588",
   "metadata": {
    "execution": {
     "iopub.execute_input": "2023-11-28T00:42:52.966115Z",
     "iopub.status.busy": "2023-11-28T00:42:52.965784Z",
     "iopub.status.idle": "2023-11-28T00:42:52.982790Z",
     "shell.execute_reply": "2023-11-28T00:42:52.981967Z"
    },
    "papermill": {
     "duration": 0.137175,
     "end_time": "2023-11-28T00:42:52.984657",
     "exception": false,
     "start_time": "2023-11-28T00:42:52.847482",
     "status": "completed"
    },
    "tags": []
   },
   "outputs": [
    {
     "data": {
      "text/html": [
       "<div>\n",
       "<style scoped>\n",
       "    .dataframe tbody tr th:only-of-type {\n",
       "        vertical-align: middle;\n",
       "    }\n",
       "\n",
       "    .dataframe tbody tr th {\n",
       "        vertical-align: top;\n",
       "    }\n",
       "\n",
       "    .dataframe thead th {\n",
       "        text-align: right;\n",
       "    }\n",
       "</style>\n",
       "<table border=\"1\" class=\"dataframe\">\n",
       "  <thead>\n",
       "    <tr style=\"text-align: right;\">\n",
       "      <th></th>\n",
       "      <th>id</th>\n",
       "      <th>allelectrons_Total</th>\n",
       "      <th>density_Total</th>\n",
       "      <th>allelectrons_Average</th>\n",
       "      <th>val_e_Average</th>\n",
       "      <th>atomicweight_Average</th>\n",
       "      <th>ionenergy_Average</th>\n",
       "      <th>el_neg_chi_Average</th>\n",
       "      <th>R_vdw_element_Average</th>\n",
       "      <th>R_cov_element_Average</th>\n",
       "      <th>zaratio_Average</th>\n",
       "      <th>density_Average</th>\n",
       "    </tr>\n",
       "  </thead>\n",
       "  <tbody>\n",
       "    <tr>\n",
       "      <th>0</th>\n",
       "      <td>10407</td>\n",
       "      <td>884.0</td>\n",
       "      <td>121.420000</td>\n",
       "      <td>35.36</td>\n",
       "      <td>5.28</td>\n",
       "      <td>82.561240</td>\n",
       "      <td>9.370384</td>\n",
       "      <td>2.298</td>\n",
       "      <td>1.9072</td>\n",
       "      <td>1.200000</td>\n",
       "      <td>0.461899</td>\n",
       "      <td>1.79459</td>\n",
       "    </tr>\n",
       "    <tr>\n",
       "      <th>1</th>\n",
       "      <td>10408</td>\n",
       "      <td>90.0</td>\n",
       "      <td>9.931960</td>\n",
       "      <td>18.00</td>\n",
       "      <td>5.60</td>\n",
       "      <td>39.568056</td>\n",
       "      <td>12.086300</td>\n",
       "      <td>2.868</td>\n",
       "      <td>1.6520</td>\n",
       "      <td>0.864000</td>\n",
       "      <td>0.476196</td>\n",
       "      <td>1.41194</td>\n",
       "    </tr>\n",
       "    <tr>\n",
       "      <th>2</th>\n",
       "      <td>10409</td>\n",
       "      <td>116.0</td>\n",
       "      <td>7.767992</td>\n",
       "      <td>11.60</td>\n",
       "      <td>4.80</td>\n",
       "      <td>23.231818</td>\n",
       "      <td>11.023840</td>\n",
       "      <td>2.644</td>\n",
       "      <td>1.7940</td>\n",
       "      <td>0.960000</td>\n",
       "      <td>0.499514</td>\n",
       "      <td>0.78834</td>\n",
       "    </tr>\n",
       "    <tr>\n",
       "      <th>3</th>\n",
       "      <td>10410</td>\n",
       "      <td>100.0</td>\n",
       "      <td>9.107996</td>\n",
       "      <td>10.00</td>\n",
       "      <td>4.80</td>\n",
       "      <td>20.298893</td>\n",
       "      <td>12.086300</td>\n",
       "      <td>2.828</td>\n",
       "      <td>1.6620</td>\n",
       "      <td>0.792000</td>\n",
       "      <td>0.495796</td>\n",
       "      <td>1.20466</td>\n",
       "    </tr>\n",
       "    <tr>\n",
       "      <th>4</th>\n",
       "      <td>10411</td>\n",
       "      <td>55.0</td>\n",
       "      <td>4.030000</td>\n",
       "      <td>11.00</td>\n",
       "      <td>4.00</td>\n",
       "      <td>22.977675</td>\n",
       "      <td>11.280950</td>\n",
       "      <td>2.455</td>\n",
       "      <td>1.7500</td>\n",
       "      <td>0.893333</td>\n",
       "      <td>0.476095</td>\n",
       "      <td>0.93456</td>\n",
       "    </tr>\n",
       "  </tbody>\n",
       "</table>\n",
       "</div>"
      ],
      "text/plain": [
       "      id  allelectrons_Total  density_Total  allelectrons_Average  \\\n",
       "0  10407               884.0     121.420000                 35.36   \n",
       "1  10408                90.0       9.931960                 18.00   \n",
       "2  10409               116.0       7.767992                 11.60   \n",
       "3  10410               100.0       9.107996                 10.00   \n",
       "4  10411                55.0       4.030000                 11.00   \n",
       "\n",
       "   val_e_Average  atomicweight_Average  ionenergy_Average  el_neg_chi_Average  \\\n",
       "0           5.28             82.561240           9.370384               2.298   \n",
       "1           5.60             39.568056          12.086300               2.868   \n",
       "2           4.80             23.231818          11.023840               2.644   \n",
       "3           4.80             20.298893          12.086300               2.828   \n",
       "4           4.00             22.977675          11.280950               2.455   \n",
       "\n",
       "   R_vdw_element_Average  R_cov_element_Average  zaratio_Average  \\\n",
       "0                 1.9072               1.200000         0.461899   \n",
       "1                 1.6520               0.864000         0.476196   \n",
       "2                 1.7940               0.960000         0.499514   \n",
       "3                 1.6620               0.792000         0.495796   \n",
       "4                 1.7500               0.893333         0.476095   \n",
       "\n",
       "   density_Average  \n",
       "0          1.79459  \n",
       "1          1.41194  \n",
       "2          0.78834  \n",
       "3          1.20466  \n",
       "4          0.93456  "
      ]
     },
     "execution_count": 15,
     "metadata": {},
     "output_type": "execute_result"
    }
   ],
   "source": [
    "test_dataset.head()"
   ]
  },
  {
   "cell_type": "code",
   "execution_count": 16,
   "id": "6a83369d",
   "metadata": {
    "execution": {
     "iopub.execute_input": "2023-11-28T00:42:53.218715Z",
     "iopub.status.busy": "2023-11-28T00:42:53.218379Z",
     "iopub.status.idle": "2023-11-28T00:42:53.865446Z",
     "shell.execute_reply": "2023-11-28T00:42:53.864649Z"
    },
    "papermill": {
     "duration": 0.768187,
     "end_time": "2023-11-28T00:42:53.867762",
     "exception": false,
     "start_time": "2023-11-28T00:42:53.099575",
     "status": "completed"
    },
    "tags": []
   },
   "outputs": [
    {
     "name": "stdout",
     "output_type": "stream",
     "text": [
      "217/217 [==============================] - 0s 2ms/step\n"
     ]
    }
   ],
   "source": [
    "predictions = DNN_model.predict(test_dataset)"
   ]
  },
  {
   "cell_type": "markdown",
   "id": "d731490c",
   "metadata": {
    "papermill": {
     "duration": 0.116132,
     "end_time": "2023-11-28T00:42:54.101109",
     "exception": false,
     "start_time": "2023-11-28T00:42:53.984977",
     "status": "completed"
    },
    "tags": []
   },
   "source": [
    "Create subbmission flie"
   ]
  },
  {
   "cell_type": "code",
   "execution_count": 17,
   "id": "58469393",
   "metadata": {
    "execution": {
     "iopub.execute_input": "2023-11-28T00:42:54.339245Z",
     "iopub.status.busy": "2023-11-28T00:42:54.338517Z",
     "iopub.status.idle": "2023-11-28T00:42:54.345779Z",
     "shell.execute_reply": "2023-11-28T00:42:54.344957Z"
    },
    "papermill": {
     "duration": 0.127505,
     "end_time": "2023-11-28T00:42:54.347727",
     "exception": false,
     "start_time": "2023-11-28T00:42:54.220222",
     "status": "completed"
    },
    "tags": []
   },
   "outputs": [],
   "source": [
    "submission = pd.DataFrame()\n",
    "submission['id'] = test_dataset['id']\n",
    "submission['Hardness'] = predictions"
   ]
  },
  {
   "cell_type": "code",
   "execution_count": 18,
   "id": "9f71e576",
   "metadata": {
    "execution": {
     "iopub.execute_input": "2023-11-28T00:42:54.597009Z",
     "iopub.status.busy": "2023-11-28T00:42:54.596086Z",
     "iopub.status.idle": "2023-11-28T00:42:54.605414Z",
     "shell.execute_reply": "2023-11-28T00:42:54.604544Z"
    },
    "papermill": {
     "duration": 0.132925,
     "end_time": "2023-11-28T00:42:54.607375",
     "exception": false,
     "start_time": "2023-11-28T00:42:54.474450",
     "status": "completed"
    },
    "tags": []
   },
   "outputs": [
    {
     "data": {
      "text/html": [
       "<div>\n",
       "<style scoped>\n",
       "    .dataframe tbody tr th:only-of-type {\n",
       "        vertical-align: middle;\n",
       "    }\n",
       "\n",
       "    .dataframe tbody tr th {\n",
       "        vertical-align: top;\n",
       "    }\n",
       "\n",
       "    .dataframe thead th {\n",
       "        text-align: right;\n",
       "    }\n",
       "</style>\n",
       "<table border=\"1\" class=\"dataframe\">\n",
       "  <thead>\n",
       "    <tr style=\"text-align: right;\">\n",
       "      <th></th>\n",
       "      <th>id</th>\n",
       "      <th>Hardness</th>\n",
       "    </tr>\n",
       "  </thead>\n",
       "  <tbody>\n",
       "    <tr>\n",
       "      <th>0</th>\n",
       "      <td>10407</td>\n",
       "      <td>5.494358</td>\n",
       "    </tr>\n",
       "    <tr>\n",
       "      <th>1</th>\n",
       "      <td>10408</td>\n",
       "      <td>5.494358</td>\n",
       "    </tr>\n",
       "    <tr>\n",
       "      <th>2</th>\n",
       "      <td>10409</td>\n",
       "      <td>5.494358</td>\n",
       "    </tr>\n",
       "    <tr>\n",
       "      <th>3</th>\n",
       "      <td>10410</td>\n",
       "      <td>5.494358</td>\n",
       "    </tr>\n",
       "    <tr>\n",
       "      <th>4</th>\n",
       "      <td>10411</td>\n",
       "      <td>5.494358</td>\n",
       "    </tr>\n",
       "  </tbody>\n",
       "</table>\n",
       "</div>"
      ],
      "text/plain": [
       "      id  Hardness\n",
       "0  10407  5.494358\n",
       "1  10408  5.494358\n",
       "2  10409  5.494358\n",
       "3  10410  5.494358\n",
       "4  10411  5.494358"
      ]
     },
     "execution_count": 18,
     "metadata": {},
     "output_type": "execute_result"
    }
   ],
   "source": [
    "submission.head()"
   ]
  },
  {
   "cell_type": "code",
   "execution_count": 19,
   "id": "0efb3302",
   "metadata": {
    "execution": {
     "iopub.execute_input": "2023-11-28T00:42:54.845221Z",
     "iopub.status.busy": "2023-11-28T00:42:54.844509Z",
     "iopub.status.idle": "2023-11-28T00:42:54.859946Z",
     "shell.execute_reply": "2023-11-28T00:42:54.859098Z"
    },
    "papermill": {
     "duration": 0.138106,
     "end_time": "2023-11-28T00:42:54.861844",
     "exception": false,
     "start_time": "2023-11-28T00:42:54.723738",
     "status": "completed"
    },
    "tags": []
   },
   "outputs": [
    {
     "data": {
      "text/html": [
       "<div>\n",
       "<style scoped>\n",
       "    .dataframe tbody tr th:only-of-type {\n",
       "        vertical-align: middle;\n",
       "    }\n",
       "\n",
       "    .dataframe tbody tr th {\n",
       "        vertical-align: top;\n",
       "    }\n",
       "\n",
       "    .dataframe thead th {\n",
       "        text-align: right;\n",
       "    }\n",
       "</style>\n",
       "<table border=\"1\" class=\"dataframe\">\n",
       "  <thead>\n",
       "    <tr style=\"text-align: right;\">\n",
       "      <th></th>\n",
       "      <th>id</th>\n",
       "      <th>Hardness</th>\n",
       "    </tr>\n",
       "  </thead>\n",
       "  <tbody>\n",
       "    <tr>\n",
       "      <th>count</th>\n",
       "      <td>6939.000000</td>\n",
       "      <td>6939.000000</td>\n",
       "    </tr>\n",
       "    <tr>\n",
       "      <th>mean</th>\n",
       "      <td>13876.000000</td>\n",
       "      <td>5.494357</td>\n",
       "    </tr>\n",
       "    <tr>\n",
       "      <th>std</th>\n",
       "      <td>2003.261091</td>\n",
       "      <td>0.000000</td>\n",
       "    </tr>\n",
       "    <tr>\n",
       "      <th>min</th>\n",
       "      <td>10407.000000</td>\n",
       "      <td>5.494358</td>\n",
       "    </tr>\n",
       "    <tr>\n",
       "      <th>25%</th>\n",
       "      <td>12141.500000</td>\n",
       "      <td>5.494358</td>\n",
       "    </tr>\n",
       "    <tr>\n",
       "      <th>50%</th>\n",
       "      <td>13876.000000</td>\n",
       "      <td>5.494358</td>\n",
       "    </tr>\n",
       "    <tr>\n",
       "      <th>75%</th>\n",
       "      <td>15610.500000</td>\n",
       "      <td>5.494358</td>\n",
       "    </tr>\n",
       "    <tr>\n",
       "      <th>max</th>\n",
       "      <td>17345.000000</td>\n",
       "      <td>5.494358</td>\n",
       "    </tr>\n",
       "  </tbody>\n",
       "</table>\n",
       "</div>"
      ],
      "text/plain": [
       "                 id     Hardness\n",
       "count   6939.000000  6939.000000\n",
       "mean   13876.000000     5.494357\n",
       "std     2003.261091     0.000000\n",
       "min    10407.000000     5.494358\n",
       "25%    12141.500000     5.494358\n",
       "50%    13876.000000     5.494358\n",
       "75%    15610.500000     5.494358\n",
       "max    17345.000000     5.494358"
      ]
     },
     "execution_count": 19,
     "metadata": {},
     "output_type": "execute_result"
    }
   ],
   "source": [
    "submission.describe()"
   ]
  },
  {
   "cell_type": "code",
   "execution_count": 20,
   "id": "b7953cd9",
   "metadata": {
    "execution": {
     "iopub.execute_input": "2023-11-28T00:42:55.100007Z",
     "iopub.status.busy": "2023-11-28T00:42:55.099222Z",
     "iopub.status.idle": "2023-11-28T00:42:55.126435Z",
     "shell.execute_reply": "2023-11-28T00:42:55.125640Z"
    },
    "papermill": {
     "duration": 0.149716,
     "end_time": "2023-11-28T00:42:55.128316",
     "exception": false,
     "start_time": "2023-11-28T00:42:54.978600",
     "status": "completed"
    },
    "tags": []
   },
   "outputs": [],
   "source": [
    "submission.to_csv('/kaggle/working/submission.csv',index=False,header=True)"
   ]
  }
 ],
 "metadata": {
  "kaggle": {
   "accelerator": "nvidiaTeslaT4",
   "dataSources": [
    {
     "databundleVersionId": 6989718,
     "sourceId": 60892,
     "sourceType": "competition"
    }
   ],
   "dockerImageVersionId": 30587,
   "isGpuEnabled": true,
   "isInternetEnabled": true,
   "language": "python",
   "sourceType": "notebook"
  },
  "kernelspec": {
   "display_name": "Python 3",
   "language": "python",
   "name": "python3"
  },
  "language_info": {
   "codemirror_mode": {
    "name": "ipython",
    "version": 3
   },
   "file_extension": ".py",
   "mimetype": "text/x-python",
   "name": "python",
   "nbconvert_exporter": "python",
   "pygments_lexer": "ipython3",
   "version": "3.10.12"
  },
  "papermill": {
   "default_parameters": {},
   "duration": 99.701523,
   "end_time": "2023-11-28T00:42:58.463138",
   "environment_variables": {},
   "exception": null,
   "input_path": "__notebook__.ipynb",
   "output_path": "__notebook__.ipynb",
   "parameters": {},
   "start_time": "2023-11-28T00:41:18.761615",
   "version": "2.4.0"
  }
 },
 "nbformat": 4,
 "nbformat_minor": 5
}
