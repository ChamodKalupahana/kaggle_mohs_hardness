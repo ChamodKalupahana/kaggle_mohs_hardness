{
 "cells": [
  {
   "cell_type": "code",
   "execution_count": 1,
   "id": "1c549c7c",
   "metadata": {
    "_cell_guid": "b1076dfc-b9ad-4769-8c92-a6c4dae69d19",
    "_uuid": "8f2839f25d086af736a60e9eeb907d3b93b6e0e5",
    "execution": {
     "iopub.execute_input": "2023-12-05T15:22:09.969135Z",
     "iopub.status.busy": "2023-12-05T15:22:09.968828Z",
     "iopub.status.idle": "2023-12-05T15:22:28.665911Z",
     "shell.execute_reply": "2023-12-05T15:22:28.664801Z"
    },
    "papermill": {
     "duration": 18.710167,
     "end_time": "2023-12-05T15:22:28.668297",
     "exception": false,
     "start_time": "2023-12-05T15:22:09.958130",
     "status": "completed"
    },
    "tags": []
   },
   "outputs": [
    {
     "name": "stderr",
     "output_type": "stream",
     "text": [
      "/opt/conda/lib/python3.10/site-packages/scipy/__init__.py:146: UserWarning: A NumPy version >=1.16.5 and <1.23.0 is required for this version of SciPy (detected version 1.24.3\n",
      "  warnings.warn(f\"A NumPy version >={np_minversion} and <{np_maxversion}\"\n"
     ]
    },
    {
     "name": "stdout",
     "output_type": "stream",
     "text": [
      "/kaggle/input/playground-series-s3e25/sample_submission.csv\n",
      "/kaggle/input/playground-series-s3e25/train.csv\n",
      "/kaggle/input/playground-series-s3e25/test.csv\n"
     ]
    }
   ],
   "source": [
    "# This Python 3 environment comes with many helpful analytics libraries installed\n",
    "# It is defined by the kaggle/python Docker image: https://github.com/kaggle/docker-python\n",
    "# For example, here's several helpful packages to load\n",
    "\n",
    "import numpy as np # linear algebra\n",
    "import pandas as pd # data processing, CSV file I/O (e.g. pd.read_csv)\n",
    "import matplotlib.pyplot as plt\n",
    "\n",
    "import tensorflow as tf\n",
    "import tensorflow.keras.layers as layers\n",
    "\n",
    "# Input data files are available in the read-only \"../input/\" directory\n",
    "# For example, running this (by clicking run or pressing Shift+Enter) will list all files under the input directory\n",
    "\n",
    "import os\n",
    "for dirname, _, filenames in os.walk('/kaggle/input'):\n",
    "    for filename in filenames:\n",
    "        print(os.path.join(dirname, filename))\n",
    "\n",
    "# You can write up to 20GB to the current directory (/kaggle/working/) that gets preserved as output when you create a version using \"Save & Run All\" \n",
    "# You can also write temporary files to /kaggle/temp/, but they won't be saved outside of the current session"
   ]
  },
  {
   "cell_type": "code",
   "execution_count": 2,
   "id": "7b32b8db",
   "metadata": {
    "execution": {
     "iopub.execute_input": "2023-12-05T15:22:28.689234Z",
     "iopub.status.busy": "2023-12-05T15:22:28.688287Z",
     "iopub.status.idle": "2023-12-05T15:22:28.748121Z",
     "shell.execute_reply": "2023-12-05T15:22:28.747371Z"
    },
    "papermill": {
     "duration": 0.072549,
     "end_time": "2023-12-05T15:22:28.750207",
     "exception": false,
     "start_time": "2023-12-05T15:22:28.677658",
     "status": "completed"
    },
    "tags": []
   },
   "outputs": [],
   "source": [
    "filepath = \"/kaggle/input/playground-series-s3e25/train.csv\"\n",
    "\n",
    "dataset = pd.read_csv(filepath)"
   ]
  },
  {
   "cell_type": "code",
   "execution_count": 3,
   "id": "4478d315",
   "metadata": {
    "execution": {
     "iopub.execute_input": "2023-12-05T15:22:28.769504Z",
     "iopub.status.busy": "2023-12-05T15:22:28.769188Z",
     "iopub.status.idle": "2023-12-05T15:22:28.809664Z",
     "shell.execute_reply": "2023-12-05T15:22:28.808547Z"
    },
    "papermill": {
     "duration": 0.052671,
     "end_time": "2023-12-05T15:22:28.812057",
     "exception": false,
     "start_time": "2023-12-05T15:22:28.759386",
     "status": "completed"
    },
    "tags": []
   },
   "outputs": [
    {
     "name": "stdout",
     "output_type": "stream",
     "text": [
      "<class 'pandas.core.frame.DataFrame'>\n",
      "RangeIndex: 10407 entries, 0 to 10406\n",
      "Data columns (total 13 columns):\n",
      " #   Column                 Non-Null Count  Dtype  \n",
      "---  ------                 --------------  -----  \n",
      " 0   id                     10407 non-null  int64  \n",
      " 1   allelectrons_Total     10407 non-null  float64\n",
      " 2   density_Total          10407 non-null  float64\n",
      " 3   allelectrons_Average   10407 non-null  float64\n",
      " 4   val_e_Average          10407 non-null  float64\n",
      " 5   atomicweight_Average   10407 non-null  float64\n",
      " 6   ionenergy_Average      10407 non-null  float64\n",
      " 7   el_neg_chi_Average     10407 non-null  float64\n",
      " 8   R_vdw_element_Average  10407 non-null  float64\n",
      " 9   R_cov_element_Average  10407 non-null  float64\n",
      " 10  zaratio_Average        10407 non-null  float64\n",
      " 11  density_Average        10407 non-null  float64\n",
      " 12  Hardness               10407 non-null  float64\n",
      "dtypes: float64(12), int64(1)\n",
      "memory usage: 1.0 MB\n"
     ]
    }
   ],
   "source": [
    "dataset.info()"
   ]
  },
  {
   "cell_type": "code",
   "execution_count": 4,
   "id": "d48a2bdc",
   "metadata": {
    "execution": {
     "iopub.execute_input": "2023-12-05T15:22:28.832363Z",
     "iopub.status.busy": "2023-12-05T15:22:28.832039Z",
     "iopub.status.idle": "2023-12-05T15:22:28.838990Z",
     "shell.execute_reply": "2023-12-05T15:22:28.838075Z"
    },
    "papermill": {
     "duration": 0.019197,
     "end_time": "2023-12-05T15:22:28.840870",
     "exception": false,
     "start_time": "2023-12-05T15:22:28.821673",
     "status": "completed"
    },
    "tags": []
   },
   "outputs": [],
   "source": [
    "y = dataset.pop('Hardness')\n",
    "x = dataset"
   ]
  },
  {
   "cell_type": "markdown",
   "id": "1635161e",
   "metadata": {
    "papermill": {
     "duration": 0.009169,
     "end_time": "2023-12-05T15:22:28.859259",
     "exception": false,
     "start_time": "2023-12-05T15:22:28.850090",
     "status": "completed"
    },
    "tags": []
   },
   "source": [
    "### Check dataset"
   ]
  },
  {
   "cell_type": "code",
   "execution_count": 5,
   "id": "d8b0ac6c",
   "metadata": {
    "execution": {
     "iopub.execute_input": "2023-12-05T15:22:28.879947Z",
     "iopub.status.busy": "2023-12-05T15:22:28.879619Z",
     "iopub.status.idle": "2023-12-05T15:22:28.903044Z",
     "shell.execute_reply": "2023-12-05T15:22:28.902102Z"
    },
    "papermill": {
     "duration": 0.036203,
     "end_time": "2023-12-05T15:22:28.905271",
     "exception": false,
     "start_time": "2023-12-05T15:22:28.869068",
     "status": "completed"
    },
    "tags": []
   },
   "outputs": [
    {
     "data": {
      "text/html": [
       "<div>\n",
       "<style scoped>\n",
       "    .dataframe tbody tr th:only-of-type {\n",
       "        vertical-align: middle;\n",
       "    }\n",
       "\n",
       "    .dataframe tbody tr th {\n",
       "        vertical-align: top;\n",
       "    }\n",
       "\n",
       "    .dataframe thead th {\n",
       "        text-align: right;\n",
       "    }\n",
       "</style>\n",
       "<table border=\"1\" class=\"dataframe\">\n",
       "  <thead>\n",
       "    <tr style=\"text-align: right;\">\n",
       "      <th></th>\n",
       "      <th>id</th>\n",
       "      <th>allelectrons_Total</th>\n",
       "      <th>density_Total</th>\n",
       "      <th>allelectrons_Average</th>\n",
       "      <th>val_e_Average</th>\n",
       "      <th>atomicweight_Average</th>\n",
       "      <th>ionenergy_Average</th>\n",
       "      <th>el_neg_chi_Average</th>\n",
       "      <th>R_vdw_element_Average</th>\n",
       "      <th>R_cov_element_Average</th>\n",
       "      <th>zaratio_Average</th>\n",
       "      <th>density_Average</th>\n",
       "    </tr>\n",
       "  </thead>\n",
       "  <tbody>\n",
       "    <tr>\n",
       "      <th>0</th>\n",
       "      <td>0</td>\n",
       "      <td>100.0</td>\n",
       "      <td>0.841611</td>\n",
       "      <td>10.0</td>\n",
       "      <td>4.8</td>\n",
       "      <td>20.612526</td>\n",
       "      <td>11.08810</td>\n",
       "      <td>2.766</td>\n",
       "      <td>1.732</td>\n",
       "      <td>0.860</td>\n",
       "      <td>0.496070</td>\n",
       "      <td>0.91457</td>\n",
       "    </tr>\n",
       "    <tr>\n",
       "      <th>1</th>\n",
       "      <td>1</td>\n",
       "      <td>100.0</td>\n",
       "      <td>7.558488</td>\n",
       "      <td>10.0</td>\n",
       "      <td>4.8</td>\n",
       "      <td>20.298893</td>\n",
       "      <td>12.04083</td>\n",
       "      <td>2.755</td>\n",
       "      <td>1.631</td>\n",
       "      <td>0.910</td>\n",
       "      <td>0.492719</td>\n",
       "      <td>0.71760</td>\n",
       "    </tr>\n",
       "    <tr>\n",
       "      <th>2</th>\n",
       "      <td>2</td>\n",
       "      <td>76.0</td>\n",
       "      <td>8.885992</td>\n",
       "      <td>15.6</td>\n",
       "      <td>5.6</td>\n",
       "      <td>33.739258</td>\n",
       "      <td>12.08630</td>\n",
       "      <td>2.828</td>\n",
       "      <td>1.788</td>\n",
       "      <td>0.864</td>\n",
       "      <td>0.481478</td>\n",
       "      <td>1.50633</td>\n",
       "    </tr>\n",
       "    <tr>\n",
       "      <th>3</th>\n",
       "      <td>3</td>\n",
       "      <td>100.0</td>\n",
       "      <td>8.795296</td>\n",
       "      <td>10.0</td>\n",
       "      <td>4.8</td>\n",
       "      <td>20.213349</td>\n",
       "      <td>10.94850</td>\n",
       "      <td>2.648</td>\n",
       "      <td>1.626</td>\n",
       "      <td>0.936</td>\n",
       "      <td>0.489272</td>\n",
       "      <td>0.78937</td>\n",
       "    </tr>\n",
       "    <tr>\n",
       "      <th>4</th>\n",
       "      <td>4</td>\n",
       "      <td>116.0</td>\n",
       "      <td>9.577996</td>\n",
       "      <td>11.6</td>\n",
       "      <td>4.8</td>\n",
       "      <td>24.988133</td>\n",
       "      <td>11.82448</td>\n",
       "      <td>2.766</td>\n",
       "      <td>1.682</td>\n",
       "      <td>0.896</td>\n",
       "      <td>0.492736</td>\n",
       "      <td>1.86481</td>\n",
       "    </tr>\n",
       "  </tbody>\n",
       "</table>\n",
       "</div>"
      ],
      "text/plain": [
       "   id  allelectrons_Total  density_Total  allelectrons_Average  val_e_Average  \\\n",
       "0   0               100.0       0.841611                  10.0            4.8   \n",
       "1   1               100.0       7.558488                  10.0            4.8   \n",
       "2   2                76.0       8.885992                  15.6            5.6   \n",
       "3   3               100.0       8.795296                  10.0            4.8   \n",
       "4   4               116.0       9.577996                  11.6            4.8   \n",
       "\n",
       "   atomicweight_Average  ionenergy_Average  el_neg_chi_Average  \\\n",
       "0             20.612526           11.08810               2.766   \n",
       "1             20.298893           12.04083               2.755   \n",
       "2             33.739258           12.08630               2.828   \n",
       "3             20.213349           10.94850               2.648   \n",
       "4             24.988133           11.82448               2.766   \n",
       "\n",
       "   R_vdw_element_Average  R_cov_element_Average  zaratio_Average  \\\n",
       "0                  1.732                  0.860         0.496070   \n",
       "1                  1.631                  0.910         0.492719   \n",
       "2                  1.788                  0.864         0.481478   \n",
       "3                  1.626                  0.936         0.489272   \n",
       "4                  1.682                  0.896         0.492736   \n",
       "\n",
       "   density_Average  \n",
       "0          0.91457  \n",
       "1          0.71760  \n",
       "2          1.50633  \n",
       "3          0.78937  \n",
       "4          1.86481  "
      ]
     },
     "execution_count": 5,
     "metadata": {},
     "output_type": "execute_result"
    }
   ],
   "source": [
    "x.head()"
   ]
  },
  {
   "cell_type": "code",
   "execution_count": 6,
   "id": "54003522",
   "metadata": {
    "execution": {
     "iopub.execute_input": "2023-12-05T15:22:28.926741Z",
     "iopub.status.busy": "2023-12-05T15:22:28.926474Z",
     "iopub.status.idle": "2023-12-05T15:22:28.933071Z",
     "shell.execute_reply": "2023-12-05T15:22:28.932185Z"
    },
    "papermill": {
     "duration": 0.019603,
     "end_time": "2023-12-05T15:22:28.935364",
     "exception": false,
     "start_time": "2023-12-05T15:22:28.915761",
     "status": "completed"
    },
    "tags": []
   },
   "outputs": [
    {
     "data": {
      "text/plain": [
       "0    6.0\n",
       "1    6.5\n",
       "2    2.5\n",
       "3    6.0\n",
       "4    6.0\n",
       "Name: Hardness, dtype: float64"
      ]
     },
     "execution_count": 6,
     "metadata": {},
     "output_type": "execute_result"
    }
   ],
   "source": [
    "y.head()"
   ]
  },
  {
   "cell_type": "markdown",
   "id": "6a0552e4",
   "metadata": {
    "papermill": {
     "duration": 0.009255,
     "end_time": "2023-12-05T15:22:28.955420",
     "exception": false,
     "start_time": "2023-12-05T15:22:28.946165",
     "status": "completed"
    },
    "tags": []
   },
   "source": [
    "# Inspect hardness values\n",
    "\n",
    "If they are continous or discrete"
   ]
  },
  {
   "cell_type": "code",
   "execution_count": 7,
   "id": "524f20e4",
   "metadata": {
    "execution": {
     "iopub.execute_input": "2023-12-05T15:22:28.975753Z",
     "iopub.status.busy": "2023-12-05T15:22:28.975508Z",
     "iopub.status.idle": "2023-12-05T15:22:28.986711Z",
     "shell.execute_reply": "2023-12-05T15:22:28.985845Z"
    },
    "papermill": {
     "duration": 0.023811,
     "end_time": "2023-12-05T15:22:28.988802",
     "exception": false,
     "start_time": "2023-12-05T15:22:28.964991",
     "status": "completed"
    },
    "tags": []
   },
   "outputs": [
    {
     "data": {
      "text/plain": [
       "count    10407.000000\n",
       "mean         4.647126\n",
       "std          1.680525\n",
       "min          1.000000\n",
       "25%          3.000000\n",
       "50%          5.500000\n",
       "75%          6.000000\n",
       "max         10.000000\n",
       "Name: Hardness, dtype: float64"
      ]
     },
     "execution_count": 7,
     "metadata": {},
     "output_type": "execute_result"
    }
   ],
   "source": [
    "y.describe()"
   ]
  },
  {
   "cell_type": "code",
   "execution_count": 8,
   "id": "ba697f70",
   "metadata": {
    "execution": {
     "iopub.execute_input": "2023-12-05T15:22:29.009075Z",
     "iopub.status.busy": "2023-12-05T15:22:29.008808Z",
     "iopub.status.idle": "2023-12-05T15:22:29.015457Z",
     "shell.execute_reply": "2023-12-05T15:22:29.014566Z"
    },
    "papermill": {
     "duration": 0.019296,
     "end_time": "2023-12-05T15:22:29.017485",
     "exception": false,
     "start_time": "2023-12-05T15:22:28.998189",
     "status": "completed"
    },
    "tags": []
   },
   "outputs": [
    {
     "name": "stdout",
     "output_type": "stream",
     "text": [
      "[1.0, 1.3, 1.5, 1.8, 2.0, 2.1, 2.2, 2.3, 2.5, 2.6, 2.8, 2.9, 3.0, 3.2, 3.3, 3.5, 3.6, 3.8, 4.0, 4.1, 4.3, 4.5, 4.7, 4.8, 5.0, 5.3, 5.4, 5.5, 5.75, 5.8, 6.0, 6.2, 6.3, 6.4, 6.5, 6.64, 6.7, 6.8, 7.0, 7.3, 7.5, 7.8, 8.0, 8.1, 8.3, 8.5, 9.0, 9.5, 9.8, 10.0]\n",
      "50\n"
     ]
    }
   ],
   "source": [
    "hardness_set = set(y)\n",
    "print(sorted(hardness_set))\n",
    "print(len(hardness_set))"
   ]
  },
  {
   "cell_type": "markdown",
   "id": "15a17c51",
   "metadata": {
    "papermill": {
     "duration": 0.009854,
     "end_time": "2023-12-05T15:22:29.037242",
     "exception": false,
     "start_time": "2023-12-05T15:22:29.027388",
     "status": "completed"
    },
    "tags": []
   },
   "source": [
    "Try normalise hardness values"
   ]
  },
  {
   "cell_type": "code",
   "execution_count": 9,
   "id": "bbb3fdbc",
   "metadata": {
    "execution": {
     "iopub.execute_input": "2023-12-05T15:22:29.058670Z",
     "iopub.status.busy": "2023-12-05T15:22:29.058426Z",
     "iopub.status.idle": "2023-12-05T15:22:29.069050Z",
     "shell.execute_reply": "2023-12-05T15:22:29.068165Z"
    },
    "papermill": {
     "duration": 0.023223,
     "end_time": "2023-12-05T15:22:29.070983",
     "exception": false,
     "start_time": "2023-12-05T15:22:29.047760",
     "status": "completed"
    },
    "tags": []
   },
   "outputs": [
    {
     "data": {
      "text/plain": [
       "count    10407.000000\n",
       "mean         0.464713\n",
       "std          0.168053\n",
       "min          0.100000\n",
       "25%          0.300000\n",
       "50%          0.550000\n",
       "75%          0.600000\n",
       "max          1.000000\n",
       "Name: Hardness, dtype: float64"
      ]
     },
     "execution_count": 9,
     "metadata": {},
     "output_type": "execute_result"
    }
   ],
   "source": [
    "y = y / max(y)\n",
    "y.describe()"
   ]
  },
  {
   "cell_type": "markdown",
   "id": "17bfebbd",
   "metadata": {
    "papermill": {
     "duration": 0.0096,
     "end_time": "2023-12-05T15:22:29.090275",
     "exception": false,
     "start_time": "2023-12-05T15:22:29.080675",
     "status": "completed"
    },
    "tags": []
   },
   "source": [
    "### Normalise training dataset"
   ]
  },
  {
   "cell_type": "code",
   "execution_count": 10,
   "id": "9f459884",
   "metadata": {
    "execution": {
     "iopub.execute_input": "2023-12-05T15:22:29.111402Z",
     "iopub.status.busy": "2023-12-05T15:22:29.111121Z",
     "iopub.status.idle": "2023-12-05T15:22:29.136500Z",
     "shell.execute_reply": "2023-12-05T15:22:29.135734Z"
    },
    "papermill": {
     "duration": 0.037839,
     "end_time": "2023-12-05T15:22:29.138397",
     "exception": false,
     "start_time": "2023-12-05T15:22:29.100558",
     "status": "completed"
    },
    "tags": []
   },
   "outputs": [],
   "source": [
    "for column in x:\n",
    "    if column != 'id':\n",
    "        x[column] = x[column] / max(x[column])"
   ]
  },
  {
   "cell_type": "code",
   "execution_count": 11,
   "id": "2871d0a4",
   "metadata": {
    "execution": {
     "iopub.execute_input": "2023-12-05T15:22:29.159466Z",
     "iopub.status.busy": "2023-12-05T15:22:29.159218Z",
     "iopub.status.idle": "2023-12-05T15:22:29.203136Z",
     "shell.execute_reply": "2023-12-05T15:22:29.202241Z"
    },
    "papermill": {
     "duration": 0.056907,
     "end_time": "2023-12-05T15:22:29.205245",
     "exception": false,
     "start_time": "2023-12-05T15:22:29.148338",
     "status": "completed"
    },
    "tags": []
   },
   "outputs": [
    {
     "data": {
      "text/html": [
       "<div>\n",
       "<style scoped>\n",
       "    .dataframe tbody tr th:only-of-type {\n",
       "        vertical-align: middle;\n",
       "    }\n",
       "\n",
       "    .dataframe tbody tr th {\n",
       "        vertical-align: top;\n",
       "    }\n",
       "\n",
       "    .dataframe thead th {\n",
       "        text-align: right;\n",
       "    }\n",
       "</style>\n",
       "<table border=\"1\" class=\"dataframe\">\n",
       "  <thead>\n",
       "    <tr style=\"text-align: right;\">\n",
       "      <th></th>\n",
       "      <th>id</th>\n",
       "      <th>allelectrons_Total</th>\n",
       "      <th>density_Total</th>\n",
       "      <th>allelectrons_Average</th>\n",
       "      <th>val_e_Average</th>\n",
       "      <th>atomicweight_Average</th>\n",
       "      <th>ionenergy_Average</th>\n",
       "      <th>el_neg_chi_Average</th>\n",
       "      <th>R_vdw_element_Average</th>\n",
       "      <th>R_cov_element_Average</th>\n",
       "      <th>zaratio_Average</th>\n",
       "      <th>density_Average</th>\n",
       "    </tr>\n",
       "  </thead>\n",
       "  <tbody>\n",
       "    <tr>\n",
       "      <th>count</th>\n",
       "      <td>10407.00000</td>\n",
       "      <td>10407.000000</td>\n",
       "      <td>10407.000000</td>\n",
       "      <td>10407.000000</td>\n",
       "      <td>10407.000000</td>\n",
       "      <td>10407.000000</td>\n",
       "      <td>10407.000000</td>\n",
       "      <td>10407.000000</td>\n",
       "      <td>10407.000000</td>\n",
       "      <td>10407.000000</td>\n",
       "      <td>10407.000000</td>\n",
       "      <td>10407.000000</td>\n",
       "    </tr>\n",
       "    <tr>\n",
       "      <th>mean</th>\n",
       "      <td>5203.00000</td>\n",
       "      <td>0.008370</td>\n",
       "      <td>0.022534</td>\n",
       "      <td>0.254227</td>\n",
       "      <td>0.757798</td>\n",
       "      <td>0.224060</td>\n",
       "      <td>0.717463</td>\n",
       "      <td>0.757381</td>\n",
       "      <td>0.769480</td>\n",
       "      <td>0.584298</td>\n",
       "      <td>0.597282</td>\n",
       "      <td>0.194438</td>\n",
       "    </tr>\n",
       "    <tr>\n",
       "      <th>std</th>\n",
       "      <td>3004.38646</td>\n",
       "      <td>0.014649</td>\n",
       "      <td>0.024838</td>\n",
       "      <td>0.156250</td>\n",
       "      <td>0.115144</td>\n",
       "      <td>0.155390</td>\n",
       "      <td>0.092371</td>\n",
       "      <td>0.097272</td>\n",
       "      <td>0.085547</td>\n",
       "      <td>0.111407</td>\n",
       "      <td>0.076369</td>\n",
       "      <td>0.176541</td>\n",
       "    </tr>\n",
       "    <tr>\n",
       "      <th>min</th>\n",
       "      <td>0.00000</td>\n",
       "      <td>0.000000</td>\n",
       "      <td>0.000000</td>\n",
       "      <td>0.000000</td>\n",
       "      <td>0.000000</td>\n",
       "      <td>0.000000</td>\n",
       "      <td>0.000000</td>\n",
       "      <td>0.000000</td>\n",
       "      <td>0.000000</td>\n",
       "      <td>0.000000</td>\n",
       "      <td>0.000000</td>\n",
       "      <td>0.000000</td>\n",
       "    </tr>\n",
       "    <tr>\n",
       "      <th>25%</th>\n",
       "      <td>2601.50000</td>\n",
       "      <td>0.004444</td>\n",
       "      <td>0.011753</td>\n",
       "      <td>0.149254</td>\n",
       "      <td>0.666667</td>\n",
       "      <td>0.121260</td>\n",
       "      <td>0.694660</td>\n",
       "      <td>0.734824</td>\n",
       "      <td>0.743333</td>\n",
       "      <td>0.534706</td>\n",
       "      <td>0.576515</td>\n",
       "      <td>0.074275</td>\n",
       "    </tr>\n",
       "    <tr>\n",
       "      <th>50%</th>\n",
       "      <td>5203.00000</td>\n",
       "      <td>0.006536</td>\n",
       "      <td>0.016561</td>\n",
       "      <td>0.188060</td>\n",
       "      <td>0.785714</td>\n",
       "      <td>0.156534</td>\n",
       "      <td>0.734809</td>\n",
       "      <td>0.785942</td>\n",
       "      <td>0.770101</td>\n",
       "      <td>0.566613</td>\n",
       "      <td>0.591472</td>\n",
       "      <td>0.123204</td>\n",
       "    </tr>\n",
       "    <tr>\n",
       "      <th>75%</th>\n",
       "      <td>7804.50000</td>\n",
       "      <td>0.008562</td>\n",
       "      <td>0.025932</td>\n",
       "      <td>0.328358</td>\n",
       "      <td>0.800000</td>\n",
       "      <td>0.291036</td>\n",
       "      <td>0.765504</td>\n",
       "      <td>0.814696</td>\n",
       "      <td>0.800000</td>\n",
       "      <td>0.607527</td>\n",
       "      <td>0.600576</td>\n",
       "      <td>0.249913</td>\n",
       "    </tr>\n",
       "    <tr>\n",
       "      <th>max</th>\n",
       "      <td>10406.00000</td>\n",
       "      <td>1.000000</td>\n",
       "      <td>1.000000</td>\n",
       "      <td>1.000000</td>\n",
       "      <td>1.000000</td>\n",
       "      <td>1.000000</td>\n",
       "      <td>1.000000</td>\n",
       "      <td>1.000000</td>\n",
       "      <td>1.000000</td>\n",
       "      <td>1.000000</td>\n",
       "      <td>1.000000</td>\n",
       "      <td>1.000000</td>\n",
       "    </tr>\n",
       "  </tbody>\n",
       "</table>\n",
       "</div>"
      ],
      "text/plain": [
       "                id  allelectrons_Total  density_Total  allelectrons_Average  \\\n",
       "count  10407.00000        10407.000000   10407.000000          10407.000000   \n",
       "mean    5203.00000            0.008370       0.022534              0.254227   \n",
       "std     3004.38646            0.014649       0.024838              0.156250   \n",
       "min        0.00000            0.000000       0.000000              0.000000   \n",
       "25%     2601.50000            0.004444       0.011753              0.149254   \n",
       "50%     5203.00000            0.006536       0.016561              0.188060   \n",
       "75%     7804.50000            0.008562       0.025932              0.328358   \n",
       "max    10406.00000            1.000000       1.000000              1.000000   \n",
       "\n",
       "       val_e_Average  atomicweight_Average  ionenergy_Average  \\\n",
       "count   10407.000000          10407.000000       10407.000000   \n",
       "mean        0.757798              0.224060           0.717463   \n",
       "std         0.115144              0.155390           0.092371   \n",
       "min         0.000000              0.000000           0.000000   \n",
       "25%         0.666667              0.121260           0.694660   \n",
       "50%         0.785714              0.156534           0.734809   \n",
       "75%         0.800000              0.291036           0.765504   \n",
       "max         1.000000              1.000000           1.000000   \n",
       "\n",
       "       el_neg_chi_Average  R_vdw_element_Average  R_cov_element_Average  \\\n",
       "count        10407.000000           10407.000000           10407.000000   \n",
       "mean             0.757381               0.769480               0.584298   \n",
       "std              0.097272               0.085547               0.111407   \n",
       "min              0.000000               0.000000               0.000000   \n",
       "25%              0.734824               0.743333               0.534706   \n",
       "50%              0.785942               0.770101               0.566613   \n",
       "75%              0.814696               0.800000               0.607527   \n",
       "max              1.000000               1.000000               1.000000   \n",
       "\n",
       "       zaratio_Average  density_Average  \n",
       "count     10407.000000     10407.000000  \n",
       "mean          0.597282         0.194438  \n",
       "std           0.076369         0.176541  \n",
       "min           0.000000         0.000000  \n",
       "25%           0.576515         0.074275  \n",
       "50%           0.591472         0.123204  \n",
       "75%           0.600576         0.249913  \n",
       "max           1.000000         1.000000  "
      ]
     },
     "execution_count": 11,
     "metadata": {},
     "output_type": "execute_result"
    }
   ],
   "source": [
    "x.describe()"
   ]
  },
  {
   "cell_type": "markdown",
   "id": "47a10ad9",
   "metadata": {
    "papermill": {
     "duration": 0.010317,
     "end_time": "2023-12-05T15:22:29.226581",
     "exception": false,
     "start_time": "2023-12-05T15:22:29.216264",
     "status": "completed"
    },
    "tags": []
   },
   "source": [
    "### Create Recurrent model"
   ]
  },
  {
   "cell_type": "code",
   "execution_count": 12,
   "id": "0c2d2d99",
   "metadata": {
    "execution": {
     "iopub.execute_input": "2023-12-05T15:22:29.248163Z",
     "iopub.status.busy": "2023-12-05T15:22:29.247887Z",
     "iopub.status.idle": "2023-12-05T15:22:29.252112Z",
     "shell.execute_reply": "2023-12-05T15:22:29.251322Z"
    },
    "papermill": {
     "duration": 0.017447,
     "end_time": "2023-12-05T15:22:29.254348",
     "exception": false,
     "start_time": "2023-12-05T15:22:29.236901",
     "status": "completed"
    },
    "tags": []
   },
   "outputs": [
    {
     "name": "stdout",
     "output_type": "stream",
     "text": [
      "(10407, 12)\n"
     ]
    }
   ],
   "source": [
    "input_shape = x.shape\n",
    "print(input_shape)"
   ]
  },
  {
   "cell_type": "markdown",
   "id": "48c63432",
   "metadata": {
    "papermill": {
     "duration": 0.010212,
     "end_time": "2023-12-05T15:22:29.274942",
     "exception": false,
     "start_time": "2023-12-05T15:22:29.264730",
     "status": "completed"
    },
    "tags": []
   },
   "source": [
    "try with for loop"
   ]
  },
  {
   "cell_type": "code",
   "execution_count": 13,
   "id": "797c2a96",
   "metadata": {
    "execution": {
     "iopub.execute_input": "2023-12-05T15:22:29.298082Z",
     "iopub.status.busy": "2023-12-05T15:22:29.297811Z",
     "iopub.status.idle": "2023-12-05T15:22:29.302128Z",
     "shell.execute_reply": "2023-12-05T15:22:29.301247Z"
    },
    "papermill": {
     "duration": 0.01908,
     "end_time": "2023-12-05T15:22:29.304238",
     "exception": false,
     "start_time": "2023-12-05T15:22:29.285158",
     "status": "completed"
    },
    "tags": []
   },
   "outputs": [],
   "source": [
    "# timesteps = 12\n",
    "# features = 1  # 1D data\n",
    "\n",
    "# def get_RNN_network():\n",
    "#     input_shape = x.shape[1]\n",
    "#     #input_layer = layers.Input(input_shape)\n",
    "    \n",
    "#     LSTM_1 = layers.LSTM(units=64, input_shape=(input_shape, features))\n",
    "    \n",
    "#     output_layer = layers.Dense(units=1)(LSTM_1)\n",
    "    \n",
    "#     return tf.keras.Model(inputs=LSTM_1, outputs=LSTM_1)\n",
    "\n",
    "# DNN_model = get_RNN_network()\n",
    "\n",
    "# loss_function = tf.keras.losses.MeanAbsoluteError()\n",
    "# optimiser = tf.keras.optimizers.Adam(learning_rate=0.0001) # changed lr from 0.001\n",
    "# DNN_model.compile(loss = loss_function, optimizer=optimiser, metrics=['mae'])"
   ]
  },
  {
   "cell_type": "markdown",
   "id": "e6ed1a0e",
   "metadata": {
    "papermill": {
     "duration": 0.010373,
     "end_time": "2023-12-05T15:22:29.325216",
     "exception": false,
     "start_time": "2023-12-05T15:22:29.314843",
     "status": "completed"
    },
    "tags": []
   },
   "source": [
    "try with sequential model"
   ]
  },
  {
   "cell_type": "code",
   "execution_count": 14,
   "id": "dc13f973",
   "metadata": {
    "execution": {
     "iopub.execute_input": "2023-12-05T15:22:29.346853Z",
     "iopub.status.busy": "2023-12-05T15:22:29.346582Z",
     "iopub.status.idle": "2023-12-05T15:22:35.147365Z",
     "shell.execute_reply": "2023-12-05T15:22:35.146545Z"
    },
    "papermill": {
     "duration": 5.81423,
     "end_time": "2023-12-05T15:22:35.149781",
     "exception": false,
     "start_time": "2023-12-05T15:22:29.335551",
     "status": "completed"
    },
    "tags": []
   },
   "outputs": [],
   "source": [
    "features = 1 # 1D data\n",
    "input_shape = x.shape[1]\n",
    "\n",
    "# best model\n",
    "model = tf.keras.models.Sequential([\n",
    "    layers.LSTM(units=64, input_shape=(input_shape, features)),\n",
    "    layers.Dense(units=1)\n",
    "])\n",
    "\n",
    "loss_function = tf.keras.losses.MeanAbsoluteError()\n",
    "optimiser = tf.keras.optimizers.Adam(learning_rate=0.0001) # changed lr from 0.001\n",
    "model.compile(loss = loss_function, optimizer=optimiser, metrics=['mae'])"
   ]
  },
  {
   "cell_type": "code",
   "execution_count": 15,
   "id": "f20cf498",
   "metadata": {
    "execution": {
     "iopub.execute_input": "2023-12-05T15:22:35.172244Z",
     "iopub.status.busy": "2023-12-05T15:22:35.171933Z",
     "iopub.status.idle": "2023-12-05T15:22:35.187244Z",
     "shell.execute_reply": "2023-12-05T15:22:35.186273Z"
    },
    "papermill": {
     "duration": 0.032334,
     "end_time": "2023-12-05T15:22:35.192870",
     "exception": false,
     "start_time": "2023-12-05T15:22:35.160536",
     "status": "completed"
    },
    "tags": []
   },
   "outputs": [
    {
     "name": "stdout",
     "output_type": "stream",
     "text": [
      "Model: \"sequential\"\n",
      "_________________________________________________________________\n",
      " Layer (type)                Output Shape              Param #   \n",
      "=================================================================\n",
      " lstm (LSTM)                 (None, 64)                16896     \n",
      "                                                                 \n",
      " dense (Dense)               (None, 1)                 65        \n",
      "                                                                 \n",
      "=================================================================\n",
      "Total params: 16961 (66.25 KB)\n",
      "Trainable params: 16961 (66.25 KB)\n",
      "Non-trainable params: 0 (0.00 Byte)\n",
      "_________________________________________________________________\n"
     ]
    }
   ],
   "source": [
    "model.summary()"
   ]
  },
  {
   "cell_type": "code",
   "execution_count": 16,
   "id": "6512002c",
   "metadata": {
    "execution": {
     "iopub.execute_input": "2023-12-05T15:22:35.216087Z",
     "iopub.status.busy": "2023-12-05T15:22:35.215820Z",
     "iopub.status.idle": "2023-12-05T15:22:35.662243Z",
     "shell.execute_reply": "2023-12-05T15:22:35.661080Z"
    },
    "papermill": {
     "duration": 0.460474,
     "end_time": "2023-12-05T15:22:35.664487",
     "exception": false,
     "start_time": "2023-12-05T15:22:35.204013",
     "status": "completed"
    },
    "tags": []
   },
   "outputs": [
    {
     "data": {
      "image/png": "[encoded data removed]",
      "text/plain": [
       "<IPython.core.display.Image object>"
      ]
     },
     "execution_count": 16,
     "metadata": {},
     "output_type": "execute_result"
    }
   ],
   "source": [
    "tf.keras.utils.plot_model(model, show_shapes=True)"
   ]
  },
  {
   "cell_type": "markdown",
   "id": "940f4d0f",
   "metadata": {
    "papermill": {
     "duration": 0.012183,
     "end_time": "2023-12-05T15:22:35.689741",
     "exception": false,
     "start_time": "2023-12-05T15:22:35.677558",
     "status": "completed"
    },
    "tags": []
   },
   "source": [
    "### Test dataset"
   ]
  },
  {
   "cell_type": "code",
   "execution_count": 17,
   "id": "cd112e06",
   "metadata": {
    "execution": {
     "iopub.execute_input": "2023-12-05T15:22:35.755891Z",
     "iopub.status.busy": "2023-12-05T15:22:35.755552Z",
     "iopub.status.idle": "2023-12-05T15:23:59.723609Z",
     "shell.execute_reply": "2023-12-05T15:23:59.722443Z"
    },
    "papermill": {
     "duration": 83.983129,
     "end_time": "2023-12-05T15:23:59.725688",
     "exception": false,
     "start_time": "2023-12-05T15:22:35.742559",
     "status": "completed"
    },
    "tags": []
   },
   "outputs": [
    {
     "name": "stdout",
     "output_type": "stream",
     "text": [
      "Epoch 1/50\n",
      "326/326 [==============================] - 10s 4ms/step - loss: 0.1851 - mae: 0.1851\n",
      "Epoch 2/50\n",
      "326/326 [==============================] - 1s 4ms/step - loss: 0.1442 - mae: 0.1442\n",
      "Epoch 3/50\n",
      "326/326 [==============================] - 1s 4ms/step - loss: 0.1426 - mae: 0.1426\n",
      "Epoch 4/50\n",
      "326/326 [==============================] - 1s 4ms/step - loss: 0.1411 - mae: 0.1411\n",
      "Epoch 5/50\n",
      "326/326 [==============================] - 1s 4ms/step - loss: 0.1386 - mae: 0.1386\n",
      "Epoch 6/50\n",
      "326/326 [==============================] - 1s 4ms/step - loss: 0.1363 - mae: 0.1363\n",
      "Epoch 7/50\n",
      "326/326 [==============================] - 1s 4ms/step - loss: 0.1335 - mae: 0.1335\n",
      "Epoch 8/50\n",
      "326/326 [==============================] - 1s 4ms/step - loss: 0.1304 - mae: 0.1304\n",
      "Epoch 9/50\n",
      "326/326 [==============================] - 1s 4ms/step - loss: 0.1294 - mae: 0.1294\n",
      "Epoch 10/50\n",
      "326/326 [==============================] - 1s 4ms/step - loss: 0.1278 - mae: 0.1278\n",
      "Epoch 11/50\n",
      "326/326 [==============================] - 1s 4ms/step - loss: 0.1269 - mae: 0.1269\n",
      "Epoch 12/50\n",
      "326/326 [==============================] - 1s 4ms/step - loss: 0.1263 - mae: 0.1263\n",
      "Epoch 13/50\n",
      "326/326 [==============================] - 1s 4ms/step - loss: 0.1258 - mae: 0.1258\n",
      "Epoch 14/50\n",
      "326/326 [==============================] - 1s 4ms/step - loss: 0.1256 - mae: 0.1256\n",
      "Epoch 15/50\n",
      "326/326 [==============================] - 1s 4ms/step - loss: 0.1253 - mae: 0.1253\n",
      "Epoch 16/50\n",
      "326/326 [==============================] - 1s 4ms/step - loss: 0.1245 - mae: 0.1245\n",
      "Epoch 17/50\n",
      "326/326 [==============================] - 1s 4ms/step - loss: 0.1239 - mae: 0.1239\n",
      "Epoch 18/50\n",
      "326/326 [==============================] - 1s 4ms/step - loss: 0.1236 - mae: 0.1236\n",
      "Epoch 19/50\n",
      "326/326 [==============================] - 1s 4ms/step - loss: 0.1226 - mae: 0.1226\n",
      "Epoch 20/50\n",
      "326/326 [==============================] - 1s 4ms/step - loss: 0.1215 - mae: 0.1215\n",
      "Epoch 21/50\n",
      "326/326 [==============================] - 1s 4ms/step - loss: 0.1211 - mae: 0.1211\n",
      "Epoch 22/50\n",
      "326/326 [==============================] - 1s 4ms/step - loss: 0.1203 - mae: 0.1203\n",
      "Epoch 23/50\n",
      "326/326 [==============================] - 1s 4ms/step - loss: 0.1191 - mae: 0.1191\n",
      "Epoch 24/50\n",
      "326/326 [==============================] - 1s 4ms/step - loss: 0.1185 - mae: 0.1185\n",
      "Epoch 25/50\n",
      "326/326 [==============================] - 1s 4ms/step - loss: 0.1174 - mae: 0.1174\n",
      "Epoch 26/50\n",
      "326/326 [==============================] - 1s 4ms/step - loss: 0.1173 - mae: 0.1173\n",
      "Epoch 27/50\n",
      "326/326 [==============================] - 1s 4ms/step - loss: 0.1161 - mae: 0.1161\n",
      "Epoch 28/50\n",
      "326/326 [==============================] - 1s 4ms/step - loss: 0.1157 - mae: 0.1157\n",
      "Epoch 29/50\n",
      "326/326 [==============================] - 1s 4ms/step - loss: 0.1155 - mae: 0.1155\n",
      "Epoch 30/50\n",
      "326/326 [==============================] - 1s 4ms/step - loss: 0.1146 - mae: 0.1146\n",
      "Epoch 31/50\n",
      "326/326 [==============================] - 1s 4ms/step - loss: 0.1142 - mae: 0.1142\n",
      "Epoch 32/50\n",
      "326/326 [==============================] - 1s 4ms/step - loss: 0.1142 - mae: 0.1142\n",
      "Epoch 33/50\n",
      "326/326 [==============================] - 1s 4ms/step - loss: 0.1137 - mae: 0.1137\n",
      "Epoch 34/50\n",
      "326/326 [==============================] - 1s 4ms/step - loss: 0.1136 - mae: 0.1136\n",
      "Epoch 35/50\n",
      "326/326 [==============================] - 1s 4ms/step - loss: 0.1135 - mae: 0.1135\n",
      "Epoch 36/50\n",
      "326/326 [==============================] - 1s 4ms/step - loss: 0.1140 - mae: 0.1140\n",
      "Epoch 37/50\n",
      "326/326 [==============================] - 1s 4ms/step - loss: 0.1136 - mae: 0.1136\n",
      "Epoch 38/50\n",
      "326/326 [==============================] - 1s 4ms/step - loss: 0.1139 - mae: 0.1139\n",
      "Epoch 39/50\n",
      "326/326 [==============================] - 1s 4ms/step - loss: 0.1126 - mae: 0.1126\n",
      "Epoch 40/50\n",
      "326/326 [==============================] - 1s 4ms/step - loss: 0.1126 - mae: 0.1126\n",
      "Epoch 41/50\n",
      "326/326 [==============================] - 1s 4ms/step - loss: 0.1126 - mae: 0.1126\n",
      "Epoch 42/50\n",
      "326/326 [==============================] - 1s 4ms/step - loss: 0.1128 - mae: 0.1128\n",
      "Epoch 43/50\n",
      "326/326 [==============================] - 1s 4ms/step - loss: 0.1134 - mae: 0.1134\n",
      "Epoch 44/50\n",
      "326/326 [==============================] - 1s 4ms/step - loss: 0.1128 - mae: 0.1128\n",
      "Epoch 45/50\n",
      "326/326 [==============================] - 1s 4ms/step - loss: 0.1128 - mae: 0.1128\n",
      "Epoch 46/50\n",
      "326/326 [==============================] - 1s 4ms/step - loss: 0.1124 - mae: 0.1124\n",
      "Epoch 47/50\n",
      "326/326 [==============================] - 1s 4ms/step - loss: 0.1120 - mae: 0.1120\n",
      "Epoch 48/50\n",
      "326/326 [==============================] - 1s 4ms/step - loss: 0.1121 - mae: 0.1121\n",
      "Epoch 49/50\n",
      "326/326 [==============================] - 1s 4ms/step - loss: 0.1126 - mae: 0.1126\n",
      "Epoch 50/50\n",
      "326/326 [==============================] - 1s 4ms/step - loss: 0.1124 - mae: 0.1124\n"
     ]
    },
    {
     "data": {
      "text/plain": [
       "<keras.src.callbacks.History at 0x78c0787e7670>"
      ]
     },
     "execution_count": 17,
     "metadata": {},
     "output_type": "execute_result"
    }
   ],
   "source": [
    "model.fit(x, y, epochs=50, batch_size=32)"
   ]
  },
  {
   "cell_type": "markdown",
   "id": "d4550718",
   "metadata": {
    "papermill": {
     "duration": 0.111145,
     "end_time": "2023-12-05T15:23:59.949694",
     "exception": false,
     "start_time": "2023-12-05T15:23:59.838549",
     "status": "completed"
    },
    "tags": []
   },
   "source": [
    "### Test submission"
   ]
  },
  {
   "cell_type": "code",
   "execution_count": 18,
   "id": "79338868",
   "metadata": {
    "execution": {
     "iopub.execute_input": "2023-12-05T15:24:00.178593Z",
     "iopub.status.busy": "2023-12-05T15:24:00.177897Z",
     "iopub.status.idle": "2023-12-05T15:24:00.226472Z",
     "shell.execute_reply": "2023-12-05T15:24:00.225481Z"
    },
    "papermill": {
     "duration": 0.165953,
     "end_time": "2023-12-05T15:24:00.228611",
     "exception": false,
     "start_time": "2023-12-05T15:24:00.062658",
     "status": "completed"
    },
    "tags": []
   },
   "outputs": [],
   "source": [
    "test_dataset = pd.read_csv(\"/kaggle/input/playground-series-s3e25/test.csv\")"
   ]
  },
  {
   "cell_type": "code",
   "execution_count": 19,
   "id": "7c49aa11",
   "metadata": {
    "execution": {
     "iopub.execute_input": "2023-12-05T15:24:00.456898Z",
     "iopub.status.busy": "2023-12-05T15:24:00.455914Z",
     "iopub.status.idle": "2023-12-05T15:24:00.478521Z",
     "shell.execute_reply": "2023-12-05T15:24:00.477552Z"
    },
    "papermill": {
     "duration": 0.137424,
     "end_time": "2023-12-05T15:24:00.480521",
     "exception": false,
     "start_time": "2023-12-05T15:24:00.343097",
     "status": "completed"
    },
    "tags": []
   },
   "outputs": [],
   "source": [
    "for column in test_dataset:\n",
    "    if column != 'id':\n",
    "        test_dataset[column] = test_dataset[column] / max(test_dataset[column])"
   ]
  },
  {
   "cell_type": "code",
   "execution_count": 20,
   "id": "bc477d80",
   "metadata": {
    "execution": {
     "iopub.execute_input": "2023-12-05T15:24:00.711997Z",
     "iopub.status.busy": "2023-12-05T15:24:00.711138Z",
     "iopub.status.idle": "2023-12-05T15:24:00.728092Z",
     "shell.execute_reply": "2023-12-05T15:24:00.727140Z"
    },
    "papermill": {
     "duration": 0.13606,
     "end_time": "2023-12-05T15:24:00.729996",
     "exception": false,
     "start_time": "2023-12-05T15:24:00.593936",
     "status": "completed"
    },
    "tags": []
   },
   "outputs": [
    {
     "data": {
      "text/html": [
       "<div>\n",
       "<style scoped>\n",
       "    .dataframe tbody tr th:only-of-type {\n",
       "        vertical-align: middle;\n",
       "    }\n",
       "\n",
       "    .dataframe tbody tr th {\n",
       "        vertical-align: top;\n",
       "    }\n",
       "\n",
       "    .dataframe thead th {\n",
       "        text-align: right;\n",
       "    }\n",
       "</style>\n",
       "<table border=\"1\" class=\"dataframe\">\n",
       "  <thead>\n",
       "    <tr style=\"text-align: right;\">\n",
       "      <th></th>\n",
       "      <th>id</th>\n",
       "      <th>allelectrons_Total</th>\n",
       "      <th>density_Total</th>\n",
       "      <th>allelectrons_Average</th>\n",
       "      <th>val_e_Average</th>\n",
       "      <th>atomicweight_Average</th>\n",
       "      <th>ionenergy_Average</th>\n",
       "      <th>el_neg_chi_Average</th>\n",
       "      <th>R_vdw_element_Average</th>\n",
       "      <th>R_cov_element_Average</th>\n",
       "      <th>zaratio_Average</th>\n",
       "      <th>density_Average</th>\n",
       "    </tr>\n",
       "  </thead>\n",
       "  <tbody>\n",
       "    <tr>\n",
       "      <th>0</th>\n",
       "      <td>10407</td>\n",
       "      <td>0.087386</td>\n",
       "      <td>0.188806</td>\n",
       "      <td>0.527761</td>\n",
       "      <td>0.880000</td>\n",
       "      <td>0.493197</td>\n",
       "      <td>0.614620</td>\n",
       "      <td>0.667441</td>\n",
       "      <td>0.847644</td>\n",
       "      <td>0.742881</td>\n",
       "      <td>0.559207</td>\n",
       "      <td>0.163591</td>\n",
       "    </tr>\n",
       "    <tr>\n",
       "      <th>1</th>\n",
       "      <td>10408</td>\n",
       "      <td>0.008897</td>\n",
       "      <td>0.015444</td>\n",
       "      <td>0.268657</td>\n",
       "      <td>0.933333</td>\n",
       "      <td>0.236368</td>\n",
       "      <td>0.792762</td>\n",
       "      <td>0.832994</td>\n",
       "      <td>0.734222</td>\n",
       "      <td>0.534874</td>\n",
       "      <td>0.576515</td>\n",
       "      <td>0.128709</td>\n",
       "    </tr>\n",
       "    <tr>\n",
       "      <th>2</th>\n",
       "      <td>10409</td>\n",
       "      <td>0.011467</td>\n",
       "      <td>0.012079</td>\n",
       "      <td>0.173134</td>\n",
       "      <td>0.800000</td>\n",
       "      <td>0.138780</td>\n",
       "      <td>0.723073</td>\n",
       "      <td>0.767935</td>\n",
       "      <td>0.797333</td>\n",
       "      <td>0.594305</td>\n",
       "      <td>0.604746</td>\n",
       "      <td>0.071863</td>\n",
       "    </tr>\n",
       "    <tr>\n",
       "      <th>3</th>\n",
       "      <td>10410</td>\n",
       "      <td>0.009885</td>\n",
       "      <td>0.014163</td>\n",
       "      <td>0.149254</td>\n",
       "      <td>0.800000</td>\n",
       "      <td>0.121260</td>\n",
       "      <td>0.792762</td>\n",
       "      <td>0.821377</td>\n",
       "      <td>0.738667</td>\n",
       "      <td>0.490301</td>\n",
       "      <td>0.600244</td>\n",
       "      <td>0.109814</td>\n",
       "    </tr>\n",
       "    <tr>\n",
       "      <th>4</th>\n",
       "      <td>10411</td>\n",
       "      <td>0.005437</td>\n",
       "      <td>0.006267</td>\n",
       "      <td>0.164179</td>\n",
       "      <td>0.666667</td>\n",
       "      <td>0.137262</td>\n",
       "      <td>0.739938</td>\n",
       "      <td>0.713041</td>\n",
       "      <td>0.777778</td>\n",
       "      <td>0.553033</td>\n",
       "      <td>0.576393</td>\n",
       "      <td>0.085192</td>\n",
       "    </tr>\n",
       "  </tbody>\n",
       "</table>\n",
       "</div>"
      ],
      "text/plain": [
       "      id  allelectrons_Total  density_Total  allelectrons_Average  \\\n",
       "0  10407            0.087386       0.188806              0.527761   \n",
       "1  10408            0.008897       0.015444              0.268657   \n",
       "2  10409            0.011467       0.012079              0.173134   \n",
       "3  10410            0.009885       0.014163              0.149254   \n",
       "4  10411            0.005437       0.006267              0.164179   \n",
       "\n",
       "   val_e_Average  atomicweight_Average  ionenergy_Average  el_neg_chi_Average  \\\n",
       "0       0.880000              0.493197           0.614620            0.667441   \n",
       "1       0.933333              0.236368           0.792762            0.832994   \n",
       "2       0.800000              0.138780           0.723073            0.767935   \n",
       "3       0.800000              0.121260           0.792762            0.821377   \n",
       "4       0.666667              0.137262           0.739938            0.713041   \n",
       "\n",
       "   R_vdw_element_Average  R_cov_element_Average  zaratio_Average  \\\n",
       "0               0.847644               0.742881         0.559207   \n",
       "1               0.734222               0.534874         0.576515   \n",
       "2               0.797333               0.594305         0.604746   \n",
       "3               0.738667               0.490301         0.600244   \n",
       "4               0.777778               0.553033         0.576393   \n",
       "\n",
       "   density_Average  \n",
       "0         0.163591  \n",
       "1         0.128709  \n",
       "2         0.071863  \n",
       "3         0.109814  \n",
       "4         0.085192  "
      ]
     },
     "execution_count": 20,
     "metadata": {},
     "output_type": "execute_result"
    }
   ],
   "source": [
    "test_dataset.head()"
   ]
  },
  {
   "cell_type": "code",
   "execution_count": 21,
   "id": "8aab7d82",
   "metadata": {
    "execution": {
     "iopub.execute_input": "2023-12-05T15:24:00.956244Z",
     "iopub.status.busy": "2023-12-05T15:24:00.955858Z",
     "iopub.status.idle": "2023-12-05T15:24:01.938450Z",
     "shell.execute_reply": "2023-12-05T15:24:01.937615Z"
    },
    "papermill": {
     "duration": 1.099658,
     "end_time": "2023-12-05T15:24:01.940603",
     "exception": false,
     "start_time": "2023-12-05T15:24:00.840945",
     "status": "completed"
    },
    "tags": []
   },
   "outputs": [
    {
     "name": "stdout",
     "output_type": "stream",
     "text": [
      "217/217 [==============================] - 1s 2ms/step\n"
     ]
    }
   ],
   "source": [
    "predictions = model.predict(test_dataset)"
   ]
  },
  {
   "cell_type": "markdown",
   "id": "b3db31ce",
   "metadata": {
    "papermill": {
     "duration": 0.119346,
     "end_time": "2023-12-05T15:24:02.176784",
     "exception": false,
     "start_time": "2023-12-05T15:24:02.057438",
     "status": "completed"
    },
    "tags": []
   },
   "source": [
    "Model was trained to predict normalised hardness values so need to unnormalise them"
   ]
  },
  {
   "cell_type": "code",
   "execution_count": 22,
   "id": "61ca7333",
   "metadata": {
    "execution": {
     "iopub.execute_input": "2023-12-05T15:24:02.412160Z",
     "iopub.status.busy": "2023-12-05T15:24:02.411782Z",
     "iopub.status.idle": "2023-12-05T15:24:02.416461Z",
     "shell.execute_reply": "2023-12-05T15:24:02.415657Z"
    },
    "papermill": {
     "duration": 0.121307,
     "end_time": "2023-12-05T15:24:02.418318",
     "exception": false,
     "start_time": "2023-12-05T15:24:02.297011",
     "status": "completed"
    },
    "tags": []
   },
   "outputs": [],
   "source": [
    "predictions = predictions * 10 # 10 is max value of hardness in training dataset"
   ]
  },
  {
   "cell_type": "markdown",
   "id": "4f99251f",
   "metadata": {
    "papermill": {
     "duration": 0.114915,
     "end_time": "2023-12-05T15:24:02.646681",
     "exception": false,
     "start_time": "2023-12-05T15:24:02.531766",
     "status": "completed"
    },
    "tags": []
   },
   "source": [
    "Create subbmission flie"
   ]
  },
  {
   "cell_type": "code",
   "execution_count": 23,
   "id": "dc56723a",
   "metadata": {
    "execution": {
     "iopub.execute_input": "2023-12-05T15:24:02.873654Z",
     "iopub.status.busy": "2023-12-05T15:24:02.873266Z",
     "iopub.status.idle": "2023-12-05T15:24:02.880993Z",
     "shell.execute_reply": "2023-12-05T15:24:02.880115Z"
    },
    "papermill": {
     "duration": 0.123385,
     "end_time": "2023-12-05T15:24:02.883072",
     "exception": false,
     "start_time": "2023-12-05T15:24:02.759687",
     "status": "completed"
    },
    "tags": []
   },
   "outputs": [],
   "source": [
    "submission = pd.DataFrame()\n",
    "submission['id'] = test_dataset['id']\n",
    "submission['Hardness'] = predictions"
   ]
  },
  {
   "cell_type": "code",
   "execution_count": 24,
   "id": "77aa127f",
   "metadata": {
    "execution": {
     "iopub.execute_input": "2023-12-05T15:24:03.126662Z",
     "iopub.status.busy": "2023-12-05T15:24:03.126352Z",
     "iopub.status.idle": "2023-12-05T15:24:03.135320Z",
     "shell.execute_reply": "2023-12-05T15:24:03.134431Z"
    },
    "papermill": {
     "duration": 0.124682,
     "end_time": "2023-12-05T15:24:03.137322",
     "exception": false,
     "start_time": "2023-12-05T15:24:03.012640",
     "status": "completed"
    },
    "tags": []
   },
   "outputs": [
    {
     "data": {
      "text/html": [
       "<div>\n",
       "<style scoped>\n",
       "    .dataframe tbody tr th:only-of-type {\n",
       "        vertical-align: middle;\n",
       "    }\n",
       "\n",
       "    .dataframe tbody tr th {\n",
       "        vertical-align: top;\n",
       "    }\n",
       "\n",
       "    .dataframe thead th {\n",
       "        text-align: right;\n",
       "    }\n",
       "</style>\n",
       "<table border=\"1\" class=\"dataframe\">\n",
       "  <thead>\n",
       "    <tr style=\"text-align: right;\">\n",
       "      <th></th>\n",
       "      <th>id</th>\n",
       "      <th>Hardness</th>\n",
       "    </tr>\n",
       "  </thead>\n",
       "  <tbody>\n",
       "    <tr>\n",
       "      <th>0</th>\n",
       "      <td>10407</td>\n",
       "      <td>3.155971</td>\n",
       "    </tr>\n",
       "    <tr>\n",
       "      <th>1</th>\n",
       "      <td>10408</td>\n",
       "      <td>4.070091</td>\n",
       "    </tr>\n",
       "    <tr>\n",
       "      <th>2</th>\n",
       "      <td>10409</td>\n",
       "      <td>5.635421</td>\n",
       "    </tr>\n",
       "    <tr>\n",
       "      <th>3</th>\n",
       "      <td>10410</td>\n",
       "      <td>5.716592</td>\n",
       "    </tr>\n",
       "    <tr>\n",
       "      <th>4</th>\n",
       "      <td>10411</td>\n",
       "      <td>5.687725</td>\n",
       "    </tr>\n",
       "  </tbody>\n",
       "</table>\n",
       "</div>"
      ],
      "text/plain": [
       "      id  Hardness\n",
       "0  10407  3.155971\n",
       "1  10408  4.070091\n",
       "2  10409  5.635421\n",
       "3  10410  5.716592\n",
       "4  10411  5.687725"
      ]
     },
     "execution_count": 24,
     "metadata": {},
     "output_type": "execute_result"
    }
   ],
   "source": [
    "submission.head()"
   ]
  },
  {
   "cell_type": "code",
   "execution_count": 25,
   "id": "47044b37",
   "metadata": {
    "execution": {
     "iopub.execute_input": "2023-12-05T15:24:03.369639Z",
     "iopub.status.busy": "2023-12-05T15:24:03.368650Z",
     "iopub.status.idle": "2023-12-05T15:24:03.383593Z",
     "shell.execute_reply": "2023-12-05T15:24:03.382653Z"
    },
    "papermill": {
     "duration": 0.134928,
     "end_time": "2023-12-05T15:24:03.385598",
     "exception": false,
     "start_time": "2023-12-05T15:24:03.250670",
     "status": "completed"
    },
    "tags": []
   },
   "outputs": [
    {
     "data": {
      "text/html": [
       "<div>\n",
       "<style scoped>\n",
       "    .dataframe tbody tr th:only-of-type {\n",
       "        vertical-align: middle;\n",
       "    }\n",
       "\n",
       "    .dataframe tbody tr th {\n",
       "        vertical-align: top;\n",
       "    }\n",
       "\n",
       "    .dataframe thead th {\n",
       "        text-align: right;\n",
       "    }\n",
       "</style>\n",
       "<table border=\"1\" class=\"dataframe\">\n",
       "  <thead>\n",
       "    <tr style=\"text-align: right;\">\n",
       "      <th></th>\n",
       "      <th>id</th>\n",
       "      <th>Hardness</th>\n",
       "    </tr>\n",
       "  </thead>\n",
       "  <tbody>\n",
       "    <tr>\n",
       "      <th>count</th>\n",
       "      <td>6939.000000</td>\n",
       "      <td>6939.000000</td>\n",
       "    </tr>\n",
       "    <tr>\n",
       "      <th>mean</th>\n",
       "      <td>13876.000000</td>\n",
       "      <td>4.719828</td>\n",
       "    </tr>\n",
       "    <tr>\n",
       "      <th>std</th>\n",
       "      <td>2003.261091</td>\n",
       "      <td>1.140004</td>\n",
       "    </tr>\n",
       "    <tr>\n",
       "      <th>min</th>\n",
       "      <td>10407.000000</td>\n",
       "      <td>1.187190</td>\n",
       "    </tr>\n",
       "    <tr>\n",
       "      <th>25%</th>\n",
       "      <td>12141.500000</td>\n",
       "      <td>3.765956</td>\n",
       "    </tr>\n",
       "    <tr>\n",
       "      <th>50%</th>\n",
       "      <td>13876.000000</td>\n",
       "      <td>5.228667</td>\n",
       "    </tr>\n",
       "    <tr>\n",
       "      <th>75%</th>\n",
       "      <td>15610.500000</td>\n",
       "      <td>5.676866</td>\n",
       "    </tr>\n",
       "    <tr>\n",
       "      <th>max</th>\n",
       "      <td>17345.000000</td>\n",
       "      <td>6.282313</td>\n",
       "    </tr>\n",
       "  </tbody>\n",
       "</table>\n",
       "</div>"
      ],
      "text/plain": [
       "                 id     Hardness\n",
       "count   6939.000000  6939.000000\n",
       "mean   13876.000000     4.719828\n",
       "std     2003.261091     1.140004\n",
       "min    10407.000000     1.187190\n",
       "25%    12141.500000     3.765956\n",
       "50%    13876.000000     5.228667\n",
       "75%    15610.500000     5.676866\n",
       "max    17345.000000     6.282313"
      ]
     },
     "execution_count": 25,
     "metadata": {},
     "output_type": "execute_result"
    }
   ],
   "source": [
    "submission.describe()"
   ]
  },
  {
   "cell_type": "code",
   "execution_count": 26,
   "id": "394fdf37",
   "metadata": {
    "execution": {
     "iopub.execute_input": "2023-12-05T15:24:03.615472Z",
     "iopub.status.busy": "2023-12-05T15:24:03.615128Z",
     "iopub.status.idle": "2023-12-05T15:24:03.644791Z",
     "shell.execute_reply": "2023-12-05T15:24:03.644036Z"
    },
    "papermill": {
     "duration": 0.147892,
     "end_time": "2023-12-05T15:24:03.646989",
     "exception": false,
     "start_time": "2023-12-05T15:24:03.499097",
     "status": "completed"
    },
    "tags": []
   },
   "outputs": [],
   "source": [
    "submission.to_csv('/kaggle/working/submission.csv',index=False,header=True)"
   ]
  }
 ],
 "metadata": {
  "kaggle": {
   "accelerator": "nvidiaTeslaT4",
   "dataSources": [
    {
     "databundleVersionId": 6989718,
     "sourceId": 60892,
     "sourceType": "competition"
    }
   ],
   "dockerImageVersionId": 30588,
   "isGpuEnabled": true,
   "isInternetEnabled": true,
   "language": "python",
   "sourceType": "notebook"
  },
  "kernelspec": {
   "display_name": "Python 3",
   "language": "python",
   "name": "python3"
  },
  "language_info": {
   "codemirror_mode": {
    "name": "ipython",
    "version": 3
   },
   "file_extension": ".py",
   "mimetype": "text/x-python",
   "name": "python",
   "nbconvert_exporter": "python",
   "pygments_lexer": "ipython3",
   "version": "3.10.12"
  },
  "papermill": {
   "default_parameters": {},
   "duration": 121.55117,
   "end_time": "2023-12-05T15:24:06.722486",
   "environment_variables": {},
   "exception": null,
   "input_path": "__notebook__.ipynb",
   "output_path": "__notebook__.ipynb",
   "parameters": {},
   "start_time": "2023-12-05T15:22:05.171316",
   "version": "2.4.0"
  }
 },
 "nbformat": 4,
 "nbformat_minor": 5
}
