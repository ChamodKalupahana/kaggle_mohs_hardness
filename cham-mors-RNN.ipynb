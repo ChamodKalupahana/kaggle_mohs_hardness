{
 "cells": [
  {
   "cell_type": "code",
   "execution_count": 1,
   "id": "7ed62952",
   "metadata": {
    "_cell_guid": "b1076dfc-b9ad-4769-8c92-a6c4dae69d19",
    "_uuid": "8f2839f25d086af736a60e9eeb907d3b93b6e0e5",
    "execution": {
     "iopub.execute_input": "2023-11-30T23:40:33.777710Z",
     "iopub.status.busy": "2023-11-30T23:40:33.777345Z",
     "iopub.status.idle": "2023-11-30T23:40:47.364438Z",
     "shell.execute_reply": "2023-11-30T23:40:47.363351Z"
    },
    "papermill": {
     "duration": 13.601599,
     "end_time": "2023-11-30T23:40:47.366870",
     "exception": false,
     "start_time": "2023-11-30T23:40:33.765271",
     "status": "completed"
    },
    "tags": []
   },
   "outputs": [
    {
     "name": "stderr",
     "output_type": "stream",
     "text": [
      "/opt/conda/lib/python3.10/site-packages/scipy/__init__.py:146: UserWarning: A NumPy version >=1.16.5 and <1.23.0 is required for this version of SciPy (detected version 1.24.3\n",
      "  warnings.warn(f\"A NumPy version >={np_minversion} and <{np_maxversion}\"\n"
     ]
    },
    {
     "name": "stdout",
     "output_type": "stream",
     "text": [
      "/kaggle/input/playground-series-s3e25/sample_submission.csv\n",
      "/kaggle/input/playground-series-s3e25/train.csv\n",
      "/kaggle/input/playground-series-s3e25/test.csv\n"
     ]
    }
   ],
   "source": [
    "# This Python 3 environment comes with many helpful analytics libraries installed\n",
    "# It is defined by the kaggle/python Docker image: https://github.com/kaggle/docker-python\n",
    "# For example, here's several helpful packages to load\n",
    "\n",
    "import numpy as np # linear algebra\n",
    "import pandas as pd # data processing, CSV file I/O (e.g. pd.read_csv)\n",
    "import matplotlib.pyplot as plt\n",
    "\n",
    "import tensorflow as tf\n",
    "import tensorflow.keras.layers as layers\n",
    "\n",
    "# Input data files are available in the read-only \"../input/\" directory\n",
    "# For example, running this (by clicking run or pressing Shift+Enter) will list all files under the input directory\n",
    "\n",
    "import os\n",
    "for dirname, _, filenames in os.walk('/kaggle/input'):\n",
    "    for filename in filenames:\n",
    "        print(os.path.join(dirname, filename))\n",
    "\n",
    "# You can write up to 20GB to the current directory (/kaggle/working/) that gets preserved as output when you create a version using \"Save & Run All\" \n",
    "# You can also write temporary files to /kaggle/temp/, but they won't be saved outside of the current session"
   ]
  },
  {
   "cell_type": "code",
   "execution_count": 2,
   "id": "cbafa57a",
   "metadata": {
    "execution": {
     "iopub.execute_input": "2023-11-30T23:40:47.387943Z",
     "iopub.status.busy": "2023-11-30T23:40:47.387394Z",
     "iopub.status.idle": "2023-11-30T23:40:47.435133Z",
     "shell.execute_reply": "2023-11-30T23:40:47.434357Z"
    },
    "papermill": {
     "duration": 0.060585,
     "end_time": "2023-11-30T23:40:47.437445",
     "exception": false,
     "start_time": "2023-11-30T23:40:47.376860",
     "status": "completed"
    },
    "tags": []
   },
   "outputs": [],
   "source": [
    "filepath = \"/kaggle/input/playground-series-s3e25/train.csv\"\n",
    "\n",
    "dataset = pd.read_csv(filepath)"
   ]
  },
  {
   "cell_type": "code",
   "execution_count": 3,
   "id": "48a47d68",
   "metadata": {
    "execution": {
     "iopub.execute_input": "2023-11-30T23:40:47.457891Z",
     "iopub.status.busy": "2023-11-30T23:40:47.457567Z",
     "iopub.status.idle": "2023-11-30T23:40:47.487106Z",
     "shell.execute_reply": "2023-11-30T23:40:47.485920Z"
    },
    "papermill": {
     "duration": 0.04214,
     "end_time": "2023-11-30T23:40:47.489455",
     "exception": false,
     "start_time": "2023-11-30T23:40:47.447315",
     "status": "completed"
    },
    "tags": []
   },
   "outputs": [
    {
     "name": "stdout",
     "output_type": "stream",
     "text": [
      "<class 'pandas.core.frame.DataFrame'>\n",
      "RangeIndex: 10407 entries, 0 to 10406\n",
      "Data columns (total 13 columns):\n",
      " #   Column                 Non-Null Count  Dtype  \n",
      "---  ------                 --------------  -----  \n",
      " 0   id                     10407 non-null  int64  \n",
      " 1   allelectrons_Total     10407 non-null  float64\n",
      " 2   density_Total          10407 non-null  float64\n",
      " 3   allelectrons_Average   10407 non-null  float64\n",
      " 4   val_e_Average          10407 non-null  float64\n",
      " 5   atomicweight_Average   10407 non-null  float64\n",
      " 6   ionenergy_Average      10407 non-null  float64\n",
      " 7   el_neg_chi_Average     10407 non-null  float64\n",
      " 8   R_vdw_element_Average  10407 non-null  float64\n",
      " 9   R_cov_element_Average  10407 non-null  float64\n",
      " 10  zaratio_Average        10407 non-null  float64\n",
      " 11  density_Average        10407 non-null  float64\n",
      " 12  Hardness               10407 non-null  float64\n",
      "dtypes: float64(12), int64(1)\n",
      "memory usage: 1.0 MB\n"
     ]
    }
   ],
   "source": [
    "dataset.info()"
   ]
  },
  {
   "cell_type": "code",
   "execution_count": 4,
   "id": "e0f21d9c",
   "metadata": {
    "execution": {
     "iopub.execute_input": "2023-11-30T23:40:47.511815Z",
     "iopub.status.busy": "2023-11-30T23:40:47.511530Z",
     "iopub.status.idle": "2023-11-30T23:40:47.517072Z",
     "shell.execute_reply": "2023-11-30T23:40:47.516202Z"
    },
    "papermill": {
     "duration": 0.018387,
     "end_time": "2023-11-30T23:40:47.519232",
     "exception": false,
     "start_time": "2023-11-30T23:40:47.500845",
     "status": "completed"
    },
    "tags": []
   },
   "outputs": [],
   "source": [
    "y = dataset.pop('Hardness')\n",
    "x = dataset"
   ]
  },
  {
   "cell_type": "markdown",
   "id": "bdf54893",
   "metadata": {
    "papermill": {
     "duration": 0.009999,
     "end_time": "2023-11-30T23:40:47.539256",
     "exception": false,
     "start_time": "2023-11-30T23:40:47.529257",
     "status": "completed"
    },
    "tags": []
   },
   "source": [
    "### Check dataset"
   ]
  },
  {
   "cell_type": "code",
   "execution_count": 5,
   "id": "5471ea58",
   "metadata": {
    "execution": {
     "iopub.execute_input": "2023-11-30T23:40:47.559247Z",
     "iopub.status.busy": "2023-11-30T23:40:47.558485Z",
     "iopub.status.idle": "2023-11-30T23:40:47.581457Z",
     "shell.execute_reply": "2023-11-30T23:40:47.580542Z"
    },
    "papermill": {
     "duration": 0.035367,
     "end_time": "2023-11-30T23:40:47.583879",
     "exception": false,
     "start_time": "2023-11-30T23:40:47.548512",
     "status": "completed"
    },
    "tags": []
   },
   "outputs": [
    {
     "data": {
      "text/html": [
       "<div>\n",
       "<style scoped>\n",
       "    .dataframe tbody tr th:only-of-type {\n",
       "        vertical-align: middle;\n",
       "    }\n",
       "\n",
       "    .dataframe tbody tr th {\n",
       "        vertical-align: top;\n",
       "    }\n",
       "\n",
       "    .dataframe thead th {\n",
       "        text-align: right;\n",
       "    }\n",
       "</style>\n",
       "<table border=\"1\" class=\"dataframe\">\n",
       "  <thead>\n",
       "    <tr style=\"text-align: right;\">\n",
       "      <th></th>\n",
       "      <th>id</th>\n",
       "      <th>allelectrons_Total</th>\n",
       "      <th>density_Total</th>\n",
       "      <th>allelectrons_Average</th>\n",
       "      <th>val_e_Average</th>\n",
       "      <th>atomicweight_Average</th>\n",
       "      <th>ionenergy_Average</th>\n",
       "      <th>el_neg_chi_Average</th>\n",
       "      <th>R_vdw_element_Average</th>\n",
       "      <th>R_cov_element_Average</th>\n",
       "      <th>zaratio_Average</th>\n",
       "      <th>density_Average</th>\n",
       "    </tr>\n",
       "  </thead>\n",
       "  <tbody>\n",
       "    <tr>\n",
       "      <th>0</th>\n",
       "      <td>0</td>\n",
       "      <td>100.0</td>\n",
       "      <td>0.841611</td>\n",
       "      <td>10.0</td>\n",
       "      <td>4.8</td>\n",
       "      <td>20.612526</td>\n",
       "      <td>11.08810</td>\n",
       "      <td>2.766</td>\n",
       "      <td>1.732</td>\n",
       "      <td>0.860</td>\n",
       "      <td>0.496070</td>\n",
       "      <td>0.91457</td>\n",
       "    </tr>\n",
       "    <tr>\n",
       "      <th>1</th>\n",
       "      <td>1</td>\n",
       "      <td>100.0</td>\n",
       "      <td>7.558488</td>\n",
       "      <td>10.0</td>\n",
       "      <td>4.8</td>\n",
       "      <td>20.298893</td>\n",
       "      <td>12.04083</td>\n",
       "      <td>2.755</td>\n",
       "      <td>1.631</td>\n",
       "      <td>0.910</td>\n",
       "      <td>0.492719</td>\n",
       "      <td>0.71760</td>\n",
       "    </tr>\n",
       "    <tr>\n",
       "      <th>2</th>\n",
       "      <td>2</td>\n",
       "      <td>76.0</td>\n",
       "      <td>8.885992</td>\n",
       "      <td>15.6</td>\n",
       "      <td>5.6</td>\n",
       "      <td>33.739258</td>\n",
       "      <td>12.08630</td>\n",
       "      <td>2.828</td>\n",
       "      <td>1.788</td>\n",
       "      <td>0.864</td>\n",
       "      <td>0.481478</td>\n",
       "      <td>1.50633</td>\n",
       "    </tr>\n",
       "    <tr>\n",
       "      <th>3</th>\n",
       "      <td>3</td>\n",
       "      <td>100.0</td>\n",
       "      <td>8.795296</td>\n",
       "      <td>10.0</td>\n",
       "      <td>4.8</td>\n",
       "      <td>20.213349</td>\n",
       "      <td>10.94850</td>\n",
       "      <td>2.648</td>\n",
       "      <td>1.626</td>\n",
       "      <td>0.936</td>\n",
       "      <td>0.489272</td>\n",
       "      <td>0.78937</td>\n",
       "    </tr>\n",
       "    <tr>\n",
       "      <th>4</th>\n",
       "      <td>4</td>\n",
       "      <td>116.0</td>\n",
       "      <td>9.577996</td>\n",
       "      <td>11.6</td>\n",
       "      <td>4.8</td>\n",
       "      <td>24.988133</td>\n",
       "      <td>11.82448</td>\n",
       "      <td>2.766</td>\n",
       "      <td>1.682</td>\n",
       "      <td>0.896</td>\n",
       "      <td>0.492736</td>\n",
       "      <td>1.86481</td>\n",
       "    </tr>\n",
       "  </tbody>\n",
       "</table>\n",
       "</div>"
      ],
      "text/plain": [
       "   id  allelectrons_Total  density_Total  allelectrons_Average  val_e_Average  \\\n",
       "0   0               100.0       0.841611                  10.0            4.8   \n",
       "1   1               100.0       7.558488                  10.0            4.8   \n",
       "2   2                76.0       8.885992                  15.6            5.6   \n",
       "3   3               100.0       8.795296                  10.0            4.8   \n",
       "4   4               116.0       9.577996                  11.6            4.8   \n",
       "\n",
       "   atomicweight_Average  ionenergy_Average  el_neg_chi_Average  \\\n",
       "0             20.612526           11.08810               2.766   \n",
       "1             20.298893           12.04083               2.755   \n",
       "2             33.739258           12.08630               2.828   \n",
       "3             20.213349           10.94850               2.648   \n",
       "4             24.988133           11.82448               2.766   \n",
       "\n",
       "   R_vdw_element_Average  R_cov_element_Average  zaratio_Average  \\\n",
       "0                  1.732                  0.860         0.496070   \n",
       "1                  1.631                  0.910         0.492719   \n",
       "2                  1.788                  0.864         0.481478   \n",
       "3                  1.626                  0.936         0.489272   \n",
       "4                  1.682                  0.896         0.492736   \n",
       "\n",
       "   density_Average  \n",
       "0          0.91457  \n",
       "1          0.71760  \n",
       "2          1.50633  \n",
       "3          0.78937  \n",
       "4          1.86481  "
      ]
     },
     "execution_count": 5,
     "metadata": {},
     "output_type": "execute_result"
    }
   ],
   "source": [
    "x.head()"
   ]
  },
  {
   "cell_type": "code",
   "execution_count": 6,
   "id": "6609eafc",
   "metadata": {
    "execution": {
     "iopub.execute_input": "2023-11-30T23:40:47.604495Z",
     "iopub.status.busy": "2023-11-30T23:40:47.604177Z",
     "iopub.status.idle": "2023-11-30T23:40:47.610561Z",
     "shell.execute_reply": "2023-11-30T23:40:47.609755Z"
    },
    "papermill": {
     "duration": 0.019148,
     "end_time": "2023-11-30T23:40:47.612752",
     "exception": false,
     "start_time": "2023-11-30T23:40:47.593604",
     "status": "completed"
    },
    "tags": []
   },
   "outputs": [
    {
     "data": {
      "text/plain": [
       "0    6.0\n",
       "1    6.5\n",
       "2    2.5\n",
       "3    6.0\n",
       "4    6.0\n",
       "Name: Hardness, dtype: float64"
      ]
     },
     "execution_count": 6,
     "metadata": {},
     "output_type": "execute_result"
    }
   ],
   "source": [
    "y.head()"
   ]
  },
  {
   "cell_type": "markdown",
   "id": "8aa63015",
   "metadata": {
    "papermill": {
     "duration": 0.009247,
     "end_time": "2023-11-30T23:40:47.631327",
     "exception": false,
     "start_time": "2023-11-30T23:40:47.622080",
     "status": "completed"
    },
    "tags": []
   },
   "source": [
    "# Inspect hardness values\n",
    "\n",
    "If they are continous or discrete"
   ]
  },
  {
   "cell_type": "code",
   "execution_count": 7,
   "id": "c40dae45",
   "metadata": {
    "execution": {
     "iopub.execute_input": "2023-11-30T23:40:47.652751Z",
     "iopub.status.busy": "2023-11-30T23:40:47.651947Z",
     "iopub.status.idle": "2023-11-30T23:40:47.662947Z",
     "shell.execute_reply": "2023-11-30T23:40:47.662026Z"
    },
    "papermill": {
     "duration": 0.023725,
     "end_time": "2023-11-30T23:40:47.664967",
     "exception": false,
     "start_time": "2023-11-30T23:40:47.641242",
     "status": "completed"
    },
    "tags": []
   },
   "outputs": [
    {
     "data": {
      "text/plain": [
       "count    10407.000000\n",
       "mean         4.647126\n",
       "std          1.680525\n",
       "min          1.000000\n",
       "25%          3.000000\n",
       "50%          5.500000\n",
       "75%          6.000000\n",
       "max         10.000000\n",
       "Name: Hardness, dtype: float64"
      ]
     },
     "execution_count": 7,
     "metadata": {},
     "output_type": "execute_result"
    }
   ],
   "source": [
    "y.describe()"
   ]
  },
  {
   "cell_type": "code",
   "execution_count": 8,
   "id": "c76d58c6",
   "metadata": {
    "execution": {
     "iopub.execute_input": "2023-11-30T23:40:47.686521Z",
     "iopub.status.busy": "2023-11-30T23:40:47.686053Z",
     "iopub.status.idle": "2023-11-30T23:40:47.692835Z",
     "shell.execute_reply": "2023-11-30T23:40:47.691967Z"
    },
    "papermill": {
     "duration": 0.019648,
     "end_time": "2023-11-30T23:40:47.695127",
     "exception": false,
     "start_time": "2023-11-30T23:40:47.675479",
     "status": "completed"
    },
    "tags": []
   },
   "outputs": [
    {
     "name": "stdout",
     "output_type": "stream",
     "text": [
      "[1.0, 1.3, 1.5, 1.8, 2.0, 2.1, 2.2, 2.3, 2.5, 2.6, 2.8, 2.9, 3.0, 3.2, 3.3, 3.5, 3.6, 3.8, 4.0, 4.1, 4.3, 4.5, 4.7, 4.8, 5.0, 5.3, 5.4, 5.5, 5.75, 5.8, 6.0, 6.2, 6.3, 6.4, 6.5, 6.64, 6.7, 6.8, 7.0, 7.3, 7.5, 7.8, 8.0, 8.1, 8.3, 8.5, 9.0, 9.5, 9.8, 10.0]\n",
      "50\n"
     ]
    }
   ],
   "source": [
    "hardness_set = set(y)\n",
    "print(sorted(hardness_set))\n",
    "print(len(hardness_set))"
   ]
  },
  {
   "cell_type": "markdown",
   "id": "7dccd9ce",
   "metadata": {
    "papermill": {
     "duration": 0.009988,
     "end_time": "2023-11-30T23:40:47.714862",
     "exception": false,
     "start_time": "2023-11-30T23:40:47.704874",
     "status": "completed"
    },
    "tags": []
   },
   "source": [
    "Try normalise hardness values"
   ]
  },
  {
   "cell_type": "code",
   "execution_count": 9,
   "id": "083938c3",
   "metadata": {
    "execution": {
     "iopub.execute_input": "2023-11-30T23:40:47.736409Z",
     "iopub.status.busy": "2023-11-30T23:40:47.736132Z",
     "iopub.status.idle": "2023-11-30T23:40:47.747143Z",
     "shell.execute_reply": "2023-11-30T23:40:47.746230Z"
    },
    "papermill": {
     "duration": 0.023883,
     "end_time": "2023-11-30T23:40:47.748986",
     "exception": false,
     "start_time": "2023-11-30T23:40:47.725103",
     "status": "completed"
    },
    "tags": []
   },
   "outputs": [
    {
     "data": {
      "text/plain": [
       "count    10407.000000\n",
       "mean         0.464713\n",
       "std          0.168053\n",
       "min          0.100000\n",
       "25%          0.300000\n",
       "50%          0.550000\n",
       "75%          0.600000\n",
       "max          1.000000\n",
       "Name: Hardness, dtype: float64"
      ]
     },
     "execution_count": 9,
     "metadata": {},
     "output_type": "execute_result"
    }
   ],
   "source": [
    "y = y / max(y)\n",
    "y.describe()"
   ]
  },
  {
   "cell_type": "markdown",
   "id": "9bba187d",
   "metadata": {
    "papermill": {
     "duration": 0.009962,
     "end_time": "2023-11-30T23:40:47.769432",
     "exception": false,
     "start_time": "2023-11-30T23:40:47.759470",
     "status": "completed"
    },
    "tags": []
   },
   "source": [
    "### Normalise training dataset"
   ]
  },
  {
   "cell_type": "code",
   "execution_count": 10,
   "id": "112acd82",
   "metadata": {
    "execution": {
     "iopub.execute_input": "2023-11-30T23:40:47.791484Z",
     "iopub.status.busy": "2023-11-30T23:40:47.791225Z",
     "iopub.status.idle": "2023-11-30T23:40:47.817559Z",
     "shell.execute_reply": "2023-11-30T23:40:47.816808Z"
    },
    "papermill": {
     "duration": 0.03919,
     "end_time": "2023-11-30T23:40:47.819457",
     "exception": false,
     "start_time": "2023-11-30T23:40:47.780267",
     "status": "completed"
    },
    "tags": []
   },
   "outputs": [],
   "source": [
    "for column in x:\n",
    "    if column != 'id':\n",
    "        x[column] = x[column] / max(x[column])"
   ]
  },
  {
   "cell_type": "code",
   "execution_count": 11,
   "id": "ae01ca3c",
   "metadata": {
    "execution": {
     "iopub.execute_input": "2023-11-30T23:40:47.841489Z",
     "iopub.status.busy": "2023-11-30T23:40:47.840926Z",
     "iopub.status.idle": "2023-11-30T23:40:47.887250Z",
     "shell.execute_reply": "2023-11-30T23:40:47.886299Z"
    },
    "papermill": {
     "duration": 0.059553,
     "end_time": "2023-11-30T23:40:47.889402",
     "exception": false,
     "start_time": "2023-11-30T23:40:47.829849",
     "status": "completed"
    },
    "tags": []
   },
   "outputs": [
    {
     "data": {
      "text/html": [
       "<div>\n",
       "<style scoped>\n",
       "    .dataframe tbody tr th:only-of-type {\n",
       "        vertical-align: middle;\n",
       "    }\n",
       "\n",
       "    .dataframe tbody tr th {\n",
       "        vertical-align: top;\n",
       "    }\n",
       "\n",
       "    .dataframe thead th {\n",
       "        text-align: right;\n",
       "    }\n",
       "</style>\n",
       "<table border=\"1\" class=\"dataframe\">\n",
       "  <thead>\n",
       "    <tr style=\"text-align: right;\">\n",
       "      <th></th>\n",
       "      <th>id</th>\n",
       "      <th>allelectrons_Total</th>\n",
       "      <th>density_Total</th>\n",
       "      <th>allelectrons_Average</th>\n",
       "      <th>val_e_Average</th>\n",
       "      <th>atomicweight_Average</th>\n",
       "      <th>ionenergy_Average</th>\n",
       "      <th>el_neg_chi_Average</th>\n",
       "      <th>R_vdw_element_Average</th>\n",
       "      <th>R_cov_element_Average</th>\n",
       "      <th>zaratio_Average</th>\n",
       "      <th>density_Average</th>\n",
       "    </tr>\n",
       "  </thead>\n",
       "  <tbody>\n",
       "    <tr>\n",
       "      <th>count</th>\n",
       "      <td>10407.00000</td>\n",
       "      <td>10407.000000</td>\n",
       "      <td>10407.000000</td>\n",
       "      <td>10407.000000</td>\n",
       "      <td>10407.000000</td>\n",
       "      <td>10407.000000</td>\n",
       "      <td>10407.000000</td>\n",
       "      <td>10407.000000</td>\n",
       "      <td>10407.000000</td>\n",
       "      <td>10407.000000</td>\n",
       "      <td>10407.000000</td>\n",
       "      <td>10407.000000</td>\n",
       "    </tr>\n",
       "    <tr>\n",
       "      <th>mean</th>\n",
       "      <td>5203.00000</td>\n",
       "      <td>0.008370</td>\n",
       "      <td>0.022534</td>\n",
       "      <td>0.254227</td>\n",
       "      <td>0.757798</td>\n",
       "      <td>0.224060</td>\n",
       "      <td>0.717463</td>\n",
       "      <td>0.757381</td>\n",
       "      <td>0.769480</td>\n",
       "      <td>0.584298</td>\n",
       "      <td>0.597282</td>\n",
       "      <td>0.194438</td>\n",
       "    </tr>\n",
       "    <tr>\n",
       "      <th>std</th>\n",
       "      <td>3004.38646</td>\n",
       "      <td>0.014649</td>\n",
       "      <td>0.024838</td>\n",
       "      <td>0.156250</td>\n",
       "      <td>0.115144</td>\n",
       "      <td>0.155390</td>\n",
       "      <td>0.092371</td>\n",
       "      <td>0.097272</td>\n",
       "      <td>0.085547</td>\n",
       "      <td>0.111407</td>\n",
       "      <td>0.076369</td>\n",
       "      <td>0.176541</td>\n",
       "    </tr>\n",
       "    <tr>\n",
       "      <th>min</th>\n",
       "      <td>0.00000</td>\n",
       "      <td>0.000000</td>\n",
       "      <td>0.000000</td>\n",
       "      <td>0.000000</td>\n",
       "      <td>0.000000</td>\n",
       "      <td>0.000000</td>\n",
       "      <td>0.000000</td>\n",
       "      <td>0.000000</td>\n",
       "      <td>0.000000</td>\n",
       "      <td>0.000000</td>\n",
       "      <td>0.000000</td>\n",
       "      <td>0.000000</td>\n",
       "    </tr>\n",
       "    <tr>\n",
       "      <th>25%</th>\n",
       "      <td>2601.50000</td>\n",
       "      <td>0.004444</td>\n",
       "      <td>0.011753</td>\n",
       "      <td>0.149254</td>\n",
       "      <td>0.666667</td>\n",
       "      <td>0.121260</td>\n",
       "      <td>0.694660</td>\n",
       "      <td>0.734824</td>\n",
       "      <td>0.743333</td>\n",
       "      <td>0.534706</td>\n",
       "      <td>0.576515</td>\n",
       "      <td>0.074275</td>\n",
       "    </tr>\n",
       "    <tr>\n",
       "      <th>50%</th>\n",
       "      <td>5203.00000</td>\n",
       "      <td>0.006536</td>\n",
       "      <td>0.016561</td>\n",
       "      <td>0.188060</td>\n",
       "      <td>0.785714</td>\n",
       "      <td>0.156534</td>\n",
       "      <td>0.734809</td>\n",
       "      <td>0.785942</td>\n",
       "      <td>0.770101</td>\n",
       "      <td>0.566613</td>\n",
       "      <td>0.591472</td>\n",
       "      <td>0.123204</td>\n",
       "    </tr>\n",
       "    <tr>\n",
       "      <th>75%</th>\n",
       "      <td>7804.50000</td>\n",
       "      <td>0.008562</td>\n",
       "      <td>0.025932</td>\n",
       "      <td>0.328358</td>\n",
       "      <td>0.800000</td>\n",
       "      <td>0.291036</td>\n",
       "      <td>0.765504</td>\n",
       "      <td>0.814696</td>\n",
       "      <td>0.800000</td>\n",
       "      <td>0.607527</td>\n",
       "      <td>0.600576</td>\n",
       "      <td>0.249913</td>\n",
       "    </tr>\n",
       "    <tr>\n",
       "      <th>max</th>\n",
       "      <td>10406.00000</td>\n",
       "      <td>1.000000</td>\n",
       "      <td>1.000000</td>\n",
       "      <td>1.000000</td>\n",
       "      <td>1.000000</td>\n",
       "      <td>1.000000</td>\n",
       "      <td>1.000000</td>\n",
       "      <td>1.000000</td>\n",
       "      <td>1.000000</td>\n",
       "      <td>1.000000</td>\n",
       "      <td>1.000000</td>\n",
       "      <td>1.000000</td>\n",
       "    </tr>\n",
       "  </tbody>\n",
       "</table>\n",
       "</div>"
      ],
      "text/plain": [
       "                id  allelectrons_Total  density_Total  allelectrons_Average  \\\n",
       "count  10407.00000        10407.000000   10407.000000          10407.000000   \n",
       "mean    5203.00000            0.008370       0.022534              0.254227   \n",
       "std     3004.38646            0.014649       0.024838              0.156250   \n",
       "min        0.00000            0.000000       0.000000              0.000000   \n",
       "25%     2601.50000            0.004444       0.011753              0.149254   \n",
       "50%     5203.00000            0.006536       0.016561              0.188060   \n",
       "75%     7804.50000            0.008562       0.025932              0.328358   \n",
       "max    10406.00000            1.000000       1.000000              1.000000   \n",
       "\n",
       "       val_e_Average  atomicweight_Average  ionenergy_Average  \\\n",
       "count   10407.000000          10407.000000       10407.000000   \n",
       "mean        0.757798              0.224060           0.717463   \n",
       "std         0.115144              0.155390           0.092371   \n",
       "min         0.000000              0.000000           0.000000   \n",
       "25%         0.666667              0.121260           0.694660   \n",
       "50%         0.785714              0.156534           0.734809   \n",
       "75%         0.800000              0.291036           0.765504   \n",
       "max         1.000000              1.000000           1.000000   \n",
       "\n",
       "       el_neg_chi_Average  R_vdw_element_Average  R_cov_element_Average  \\\n",
       "count        10407.000000           10407.000000           10407.000000   \n",
       "mean             0.757381               0.769480               0.584298   \n",
       "std              0.097272               0.085547               0.111407   \n",
       "min              0.000000               0.000000               0.000000   \n",
       "25%              0.734824               0.743333               0.534706   \n",
       "50%              0.785942               0.770101               0.566613   \n",
       "75%              0.814696               0.800000               0.607527   \n",
       "max              1.000000               1.000000               1.000000   \n",
       "\n",
       "       zaratio_Average  density_Average  \n",
       "count     10407.000000     10407.000000  \n",
       "mean          0.597282         0.194438  \n",
       "std           0.076369         0.176541  \n",
       "min           0.000000         0.000000  \n",
       "25%           0.576515         0.074275  \n",
       "50%           0.591472         0.123204  \n",
       "75%           0.600576         0.249913  \n",
       "max           1.000000         1.000000  "
      ]
     },
     "execution_count": 11,
     "metadata": {},
     "output_type": "execute_result"
    }
   ],
   "source": [
    "x.describe()"
   ]
  },
  {
   "cell_type": "markdown",
   "id": "9a7e899b",
   "metadata": {
    "papermill": {
     "duration": 0.010127,
     "end_time": "2023-11-30T23:40:47.910790",
     "exception": false,
     "start_time": "2023-11-30T23:40:47.900663",
     "status": "completed"
    },
    "tags": []
   },
   "source": [
    "### Create Recurrent model"
   ]
  },
  {
   "cell_type": "code",
   "execution_count": 12,
   "id": "27bb2a7c",
   "metadata": {
    "execution": {
     "iopub.execute_input": "2023-11-30T23:40:47.932889Z",
     "iopub.status.busy": "2023-11-30T23:40:47.932118Z",
     "iopub.status.idle": "2023-11-30T23:40:47.936727Z",
     "shell.execute_reply": "2023-11-30T23:40:47.935894Z"
    },
    "papermill": {
     "duration": 0.017459,
     "end_time": "2023-11-30T23:40:47.938640",
     "exception": false,
     "start_time": "2023-11-30T23:40:47.921181",
     "status": "completed"
    },
    "tags": []
   },
   "outputs": [
    {
     "name": "stdout",
     "output_type": "stream",
     "text": [
      "(10407, 12)\n"
     ]
    }
   ],
   "source": [
    "input_shape = x.shape\n",
    "print(input_shape)"
   ]
  },
  {
   "cell_type": "markdown",
   "id": "d970dedf",
   "metadata": {
    "papermill": {
     "duration": 0.009773,
     "end_time": "2023-11-30T23:40:47.958441",
     "exception": false,
     "start_time": "2023-11-30T23:40:47.948668",
     "status": "completed"
    },
    "tags": []
   },
   "source": [
    "try with for loop"
   ]
  },
  {
   "cell_type": "code",
   "execution_count": 13,
   "id": "e4595179",
   "metadata": {
    "execution": {
     "iopub.execute_input": "2023-11-30T23:40:47.980532Z",
     "iopub.status.busy": "2023-11-30T23:40:47.979973Z",
     "iopub.status.idle": "2023-11-30T23:40:47.984191Z",
     "shell.execute_reply": "2023-11-30T23:40:47.983304Z"
    },
    "papermill": {
     "duration": 0.017191,
     "end_time": "2023-11-30T23:40:47.986080",
     "exception": false,
     "start_time": "2023-11-30T23:40:47.968889",
     "status": "completed"
    },
    "tags": []
   },
   "outputs": [],
   "source": [
    "# timesteps = 12\n",
    "# features = 1  # 1D data\n",
    "\n",
    "# def get_RNN_network():\n",
    "#     input_shape = x.shape[1]\n",
    "#     #input_layer = layers.Input(input_shape)\n",
    "    \n",
    "#     LSTM_1 = layers.LSTM(units=64, input_shape=(input_shape, features))\n",
    "    \n",
    "#     output_layer = layers.Dense(units=1)(LSTM_1)\n",
    "    \n",
    "#     return tf.keras.Model(inputs=LSTM_1, outputs=LSTM_1)\n",
    "\n",
    "# DNN_model = get_RNN_network()\n",
    "\n",
    "# loss_function = tf.keras.losses.MeanAbsoluteError()\n",
    "# optimiser = tf.keras.optimizers.Adam(learning_rate=0.0001) # changed lr from 0.001\n",
    "# DNN_model.compile(loss = loss_function, optimizer=optimiser, metrics=['mae'])"
   ]
  },
  {
   "cell_type": "markdown",
   "id": "e364423f",
   "metadata": {
    "papermill": {
     "duration": 0.009966,
     "end_time": "2023-11-30T23:40:48.006281",
     "exception": false,
     "start_time": "2023-11-30T23:40:47.996315",
     "status": "completed"
    },
    "tags": []
   },
   "source": [
    "try with sequential model"
   ]
  },
  {
   "cell_type": "code",
   "execution_count": 14,
   "id": "8665e0ab",
   "metadata": {
    "execution": {
     "iopub.execute_input": "2023-11-30T23:40:48.027922Z",
     "iopub.status.busy": "2023-11-30T23:40:48.027360Z",
     "iopub.status.idle": "2023-11-30T23:40:52.829589Z",
     "shell.execute_reply": "2023-11-30T23:40:52.828591Z"
    },
    "papermill": {
     "duration": 4.815496,
     "end_time": "2023-11-30T23:40:52.832013",
     "exception": false,
     "start_time": "2023-11-30T23:40:48.016517",
     "status": "completed"
    },
    "tags": []
   },
   "outputs": [],
   "source": [
    "features = 1 # 1D data\n",
    "input_shape = x.shape[1]\n",
    "\n",
    "model = tf.keras.models.Sequential([\n",
    "    layers.LSTM(units=64, input_shape=(input_shape, features), return_sequences=True),\n",
    "    layers.LSTM(units=64),\n",
    "    layers.Dense(units=1)\n",
    "])\n",
    "\n",
    "loss_function = tf.keras.losses.MeanAbsoluteError()\n",
    "optimiser = tf.keras.optimizers.Adam(learning_rate=0.0001) # changed lr from 0.001\n",
    "model.compile(loss = loss_function, optimizer=optimiser, metrics=['mae'])"
   ]
  },
  {
   "cell_type": "code",
   "execution_count": 15,
   "id": "1edc05e1",
   "metadata": {
    "execution": {
     "iopub.execute_input": "2023-11-30T23:40:52.856305Z",
     "iopub.status.busy": "2023-11-30T23:40:52.855992Z",
     "iopub.status.idle": "2023-11-30T23:40:52.876164Z",
     "shell.execute_reply": "2023-11-30T23:40:52.875234Z"
    },
    "papermill": {
     "duration": 0.036097,
     "end_time": "2023-11-30T23:40:52.879426",
     "exception": false,
     "start_time": "2023-11-30T23:40:52.843329",
     "status": "completed"
    },
    "tags": []
   },
   "outputs": [
    {
     "name": "stdout",
     "output_type": "stream",
     "text": [
      "Model: \"sequential\"\n",
      "_________________________________________________________________\n",
      " Layer (type)                Output Shape              Param #   \n",
      "=================================================================\n",
      " lstm (LSTM)                 (None, 12, 64)            16896     \n",
      "                                                                 \n",
      " lstm_1 (LSTM)               (None, 64)                33024     \n",
      "                                                                 \n",
      " dense (Dense)               (None, 1)                 65        \n",
      "                                                                 \n",
      "=================================================================\n",
      "Total params: 49985 (195.25 KB)\n",
      "Trainable params: 49985 (195.25 KB)\n",
      "Non-trainable params: 0 (0.00 Byte)\n",
      "_________________________________________________________________\n"
     ]
    }
   ],
   "source": [
    "model.summary()"
   ]
  },
  {
   "cell_type": "code",
   "execution_count": 16,
   "id": "52c82765",
   "metadata": {
    "execution": {
     "iopub.execute_input": "2023-11-30T23:40:52.904547Z",
     "iopub.status.busy": "2023-11-30T23:40:52.904297Z",
     "iopub.status.idle": "2023-11-30T23:40:53.152821Z",
     "shell.execute_reply": "2023-11-30T23:40:53.151930Z"
    },
    "papermill": {
     "duration": 0.263629,
     "end_time": "2023-11-30T23:40:53.155022",
     "exception": false,
     "start_time": "2023-11-30T23:40:52.891393",
     "status": "completed"
    },
    "tags": []
   },
   "outputs": [
    {
     "data": {
      "image/png": "[encoded data removed]",
      "text/plain": [
       "<IPython.core.display.Image object>"
      ]
     },
     "execution_count": 16,
     "metadata": {},
     "output_type": "execute_result"
    }
   ],
   "source": [
    "tf.keras.utils.plot_model(model, show_shapes=True)"
   ]
  },
  {
   "cell_type": "markdown",
   "id": "be8d600e",
   "metadata": {
    "papermill": {
     "duration": 0.012185,
     "end_time": "2023-11-30T23:40:53.179429",
     "exception": false,
     "start_time": "2023-11-30T23:40:53.167244",
     "status": "completed"
    },
    "tags": []
   },
   "source": [
    "### Test dataset"
   ]
  },
  {
   "cell_type": "code",
   "execution_count": 17,
   "id": "3843a6cd",
   "metadata": {
    "execution": {
     "iopub.execute_input": "2023-11-30T23:40:53.247915Z",
     "iopub.status.busy": "2023-11-30T23:40:53.247555Z",
     "iopub.status.idle": "2023-11-30T23:43:18.750767Z",
     "shell.execute_reply": "2023-11-30T23:43:18.749723Z"
    },
    "papermill": {
     "duration": 145.671697,
     "end_time": "2023-11-30T23:43:18.905603",
     "exception": false,
     "start_time": "2023-11-30T23:40:53.233906",
     "status": "completed"
    },
    "tags": []
   },
   "outputs": [
    {
     "name": "stdout",
     "output_type": "stream",
     "text": [
      "Epoch 1/50\n",
      "326/326 [==============================] - 10s 5ms/step - loss: 0.1605 - mae: 0.1605\n",
      "Epoch 2/50\n",
      "326/326 [==============================] - 2s 5ms/step - loss: 0.1453 - mae: 0.1453\n",
      "Epoch 3/50\n",
      "326/326 [==============================] - 2s 5ms/step - loss: 0.1442 - mae: 0.1442\n",
      "Epoch 4/50\n",
      "326/326 [==============================] - 2s 5ms/step - loss: 0.1432 - mae: 0.1432\n",
      "Epoch 5/50\n",
      "326/326 [==============================] - 2s 5ms/step - loss: 0.1410 - mae: 0.1410\n",
      "Epoch 6/50\n",
      "326/326 [==============================] - 2s 5ms/step - loss: 0.1376 - mae: 0.1376\n",
      "Epoch 7/50\n",
      "326/326 [==============================] - 2s 5ms/step - loss: 0.1342 - mae: 0.1342\n",
      "Epoch 8/50\n",
      "326/326 [==============================] - 2s 5ms/step - loss: 0.1319 - mae: 0.1319\n",
      "Epoch 9/50\n",
      "326/326 [==============================] - 2s 5ms/step - loss: 0.1305 - mae: 0.1305\n",
      "Epoch 10/50\n",
      "326/326 [==============================] - 2s 5ms/step - loss: 0.1299 - mae: 0.1299\n",
      "Epoch 11/50\n",
      "326/326 [==============================] - 2s 5ms/step - loss: 0.1286 - mae: 0.1286\n",
      "Epoch 12/50\n",
      "326/326 [==============================] - 2s 5ms/step - loss: 0.1284 - mae: 0.1284\n",
      "Epoch 13/50\n",
      "326/326 [==============================] - 2s 5ms/step - loss: 0.1270 - mae: 0.1270\n",
      "Epoch 14/50\n",
      "326/326 [==============================] - 2s 6ms/step - loss: 0.1267 - mae: 0.1267\n",
      "Epoch 15/50\n",
      "326/326 [==============================] - 2s 5ms/step - loss: 0.1252 - mae: 0.1252\n",
      "Epoch 16/50\n",
      "326/326 [==============================] - 2s 5ms/step - loss: 0.1247 - mae: 0.1247\n",
      "Epoch 17/50\n",
      "326/326 [==============================] - 2s 5ms/step - loss: 0.1230 - mae: 0.1230\n",
      "Epoch 18/50\n",
      "326/326 [==============================] - 2s 5ms/step - loss: 0.1219 - mae: 0.1219\n",
      "Epoch 19/50\n",
      "326/326 [==============================] - 2s 5ms/step - loss: 0.1210 - mae: 0.1210\n",
      "Epoch 20/50\n",
      "326/326 [==============================] - 2s 5ms/step - loss: 0.1193 - mae: 0.1193\n",
      "Epoch 21/50\n",
      "326/326 [==============================] - 2s 5ms/step - loss: 0.1175 - mae: 0.1175\n",
      "Epoch 22/50\n",
      "326/326 [==============================] - 2s 5ms/step - loss: 0.1176 - mae: 0.1176\n",
      "Epoch 23/50\n",
      "326/326 [==============================] - 2s 5ms/step - loss: 0.1158 - mae: 0.1158\n",
      "Epoch 24/50\n",
      "326/326 [==============================] - 2s 5ms/step - loss: 0.1155 - mae: 0.1155\n",
      "Epoch 25/50\n",
      "326/326 [==============================] - 2s 5ms/step - loss: 0.1149 - mae: 0.1149\n",
      "Epoch 26/50\n",
      "326/326 [==============================] - 2s 5ms/step - loss: 0.1152 - mae: 0.1152\n",
      "Epoch 27/50\n",
      "326/326 [==============================] - 2s 5ms/step - loss: 0.1159 - mae: 0.1159\n",
      "Epoch 28/50\n",
      "326/326 [==============================] - 2s 5ms/step - loss: 0.1146 - mae: 0.1146\n",
      "Epoch 29/50\n",
      "326/326 [==============================] - 2s 6ms/step - loss: 0.1138 - mae: 0.1138\n",
      "Epoch 30/50\n",
      "326/326 [==============================] - 2s 5ms/step - loss: 0.1135 - mae: 0.1135\n",
      "Epoch 31/50\n",
      "326/326 [==============================] - 2s 5ms/step - loss: 0.1143 - mae: 0.1143\n",
      "Epoch 32/50\n",
      "326/326 [==============================] - 2s 6ms/step - loss: 0.1142 - mae: 0.1142\n",
      "Epoch 33/50\n",
      "326/326 [==============================] - 2s 5ms/step - loss: 0.1131 - mae: 0.1131\n",
      "Epoch 34/50\n",
      "326/326 [==============================] - 2s 5ms/step - loss: 0.1132 - mae: 0.1132\n",
      "Epoch 35/50\n",
      "326/326 [==============================] - 2s 5ms/step - loss: 0.1131 - mae: 0.1131\n",
      "Epoch 36/50\n",
      "326/326 [==============================] - 2s 5ms/step - loss: 0.1125 - mae: 0.1125\n",
      "Epoch 37/50\n",
      "326/326 [==============================] - 2s 5ms/step - loss: 0.1133 - mae: 0.1133\n",
      "Epoch 38/50\n",
      "326/326 [==============================] - 2s 5ms/step - loss: 0.1127 - mae: 0.1127\n",
      "Epoch 39/50\n",
      "326/326 [==============================] - 2s 5ms/step - loss: 0.1123 - mae: 0.1123\n",
      "Epoch 40/50\n",
      "326/326 [==============================] - 2s 5ms/step - loss: 0.1123 - mae: 0.1123\n",
      "Epoch 41/50\n",
      "326/326 [==============================] - 2s 5ms/step - loss: 0.1127 - mae: 0.1127\n",
      "Epoch 42/50\n",
      "326/326 [==============================] - 2s 5ms/step - loss: 0.1127 - mae: 0.1127\n",
      "Epoch 43/50\n",
      "326/326 [==============================] - 2s 5ms/step - loss: 0.1125 - mae: 0.1125\n",
      "Epoch 44/50\n",
      "326/326 [==============================] - 2s 5ms/step - loss: 0.1115 - mae: 0.1115\n",
      "Epoch 45/50\n",
      "326/326 [==============================] - 2s 5ms/step - loss: 0.1113 - mae: 0.1113\n",
      "Epoch 46/50\n",
      "326/326 [==============================] - 2s 5ms/step - loss: 0.1114 - mae: 0.1114\n",
      "Epoch 47/50\n",
      "326/326 [==============================] - 2s 5ms/step - loss: 0.1113 - mae: 0.1113\n",
      "Epoch 48/50\n",
      "326/326 [==============================] - 2s 5ms/step - loss: 0.1120 - mae: 0.1120\n",
      "Epoch 49/50\n",
      "326/326 [==============================] - 2s 5ms/step - loss: 0.1117 - mae: 0.1117\n",
      "Epoch 50/50\n",
      "326/326 [==============================] - 2s 5ms/step - loss: 0.1109 - mae: 0.1109\n"
     ]
    },
    {
     "data": {
      "text/plain": [
       "<keras.src.callbacks.History at 0x79d7a8717910>"
      ]
     },
     "execution_count": 17,
     "metadata": {},
     "output_type": "execute_result"
    }
   ],
   "source": [
    "model.fit(x, y, epochs=50, batch_size=32)"
   ]
  },
  {
   "cell_type": "markdown",
   "id": "510e936f",
   "metadata": {
    "papermill": {
     "duration": 0.151621,
     "end_time": "2023-11-30T23:43:19.204809",
     "exception": false,
     "start_time": "2023-11-30T23:43:19.053188",
     "status": "completed"
    },
    "tags": []
   },
   "source": [
    "### Test submission"
   ]
  },
  {
   "cell_type": "code",
   "execution_count": 18,
   "id": "2687ec9a",
   "metadata": {
    "execution": {
     "iopub.execute_input": "2023-11-30T23:43:19.516091Z",
     "iopub.status.busy": "2023-11-30T23:43:19.515240Z",
     "iopub.status.idle": "2023-11-30T23:43:19.546168Z",
     "shell.execute_reply": "2023-11-30T23:43:19.545401Z"
    },
    "papermill": {
     "duration": 0.191973,
     "end_time": "2023-11-30T23:43:19.548153",
     "exception": false,
     "start_time": "2023-11-30T23:43:19.356180",
     "status": "completed"
    },
    "tags": []
   },
   "outputs": [],
   "source": [
    "test_dataset = pd.read_csv(\"/kaggle/input/playground-series-s3e25/test.csv\")"
   ]
  },
  {
   "cell_type": "code",
   "execution_count": 19,
   "id": "76953ebd",
   "metadata": {
    "execution": {
     "iopub.execute_input": "2023-11-30T23:43:19.855496Z",
     "iopub.status.busy": "2023-11-30T23:43:19.854854Z",
     "iopub.status.idle": "2023-11-30T23:43:19.876102Z",
     "shell.execute_reply": "2023-11-30T23:43:19.875120Z"
    },
    "papermill": {
     "duration": 0.17731,
     "end_time": "2023-11-30T23:43:19.878317",
     "exception": false,
     "start_time": "2023-11-30T23:43:19.701007",
     "status": "completed"
    },
    "tags": []
   },
   "outputs": [],
   "source": [
    "for column in test_dataset:\n",
    "    if column != 'id':\n",
    "        test_dataset[column] = test_dataset[column] / max(test_dataset[column])"
   ]
  },
  {
   "cell_type": "code",
   "execution_count": 20,
   "id": "aaeeeddd",
   "metadata": {
    "execution": {
     "iopub.execute_input": "2023-11-30T23:43:20.196617Z",
     "iopub.status.busy": "2023-11-30T23:43:20.196266Z",
     "iopub.status.idle": "2023-11-30T23:43:20.213638Z",
     "shell.execute_reply": "2023-11-30T23:43:20.212721Z"
    },
    "papermill": {
     "duration": 0.177066,
     "end_time": "2023-11-30T23:43:20.215674",
     "exception": false,
     "start_time": "2023-11-30T23:43:20.038608",
     "status": "completed"
    },
    "tags": []
   },
   "outputs": [
    {
     "data": {
      "text/html": [
       "<div>\n",
       "<style scoped>\n",
       "    .dataframe tbody tr th:only-of-type {\n",
       "        vertical-align: middle;\n",
       "    }\n",
       "\n",
       "    .dataframe tbody tr th {\n",
       "        vertical-align: top;\n",
       "    }\n",
       "\n",
       "    .dataframe thead th {\n",
       "        text-align: right;\n",
       "    }\n",
       "</style>\n",
       "<table border=\"1\" class=\"dataframe\">\n",
       "  <thead>\n",
       "    <tr style=\"text-align: right;\">\n",
       "      <th></th>\n",
       "      <th>id</th>\n",
       "      <th>allelectrons_Total</th>\n",
       "      <th>density_Total</th>\n",
       "      <th>allelectrons_Average</th>\n",
       "      <th>val_e_Average</th>\n",
       "      <th>atomicweight_Average</th>\n",
       "      <th>ionenergy_Average</th>\n",
       "      <th>el_neg_chi_Average</th>\n",
       "      <th>R_vdw_element_Average</th>\n",
       "      <th>R_cov_element_Average</th>\n",
       "      <th>zaratio_Average</th>\n",
       "      <th>density_Average</th>\n",
       "    </tr>\n",
       "  </thead>\n",
       "  <tbody>\n",
       "    <tr>\n",
       "      <th>0</th>\n",
       "      <td>10407</td>\n",
       "      <td>0.087386</td>\n",
       "      <td>0.188806</td>\n",
       "      <td>0.527761</td>\n",
       "      <td>0.880000</td>\n",
       "      <td>0.493197</td>\n",
       "      <td>0.614620</td>\n",
       "      <td>0.667441</td>\n",
       "      <td>0.847644</td>\n",
       "      <td>0.742881</td>\n",
       "      <td>0.559207</td>\n",
       "      <td>0.163591</td>\n",
       "    </tr>\n",
       "    <tr>\n",
       "      <th>1</th>\n",
       "      <td>10408</td>\n",
       "      <td>0.008897</td>\n",
       "      <td>0.015444</td>\n",
       "      <td>0.268657</td>\n",
       "      <td>0.933333</td>\n",
       "      <td>0.236368</td>\n",
       "      <td>0.792762</td>\n",
       "      <td>0.832994</td>\n",
       "      <td>0.734222</td>\n",
       "      <td>0.534874</td>\n",
       "      <td>0.576515</td>\n",
       "      <td>0.128709</td>\n",
       "    </tr>\n",
       "    <tr>\n",
       "      <th>2</th>\n",
       "      <td>10409</td>\n",
       "      <td>0.011467</td>\n",
       "      <td>0.012079</td>\n",
       "      <td>0.173134</td>\n",
       "      <td>0.800000</td>\n",
       "      <td>0.138780</td>\n",
       "      <td>0.723073</td>\n",
       "      <td>0.767935</td>\n",
       "      <td>0.797333</td>\n",
       "      <td>0.594305</td>\n",
       "      <td>0.604746</td>\n",
       "      <td>0.071863</td>\n",
       "    </tr>\n",
       "    <tr>\n",
       "      <th>3</th>\n",
       "      <td>10410</td>\n",
       "      <td>0.009885</td>\n",
       "      <td>0.014163</td>\n",
       "      <td>0.149254</td>\n",
       "      <td>0.800000</td>\n",
       "      <td>0.121260</td>\n",
       "      <td>0.792762</td>\n",
       "      <td>0.821377</td>\n",
       "      <td>0.738667</td>\n",
       "      <td>0.490301</td>\n",
       "      <td>0.600244</td>\n",
       "      <td>0.109814</td>\n",
       "    </tr>\n",
       "    <tr>\n",
       "      <th>4</th>\n",
       "      <td>10411</td>\n",
       "      <td>0.005437</td>\n",
       "      <td>0.006267</td>\n",
       "      <td>0.164179</td>\n",
       "      <td>0.666667</td>\n",
       "      <td>0.137262</td>\n",
       "      <td>0.739938</td>\n",
       "      <td>0.713041</td>\n",
       "      <td>0.777778</td>\n",
       "      <td>0.553033</td>\n",
       "      <td>0.576393</td>\n",
       "      <td>0.085192</td>\n",
       "    </tr>\n",
       "  </tbody>\n",
       "</table>\n",
       "</div>"
      ],
      "text/plain": [
       "      id  allelectrons_Total  density_Total  allelectrons_Average  \\\n",
       "0  10407            0.087386       0.188806              0.527761   \n",
       "1  10408            0.008897       0.015444              0.268657   \n",
       "2  10409            0.011467       0.012079              0.173134   \n",
       "3  10410            0.009885       0.014163              0.149254   \n",
       "4  10411            0.005437       0.006267              0.164179   \n",
       "\n",
       "   val_e_Average  atomicweight_Average  ionenergy_Average  el_neg_chi_Average  \\\n",
       "0       0.880000              0.493197           0.614620            0.667441   \n",
       "1       0.933333              0.236368           0.792762            0.832994   \n",
       "2       0.800000              0.138780           0.723073            0.767935   \n",
       "3       0.800000              0.121260           0.792762            0.821377   \n",
       "4       0.666667              0.137262           0.739938            0.713041   \n",
       "\n",
       "   R_vdw_element_Average  R_cov_element_Average  zaratio_Average  \\\n",
       "0               0.847644               0.742881         0.559207   \n",
       "1               0.734222               0.534874         0.576515   \n",
       "2               0.797333               0.594305         0.604746   \n",
       "3               0.738667               0.490301         0.600244   \n",
       "4               0.777778               0.553033         0.576393   \n",
       "\n",
       "   density_Average  \n",
       "0         0.163591  \n",
       "1         0.128709  \n",
       "2         0.071863  \n",
       "3         0.109814  \n",
       "4         0.085192  "
      ]
     },
     "execution_count": 20,
     "metadata": {},
     "output_type": "execute_result"
    }
   ],
   "source": [
    "test_dataset.head()"
   ]
  },
  {
   "cell_type": "code",
   "execution_count": 21,
   "id": "a79f70de",
   "metadata": {
    "execution": {
     "iopub.execute_input": "2023-11-30T23:43:20.532400Z",
     "iopub.status.busy": "2023-11-30T23:43:20.531636Z",
     "iopub.status.idle": "2023-11-30T23:43:21.924604Z",
     "shell.execute_reply": "2023-11-30T23:43:21.923573Z"
    },
    "papermill": {
     "duration": 1.550632,
     "end_time": "2023-11-30T23:43:21.926990",
     "exception": false,
     "start_time": "2023-11-30T23:43:20.376358",
     "status": "completed"
    },
    "tags": []
   },
   "outputs": [
    {
     "name": "stdout",
     "output_type": "stream",
     "text": [
      "217/217 [==============================] - 1s 2ms/step\n"
     ]
    }
   ],
   "source": [
    "predictions = model.predict(test_dataset)"
   ]
  },
  {
   "cell_type": "markdown",
   "id": "c1021ddc",
   "metadata": {
    "papermill": {
     "duration": 0.172335,
     "end_time": "2023-11-30T23:43:22.261786",
     "exception": false,
     "start_time": "2023-11-30T23:43:22.089451",
     "status": "completed"
    },
    "tags": []
   },
   "source": [
    "Model was trained to predict normalised hardness values so need to unnormalise them"
   ]
  },
  {
   "cell_type": "code",
   "execution_count": 22,
   "id": "e531f3ae",
   "metadata": {
    "execution": {
     "iopub.execute_input": "2023-11-30T23:43:22.588859Z",
     "iopub.status.busy": "2023-11-30T23:43:22.587981Z",
     "iopub.status.idle": "2023-11-30T23:43:22.592674Z",
     "shell.execute_reply": "2023-11-30T23:43:22.591806Z"
    },
    "papermill": {
     "duration": 0.164524,
     "end_time": "2023-11-30T23:43:22.594787",
     "exception": false,
     "start_time": "2023-11-30T23:43:22.430263",
     "status": "completed"
    },
    "tags": []
   },
   "outputs": [],
   "source": [
    "predictions = predictions * 10 # 10 is max value of hardness in training dataset"
   ]
  },
  {
   "cell_type": "markdown",
   "id": "3edaa7fa",
   "metadata": {
    "papermill": {
     "duration": 0.151817,
     "end_time": "2023-11-30T23:43:22.896013",
     "exception": false,
     "start_time": "2023-11-30T23:43:22.744196",
     "status": "completed"
    },
    "tags": []
   },
   "source": [
    "Create subbmission flie"
   ]
  },
  {
   "cell_type": "code",
   "execution_count": 23,
   "id": "c97c7b10",
   "metadata": {
    "execution": {
     "iopub.execute_input": "2023-11-30T23:43:23.203879Z",
     "iopub.status.busy": "2023-11-30T23:43:23.203509Z",
     "iopub.status.idle": "2023-11-30T23:43:23.210539Z",
     "shell.execute_reply": "2023-11-30T23:43:23.209703Z"
    },
    "papermill": {
     "duration": 0.166029,
     "end_time": "2023-11-30T23:43:23.212503",
     "exception": false,
     "start_time": "2023-11-30T23:43:23.046474",
     "status": "completed"
    },
    "tags": []
   },
   "outputs": [],
   "source": [
    "submission = pd.DataFrame()\n",
    "submission['id'] = test_dataset['id']\n",
    "submission['Hardness'] = predictions"
   ]
  },
  {
   "cell_type": "code",
   "execution_count": 24,
   "id": "a2ebb480",
   "metadata": {
    "execution": {
     "iopub.execute_input": "2023-11-30T23:43:23.517373Z",
     "iopub.status.busy": "2023-11-30T23:43:23.516488Z",
     "iopub.status.idle": "2023-11-30T23:43:23.525928Z",
     "shell.execute_reply": "2023-11-30T23:43:23.524982Z"
    },
    "papermill": {
     "duration": 0.16516,
     "end_time": "2023-11-30T23:43:23.528045",
     "exception": false,
     "start_time": "2023-11-30T23:43:23.362885",
     "status": "completed"
    },
    "tags": []
   },
   "outputs": [
    {
     "data": {
      "text/html": [
       "<div>\n",
       "<style scoped>\n",
       "    .dataframe tbody tr th:only-of-type {\n",
       "        vertical-align: middle;\n",
       "    }\n",
       "\n",
       "    .dataframe tbody tr th {\n",
       "        vertical-align: top;\n",
       "    }\n",
       "\n",
       "    .dataframe thead th {\n",
       "        text-align: right;\n",
       "    }\n",
       "</style>\n",
       "<table border=\"1\" class=\"dataframe\">\n",
       "  <thead>\n",
       "    <tr style=\"text-align: right;\">\n",
       "      <th></th>\n",
       "      <th>id</th>\n",
       "      <th>Hardness</th>\n",
       "    </tr>\n",
       "  </thead>\n",
       "  <tbody>\n",
       "    <tr>\n",
       "      <th>0</th>\n",
       "      <td>10407</td>\n",
       "      <td>3.081620</td>\n",
       "    </tr>\n",
       "    <tr>\n",
       "      <th>1</th>\n",
       "      <td>10408</td>\n",
       "      <td>5.073717</td>\n",
       "    </tr>\n",
       "    <tr>\n",
       "      <th>2</th>\n",
       "      <td>10409</td>\n",
       "      <td>5.948372</td>\n",
       "    </tr>\n",
       "    <tr>\n",
       "      <th>3</th>\n",
       "      <td>10410</td>\n",
       "      <td>6.040453</td>\n",
       "    </tr>\n",
       "    <tr>\n",
       "      <th>4</th>\n",
       "      <td>10411</td>\n",
       "      <td>5.130586</td>\n",
       "    </tr>\n",
       "  </tbody>\n",
       "</table>\n",
       "</div>"
      ],
      "text/plain": [
       "      id  Hardness\n",
       "0  10407  3.081620\n",
       "1  10408  5.073717\n",
       "2  10409  5.948372\n",
       "3  10410  6.040453\n",
       "4  10411  5.130586"
      ]
     },
     "execution_count": 24,
     "metadata": {},
     "output_type": "execute_result"
    }
   ],
   "source": [
    "submission.head()"
   ]
  },
  {
   "cell_type": "code",
   "execution_count": 25,
   "id": "b6009e4b",
   "metadata": {
    "execution": {
     "iopub.execute_input": "2023-11-30T23:43:23.831877Z",
     "iopub.status.busy": "2023-11-30T23:43:23.831183Z",
     "iopub.status.idle": "2023-11-30T23:43:23.846312Z",
     "shell.execute_reply": "2023-11-30T23:43:23.845467Z"
    },
    "papermill": {
     "duration": 0.168373,
     "end_time": "2023-11-30T23:43:23.848151",
     "exception": false,
     "start_time": "2023-11-30T23:43:23.679778",
     "status": "completed"
    },
    "tags": []
   },
   "outputs": [
    {
     "data": {
      "text/html": [
       "<div>\n",
       "<style scoped>\n",
       "    .dataframe tbody tr th:only-of-type {\n",
       "        vertical-align: middle;\n",
       "    }\n",
       "\n",
       "    .dataframe tbody tr th {\n",
       "        vertical-align: top;\n",
       "    }\n",
       "\n",
       "    .dataframe thead th {\n",
       "        text-align: right;\n",
       "    }\n",
       "</style>\n",
       "<table border=\"1\" class=\"dataframe\">\n",
       "  <thead>\n",
       "    <tr style=\"text-align: right;\">\n",
       "      <th></th>\n",
       "      <th>id</th>\n",
       "      <th>Hardness</th>\n",
       "    </tr>\n",
       "  </thead>\n",
       "  <tbody>\n",
       "    <tr>\n",
       "      <th>count</th>\n",
       "      <td>6939.000000</td>\n",
       "      <td>6939.000000</td>\n",
       "    </tr>\n",
       "    <tr>\n",
       "      <th>mean</th>\n",
       "      <td>13876.000000</td>\n",
       "      <td>5.021471</td>\n",
       "    </tr>\n",
       "    <tr>\n",
       "      <th>std</th>\n",
       "      <td>2003.261091</td>\n",
       "      <td>1.146954</td>\n",
       "    </tr>\n",
       "    <tr>\n",
       "      <th>min</th>\n",
       "      <td>10407.000000</td>\n",
       "      <td>1.424020</td>\n",
       "    </tr>\n",
       "    <tr>\n",
       "      <th>25%</th>\n",
       "      <td>12141.500000</td>\n",
       "      <td>4.198917</td>\n",
       "    </tr>\n",
       "    <tr>\n",
       "      <th>50%</th>\n",
       "      <td>13876.000000</td>\n",
       "      <td>5.572522</td>\n",
       "    </tr>\n",
       "    <tr>\n",
       "      <th>75%</th>\n",
       "      <td>15610.500000</td>\n",
       "      <td>5.916512</td>\n",
       "    </tr>\n",
       "    <tr>\n",
       "      <th>max</th>\n",
       "      <td>17345.000000</td>\n",
       "      <td>6.559308</td>\n",
       "    </tr>\n",
       "  </tbody>\n",
       "</table>\n",
       "</div>"
      ],
      "text/plain": [
       "                 id     Hardness\n",
       "count   6939.000000  6939.000000\n",
       "mean   13876.000000     5.021471\n",
       "std     2003.261091     1.146954\n",
       "min    10407.000000     1.424020\n",
       "25%    12141.500000     4.198917\n",
       "50%    13876.000000     5.572522\n",
       "75%    15610.500000     5.916512\n",
       "max    17345.000000     6.559308"
      ]
     },
     "execution_count": 25,
     "metadata": {},
     "output_type": "execute_result"
    }
   ],
   "source": [
    "submission.describe()"
   ]
  },
  {
   "cell_type": "code",
   "execution_count": 26,
   "id": "4a7662ff",
   "metadata": {
    "execution": {
     "iopub.execute_input": "2023-11-30T23:43:24.207508Z",
     "iopub.status.busy": "2023-11-30T23:43:24.207043Z",
     "iopub.status.idle": "2023-11-30T23:43:24.234570Z",
     "shell.execute_reply": "2023-11-30T23:43:24.233679Z"
    },
    "papermill": {
     "duration": 0.236615,
     "end_time": "2023-11-30T23:43:24.236589",
     "exception": false,
     "start_time": "2023-11-30T23:43:23.999974",
     "status": "completed"
    },
    "tags": []
   },
   "outputs": [],
   "source": [
    "submission.to_csv('/kaggle/working/submission.csv',index=False,header=True)"
   ]
  }
 ],
 "metadata": {
  "kaggle": {
   "accelerator": "nvidiaTeslaT4",
   "dataSources": [
    {
     "databundleVersionId": 6989718,
     "sourceId": 60892,
     "sourceType": "competition"
    }
   ],
   "dockerImageVersionId": 30588,
   "isGpuEnabled": true,
   "isInternetEnabled": true,
   "language": "python",
   "sourceType": "notebook"
  },
  "kernelspec": {
   "display_name": "Python 3",
   "language": "python",
   "name": "python3"
  },
  "language_info": {
   "codemirror_mode": {
    "name": "ipython",
    "version": 3
   },
   "file_extension": ".py",
   "mimetype": "text/x-python",
   "name": "python",
   "nbconvert_exporter": "python",
   "pygments_lexer": "ipython3",
   "version": "3.10.12"
  },
  "papermill": {
   "default_parameters": {},
   "duration": 177.798387,
   "end_time": "2023-11-30T23:43:27.947280",
   "environment_variables": {},
   "exception": null,
   "input_path": "__notebook__.ipynb",
   "output_path": "__notebook__.ipynb",
   "parameters": {},
   "start_time": "2023-11-30T23:40:30.148893",
   "version": "2.4.0"
  }
 },
 "nbformat": 4,
 "nbformat_minor": 5
}
