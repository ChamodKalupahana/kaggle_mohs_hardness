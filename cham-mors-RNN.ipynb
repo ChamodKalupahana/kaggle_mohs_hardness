{
 "cells": [
  {
   "cell_type": "code",
   "execution_count": 1,
   "id": "f1fca5bc",
   "metadata": {
    "_cell_guid": "b1076dfc-b9ad-4769-8c92-a6c4dae69d19",
    "_uuid": "8f2839f25d086af736a60e9eeb907d3b93b6e0e5",
    "execution": {
     "iopub.execute_input": "2023-12-03T21:23:06.347889Z",
     "iopub.status.busy": "2023-12-03T21:23:06.347005Z",
     "iopub.status.idle": "2023-12-03T21:23:19.858573Z",
     "shell.execute_reply": "2023-12-03T21:23:19.857412Z"
    },
    "papermill": {
     "duration": 13.524958,
     "end_time": "2023-12-03T21:23:19.860817",
     "exception": false,
     "start_time": "2023-12-03T21:23:06.335859",
     "status": "completed"
    },
    "tags": []
   },
   "outputs": [
    {
     "name": "stderr",
     "output_type": "stream",
     "text": [
      "/opt/conda/lib/python3.10/site-packages/scipy/__init__.py:146: UserWarning: A NumPy version >=1.16.5 and <1.23.0 is required for this version of SciPy (detected version 1.24.3\n",
      "  warnings.warn(f\"A NumPy version >={np_minversion} and <{np_maxversion}\"\n"
     ]
    },
    {
     "name": "stdout",
     "output_type": "stream",
     "text": [
      "/kaggle/input/playground-series-s3e25/sample_submission.csv\n",
      "/kaggle/input/playground-series-s3e25/train.csv\n",
      "/kaggle/input/playground-series-s3e25/test.csv\n"
     ]
    }
   ],
   "source": [
    "# This Python 3 environment comes with many helpful analytics libraries installed\n",
    "# It is defined by the kaggle/python Docker image: https://github.com/kaggle/docker-python\n",
    "# For example, here's several helpful packages to load\n",
    "\n",
    "import numpy as np # linear algebra\n",
    "import pandas as pd # data processing, CSV file I/O (e.g. pd.read_csv)\n",
    "import matplotlib.pyplot as plt\n",
    "\n",
    "import tensorflow as tf\n",
    "import tensorflow.keras.layers as layers\n",
    "\n",
    "# Input data files are available in the read-only \"../input/\" directory\n",
    "# For example, running this (by clicking run or pressing Shift+Enter) will list all files under the input directory\n",
    "\n",
    "import os\n",
    "for dirname, _, filenames in os.walk('/kaggle/input'):\n",
    "    for filename in filenames:\n",
    "        print(os.path.join(dirname, filename))\n",
    "\n",
    "# You can write up to 20GB to the current directory (/kaggle/working/) that gets preserved as output when you create a version using \"Save & Run All\" \n",
    "# You can also write temporary files to /kaggle/temp/, but they won't be saved outside of the current session"
   ]
  },
  {
   "cell_type": "code",
   "execution_count": 2,
   "id": "726fc420",
   "metadata": {
    "execution": {
     "iopub.execute_input": "2023-12-03T21:23:19.880953Z",
     "iopub.status.busy": "2023-12-03T21:23:19.879950Z",
     "iopub.status.idle": "2023-12-03T21:23:19.939987Z",
     "shell.execute_reply": "2023-12-03T21:23:19.939115Z"
    },
    "papermill": {
     "duration": 0.071888,
     "end_time": "2023-12-03T21:23:19.942034",
     "exception": false,
     "start_time": "2023-12-03T21:23:19.870146",
     "status": "completed"
    },
    "tags": []
   },
   "outputs": [],
   "source": [
    "filepath = \"/kaggle/input/playground-series-s3e25/train.csv\"\n",
    "\n",
    "dataset = pd.read_csv(filepath)"
   ]
  },
  {
   "cell_type": "code",
   "execution_count": 3,
   "id": "d8970a0d",
   "metadata": {
    "execution": {
     "iopub.execute_input": "2023-12-03T21:23:19.962211Z",
     "iopub.status.busy": "2023-12-03T21:23:19.961613Z",
     "iopub.status.idle": "2023-12-03T21:23:19.991895Z",
     "shell.execute_reply": "2023-12-03T21:23:19.990147Z"
    },
    "papermill": {
     "duration": 0.041945,
     "end_time": "2023-12-03T21:23:19.993855",
     "exception": false,
     "start_time": "2023-12-03T21:23:19.951910",
     "status": "completed"
    },
    "tags": []
   },
   "outputs": [
    {
     "name": "stdout",
     "output_type": "stream",
     "text": [
      "<class 'pandas.core.frame.DataFrame'>\n",
      "RangeIndex: 10407 entries, 0 to 10406\n",
      "Data columns (total 13 columns):\n",
      " #   Column                 Non-Null Count  Dtype  \n",
      "---  ------                 --------------  -----  \n",
      " 0   id                     10407 non-null  int64  \n",
      " 1   allelectrons_Total     10407 non-null  float64\n",
      " 2   density_Total          10407 non-null  float64\n",
      " 3   allelectrons_Average   10407 non-null  float64\n",
      " 4   val_e_Average          10407 non-null  float64\n",
      " 5   atomicweight_Average   10407 non-null  float64\n",
      " 6   ionenergy_Average      10407 non-null  float64\n",
      " 7   el_neg_chi_Average     10407 non-null  float64\n",
      " 8   R_vdw_element_Average  10407 non-null  float64\n",
      " 9   R_cov_element_Average  10407 non-null  float64\n",
      " 10  zaratio_Average        10407 non-null  float64\n",
      " 11  density_Average        10407 non-null  float64\n",
      " 12  Hardness               10407 non-null  float64\n",
      "dtypes: float64(12), int64(1)\n",
      "memory usage: 1.0 MB\n"
     ]
    }
   ],
   "source": [
    "dataset.info()"
   ]
  },
  {
   "cell_type": "code",
   "execution_count": 4,
   "id": "4517c1f7",
   "metadata": {
    "execution": {
     "iopub.execute_input": "2023-12-03T21:23:20.014022Z",
     "iopub.status.busy": "2023-12-03T21:23:20.013497Z",
     "iopub.status.idle": "2023-12-03T21:23:20.019106Z",
     "shell.execute_reply": "2023-12-03T21:23:20.018235Z"
    },
    "papermill": {
     "duration": 0.018083,
     "end_time": "2023-12-03T21:23:20.021182",
     "exception": false,
     "start_time": "2023-12-03T21:23:20.003099",
     "status": "completed"
    },
    "tags": []
   },
   "outputs": [],
   "source": [
    "y = dataset.pop('Hardness')\n",
    "x = dataset"
   ]
  },
  {
   "cell_type": "markdown",
   "id": "9eac851a",
   "metadata": {
    "papermill": {
     "duration": 0.008636,
     "end_time": "2023-12-03T21:23:20.039833",
     "exception": false,
     "start_time": "2023-12-03T21:23:20.031197",
     "status": "completed"
    },
    "tags": []
   },
   "source": [
    "### Check dataset"
   ]
  },
  {
   "cell_type": "code",
   "execution_count": 5,
   "id": "9474b370",
   "metadata": {
    "execution": {
     "iopub.execute_input": "2023-12-03T21:23:20.059453Z",
     "iopub.status.busy": "2023-12-03T21:23:20.058711Z",
     "iopub.status.idle": "2023-12-03T21:23:20.081929Z",
     "shell.execute_reply": "2023-12-03T21:23:20.080940Z"
    },
    "papermill": {
     "duration": 0.035298,
     "end_time": "2023-12-03T21:23:20.083991",
     "exception": false,
     "start_time": "2023-12-03T21:23:20.048693",
     "status": "completed"
    },
    "tags": []
   },
   "outputs": [
    {
     "data": {
      "text/html": [
       "<div>\n",
       "<style scoped>\n",
       "    .dataframe tbody tr th:only-of-type {\n",
       "        vertical-align: middle;\n",
       "    }\n",
       "\n",
       "    .dataframe tbody tr th {\n",
       "        vertical-align: top;\n",
       "    }\n",
       "\n",
       "    .dataframe thead th {\n",
       "        text-align: right;\n",
       "    }\n",
       "</style>\n",
       "<table border=\"1\" class=\"dataframe\">\n",
       "  <thead>\n",
       "    <tr style=\"text-align: right;\">\n",
       "      <th></th>\n",
       "      <th>id</th>\n",
       "      <th>allelectrons_Total</th>\n",
       "      <th>density_Total</th>\n",
       "      <th>allelectrons_Average</th>\n",
       "      <th>val_e_Average</th>\n",
       "      <th>atomicweight_Average</th>\n",
       "      <th>ionenergy_Average</th>\n",
       "      <th>el_neg_chi_Average</th>\n",
       "      <th>R_vdw_element_Average</th>\n",
       "      <th>R_cov_element_Average</th>\n",
       "      <th>zaratio_Average</th>\n",
       "      <th>density_Average</th>\n",
       "    </tr>\n",
       "  </thead>\n",
       "  <tbody>\n",
       "    <tr>\n",
       "      <th>0</th>\n",
       "      <td>0</td>\n",
       "      <td>100.0</td>\n",
       "      <td>0.841611</td>\n",
       "      <td>10.0</td>\n",
       "      <td>4.8</td>\n",
       "      <td>20.612526</td>\n",
       "      <td>11.08810</td>\n",
       "      <td>2.766</td>\n",
       "      <td>1.732</td>\n",
       "      <td>0.860</td>\n",
       "      <td>0.496070</td>\n",
       "      <td>0.91457</td>\n",
       "    </tr>\n",
       "    <tr>\n",
       "      <th>1</th>\n",
       "      <td>1</td>\n",
       "      <td>100.0</td>\n",
       "      <td>7.558488</td>\n",
       "      <td>10.0</td>\n",
       "      <td>4.8</td>\n",
       "      <td>20.298893</td>\n",
       "      <td>12.04083</td>\n",
       "      <td>2.755</td>\n",
       "      <td>1.631</td>\n",
       "      <td>0.910</td>\n",
       "      <td>0.492719</td>\n",
       "      <td>0.71760</td>\n",
       "    </tr>\n",
       "    <tr>\n",
       "      <th>2</th>\n",
       "      <td>2</td>\n",
       "      <td>76.0</td>\n",
       "      <td>8.885992</td>\n",
       "      <td>15.6</td>\n",
       "      <td>5.6</td>\n",
       "      <td>33.739258</td>\n",
       "      <td>12.08630</td>\n",
       "      <td>2.828</td>\n",
       "      <td>1.788</td>\n",
       "      <td>0.864</td>\n",
       "      <td>0.481478</td>\n",
       "      <td>1.50633</td>\n",
       "    </tr>\n",
       "    <tr>\n",
       "      <th>3</th>\n",
       "      <td>3</td>\n",
       "      <td>100.0</td>\n",
       "      <td>8.795296</td>\n",
       "      <td>10.0</td>\n",
       "      <td>4.8</td>\n",
       "      <td>20.213349</td>\n",
       "      <td>10.94850</td>\n",
       "      <td>2.648</td>\n",
       "      <td>1.626</td>\n",
       "      <td>0.936</td>\n",
       "      <td>0.489272</td>\n",
       "      <td>0.78937</td>\n",
       "    </tr>\n",
       "    <tr>\n",
       "      <th>4</th>\n",
       "      <td>4</td>\n",
       "      <td>116.0</td>\n",
       "      <td>9.577996</td>\n",
       "      <td>11.6</td>\n",
       "      <td>4.8</td>\n",
       "      <td>24.988133</td>\n",
       "      <td>11.82448</td>\n",
       "      <td>2.766</td>\n",
       "      <td>1.682</td>\n",
       "      <td>0.896</td>\n",
       "      <td>0.492736</td>\n",
       "      <td>1.86481</td>\n",
       "    </tr>\n",
       "  </tbody>\n",
       "</table>\n",
       "</div>"
      ],
      "text/plain": [
       "   id  allelectrons_Total  density_Total  allelectrons_Average  val_e_Average  \\\n",
       "0   0               100.0       0.841611                  10.0            4.8   \n",
       "1   1               100.0       7.558488                  10.0            4.8   \n",
       "2   2                76.0       8.885992                  15.6            5.6   \n",
       "3   3               100.0       8.795296                  10.0            4.8   \n",
       "4   4               116.0       9.577996                  11.6            4.8   \n",
       "\n",
       "   atomicweight_Average  ionenergy_Average  el_neg_chi_Average  \\\n",
       "0             20.612526           11.08810               2.766   \n",
       "1             20.298893           12.04083               2.755   \n",
       "2             33.739258           12.08630               2.828   \n",
       "3             20.213349           10.94850               2.648   \n",
       "4             24.988133           11.82448               2.766   \n",
       "\n",
       "   R_vdw_element_Average  R_cov_element_Average  zaratio_Average  \\\n",
       "0                  1.732                  0.860         0.496070   \n",
       "1                  1.631                  0.910         0.492719   \n",
       "2                  1.788                  0.864         0.481478   \n",
       "3                  1.626                  0.936         0.489272   \n",
       "4                  1.682                  0.896         0.492736   \n",
       "\n",
       "   density_Average  \n",
       "0          0.91457  \n",
       "1          0.71760  \n",
       "2          1.50633  \n",
       "3          0.78937  \n",
       "4          1.86481  "
      ]
     },
     "execution_count": 5,
     "metadata": {},
     "output_type": "execute_result"
    }
   ],
   "source": [
    "x.head()"
   ]
  },
  {
   "cell_type": "code",
   "execution_count": 6,
   "id": "82fb0d7e",
   "metadata": {
    "execution": {
     "iopub.execute_input": "2023-12-03T21:23:20.104691Z",
     "iopub.status.busy": "2023-12-03T21:23:20.104407Z",
     "iopub.status.idle": "2023-12-03T21:23:20.110807Z",
     "shell.execute_reply": "2023-12-03T21:23:20.110063Z"
    },
    "papermill": {
     "duration": 0.018618,
     "end_time": "2023-12-03T21:23:20.112599",
     "exception": false,
     "start_time": "2023-12-03T21:23:20.093981",
     "status": "completed"
    },
    "tags": []
   },
   "outputs": [
    {
     "data": {
      "text/plain": [
       "0    6.0\n",
       "1    6.5\n",
       "2    2.5\n",
       "3    6.0\n",
       "4    6.0\n",
       "Name: Hardness, dtype: float64"
      ]
     },
     "execution_count": 6,
     "metadata": {},
     "output_type": "execute_result"
    }
   ],
   "source": [
    "y.head()"
   ]
  },
  {
   "cell_type": "markdown",
   "id": "0e16aea2",
   "metadata": {
    "papermill": {
     "duration": 0.009667,
     "end_time": "2023-12-03T21:23:20.132091",
     "exception": false,
     "start_time": "2023-12-03T21:23:20.122424",
     "status": "completed"
    },
    "tags": []
   },
   "source": [
    "# Inspect hardness values\n",
    "\n",
    "If they are continous or discrete"
   ]
  },
  {
   "cell_type": "code",
   "execution_count": 7,
   "id": "e0b46f41",
   "metadata": {
    "execution": {
     "iopub.execute_input": "2023-12-03T21:23:20.154586Z",
     "iopub.status.busy": "2023-12-03T21:23:20.153770Z",
     "iopub.status.idle": "2023-12-03T21:23:20.165257Z",
     "shell.execute_reply": "2023-12-03T21:23:20.164407Z"
    },
    "papermill": {
     "duration": 0.024817,
     "end_time": "2023-12-03T21:23:20.167155",
     "exception": false,
     "start_time": "2023-12-03T21:23:20.142338",
     "status": "completed"
    },
    "tags": []
   },
   "outputs": [
    {
     "data": {
      "text/plain": [
       "count    10407.000000\n",
       "mean         4.647126\n",
       "std          1.680525\n",
       "min          1.000000\n",
       "25%          3.000000\n",
       "50%          5.500000\n",
       "75%          6.000000\n",
       "max         10.000000\n",
       "Name: Hardness, dtype: float64"
      ]
     },
     "execution_count": 7,
     "metadata": {},
     "output_type": "execute_result"
    }
   ],
   "source": [
    "y.describe()"
   ]
  },
  {
   "cell_type": "code",
   "execution_count": 8,
   "id": "5ae27b3b",
   "metadata": {
    "execution": {
     "iopub.execute_input": "2023-12-03T21:23:20.187788Z",
     "iopub.status.busy": "2023-12-03T21:23:20.187478Z",
     "iopub.status.idle": "2023-12-03T21:23:20.194403Z",
     "shell.execute_reply": "2023-12-03T21:23:20.193628Z"
    },
    "papermill": {
     "duration": 0.019625,
     "end_time": "2023-12-03T21:23:20.196435",
     "exception": false,
     "start_time": "2023-12-03T21:23:20.176810",
     "status": "completed"
    },
    "tags": []
   },
   "outputs": [
    {
     "name": "stdout",
     "output_type": "stream",
     "text": [
      "[1.0, 1.3, 1.5, 1.8, 2.0, 2.1, 2.2, 2.3, 2.5, 2.6, 2.8, 2.9, 3.0, 3.2, 3.3, 3.5, 3.6, 3.8, 4.0, 4.1, 4.3, 4.5, 4.7, 4.8, 5.0, 5.3, 5.4, 5.5, 5.75, 5.8, 6.0, 6.2, 6.3, 6.4, 6.5, 6.64, 6.7, 6.8, 7.0, 7.3, 7.5, 7.8, 8.0, 8.1, 8.3, 8.5, 9.0, 9.5, 9.8, 10.0]\n",
      "50\n"
     ]
    }
   ],
   "source": [
    "hardness_set = set(y)\n",
    "print(sorted(hardness_set))\n",
    "print(len(hardness_set))"
   ]
  },
  {
   "cell_type": "markdown",
   "id": "4539b41c",
   "metadata": {
    "papermill": {
     "duration": 0.009777,
     "end_time": "2023-12-03T21:23:20.215950",
     "exception": false,
     "start_time": "2023-12-03T21:23:20.206173",
     "status": "completed"
    },
    "tags": []
   },
   "source": [
    "Try normalise hardness values"
   ]
  },
  {
   "cell_type": "code",
   "execution_count": 9,
   "id": "7cad1b84",
   "metadata": {
    "execution": {
     "iopub.execute_input": "2023-12-03T21:23:20.236969Z",
     "iopub.status.busy": "2023-12-03T21:23:20.236531Z",
     "iopub.status.idle": "2023-12-03T21:23:20.249105Z",
     "shell.execute_reply": "2023-12-03T21:23:20.248099Z"
    },
    "papermill": {
     "duration": 0.02553,
     "end_time": "2023-12-03T21:23:20.251266",
     "exception": false,
     "start_time": "2023-12-03T21:23:20.225736",
     "status": "completed"
    },
    "tags": []
   },
   "outputs": [
    {
     "data": {
      "text/plain": [
       "count    10407.000000\n",
       "mean         0.464713\n",
       "std          0.168053\n",
       "min          0.100000\n",
       "25%          0.300000\n",
       "50%          0.550000\n",
       "75%          0.600000\n",
       "max          1.000000\n",
       "Name: Hardness, dtype: float64"
      ]
     },
     "execution_count": 9,
     "metadata": {},
     "output_type": "execute_result"
    }
   ],
   "source": [
    "y = y / max(y)\n",
    "y.describe()"
   ]
  },
  {
   "cell_type": "markdown",
   "id": "43062f5c",
   "metadata": {
    "papermill": {
     "duration": 0.010648,
     "end_time": "2023-12-03T21:23:20.273301",
     "exception": false,
     "start_time": "2023-12-03T21:23:20.262653",
     "status": "completed"
    },
    "tags": []
   },
   "source": [
    "### Normalise training dataset"
   ]
  },
  {
   "cell_type": "code",
   "execution_count": 10,
   "id": "066f7e6b",
   "metadata": {
    "execution": {
     "iopub.execute_input": "2023-12-03T21:23:20.294418Z",
     "iopub.status.busy": "2023-12-03T21:23:20.294021Z",
     "iopub.status.idle": "2023-12-03T21:23:20.320586Z",
     "shell.execute_reply": "2023-12-03T21:23:20.319657Z"
    },
    "papermill": {
     "duration": 0.039867,
     "end_time": "2023-12-03T21:23:20.322894",
     "exception": false,
     "start_time": "2023-12-03T21:23:20.283027",
     "status": "completed"
    },
    "tags": []
   },
   "outputs": [],
   "source": [
    "for column in x:\n",
    "    if column != 'id':\n",
    "        x[column] = x[column] / max(x[column])"
   ]
  },
  {
   "cell_type": "code",
   "execution_count": 11,
   "id": "d409f727",
   "metadata": {
    "execution": {
     "iopub.execute_input": "2023-12-03T21:23:20.346757Z",
     "iopub.status.busy": "2023-12-03T21:23:20.346441Z",
     "iopub.status.idle": "2023-12-03T21:23:20.397717Z",
     "shell.execute_reply": "2023-12-03T21:23:20.396619Z"
    },
    "papermill": {
     "duration": 0.066053,
     "end_time": "2023-12-03T21:23:20.400333",
     "exception": false,
     "start_time": "2023-12-03T21:23:20.334280",
     "status": "completed"
    },
    "tags": []
   },
   "outputs": [
    {
     "data": {
      "text/html": [
       "<div>\n",
       "<style scoped>\n",
       "    .dataframe tbody tr th:only-of-type {\n",
       "        vertical-align: middle;\n",
       "    }\n",
       "\n",
       "    .dataframe tbody tr th {\n",
       "        vertical-align: top;\n",
       "    }\n",
       "\n",
       "    .dataframe thead th {\n",
       "        text-align: right;\n",
       "    }\n",
       "</style>\n",
       "<table border=\"1\" class=\"dataframe\">\n",
       "  <thead>\n",
       "    <tr style=\"text-align: right;\">\n",
       "      <th></th>\n",
       "      <th>id</th>\n",
       "      <th>allelectrons_Total</th>\n",
       "      <th>density_Total</th>\n",
       "      <th>allelectrons_Average</th>\n",
       "      <th>val_e_Average</th>\n",
       "      <th>atomicweight_Average</th>\n",
       "      <th>ionenergy_Average</th>\n",
       "      <th>el_neg_chi_Average</th>\n",
       "      <th>R_vdw_element_Average</th>\n",
       "      <th>R_cov_element_Average</th>\n",
       "      <th>zaratio_Average</th>\n",
       "      <th>density_Average</th>\n",
       "    </tr>\n",
       "  </thead>\n",
       "  <tbody>\n",
       "    <tr>\n",
       "      <th>count</th>\n",
       "      <td>10407.00000</td>\n",
       "      <td>10407.000000</td>\n",
       "      <td>10407.000000</td>\n",
       "      <td>10407.000000</td>\n",
       "      <td>10407.000000</td>\n",
       "      <td>10407.000000</td>\n",
       "      <td>10407.000000</td>\n",
       "      <td>10407.000000</td>\n",
       "      <td>10407.000000</td>\n",
       "      <td>10407.000000</td>\n",
       "      <td>10407.000000</td>\n",
       "      <td>10407.000000</td>\n",
       "    </tr>\n",
       "    <tr>\n",
       "      <th>mean</th>\n",
       "      <td>5203.00000</td>\n",
       "      <td>0.008370</td>\n",
       "      <td>0.022534</td>\n",
       "      <td>0.254227</td>\n",
       "      <td>0.757798</td>\n",
       "      <td>0.224060</td>\n",
       "      <td>0.717463</td>\n",
       "      <td>0.757381</td>\n",
       "      <td>0.769480</td>\n",
       "      <td>0.584298</td>\n",
       "      <td>0.597282</td>\n",
       "      <td>0.194438</td>\n",
       "    </tr>\n",
       "    <tr>\n",
       "      <th>std</th>\n",
       "      <td>3004.38646</td>\n",
       "      <td>0.014649</td>\n",
       "      <td>0.024838</td>\n",
       "      <td>0.156250</td>\n",
       "      <td>0.115144</td>\n",
       "      <td>0.155390</td>\n",
       "      <td>0.092371</td>\n",
       "      <td>0.097272</td>\n",
       "      <td>0.085547</td>\n",
       "      <td>0.111407</td>\n",
       "      <td>0.076369</td>\n",
       "      <td>0.176541</td>\n",
       "    </tr>\n",
       "    <tr>\n",
       "      <th>min</th>\n",
       "      <td>0.00000</td>\n",
       "      <td>0.000000</td>\n",
       "      <td>0.000000</td>\n",
       "      <td>0.000000</td>\n",
       "      <td>0.000000</td>\n",
       "      <td>0.000000</td>\n",
       "      <td>0.000000</td>\n",
       "      <td>0.000000</td>\n",
       "      <td>0.000000</td>\n",
       "      <td>0.000000</td>\n",
       "      <td>0.000000</td>\n",
       "      <td>0.000000</td>\n",
       "    </tr>\n",
       "    <tr>\n",
       "      <th>25%</th>\n",
       "      <td>2601.50000</td>\n",
       "      <td>0.004444</td>\n",
       "      <td>0.011753</td>\n",
       "      <td>0.149254</td>\n",
       "      <td>0.666667</td>\n",
       "      <td>0.121260</td>\n",
       "      <td>0.694660</td>\n",
       "      <td>0.734824</td>\n",
       "      <td>0.743333</td>\n",
       "      <td>0.534706</td>\n",
       "      <td>0.576515</td>\n",
       "      <td>0.074275</td>\n",
       "    </tr>\n",
       "    <tr>\n",
       "      <th>50%</th>\n",
       "      <td>5203.00000</td>\n",
       "      <td>0.006536</td>\n",
       "      <td>0.016561</td>\n",
       "      <td>0.188060</td>\n",
       "      <td>0.785714</td>\n",
       "      <td>0.156534</td>\n",
       "      <td>0.734809</td>\n",
       "      <td>0.785942</td>\n",
       "      <td>0.770101</td>\n",
       "      <td>0.566613</td>\n",
       "      <td>0.591472</td>\n",
       "      <td>0.123204</td>\n",
       "    </tr>\n",
       "    <tr>\n",
       "      <th>75%</th>\n",
       "      <td>7804.50000</td>\n",
       "      <td>0.008562</td>\n",
       "      <td>0.025932</td>\n",
       "      <td>0.328358</td>\n",
       "      <td>0.800000</td>\n",
       "      <td>0.291036</td>\n",
       "      <td>0.765504</td>\n",
       "      <td>0.814696</td>\n",
       "      <td>0.800000</td>\n",
       "      <td>0.607527</td>\n",
       "      <td>0.600576</td>\n",
       "      <td>0.249913</td>\n",
       "    </tr>\n",
       "    <tr>\n",
       "      <th>max</th>\n",
       "      <td>10406.00000</td>\n",
       "      <td>1.000000</td>\n",
       "      <td>1.000000</td>\n",
       "      <td>1.000000</td>\n",
       "      <td>1.000000</td>\n",
       "      <td>1.000000</td>\n",
       "      <td>1.000000</td>\n",
       "      <td>1.000000</td>\n",
       "      <td>1.000000</td>\n",
       "      <td>1.000000</td>\n",
       "      <td>1.000000</td>\n",
       "      <td>1.000000</td>\n",
       "    </tr>\n",
       "  </tbody>\n",
       "</table>\n",
       "</div>"
      ],
      "text/plain": [
       "                id  allelectrons_Total  density_Total  allelectrons_Average  \\\n",
       "count  10407.00000        10407.000000   10407.000000          10407.000000   \n",
       "mean    5203.00000            0.008370       0.022534              0.254227   \n",
       "std     3004.38646            0.014649       0.024838              0.156250   \n",
       "min        0.00000            0.000000       0.000000              0.000000   \n",
       "25%     2601.50000            0.004444       0.011753              0.149254   \n",
       "50%     5203.00000            0.006536       0.016561              0.188060   \n",
       "75%     7804.50000            0.008562       0.025932              0.328358   \n",
       "max    10406.00000            1.000000       1.000000              1.000000   \n",
       "\n",
       "       val_e_Average  atomicweight_Average  ionenergy_Average  \\\n",
       "count   10407.000000          10407.000000       10407.000000   \n",
       "mean        0.757798              0.224060           0.717463   \n",
       "std         0.115144              0.155390           0.092371   \n",
       "min         0.000000              0.000000           0.000000   \n",
       "25%         0.666667              0.121260           0.694660   \n",
       "50%         0.785714              0.156534           0.734809   \n",
       "75%         0.800000              0.291036           0.765504   \n",
       "max         1.000000              1.000000           1.000000   \n",
       "\n",
       "       el_neg_chi_Average  R_vdw_element_Average  R_cov_element_Average  \\\n",
       "count        10407.000000           10407.000000           10407.000000   \n",
       "mean             0.757381               0.769480               0.584298   \n",
       "std              0.097272               0.085547               0.111407   \n",
       "min              0.000000               0.000000               0.000000   \n",
       "25%              0.734824               0.743333               0.534706   \n",
       "50%              0.785942               0.770101               0.566613   \n",
       "75%              0.814696               0.800000               0.607527   \n",
       "max              1.000000               1.000000               1.000000   \n",
       "\n",
       "       zaratio_Average  density_Average  \n",
       "count     10407.000000     10407.000000  \n",
       "mean          0.597282         0.194438  \n",
       "std           0.076369         0.176541  \n",
       "min           0.000000         0.000000  \n",
       "25%           0.576515         0.074275  \n",
       "50%           0.591472         0.123204  \n",
       "75%           0.600576         0.249913  \n",
       "max           1.000000         1.000000  "
      ]
     },
     "execution_count": 11,
     "metadata": {},
     "output_type": "execute_result"
    }
   ],
   "source": [
    "x.describe()"
   ]
  },
  {
   "cell_type": "markdown",
   "id": "2f5a27a5",
   "metadata": {
    "papermill": {
     "duration": 0.011756,
     "end_time": "2023-12-03T21:23:20.424270",
     "exception": false,
     "start_time": "2023-12-03T21:23:20.412514",
     "status": "completed"
    },
    "tags": []
   },
   "source": [
    "### Create Recurrent model"
   ]
  },
  {
   "cell_type": "code",
   "execution_count": 12,
   "id": "654b732b",
   "metadata": {
    "execution": {
     "iopub.execute_input": "2023-12-03T21:23:20.449569Z",
     "iopub.status.busy": "2023-12-03T21:23:20.448759Z",
     "iopub.status.idle": "2023-12-03T21:23:20.454119Z",
     "shell.execute_reply": "2023-12-03T21:23:20.453126Z"
    },
    "papermill": {
     "duration": 0.020232,
     "end_time": "2023-12-03T21:23:20.456253",
     "exception": false,
     "start_time": "2023-12-03T21:23:20.436021",
     "status": "completed"
    },
    "tags": []
   },
   "outputs": [
    {
     "name": "stdout",
     "output_type": "stream",
     "text": [
      "(10407, 12)\n"
     ]
    }
   ],
   "source": [
    "input_shape = x.shape\n",
    "print(input_shape)"
   ]
  },
  {
   "cell_type": "markdown",
   "id": "4eae7948",
   "metadata": {
    "papermill": {
     "duration": 0.010904,
     "end_time": "2023-12-03T21:23:20.478813",
     "exception": false,
     "start_time": "2023-12-03T21:23:20.467909",
     "status": "completed"
    },
    "tags": []
   },
   "source": [
    "try with for loop"
   ]
  },
  {
   "cell_type": "code",
   "execution_count": 13,
   "id": "71d04a09",
   "metadata": {
    "execution": {
     "iopub.execute_input": "2023-12-03T21:23:20.502295Z",
     "iopub.status.busy": "2023-12-03T21:23:20.501478Z",
     "iopub.status.idle": "2023-12-03T21:23:20.506188Z",
     "shell.execute_reply": "2023-12-03T21:23:20.505318Z"
    },
    "papermill": {
     "duration": 0.018525,
     "end_time": "2023-12-03T21:23:20.508114",
     "exception": false,
     "start_time": "2023-12-03T21:23:20.489589",
     "status": "completed"
    },
    "tags": []
   },
   "outputs": [],
   "source": [
    "# timesteps = 12\n",
    "# features = 1  # 1D data\n",
    "\n",
    "# def get_RNN_network():\n",
    "#     input_shape = x.shape[1]\n",
    "#     #input_layer = layers.Input(input_shape)\n",
    "    \n",
    "#     LSTM_1 = layers.LSTM(units=64, input_shape=(input_shape, features))\n",
    "    \n",
    "#     output_layer = layers.Dense(units=1)(LSTM_1)\n",
    "    \n",
    "#     return tf.keras.Model(inputs=LSTM_1, outputs=LSTM_1)\n",
    "\n",
    "# DNN_model = get_RNN_network()\n",
    "\n",
    "# loss_function = tf.keras.losses.MeanAbsoluteError()\n",
    "# optimiser = tf.keras.optimizers.Adam(learning_rate=0.0001) # changed lr from 0.001\n",
    "# DNN_model.compile(loss = loss_function, optimizer=optimiser, metrics=['mae'])"
   ]
  },
  {
   "cell_type": "markdown",
   "id": "c7744a6f",
   "metadata": {
    "papermill": {
     "duration": 0.010509,
     "end_time": "2023-12-03T21:23:20.529188",
     "exception": false,
     "start_time": "2023-12-03T21:23:20.518679",
     "status": "completed"
    },
    "tags": []
   },
   "source": [
    "try with sequential model"
   ]
  },
  {
   "cell_type": "code",
   "execution_count": 14,
   "id": "9a53e1f7",
   "metadata": {
    "execution": {
     "iopub.execute_input": "2023-12-03T21:23:20.551578Z",
     "iopub.status.busy": "2023-12-03T21:23:20.551319Z",
     "iopub.status.idle": "2023-12-03T21:23:25.000011Z",
     "shell.execute_reply": "2023-12-03T21:23:24.998859Z"
    },
    "papermill": {
     "duration": 4.46286,
     "end_time": "2023-12-03T21:23:25.002511",
     "exception": false,
     "start_time": "2023-12-03T21:23:20.539651",
     "status": "completed"
    },
    "tags": []
   },
   "outputs": [],
   "source": [
    "features = 1 # 1D data\n",
    "input_shape = x.shape[1]\n",
    "\n",
    "model = tf.keras.models.Sequential([\n",
    "    layers.LSTM(units=64, input_shape=(input_shape, features)),\n",
    "    layers.Dense(units=32, activation='relu'),\n",
    "    layers.Dense(units=16, activation='relu'),\n",
    "    layers.Dense(units=8, activation='relu'),\n",
    "    layers.Dense(units=4, activation='relu'),\n",
    "    layers.Dense(units=2, activation='relu'),\n",
    "    layers.Dense(units=1)\n",
    "])\n",
    "\n",
    "loss_function = tf.keras.losses.MeanAbsoluteError()\n",
    "optimiser = tf.keras.optimizers.Adam(learning_rate=0.0001) # changed lr from 0.001\n",
    "model.compile(loss = loss_function, optimizer=optimiser, metrics=['mae'])"
   ]
  },
  {
   "cell_type": "code",
   "execution_count": 15,
   "id": "825006a6",
   "metadata": {
    "execution": {
     "iopub.execute_input": "2023-12-03T21:23:25.025571Z",
     "iopub.status.busy": "2023-12-03T21:23:25.025259Z",
     "iopub.status.idle": "2023-12-03T21:23:25.051563Z",
     "shell.execute_reply": "2023-12-03T21:23:25.050643Z"
    },
    "papermill": {
     "duration": 0.043119,
     "end_time": "2023-12-03T21:23:25.056409",
     "exception": false,
     "start_time": "2023-12-03T21:23:25.013290",
     "status": "completed"
    },
    "tags": []
   },
   "outputs": [
    {
     "name": "stdout",
     "output_type": "stream",
     "text": [
      "Model: \"sequential\"\n",
      "_________________________________________________________________\n",
      " Layer (type)                Output Shape              Param #   \n",
      "=================================================================\n",
      " lstm (LSTM)                 (None, 64)                16896     \n",
      "                                                                 \n",
      " dense (Dense)               (None, 32)                2080      \n",
      "                                                                 \n",
      " dense_1 (Dense)             (None, 16)                528       \n",
      "                                                                 \n",
      " dense_2 (Dense)             (None, 8)                 136       \n",
      "                                                                 \n",
      " dense_3 (Dense)             (None, 4)                 36        \n",
      "                                                                 \n",
      " dense_4 (Dense)             (None, 2)                 10        \n",
      "                                                                 \n",
      " dense_5 (Dense)             (None, 1)                 3         \n",
      "                                                                 \n",
      "=================================================================\n",
      "Total params: 19689 (76.91 KB)\n",
      "Trainable params: 19689 (76.91 KB)\n",
      "Non-trainable params: 0 (0.00 Byte)\n",
      "_________________________________________________________________\n"
     ]
    }
   ],
   "source": [
    "model.summary()"
   ]
  },
  {
   "cell_type": "code",
   "execution_count": 16,
   "id": "745a19b2",
   "metadata": {
    "execution": {
     "iopub.execute_input": "2023-12-03T21:23:25.081680Z",
     "iopub.status.busy": "2023-12-03T21:23:25.081331Z",
     "iopub.status.idle": "2023-12-03T21:23:25.351170Z",
     "shell.execute_reply": "2023-12-03T21:23:25.350246Z"
    },
    "papermill": {
     "duration": 0.285191,
     "end_time": "2023-12-03T21:23:25.353761",
     "exception": false,
     "start_time": "2023-12-03T21:23:25.068570",
     "status": "completed"
    },
    "tags": []
   },
   "outputs": [
    {
     "data": {
      "image/png": "[encoded data removed]",
      "text/plain": [
       "<IPython.core.display.Image object>"
      ]
     },
     "execution_count": 16,
     "metadata": {},
     "output_type": "execute_result"
    }
   ],
   "source": [
    "tf.keras.utils.plot_model(model, show_shapes=True)"
   ]
  },
  {
   "cell_type": "markdown",
   "id": "d00b5553",
   "metadata": {
    "papermill": {
     "duration": 0.013117,
     "end_time": "2023-12-03T21:23:25.380529",
     "exception": false,
     "start_time": "2023-12-03T21:23:25.367412",
     "status": "completed"
    },
    "tags": []
   },
   "source": [
    "### Test dataset"
   ]
  },
  {
   "cell_type": "code",
   "execution_count": 17,
   "id": "5fde4bdd",
   "metadata": {
    "execution": {
     "iopub.execute_input": "2023-12-03T21:23:25.451367Z",
     "iopub.status.busy": "2023-12-03T21:23:25.450553Z",
     "iopub.status.idle": "2023-12-03T21:24:53.179196Z",
     "shell.execute_reply": "2023-12-03T21:24:53.178244Z"
    },
    "papermill": {
     "duration": 87.745147,
     "end_time": "2023-12-03T21:24:53.181287",
     "exception": false,
     "start_time": "2023-12-03T21:23:25.436140",
     "status": "completed"
    },
    "tags": []
   },
   "outputs": [
    {
     "name": "stdout",
     "output_type": "stream",
     "text": [
      "Epoch 1/50\n",
      "326/326 [==============================] - 10s 5ms/step - loss: 0.1587 - mae: 0.1587\n",
      "Epoch 2/50\n",
      "326/326 [==============================] - 2s 5ms/step - loss: 0.1418 - mae: 0.1418\n",
      "Epoch 3/50\n",
      "326/326 [==============================] - 2s 5ms/step - loss: 0.1348 - mae: 0.1348\n",
      "Epoch 4/50\n",
      "326/326 [==============================] - 2s 5ms/step - loss: 0.1255 - mae: 0.1255\n",
      "Epoch 5/50\n",
      "326/326 [==============================] - 2s 5ms/step - loss: 0.1204 - mae: 0.1204\n",
      "Epoch 6/50\n",
      "326/326 [==============================] - 2s 5ms/step - loss: 0.1179 - mae: 0.1179\n",
      "Epoch 7/50\n",
      "326/326 [==============================] - 2s 5ms/step - loss: 0.1160 - mae: 0.1160\n",
      "Epoch 8/50\n",
      "326/326 [==============================] - 2s 5ms/step - loss: 0.1148 - mae: 0.1148\n",
      "Epoch 9/50\n",
      "326/326 [==============================] - 2s 5ms/step - loss: 0.1145 - mae: 0.1145\n",
      "Epoch 10/50\n",
      "326/326 [==============================] - 2s 5ms/step - loss: 0.1140 - mae: 0.1140\n",
      "Epoch 11/50\n",
      "326/326 [==============================] - 2s 5ms/step - loss: 0.1141 - mae: 0.1141\n",
      "Epoch 12/50\n",
      "326/326 [==============================] - 2s 5ms/step - loss: 0.1130 - mae: 0.1130\n",
      "Epoch 13/50\n",
      "326/326 [==============================] - 2s 5ms/step - loss: 0.1131 - mae: 0.1131\n",
      "Epoch 14/50\n",
      "326/326 [==============================] - 2s 5ms/step - loss: 0.1122 - mae: 0.1122\n",
      "Epoch 15/50\n",
      "326/326 [==============================] - 2s 5ms/step - loss: 0.1119 - mae: 0.1119\n",
      "Epoch 16/50\n",
      "326/326 [==============================] - 2s 5ms/step - loss: 0.1124 - mae: 0.1124\n",
      "Epoch 17/50\n",
      "326/326 [==============================] - 2s 5ms/step - loss: 0.1117 - mae: 0.1117\n",
      "Epoch 18/50\n",
      "326/326 [==============================] - 2s 5ms/step - loss: 0.1120 - mae: 0.1120\n",
      "Epoch 19/50\n",
      "326/326 [==============================] - 2s 5ms/step - loss: 0.1107 - mae: 0.1107\n",
      "Epoch 20/50\n",
      "326/326 [==============================] - 2s 5ms/step - loss: 0.1113 - mae: 0.1113\n",
      "Epoch 21/50\n",
      "326/326 [==============================] - 2s 5ms/step - loss: 0.1104 - mae: 0.1104\n",
      "Epoch 22/50\n",
      "326/326 [==============================] - 2s 5ms/step - loss: 0.1105 - mae: 0.1105\n",
      "Epoch 23/50\n",
      "326/326 [==============================] - 2s 5ms/step - loss: 0.1107 - mae: 0.1107\n",
      "Epoch 24/50\n",
      "326/326 [==============================] - 2s 5ms/step - loss: 0.1104 - mae: 0.1104\n",
      "Epoch 25/50\n",
      "326/326 [==============================] - 2s 5ms/step - loss: 0.1110 - mae: 0.1110\n",
      "Epoch 26/50\n",
      "326/326 [==============================] - 2s 5ms/step - loss: 0.1103 - mae: 0.1103\n",
      "Epoch 27/50\n",
      "326/326 [==============================] - 2s 5ms/step - loss: 0.1105 - mae: 0.1105\n",
      "Epoch 28/50\n",
      "326/326 [==============================] - 2s 5ms/step - loss: 0.1100 - mae: 0.1100\n",
      "Epoch 29/50\n",
      "326/326 [==============================] - 2s 5ms/step - loss: 0.1106 - mae: 0.1106\n",
      "Epoch 30/50\n",
      "326/326 [==============================] - 2s 5ms/step - loss: 0.1109 - mae: 0.1109\n",
      "Epoch 31/50\n",
      "326/326 [==============================] - 2s 5ms/step - loss: 0.1105 - mae: 0.1105\n",
      "Epoch 32/50\n",
      "326/326 [==============================] - 2s 5ms/step - loss: 0.1101 - mae: 0.1101\n",
      "Epoch 33/50\n",
      "326/326 [==============================] - 2s 5ms/step - loss: 0.1101 - mae: 0.1101\n",
      "Epoch 34/50\n",
      "326/326 [==============================] - 2s 5ms/step - loss: 0.1099 - mae: 0.1099\n",
      "Epoch 35/50\n",
      "326/326 [==============================] - 2s 5ms/step - loss: 0.1101 - mae: 0.1101\n",
      "Epoch 36/50\n",
      "326/326 [==============================] - 2s 5ms/step - loss: 0.1098 - mae: 0.1098\n",
      "Epoch 37/50\n",
      "326/326 [==============================] - 2s 5ms/step - loss: 0.1104 - mae: 0.1104\n",
      "Epoch 38/50\n",
      "326/326 [==============================] - 2s 5ms/step - loss: 0.1099 - mae: 0.1099\n",
      "Epoch 39/50\n",
      "326/326 [==============================] - 2s 5ms/step - loss: 0.1093 - mae: 0.1093\n",
      "Epoch 40/50\n",
      "326/326 [==============================] - 2s 5ms/step - loss: 0.1100 - mae: 0.1100\n",
      "Epoch 41/50\n",
      "326/326 [==============================] - 2s 5ms/step - loss: 0.1103 - mae: 0.1103\n",
      "Epoch 42/50\n",
      "326/326 [==============================] - 2s 5ms/step - loss: 0.1101 - mae: 0.1101\n",
      "Epoch 43/50\n",
      "326/326 [==============================] - 2s 5ms/step - loss: 0.1102 - mae: 0.1102\n",
      "Epoch 44/50\n",
      "326/326 [==============================] - 2s 5ms/step - loss: 0.1099 - mae: 0.1099\n",
      "Epoch 45/50\n",
      "326/326 [==============================] - 2s 5ms/step - loss: 0.1095 - mae: 0.1095\n",
      "Epoch 46/50\n",
      "326/326 [==============================] - 2s 5ms/step - loss: 0.1095 - mae: 0.1095\n",
      "Epoch 47/50\n",
      "326/326 [==============================] - 2s 5ms/step - loss: 0.1095 - mae: 0.1095\n",
      "Epoch 48/50\n",
      "326/326 [==============================] - 2s 5ms/step - loss: 0.1099 - mae: 0.1099\n",
      "Epoch 49/50\n",
      "326/326 [==============================] - 2s 5ms/step - loss: 0.1097 - mae: 0.1097\n",
      "Epoch 50/50\n",
      "326/326 [==============================] - 2s 5ms/step - loss: 0.1097 - mae: 0.1097\n"
     ]
    },
    {
     "data": {
      "text/plain": [
       "<keras.src.callbacks.History at 0x7989c040db70>"
      ]
     },
     "execution_count": 17,
     "metadata": {},
     "output_type": "execute_result"
    }
   ],
   "source": [
    "model.fit(x, y, epochs=50, batch_size=32)"
   ]
  },
  {
   "cell_type": "markdown",
   "id": "e29a2113",
   "metadata": {
    "papermill": {
     "duration": 0.142841,
     "end_time": "2023-12-03T21:24:53.472305",
     "exception": false,
     "start_time": "2023-12-03T21:24:53.329464",
     "status": "completed"
    },
    "tags": []
   },
   "source": [
    "### Test submission"
   ]
  },
  {
   "cell_type": "code",
   "execution_count": 18,
   "id": "a32e7e53",
   "metadata": {
    "execution": {
     "iopub.execute_input": "2023-12-03T21:24:53.766653Z",
     "iopub.status.busy": "2023-12-03T21:24:53.765556Z",
     "iopub.status.idle": "2023-12-03T21:24:53.797041Z",
     "shell.execute_reply": "2023-12-03T21:24:53.795991Z"
    },
    "papermill": {
     "duration": 0.183515,
     "end_time": "2023-12-03T21:24:53.799329",
     "exception": false,
     "start_time": "2023-12-03T21:24:53.615814",
     "status": "completed"
    },
    "tags": []
   },
   "outputs": [],
   "source": [
    "test_dataset = pd.read_csv(\"/kaggle/input/playground-series-s3e25/test.csv\")"
   ]
  },
  {
   "cell_type": "code",
   "execution_count": 19,
   "id": "85135dd0",
   "metadata": {
    "execution": {
     "iopub.execute_input": "2023-12-03T21:24:54.086477Z",
     "iopub.status.busy": "2023-12-03T21:24:54.086151Z",
     "iopub.status.idle": "2023-12-03T21:24:54.108091Z",
     "shell.execute_reply": "2023-12-03T21:24:54.107323Z"
    },
    "papermill": {
     "duration": 0.165351,
     "end_time": "2023-12-03T21:24:54.110137",
     "exception": false,
     "start_time": "2023-12-03T21:24:53.944786",
     "status": "completed"
    },
    "tags": []
   },
   "outputs": [],
   "source": [
    "for column in test_dataset:\n",
    "    if column != 'id':\n",
    "        test_dataset[column] = test_dataset[column] / max(test_dataset[column])"
   ]
  },
  {
   "cell_type": "code",
   "execution_count": 20,
   "id": "8772577c",
   "metadata": {
    "execution": {
     "iopub.execute_input": "2023-12-03T21:24:54.412444Z",
     "iopub.status.busy": "2023-12-03T21:24:54.412044Z",
     "iopub.status.idle": "2023-12-03T21:24:54.429153Z",
     "shell.execute_reply": "2023-12-03T21:24:54.428288Z"
    },
    "papermill": {
     "duration": 0.166251,
     "end_time": "2023-12-03T21:24:54.431197",
     "exception": false,
     "start_time": "2023-12-03T21:24:54.264946",
     "status": "completed"
    },
    "tags": []
   },
   "outputs": [
    {
     "data": {
      "text/html": [
       "<div>\n",
       "<style scoped>\n",
       "    .dataframe tbody tr th:only-of-type {\n",
       "        vertical-align: middle;\n",
       "    }\n",
       "\n",
       "    .dataframe tbody tr th {\n",
       "        vertical-align: top;\n",
       "    }\n",
       "\n",
       "    .dataframe thead th {\n",
       "        text-align: right;\n",
       "    }\n",
       "</style>\n",
       "<table border=\"1\" class=\"dataframe\">\n",
       "  <thead>\n",
       "    <tr style=\"text-align: right;\">\n",
       "      <th></th>\n",
       "      <th>id</th>\n",
       "      <th>allelectrons_Total</th>\n",
       "      <th>density_Total</th>\n",
       "      <th>allelectrons_Average</th>\n",
       "      <th>val_e_Average</th>\n",
       "      <th>atomicweight_Average</th>\n",
       "      <th>ionenergy_Average</th>\n",
       "      <th>el_neg_chi_Average</th>\n",
       "      <th>R_vdw_element_Average</th>\n",
       "      <th>R_cov_element_Average</th>\n",
       "      <th>zaratio_Average</th>\n",
       "      <th>density_Average</th>\n",
       "    </tr>\n",
       "  </thead>\n",
       "  <tbody>\n",
       "    <tr>\n",
       "      <th>0</th>\n",
       "      <td>10407</td>\n",
       "      <td>0.087386</td>\n",
       "      <td>0.188806</td>\n",
       "      <td>0.527761</td>\n",
       "      <td>0.880000</td>\n",
       "      <td>0.493197</td>\n",
       "      <td>0.614620</td>\n",
       "      <td>0.667441</td>\n",
       "      <td>0.847644</td>\n",
       "      <td>0.742881</td>\n",
       "      <td>0.559207</td>\n",
       "      <td>0.163591</td>\n",
       "    </tr>\n",
       "    <tr>\n",
       "      <th>1</th>\n",
       "      <td>10408</td>\n",
       "      <td>0.008897</td>\n",
       "      <td>0.015444</td>\n",
       "      <td>0.268657</td>\n",
       "      <td>0.933333</td>\n",
       "      <td>0.236368</td>\n",
       "      <td>0.792762</td>\n",
       "      <td>0.832994</td>\n",
       "      <td>0.734222</td>\n",
       "      <td>0.534874</td>\n",
       "      <td>0.576515</td>\n",
       "      <td>0.128709</td>\n",
       "    </tr>\n",
       "    <tr>\n",
       "      <th>2</th>\n",
       "      <td>10409</td>\n",
       "      <td>0.011467</td>\n",
       "      <td>0.012079</td>\n",
       "      <td>0.173134</td>\n",
       "      <td>0.800000</td>\n",
       "      <td>0.138780</td>\n",
       "      <td>0.723073</td>\n",
       "      <td>0.767935</td>\n",
       "      <td>0.797333</td>\n",
       "      <td>0.594305</td>\n",
       "      <td>0.604746</td>\n",
       "      <td>0.071863</td>\n",
       "    </tr>\n",
       "    <tr>\n",
       "      <th>3</th>\n",
       "      <td>10410</td>\n",
       "      <td>0.009885</td>\n",
       "      <td>0.014163</td>\n",
       "      <td>0.149254</td>\n",
       "      <td>0.800000</td>\n",
       "      <td>0.121260</td>\n",
       "      <td>0.792762</td>\n",
       "      <td>0.821377</td>\n",
       "      <td>0.738667</td>\n",
       "      <td>0.490301</td>\n",
       "      <td>0.600244</td>\n",
       "      <td>0.109814</td>\n",
       "    </tr>\n",
       "    <tr>\n",
       "      <th>4</th>\n",
       "      <td>10411</td>\n",
       "      <td>0.005437</td>\n",
       "      <td>0.006267</td>\n",
       "      <td>0.164179</td>\n",
       "      <td>0.666667</td>\n",
       "      <td>0.137262</td>\n",
       "      <td>0.739938</td>\n",
       "      <td>0.713041</td>\n",
       "      <td>0.777778</td>\n",
       "      <td>0.553033</td>\n",
       "      <td>0.576393</td>\n",
       "      <td>0.085192</td>\n",
       "    </tr>\n",
       "  </tbody>\n",
       "</table>\n",
       "</div>"
      ],
      "text/plain": [
       "      id  allelectrons_Total  density_Total  allelectrons_Average  \\\n",
       "0  10407            0.087386       0.188806              0.527761   \n",
       "1  10408            0.008897       0.015444              0.268657   \n",
       "2  10409            0.011467       0.012079              0.173134   \n",
       "3  10410            0.009885       0.014163              0.149254   \n",
       "4  10411            0.005437       0.006267              0.164179   \n",
       "\n",
       "   val_e_Average  atomicweight_Average  ionenergy_Average  el_neg_chi_Average  \\\n",
       "0       0.880000              0.493197           0.614620            0.667441   \n",
       "1       0.933333              0.236368           0.792762            0.832994   \n",
       "2       0.800000              0.138780           0.723073            0.767935   \n",
       "3       0.800000              0.121260           0.792762            0.821377   \n",
       "4       0.666667              0.137262           0.739938            0.713041   \n",
       "\n",
       "   R_vdw_element_Average  R_cov_element_Average  zaratio_Average  \\\n",
       "0               0.847644               0.742881         0.559207   \n",
       "1               0.734222               0.534874         0.576515   \n",
       "2               0.797333               0.594305         0.604746   \n",
       "3               0.738667               0.490301         0.600244   \n",
       "4               0.777778               0.553033         0.576393   \n",
       "\n",
       "   density_Average  \n",
       "0         0.163591  \n",
       "1         0.128709  \n",
       "2         0.071863  \n",
       "3         0.109814  \n",
       "4         0.085192  "
      ]
     },
     "execution_count": 20,
     "metadata": {},
     "output_type": "execute_result"
    }
   ],
   "source": [
    "test_dataset.head()"
   ]
  },
  {
   "cell_type": "code",
   "execution_count": 21,
   "id": "07af0c79",
   "metadata": {
    "execution": {
     "iopub.execute_input": "2023-12-03T21:24:54.719156Z",
     "iopub.status.busy": "2023-12-03T21:24:54.718177Z",
     "iopub.status.idle": "2023-12-03T21:24:55.796781Z",
     "shell.execute_reply": "2023-12-03T21:24:55.795748Z"
    },
    "papermill": {
     "duration": 1.22626,
     "end_time": "2023-12-03T21:24:55.799219",
     "exception": false,
     "start_time": "2023-12-03T21:24:54.572959",
     "status": "completed"
    },
    "tags": []
   },
   "outputs": [
    {
     "name": "stdout",
     "output_type": "stream",
     "text": [
      "217/217 [==============================] - 1s 2ms/step\n"
     ]
    }
   ],
   "source": [
    "predictions = model.predict(test_dataset)"
   ]
  },
  {
   "cell_type": "markdown",
   "id": "ac407d33",
   "metadata": {
    "papermill": {
     "duration": 0.139871,
     "end_time": "2023-12-03T21:24:56.080507",
     "exception": false,
     "start_time": "2023-12-03T21:24:55.940636",
     "status": "completed"
    },
    "tags": []
   },
   "source": [
    "Model was trained to predict normalised hardness values so need to unnormalise them"
   ]
  },
  {
   "cell_type": "code",
   "execution_count": 22,
   "id": "6ec62450",
   "metadata": {
    "execution": {
     "iopub.execute_input": "2023-12-03T21:24:56.369508Z",
     "iopub.status.busy": "2023-12-03T21:24:56.369157Z",
     "iopub.status.idle": "2023-12-03T21:24:56.373810Z",
     "shell.execute_reply": "2023-12-03T21:24:56.373036Z"
    },
    "papermill": {
     "duration": 0.152204,
     "end_time": "2023-12-03T21:24:56.375689",
     "exception": false,
     "start_time": "2023-12-03T21:24:56.223485",
     "status": "completed"
    },
    "tags": []
   },
   "outputs": [],
   "source": [
    "predictions = predictions * 10 # 10 is max value of hardness in training dataset"
   ]
  },
  {
   "cell_type": "markdown",
   "id": "0fcd8f56",
   "metadata": {
    "papermill": {
     "duration": 0.140951,
     "end_time": "2023-12-03T21:24:56.657946",
     "exception": false,
     "start_time": "2023-12-03T21:24:56.516995",
     "status": "completed"
    },
    "tags": []
   },
   "source": [
    "Create subbmission flie"
   ]
  },
  {
   "cell_type": "code",
   "execution_count": 23,
   "id": "9e0fd917",
   "metadata": {
    "execution": {
     "iopub.execute_input": "2023-12-03T21:24:56.953184Z",
     "iopub.status.busy": "2023-12-03T21:24:56.952802Z",
     "iopub.status.idle": "2023-12-03T21:24:56.959824Z",
     "shell.execute_reply": "2023-12-03T21:24:56.959036Z"
    },
    "papermill": {
     "duration": 0.156222,
     "end_time": "2023-12-03T21:24:56.961783",
     "exception": false,
     "start_time": "2023-12-03T21:24:56.805561",
     "status": "completed"
    },
    "tags": []
   },
   "outputs": [],
   "source": [
    "submission = pd.DataFrame()\n",
    "submission['id'] = test_dataset['id']\n",
    "submission['Hardness'] = predictions"
   ]
  },
  {
   "cell_type": "code",
   "execution_count": 24,
   "id": "e8c50a21",
   "metadata": {
    "execution": {
     "iopub.execute_input": "2023-12-03T21:24:57.262369Z",
     "iopub.status.busy": "2023-12-03T21:24:57.261978Z",
     "iopub.status.idle": "2023-12-03T21:24:57.272166Z",
     "shell.execute_reply": "2023-12-03T21:24:57.271168Z"
    },
    "papermill": {
     "duration": 0.166207,
     "end_time": "2023-12-03T21:24:57.274145",
     "exception": false,
     "start_time": "2023-12-03T21:24:57.107938",
     "status": "completed"
    },
    "tags": []
   },
   "outputs": [
    {
     "data": {
      "text/html": [
       "<div>\n",
       "<style scoped>\n",
       "    .dataframe tbody tr th:only-of-type {\n",
       "        vertical-align: middle;\n",
       "    }\n",
       "\n",
       "    .dataframe tbody tr th {\n",
       "        vertical-align: top;\n",
       "    }\n",
       "\n",
       "    .dataframe thead th {\n",
       "        text-align: right;\n",
       "    }\n",
       "</style>\n",
       "<table border=\"1\" class=\"dataframe\">\n",
       "  <thead>\n",
       "    <tr style=\"text-align: right;\">\n",
       "      <th></th>\n",
       "      <th>id</th>\n",
       "      <th>Hardness</th>\n",
       "    </tr>\n",
       "  </thead>\n",
       "  <tbody>\n",
       "    <tr>\n",
       "      <th>0</th>\n",
       "      <td>10407</td>\n",
       "      <td>2.584831</td>\n",
       "    </tr>\n",
       "    <tr>\n",
       "      <th>1</th>\n",
       "      <td>10408</td>\n",
       "      <td>5.189557</td>\n",
       "    </tr>\n",
       "    <tr>\n",
       "      <th>2</th>\n",
       "      <td>10409</td>\n",
       "      <td>5.794271</td>\n",
       "    </tr>\n",
       "    <tr>\n",
       "      <th>3</th>\n",
       "      <td>10410</td>\n",
       "      <td>5.757705</td>\n",
       "    </tr>\n",
       "    <tr>\n",
       "      <th>4</th>\n",
       "      <td>10411</td>\n",
       "      <td>5.068625</td>\n",
       "    </tr>\n",
       "  </tbody>\n",
       "</table>\n",
       "</div>"
      ],
      "text/plain": [
       "      id  Hardness\n",
       "0  10407  2.584831\n",
       "1  10408  5.189557\n",
       "2  10409  5.794271\n",
       "3  10410  5.757705\n",
       "4  10411  5.068625"
      ]
     },
     "execution_count": 24,
     "metadata": {},
     "output_type": "execute_result"
    }
   ],
   "source": [
    "submission.head()"
   ]
  },
  {
   "cell_type": "code",
   "execution_count": 25,
   "id": "4d21a0ea",
   "metadata": {
    "execution": {
     "iopub.execute_input": "2023-12-03T21:24:57.566022Z",
     "iopub.status.busy": "2023-12-03T21:24:57.565668Z",
     "iopub.status.idle": "2023-12-03T21:24:57.581663Z",
     "shell.execute_reply": "2023-12-03T21:24:57.580706Z"
    },
    "papermill": {
     "duration": 0.16379,
     "end_time": "2023-12-03T21:24:57.583621",
     "exception": false,
     "start_time": "2023-12-03T21:24:57.419831",
     "status": "completed"
    },
    "tags": []
   },
   "outputs": [
    {
     "data": {
      "text/html": [
       "<div>\n",
       "<style scoped>\n",
       "    .dataframe tbody tr th:only-of-type {\n",
       "        vertical-align: middle;\n",
       "    }\n",
       "\n",
       "    .dataframe tbody tr th {\n",
       "        vertical-align: top;\n",
       "    }\n",
       "\n",
       "    .dataframe thead th {\n",
       "        text-align: right;\n",
       "    }\n",
       "</style>\n",
       "<table border=\"1\" class=\"dataframe\">\n",
       "  <thead>\n",
       "    <tr style=\"text-align: right;\">\n",
       "      <th></th>\n",
       "      <th>id</th>\n",
       "      <th>Hardness</th>\n",
       "    </tr>\n",
       "  </thead>\n",
       "  <tbody>\n",
       "    <tr>\n",
       "      <th>count</th>\n",
       "      <td>6939.000000</td>\n",
       "      <td>6939.000000</td>\n",
       "    </tr>\n",
       "    <tr>\n",
       "      <th>mean</th>\n",
       "      <td>13876.000000</td>\n",
       "      <td>4.849234</td>\n",
       "    </tr>\n",
       "    <tr>\n",
       "      <th>std</th>\n",
       "      <td>2003.261091</td>\n",
       "      <td>1.210956</td>\n",
       "    </tr>\n",
       "    <tr>\n",
       "      <th>min</th>\n",
       "      <td>10407.000000</td>\n",
       "      <td>1.488727</td>\n",
       "    </tr>\n",
       "    <tr>\n",
       "      <th>25%</th>\n",
       "      <td>12141.500000</td>\n",
       "      <td>3.782436</td>\n",
       "    </tr>\n",
       "    <tr>\n",
       "      <th>50%</th>\n",
       "      <td>13876.000000</td>\n",
       "      <td>5.607835</td>\n",
       "    </tr>\n",
       "    <tr>\n",
       "      <th>75%</th>\n",
       "      <td>15610.500000</td>\n",
       "      <td>5.759692</td>\n",
       "    </tr>\n",
       "    <tr>\n",
       "      <th>max</th>\n",
       "      <td>17345.000000</td>\n",
       "      <td>6.078226</td>\n",
       "    </tr>\n",
       "  </tbody>\n",
       "</table>\n",
       "</div>"
      ],
      "text/plain": [
       "                 id     Hardness\n",
       "count   6939.000000  6939.000000\n",
       "mean   13876.000000     4.849234\n",
       "std     2003.261091     1.210956\n",
       "min    10407.000000     1.488727\n",
       "25%    12141.500000     3.782436\n",
       "50%    13876.000000     5.607835\n",
       "75%    15610.500000     5.759692\n",
       "max    17345.000000     6.078226"
      ]
     },
     "execution_count": 25,
     "metadata": {},
     "output_type": "execute_result"
    }
   ],
   "source": [
    "submission.describe()"
   ]
  },
  {
   "cell_type": "code",
   "execution_count": 26,
   "id": "9833e317",
   "metadata": {
    "execution": {
     "iopub.execute_input": "2023-12-03T21:24:57.882974Z",
     "iopub.status.busy": "2023-12-03T21:24:57.881997Z",
     "iopub.status.idle": "2023-12-03T21:24:57.912358Z",
     "shell.execute_reply": "2023-12-03T21:24:57.911281Z"
    },
    "papermill": {
     "duration": 0.184265,
     "end_time": "2023-12-03T21:24:57.914739",
     "exception": false,
     "start_time": "2023-12-03T21:24:57.730474",
     "status": "completed"
    },
    "tags": []
   },
   "outputs": [],
   "source": [
    "submission.to_csv('/kaggle/working/submission.csv',index=False,header=True)"
   ]
  }
 ],
 "metadata": {
  "kaggle": {
   "accelerator": "nvidiaTeslaT4",
   "dataSources": [
    {
     "databundleVersionId": 6989718,
     "sourceId": 60892,
     "sourceType": "competition"
    }
   ],
   "dockerImageVersionId": 30588,
   "isGpuEnabled": true,
   "isInternetEnabled": true,
   "language": "python",
   "sourceType": "notebook"
  },
  "kernelspec": {
   "display_name": "Python 3",
   "language": "python",
   "name": "python3"
  },
  "language_info": {
   "codemirror_mode": {
    "name": "ipython",
    "version": 3
   },
   "file_extension": ".py",
   "mimetype": "text/x-python",
   "name": "python",
   "nbconvert_exporter": "python",
   "pygments_lexer": "ipython3",
   "version": "3.10.12"
  },
  "papermill": {
   "default_parameters": {},
   "duration": 118.816189,
   "end_time": "2023-12-03T21:25:01.521242",
   "environment_variables": {},
   "exception": null,
   "input_path": "__notebook__.ipynb",
   "output_path": "__notebook__.ipynb",
   "parameters": {},
   "start_time": "2023-12-03T21:23:02.705053",
   "version": "2.4.0"
  }
 },
 "nbformat": 4,
 "nbformat_minor": 5
}
