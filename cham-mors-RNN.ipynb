{
 "cells": [
  {
   "cell_type": "code",
   "execution_count": 1,
   "id": "562364ea",
   "metadata": {
    "_cell_guid": "b1076dfc-b9ad-4769-8c92-a6c4dae69d19",
    "_uuid": "8f2839f25d086af736a60e9eeb907d3b93b6e0e5",
    "execution": {
     "iopub.execute_input": "2023-12-03T20:41:52.134843Z",
     "iopub.status.busy": "2023-12-03T20:41:52.134160Z",
     "iopub.status.idle": "2023-12-03T20:42:05.681393Z",
     "shell.execute_reply": "2023-12-03T20:42:05.680143Z"
    },
    "papermill": {
     "duration": 13.561091,
     "end_time": "2023-12-03T20:42:05.683654",
     "exception": false,
     "start_time": "2023-12-03T20:41:52.122563",
     "status": "completed"
    },
    "tags": []
   },
   "outputs": [
    {
     "name": "stderr",
     "output_type": "stream",
     "text": [
      "/opt/conda/lib/python3.10/site-packages/scipy/__init__.py:146: UserWarning: A NumPy version >=1.16.5 and <1.23.0 is required for this version of SciPy (detected version 1.24.3\n",
      "  warnings.warn(f\"A NumPy version >={np_minversion} and <{np_maxversion}\"\n"
     ]
    },
    {
     "name": "stdout",
     "output_type": "stream",
     "text": [
      "/kaggle/input/playground-series-s3e25/sample_submission.csv\n",
      "/kaggle/input/playground-series-s3e25/train.csv\n",
      "/kaggle/input/playground-series-s3e25/test.csv\n"
     ]
    }
   ],
   "source": [
    "# This Python 3 environment comes with many helpful analytics libraries installed\n",
    "# It is defined by the kaggle/python Docker image: https://github.com/kaggle/docker-python\n",
    "# For example, here's several helpful packages to load\n",
    "\n",
    "import numpy as np # linear algebra\n",
    "import pandas as pd # data processing, CSV file I/O (e.g. pd.read_csv)\n",
    "import matplotlib.pyplot as plt\n",
    "\n",
    "import tensorflow as tf\n",
    "import tensorflow.keras.layers as layers\n",
    "\n",
    "# Input data files are available in the read-only \"../input/\" directory\n",
    "# For example, running this (by clicking run or pressing Shift+Enter) will list all files under the input directory\n",
    "\n",
    "import os\n",
    "for dirname, _, filenames in os.walk('/kaggle/input'):\n",
    "    for filename in filenames:\n",
    "        print(os.path.join(dirname, filename))\n",
    "\n",
    "# You can write up to 20GB to the current directory (/kaggle/working/) that gets preserved as output when you create a version using \"Save & Run All\" \n",
    "# You can also write temporary files to /kaggle/temp/, but they won't be saved outside of the current session"
   ]
  },
  {
   "cell_type": "code",
   "execution_count": 2,
   "id": "08f4d082",
   "metadata": {
    "execution": {
     "iopub.execute_input": "2023-12-03T20:42:05.705281Z",
     "iopub.status.busy": "2023-12-03T20:42:05.704164Z",
     "iopub.status.idle": "2023-12-03T20:42:05.769622Z",
     "shell.execute_reply": "2023-12-03T20:42:05.768766Z"
    },
    "papermill": {
     "duration": 0.078552,
     "end_time": "2023-12-03T20:42:05.771990",
     "exception": false,
     "start_time": "2023-12-03T20:42:05.693438",
     "status": "completed"
    },
    "tags": []
   },
   "outputs": [],
   "source": [
    "filepath = \"/kaggle/input/playground-series-s3e25/train.csv\"\n",
    "\n",
    "dataset = pd.read_csv(filepath)"
   ]
  },
  {
   "cell_type": "code",
   "execution_count": 3,
   "id": "b9e48475",
   "metadata": {
    "execution": {
     "iopub.execute_input": "2023-12-03T20:42:05.793106Z",
     "iopub.status.busy": "2023-12-03T20:42:05.792807Z",
     "iopub.status.idle": "2023-12-03T20:42:05.823346Z",
     "shell.execute_reply": "2023-12-03T20:42:05.822239Z"
    },
    "papermill": {
     "duration": 0.043412,
     "end_time": "2023-12-03T20:42:05.825455",
     "exception": false,
     "start_time": "2023-12-03T20:42:05.782043",
     "status": "completed"
    },
    "tags": []
   },
   "outputs": [
    {
     "name": "stdout",
     "output_type": "stream",
     "text": [
      "<class 'pandas.core.frame.DataFrame'>\n",
      "RangeIndex: 10407 entries, 0 to 10406\n",
      "Data columns (total 13 columns):\n",
      " #   Column                 Non-Null Count  Dtype  \n",
      "---  ------                 --------------  -----  \n",
      " 0   id                     10407 non-null  int64  \n",
      " 1   allelectrons_Total     10407 non-null  float64\n",
      " 2   density_Total          10407 non-null  float64\n",
      " 3   allelectrons_Average   10407 non-null  float64\n",
      " 4   val_e_Average          10407 non-null  float64\n",
      " 5   atomicweight_Average   10407 non-null  float64\n",
      " 6   ionenergy_Average      10407 non-null  float64\n",
      " 7   el_neg_chi_Average     10407 non-null  float64\n",
      " 8   R_vdw_element_Average  10407 non-null  float64\n",
      " 9   R_cov_element_Average  10407 non-null  float64\n",
      " 10  zaratio_Average        10407 non-null  float64\n",
      " 11  density_Average        10407 non-null  float64\n",
      " 12  Hardness               10407 non-null  float64\n",
      "dtypes: float64(12), int64(1)\n",
      "memory usage: 1.0 MB\n"
     ]
    }
   ],
   "source": [
    "dataset.info()"
   ]
  },
  {
   "cell_type": "code",
   "execution_count": 4,
   "id": "4de73026",
   "metadata": {
    "execution": {
     "iopub.execute_input": "2023-12-03T20:42:05.845854Z",
     "iopub.status.busy": "2023-12-03T20:42:05.845574Z",
     "iopub.status.idle": "2023-12-03T20:42:05.852172Z",
     "shell.execute_reply": "2023-12-03T20:42:05.851279Z"
    },
    "papermill": {
     "duration": 0.019299,
     "end_time": "2023-12-03T20:42:05.854318",
     "exception": false,
     "start_time": "2023-12-03T20:42:05.835019",
     "status": "completed"
    },
    "tags": []
   },
   "outputs": [],
   "source": [
    "y = dataset.pop('Hardness')\n",
    "x = dataset"
   ]
  },
  {
   "cell_type": "markdown",
   "id": "bcaca93e",
   "metadata": {
    "papermill": {
     "duration": 0.008988,
     "end_time": "2023-12-03T20:42:05.873030",
     "exception": false,
     "start_time": "2023-12-03T20:42:05.864042",
     "status": "completed"
    },
    "tags": []
   },
   "source": [
    "### Check dataset"
   ]
  },
  {
   "cell_type": "code",
   "execution_count": 5,
   "id": "cf48aea7",
   "metadata": {
    "execution": {
     "iopub.execute_input": "2023-12-03T20:42:05.893471Z",
     "iopub.status.busy": "2023-12-03T20:42:05.893041Z",
     "iopub.status.idle": "2023-12-03T20:42:05.915471Z",
     "shell.execute_reply": "2023-12-03T20:42:05.914244Z"
    },
    "papermill": {
     "duration": 0.034986,
     "end_time": "2023-12-03T20:42:05.917453",
     "exception": false,
     "start_time": "2023-12-03T20:42:05.882467",
     "status": "completed"
    },
    "tags": []
   },
   "outputs": [
    {
     "data": {
      "text/html": [
       "<div>\n",
       "<style scoped>\n",
       "    .dataframe tbody tr th:only-of-type {\n",
       "        vertical-align: middle;\n",
       "    }\n",
       "\n",
       "    .dataframe tbody tr th {\n",
       "        vertical-align: top;\n",
       "    }\n",
       "\n",
       "    .dataframe thead th {\n",
       "        text-align: right;\n",
       "    }\n",
       "</style>\n",
       "<table border=\"1\" class=\"dataframe\">\n",
       "  <thead>\n",
       "    <tr style=\"text-align: right;\">\n",
       "      <th></th>\n",
       "      <th>id</th>\n",
       "      <th>allelectrons_Total</th>\n",
       "      <th>density_Total</th>\n",
       "      <th>allelectrons_Average</th>\n",
       "      <th>val_e_Average</th>\n",
       "      <th>atomicweight_Average</th>\n",
       "      <th>ionenergy_Average</th>\n",
       "      <th>el_neg_chi_Average</th>\n",
       "      <th>R_vdw_element_Average</th>\n",
       "      <th>R_cov_element_Average</th>\n",
       "      <th>zaratio_Average</th>\n",
       "      <th>density_Average</th>\n",
       "    </tr>\n",
       "  </thead>\n",
       "  <tbody>\n",
       "    <tr>\n",
       "      <th>0</th>\n",
       "      <td>0</td>\n",
       "      <td>100.0</td>\n",
       "      <td>0.841611</td>\n",
       "      <td>10.0</td>\n",
       "      <td>4.8</td>\n",
       "      <td>20.612526</td>\n",
       "      <td>11.08810</td>\n",
       "      <td>2.766</td>\n",
       "      <td>1.732</td>\n",
       "      <td>0.860</td>\n",
       "      <td>0.496070</td>\n",
       "      <td>0.91457</td>\n",
       "    </tr>\n",
       "    <tr>\n",
       "      <th>1</th>\n",
       "      <td>1</td>\n",
       "      <td>100.0</td>\n",
       "      <td>7.558488</td>\n",
       "      <td>10.0</td>\n",
       "      <td>4.8</td>\n",
       "      <td>20.298893</td>\n",
       "      <td>12.04083</td>\n",
       "      <td>2.755</td>\n",
       "      <td>1.631</td>\n",
       "      <td>0.910</td>\n",
       "      <td>0.492719</td>\n",
       "      <td>0.71760</td>\n",
       "    </tr>\n",
       "    <tr>\n",
       "      <th>2</th>\n",
       "      <td>2</td>\n",
       "      <td>76.0</td>\n",
       "      <td>8.885992</td>\n",
       "      <td>15.6</td>\n",
       "      <td>5.6</td>\n",
       "      <td>33.739258</td>\n",
       "      <td>12.08630</td>\n",
       "      <td>2.828</td>\n",
       "      <td>1.788</td>\n",
       "      <td>0.864</td>\n",
       "      <td>0.481478</td>\n",
       "      <td>1.50633</td>\n",
       "    </tr>\n",
       "    <tr>\n",
       "      <th>3</th>\n",
       "      <td>3</td>\n",
       "      <td>100.0</td>\n",
       "      <td>8.795296</td>\n",
       "      <td>10.0</td>\n",
       "      <td>4.8</td>\n",
       "      <td>20.213349</td>\n",
       "      <td>10.94850</td>\n",
       "      <td>2.648</td>\n",
       "      <td>1.626</td>\n",
       "      <td>0.936</td>\n",
       "      <td>0.489272</td>\n",
       "      <td>0.78937</td>\n",
       "    </tr>\n",
       "    <tr>\n",
       "      <th>4</th>\n",
       "      <td>4</td>\n",
       "      <td>116.0</td>\n",
       "      <td>9.577996</td>\n",
       "      <td>11.6</td>\n",
       "      <td>4.8</td>\n",
       "      <td>24.988133</td>\n",
       "      <td>11.82448</td>\n",
       "      <td>2.766</td>\n",
       "      <td>1.682</td>\n",
       "      <td>0.896</td>\n",
       "      <td>0.492736</td>\n",
       "      <td>1.86481</td>\n",
       "    </tr>\n",
       "  </tbody>\n",
       "</table>\n",
       "</div>"
      ],
      "text/plain": [
       "   id  allelectrons_Total  density_Total  allelectrons_Average  val_e_Average  \\\n",
       "0   0               100.0       0.841611                  10.0            4.8   \n",
       "1   1               100.0       7.558488                  10.0            4.8   \n",
       "2   2                76.0       8.885992                  15.6            5.6   \n",
       "3   3               100.0       8.795296                  10.0            4.8   \n",
       "4   4               116.0       9.577996                  11.6            4.8   \n",
       "\n",
       "   atomicweight_Average  ionenergy_Average  el_neg_chi_Average  \\\n",
       "0             20.612526           11.08810               2.766   \n",
       "1             20.298893           12.04083               2.755   \n",
       "2             33.739258           12.08630               2.828   \n",
       "3             20.213349           10.94850               2.648   \n",
       "4             24.988133           11.82448               2.766   \n",
       "\n",
       "   R_vdw_element_Average  R_cov_element_Average  zaratio_Average  \\\n",
       "0                  1.732                  0.860         0.496070   \n",
       "1                  1.631                  0.910         0.492719   \n",
       "2                  1.788                  0.864         0.481478   \n",
       "3                  1.626                  0.936         0.489272   \n",
       "4                  1.682                  0.896         0.492736   \n",
       "\n",
       "   density_Average  \n",
       "0          0.91457  \n",
       "1          0.71760  \n",
       "2          1.50633  \n",
       "3          0.78937  \n",
       "4          1.86481  "
      ]
     },
     "execution_count": 5,
     "metadata": {},
     "output_type": "execute_result"
    }
   ],
   "source": [
    "x.head()"
   ]
  },
  {
   "cell_type": "code",
   "execution_count": 6,
   "id": "29a8d714",
   "metadata": {
    "execution": {
     "iopub.execute_input": "2023-12-03T20:42:05.937832Z",
     "iopub.status.busy": "2023-12-03T20:42:05.937520Z",
     "iopub.status.idle": "2023-12-03T20:42:05.944850Z",
     "shell.execute_reply": "2023-12-03T20:42:05.944018Z"
    },
    "papermill": {
     "duration": 0.019742,
     "end_time": "2023-12-03T20:42:05.946863",
     "exception": false,
     "start_time": "2023-12-03T20:42:05.927121",
     "status": "completed"
    },
    "tags": []
   },
   "outputs": [
    {
     "data": {
      "text/plain": [
       "0    6.0\n",
       "1    6.5\n",
       "2    2.5\n",
       "3    6.0\n",
       "4    6.0\n",
       "Name: Hardness, dtype: float64"
      ]
     },
     "execution_count": 6,
     "metadata": {},
     "output_type": "execute_result"
    }
   ],
   "source": [
    "y.head()"
   ]
  },
  {
   "cell_type": "markdown",
   "id": "0be1c808",
   "metadata": {
    "papermill": {
     "duration": 0.009445,
     "end_time": "2023-12-03T20:42:05.965904",
     "exception": false,
     "start_time": "2023-12-03T20:42:05.956459",
     "status": "completed"
    },
    "tags": []
   },
   "source": [
    "# Inspect hardness values\n",
    "\n",
    "If they are continous or discrete"
   ]
  },
  {
   "cell_type": "code",
   "execution_count": 7,
   "id": "edfc0f6f",
   "metadata": {
    "execution": {
     "iopub.execute_input": "2023-12-03T20:42:05.986445Z",
     "iopub.status.busy": "2023-12-03T20:42:05.986084Z",
     "iopub.status.idle": "2023-12-03T20:42:05.997241Z",
     "shell.execute_reply": "2023-12-03T20:42:05.996410Z"
    },
    "papermill": {
     "duration": 0.023789,
     "end_time": "2023-12-03T20:42:05.999189",
     "exception": false,
     "start_time": "2023-12-03T20:42:05.975400",
     "status": "completed"
    },
    "tags": []
   },
   "outputs": [
    {
     "data": {
      "text/plain": [
       "count    10407.000000\n",
       "mean         4.647126\n",
       "std          1.680525\n",
       "min          1.000000\n",
       "25%          3.000000\n",
       "50%          5.500000\n",
       "75%          6.000000\n",
       "max         10.000000\n",
       "Name: Hardness, dtype: float64"
      ]
     },
     "execution_count": 7,
     "metadata": {},
     "output_type": "execute_result"
    }
   ],
   "source": [
    "y.describe()"
   ]
  },
  {
   "cell_type": "code",
   "execution_count": 8,
   "id": "a868c614",
   "metadata": {
    "execution": {
     "iopub.execute_input": "2023-12-03T20:42:06.019855Z",
     "iopub.status.busy": "2023-12-03T20:42:06.019014Z",
     "iopub.status.idle": "2023-12-03T20:42:06.026224Z",
     "shell.execute_reply": "2023-12-03T20:42:06.025199Z"
    },
    "papermill": {
     "duration": 0.019414,
     "end_time": "2023-12-03T20:42:06.027998",
     "exception": false,
     "start_time": "2023-12-03T20:42:06.008584",
     "status": "completed"
    },
    "tags": []
   },
   "outputs": [
    {
     "name": "stdout",
     "output_type": "stream",
     "text": [
      "[1.0, 1.3, 1.5, 1.8, 2.0, 2.1, 2.2, 2.3, 2.5, 2.6, 2.8, 2.9, 3.0, 3.2, 3.3, 3.5, 3.6, 3.8, 4.0, 4.1, 4.3, 4.5, 4.7, 4.8, 5.0, 5.3, 5.4, 5.5, 5.75, 5.8, 6.0, 6.2, 6.3, 6.4, 6.5, 6.64, 6.7, 6.8, 7.0, 7.3, 7.5, 7.8, 8.0, 8.1, 8.3, 8.5, 9.0, 9.5, 9.8, 10.0]\n",
      "50\n"
     ]
    }
   ],
   "source": [
    "hardness_set = set(y)\n",
    "print(sorted(hardness_set))\n",
    "print(len(hardness_set))"
   ]
  },
  {
   "cell_type": "markdown",
   "id": "c9cc2005",
   "metadata": {
    "papermill": {
     "duration": 0.010024,
     "end_time": "2023-12-03T20:42:06.047824",
     "exception": false,
     "start_time": "2023-12-03T20:42:06.037800",
     "status": "completed"
    },
    "tags": []
   },
   "source": [
    "Try normalise hardness values"
   ]
  },
  {
   "cell_type": "code",
   "execution_count": 9,
   "id": "b8f8804b",
   "metadata": {
    "execution": {
     "iopub.execute_input": "2023-12-03T20:42:06.069499Z",
     "iopub.status.busy": "2023-12-03T20:42:06.068928Z",
     "iopub.status.idle": "2023-12-03T20:42:06.080865Z",
     "shell.execute_reply": "2023-12-03T20:42:06.079926Z"
    },
    "papermill": {
     "duration": 0.025069,
     "end_time": "2023-12-03T20:42:06.082945",
     "exception": false,
     "start_time": "2023-12-03T20:42:06.057876",
     "status": "completed"
    },
    "tags": []
   },
   "outputs": [
    {
     "data": {
      "text/plain": [
       "count    10407.000000\n",
       "mean         0.464713\n",
       "std          0.168053\n",
       "min          0.100000\n",
       "25%          0.300000\n",
       "50%          0.550000\n",
       "75%          0.600000\n",
       "max          1.000000\n",
       "Name: Hardness, dtype: float64"
      ]
     },
     "execution_count": 9,
     "metadata": {},
     "output_type": "execute_result"
    }
   ],
   "source": [
    "y = y / max(y)\n",
    "y.describe()"
   ]
  },
  {
   "cell_type": "markdown",
   "id": "5e9e814d",
   "metadata": {
    "papermill": {
     "duration": 0.009682,
     "end_time": "2023-12-03T20:42:06.103323",
     "exception": false,
     "start_time": "2023-12-03T20:42:06.093641",
     "status": "completed"
    },
    "tags": []
   },
   "source": [
    "### Normalise training dataset"
   ]
  },
  {
   "cell_type": "code",
   "execution_count": 10,
   "id": "7767e55d",
   "metadata": {
    "execution": {
     "iopub.execute_input": "2023-12-03T20:42:06.125436Z",
     "iopub.status.busy": "2023-12-03T20:42:06.125024Z",
     "iopub.status.idle": "2023-12-03T20:42:06.153930Z",
     "shell.execute_reply": "2023-12-03T20:42:06.152823Z"
    },
    "papermill": {
     "duration": 0.043079,
     "end_time": "2023-12-03T20:42:06.156273",
     "exception": false,
     "start_time": "2023-12-03T20:42:06.113194",
     "status": "completed"
    },
    "tags": []
   },
   "outputs": [],
   "source": [
    "for column in x:\n",
    "    if column != 'id':\n",
    "        x[column] = x[column] / max(x[column])"
   ]
  },
  {
   "cell_type": "code",
   "execution_count": 11,
   "id": "f5ac8eb7",
   "metadata": {
    "execution": {
     "iopub.execute_input": "2023-12-03T20:42:06.179043Z",
     "iopub.status.busy": "2023-12-03T20:42:06.178194Z",
     "iopub.status.idle": "2023-12-03T20:42:06.225015Z",
     "shell.execute_reply": "2023-12-03T20:42:06.224028Z"
    },
    "papermill": {
     "duration": 0.060352,
     "end_time": "2023-12-03T20:42:06.227087",
     "exception": false,
     "start_time": "2023-12-03T20:42:06.166735",
     "status": "completed"
    },
    "tags": []
   },
   "outputs": [
    {
     "data": {
      "text/html": [
       "<div>\n",
       "<style scoped>\n",
       "    .dataframe tbody tr th:only-of-type {\n",
       "        vertical-align: middle;\n",
       "    }\n",
       "\n",
       "    .dataframe tbody tr th {\n",
       "        vertical-align: top;\n",
       "    }\n",
       "\n",
       "    .dataframe thead th {\n",
       "        text-align: right;\n",
       "    }\n",
       "</style>\n",
       "<table border=\"1\" class=\"dataframe\">\n",
       "  <thead>\n",
       "    <tr style=\"text-align: right;\">\n",
       "      <th></th>\n",
       "      <th>id</th>\n",
       "      <th>allelectrons_Total</th>\n",
       "      <th>density_Total</th>\n",
       "      <th>allelectrons_Average</th>\n",
       "      <th>val_e_Average</th>\n",
       "      <th>atomicweight_Average</th>\n",
       "      <th>ionenergy_Average</th>\n",
       "      <th>el_neg_chi_Average</th>\n",
       "      <th>R_vdw_element_Average</th>\n",
       "      <th>R_cov_element_Average</th>\n",
       "      <th>zaratio_Average</th>\n",
       "      <th>density_Average</th>\n",
       "    </tr>\n",
       "  </thead>\n",
       "  <tbody>\n",
       "    <tr>\n",
       "      <th>count</th>\n",
       "      <td>10407.00000</td>\n",
       "      <td>10407.000000</td>\n",
       "      <td>10407.000000</td>\n",
       "      <td>10407.000000</td>\n",
       "      <td>10407.000000</td>\n",
       "      <td>10407.000000</td>\n",
       "      <td>10407.000000</td>\n",
       "      <td>10407.000000</td>\n",
       "      <td>10407.000000</td>\n",
       "      <td>10407.000000</td>\n",
       "      <td>10407.000000</td>\n",
       "      <td>10407.000000</td>\n",
       "    </tr>\n",
       "    <tr>\n",
       "      <th>mean</th>\n",
       "      <td>5203.00000</td>\n",
       "      <td>0.008370</td>\n",
       "      <td>0.022534</td>\n",
       "      <td>0.254227</td>\n",
       "      <td>0.757798</td>\n",
       "      <td>0.224060</td>\n",
       "      <td>0.717463</td>\n",
       "      <td>0.757381</td>\n",
       "      <td>0.769480</td>\n",
       "      <td>0.584298</td>\n",
       "      <td>0.597282</td>\n",
       "      <td>0.194438</td>\n",
       "    </tr>\n",
       "    <tr>\n",
       "      <th>std</th>\n",
       "      <td>3004.38646</td>\n",
       "      <td>0.014649</td>\n",
       "      <td>0.024838</td>\n",
       "      <td>0.156250</td>\n",
       "      <td>0.115144</td>\n",
       "      <td>0.155390</td>\n",
       "      <td>0.092371</td>\n",
       "      <td>0.097272</td>\n",
       "      <td>0.085547</td>\n",
       "      <td>0.111407</td>\n",
       "      <td>0.076369</td>\n",
       "      <td>0.176541</td>\n",
       "    </tr>\n",
       "    <tr>\n",
       "      <th>min</th>\n",
       "      <td>0.00000</td>\n",
       "      <td>0.000000</td>\n",
       "      <td>0.000000</td>\n",
       "      <td>0.000000</td>\n",
       "      <td>0.000000</td>\n",
       "      <td>0.000000</td>\n",
       "      <td>0.000000</td>\n",
       "      <td>0.000000</td>\n",
       "      <td>0.000000</td>\n",
       "      <td>0.000000</td>\n",
       "      <td>0.000000</td>\n",
       "      <td>0.000000</td>\n",
       "    </tr>\n",
       "    <tr>\n",
       "      <th>25%</th>\n",
       "      <td>2601.50000</td>\n",
       "      <td>0.004444</td>\n",
       "      <td>0.011753</td>\n",
       "      <td>0.149254</td>\n",
       "      <td>0.666667</td>\n",
       "      <td>0.121260</td>\n",
       "      <td>0.694660</td>\n",
       "      <td>0.734824</td>\n",
       "      <td>0.743333</td>\n",
       "      <td>0.534706</td>\n",
       "      <td>0.576515</td>\n",
       "      <td>0.074275</td>\n",
       "    </tr>\n",
       "    <tr>\n",
       "      <th>50%</th>\n",
       "      <td>5203.00000</td>\n",
       "      <td>0.006536</td>\n",
       "      <td>0.016561</td>\n",
       "      <td>0.188060</td>\n",
       "      <td>0.785714</td>\n",
       "      <td>0.156534</td>\n",
       "      <td>0.734809</td>\n",
       "      <td>0.785942</td>\n",
       "      <td>0.770101</td>\n",
       "      <td>0.566613</td>\n",
       "      <td>0.591472</td>\n",
       "      <td>0.123204</td>\n",
       "    </tr>\n",
       "    <tr>\n",
       "      <th>75%</th>\n",
       "      <td>7804.50000</td>\n",
       "      <td>0.008562</td>\n",
       "      <td>0.025932</td>\n",
       "      <td>0.328358</td>\n",
       "      <td>0.800000</td>\n",
       "      <td>0.291036</td>\n",
       "      <td>0.765504</td>\n",
       "      <td>0.814696</td>\n",
       "      <td>0.800000</td>\n",
       "      <td>0.607527</td>\n",
       "      <td>0.600576</td>\n",
       "      <td>0.249913</td>\n",
       "    </tr>\n",
       "    <tr>\n",
       "      <th>max</th>\n",
       "      <td>10406.00000</td>\n",
       "      <td>1.000000</td>\n",
       "      <td>1.000000</td>\n",
       "      <td>1.000000</td>\n",
       "      <td>1.000000</td>\n",
       "      <td>1.000000</td>\n",
       "      <td>1.000000</td>\n",
       "      <td>1.000000</td>\n",
       "      <td>1.000000</td>\n",
       "      <td>1.000000</td>\n",
       "      <td>1.000000</td>\n",
       "      <td>1.000000</td>\n",
       "    </tr>\n",
       "  </tbody>\n",
       "</table>\n",
       "</div>"
      ],
      "text/plain": [
       "                id  allelectrons_Total  density_Total  allelectrons_Average  \\\n",
       "count  10407.00000        10407.000000   10407.000000          10407.000000   \n",
       "mean    5203.00000            0.008370       0.022534              0.254227   \n",
       "std     3004.38646            0.014649       0.024838              0.156250   \n",
       "min        0.00000            0.000000       0.000000              0.000000   \n",
       "25%     2601.50000            0.004444       0.011753              0.149254   \n",
       "50%     5203.00000            0.006536       0.016561              0.188060   \n",
       "75%     7804.50000            0.008562       0.025932              0.328358   \n",
       "max    10406.00000            1.000000       1.000000              1.000000   \n",
       "\n",
       "       val_e_Average  atomicweight_Average  ionenergy_Average  \\\n",
       "count   10407.000000          10407.000000       10407.000000   \n",
       "mean        0.757798              0.224060           0.717463   \n",
       "std         0.115144              0.155390           0.092371   \n",
       "min         0.000000              0.000000           0.000000   \n",
       "25%         0.666667              0.121260           0.694660   \n",
       "50%         0.785714              0.156534           0.734809   \n",
       "75%         0.800000              0.291036           0.765504   \n",
       "max         1.000000              1.000000           1.000000   \n",
       "\n",
       "       el_neg_chi_Average  R_vdw_element_Average  R_cov_element_Average  \\\n",
       "count        10407.000000           10407.000000           10407.000000   \n",
       "mean             0.757381               0.769480               0.584298   \n",
       "std              0.097272               0.085547               0.111407   \n",
       "min              0.000000               0.000000               0.000000   \n",
       "25%              0.734824               0.743333               0.534706   \n",
       "50%              0.785942               0.770101               0.566613   \n",
       "75%              0.814696               0.800000               0.607527   \n",
       "max              1.000000               1.000000               1.000000   \n",
       "\n",
       "       zaratio_Average  density_Average  \n",
       "count     10407.000000     10407.000000  \n",
       "mean          0.597282         0.194438  \n",
       "std           0.076369         0.176541  \n",
       "min           0.000000         0.000000  \n",
       "25%           0.576515         0.074275  \n",
       "50%           0.591472         0.123204  \n",
       "75%           0.600576         0.249913  \n",
       "max           1.000000         1.000000  "
      ]
     },
     "execution_count": 11,
     "metadata": {},
     "output_type": "execute_result"
    }
   ],
   "source": [
    "x.describe()"
   ]
  },
  {
   "cell_type": "markdown",
   "id": "356cd085",
   "metadata": {
    "papermill": {
     "duration": 0.010812,
     "end_time": "2023-12-03T20:42:06.248763",
     "exception": false,
     "start_time": "2023-12-03T20:42:06.237951",
     "status": "completed"
    },
    "tags": []
   },
   "source": [
    "### Create Recurrent model"
   ]
  },
  {
   "cell_type": "code",
   "execution_count": 12,
   "id": "c43a1f23",
   "metadata": {
    "execution": {
     "iopub.execute_input": "2023-12-03T20:42:06.270448Z",
     "iopub.status.busy": "2023-12-03T20:42:06.270114Z",
     "iopub.status.idle": "2023-12-03T20:42:06.274700Z",
     "shell.execute_reply": "2023-12-03T20:42:06.273861Z"
    },
    "papermill": {
     "duration": 0.017718,
     "end_time": "2023-12-03T20:42:06.276689",
     "exception": false,
     "start_time": "2023-12-03T20:42:06.258971",
     "status": "completed"
    },
    "tags": []
   },
   "outputs": [
    {
     "name": "stdout",
     "output_type": "stream",
     "text": [
      "(10407, 12)\n"
     ]
    }
   ],
   "source": [
    "input_shape = x.shape\n",
    "print(input_shape)"
   ]
  },
  {
   "cell_type": "markdown",
   "id": "cbef9c6c",
   "metadata": {
    "papermill": {
     "duration": 0.010183,
     "end_time": "2023-12-03T20:42:06.297272",
     "exception": false,
     "start_time": "2023-12-03T20:42:06.287089",
     "status": "completed"
    },
    "tags": []
   },
   "source": [
    "try with for loop"
   ]
  },
  {
   "cell_type": "code",
   "execution_count": 13,
   "id": "d53c4823",
   "metadata": {
    "execution": {
     "iopub.execute_input": "2023-12-03T20:42:06.319188Z",
     "iopub.status.busy": "2023-12-03T20:42:06.318892Z",
     "iopub.status.idle": "2023-12-03T20:42:06.323175Z",
     "shell.execute_reply": "2023-12-03T20:42:06.322377Z"
    },
    "papermill": {
     "duration": 0.017373,
     "end_time": "2023-12-03T20:42:06.325004",
     "exception": false,
     "start_time": "2023-12-03T20:42:06.307631",
     "status": "completed"
    },
    "tags": []
   },
   "outputs": [],
   "source": [
    "# timesteps = 12\n",
    "# features = 1  # 1D data\n",
    "\n",
    "# def get_RNN_network():\n",
    "#     input_shape = x.shape[1]\n",
    "#     #input_layer = layers.Input(input_shape)\n",
    "    \n",
    "#     LSTM_1 = layers.LSTM(units=64, input_shape=(input_shape, features))\n",
    "    \n",
    "#     output_layer = layers.Dense(units=1)(LSTM_1)\n",
    "    \n",
    "#     return tf.keras.Model(inputs=LSTM_1, outputs=LSTM_1)\n",
    "\n",
    "# DNN_model = get_RNN_network()\n",
    "\n",
    "# loss_function = tf.keras.losses.MeanAbsoluteError()\n",
    "# optimiser = tf.keras.optimizers.Adam(learning_rate=0.0001) # changed lr from 0.001\n",
    "# DNN_model.compile(loss = loss_function, optimizer=optimiser, metrics=['mae'])"
   ]
  },
  {
   "cell_type": "markdown",
   "id": "97380681",
   "metadata": {
    "papermill": {
     "duration": 0.010255,
     "end_time": "2023-12-03T20:42:06.345344",
     "exception": false,
     "start_time": "2023-12-03T20:42:06.335089",
     "status": "completed"
    },
    "tags": []
   },
   "source": [
    "try with sequential model"
   ]
  },
  {
   "cell_type": "code",
   "execution_count": 14,
   "id": "216c41d0",
   "metadata": {
    "execution": {
     "iopub.execute_input": "2023-12-03T20:42:06.367988Z",
     "iopub.status.busy": "2023-12-03T20:42:06.367220Z",
     "iopub.status.idle": "2023-12-03T20:42:11.165974Z",
     "shell.execute_reply": "2023-12-03T20:42:11.165192Z"
    },
    "papermill": {
     "duration": 4.812261,
     "end_time": "2023-12-03T20:42:11.168263",
     "exception": false,
     "start_time": "2023-12-03T20:42:06.356002",
     "status": "completed"
    },
    "tags": []
   },
   "outputs": [],
   "source": [
    "features = 1 # 1D data\n",
    "input_shape = x.shape[1]\n",
    "\n",
    "model = tf.keras.models.Sequential([\n",
    "    layers.LSTM(units=128, input_shape=(input_shape, features), return_sequences=True),\n",
    "    layers.LSTM(units=64, return_sequences=True),\n",
    "    layers.LSTM(units=32),\n",
    "    layers.Dense(units=1)\n",
    "])\n",
    "\n",
    "loss_function = tf.keras.losses.MeanAbsoluteError()\n",
    "optimiser = tf.keras.optimizers.Adam(learning_rate=0.0001) # changed lr from 0.001\n",
    "model.compile(loss = loss_function, optimizer=optimiser, metrics=['mae'])"
   ]
  },
  {
   "cell_type": "code",
   "execution_count": 15,
   "id": "abcb26cc",
   "metadata": {
    "execution": {
     "iopub.execute_input": "2023-12-03T20:42:11.190790Z",
     "iopub.status.busy": "2023-12-03T20:42:11.190502Z",
     "iopub.status.idle": "2023-12-03T20:42:11.210205Z",
     "shell.execute_reply": "2023-12-03T20:42:11.209384Z"
    },
    "papermill": {
     "duration": 0.037044,
     "end_time": "2023-12-03T20:42:11.216007",
     "exception": false,
     "start_time": "2023-12-03T20:42:11.178963",
     "status": "completed"
    },
    "tags": []
   },
   "outputs": [
    {
     "name": "stdout",
     "output_type": "stream",
     "text": [
      "Model: \"sequential\"\n",
      "_________________________________________________________________\n",
      " Layer (type)                Output Shape              Param #   \n",
      "=================================================================\n",
      " lstm (LSTM)                 (None, 12, 128)           66560     \n",
      "                                                                 \n",
      " lstm_1 (LSTM)               (None, 12, 64)            49408     \n",
      "                                                                 \n",
      " lstm_2 (LSTM)               (None, 32)                12416     \n",
      "                                                                 \n",
      " dense (Dense)               (None, 1)                 33        \n",
      "                                                                 \n",
      "=================================================================\n",
      "Total params: 128417 (501.63 KB)\n",
      "Trainable params: 128417 (501.63 KB)\n",
      "Non-trainable params: 0 (0.00 Byte)\n",
      "_________________________________________________________________\n"
     ]
    }
   ],
   "source": [
    "model.summary()"
   ]
  },
  {
   "cell_type": "code",
   "execution_count": 16,
   "id": "72617576",
   "metadata": {
    "execution": {
     "iopub.execute_input": "2023-12-03T20:42:11.240998Z",
     "iopub.status.busy": "2023-12-03T20:42:11.240221Z",
     "iopub.status.idle": "2023-12-03T20:42:11.661391Z",
     "shell.execute_reply": "2023-12-03T20:42:11.660553Z"
    },
    "papermill": {
     "duration": 0.435765,
     "end_time": "2023-12-03T20:42:11.663671",
     "exception": false,
     "start_time": "2023-12-03T20:42:11.227906",
     "status": "completed"
    },
    "tags": []
   },
   "outputs": [
    {
     "data": {
      "image/png": "[encoded data removed]",
      "text/plain": [
       "<IPython.core.display.Image object>"
      ]
     },
     "execution_count": 16,
     "metadata": {},
     "output_type": "execute_result"
    }
   ],
   "source": [
    "tf.keras.utils.plot_model(model, show_shapes=True)"
   ]
  },
  {
   "cell_type": "markdown",
   "id": "bbdf3416",
   "metadata": {
    "papermill": {
     "duration": 0.012725,
     "end_time": "2023-12-03T20:42:11.689451",
     "exception": false,
     "start_time": "2023-12-03T20:42:11.676726",
     "status": "completed"
    },
    "tags": []
   },
   "source": [
    "### Test dataset"
   ]
  },
  {
   "cell_type": "code",
   "execution_count": 17,
   "id": "41fd7a80",
   "metadata": {
    "execution": {
     "iopub.execute_input": "2023-12-03T20:42:11.763369Z",
     "iopub.status.busy": "2023-12-03T20:42:11.762644Z",
     "iopub.status.idle": "2023-12-03T20:44:38.068704Z",
     "shell.execute_reply": "2023-12-03T20:44:38.067700Z"
    },
    "papermill": {
     "duration": 146.322354,
     "end_time": "2023-12-03T20:44:38.070755",
     "exception": false,
     "start_time": "2023-12-03T20:42:11.748401",
     "status": "completed"
    },
    "tags": []
   },
   "outputs": [
    {
     "name": "stdout",
     "output_type": "stream",
     "text": [
      "Epoch 1/50\n",
      "326/326 [==============================] - 11s 7ms/step - loss: 0.1642 - mae: 0.1642\n",
      "Epoch 2/50\n",
      "326/326 [==============================] - 2s 7ms/step - loss: 0.1452 - mae: 0.1452\n",
      "Epoch 3/50\n",
      "326/326 [==============================] - 2s 7ms/step - loss: 0.1444 - mae: 0.1444\n",
      "Epoch 4/50\n",
      "326/326 [==============================] - 2s 7ms/step - loss: 0.1440 - mae: 0.1440\n",
      "Epoch 5/50\n",
      "326/326 [==============================] - 2s 7ms/step - loss: 0.1438 - mae: 0.1438\n",
      "Epoch 6/50\n",
      "326/326 [==============================] - 2s 7ms/step - loss: 0.1431 - mae: 0.1431\n",
      "Epoch 7/50\n",
      "326/326 [==============================] - 2s 8ms/step - loss: 0.1403 - mae: 0.1403\n",
      "Epoch 8/50\n",
      "326/326 [==============================] - 2s 7ms/step - loss: 0.1372 - mae: 0.1372\n",
      "Epoch 9/50\n",
      "326/326 [==============================] - 2s 7ms/step - loss: 0.1316 - mae: 0.1316\n",
      "Epoch 10/50\n",
      "326/326 [==============================] - 2s 7ms/step - loss: 0.1272 - mae: 0.1272\n",
      "Epoch 11/50\n",
      "326/326 [==============================] - 2s 7ms/step - loss: 0.1193 - mae: 0.1193\n",
      "Epoch 12/50\n",
      "326/326 [==============================] - 2s 7ms/step - loss: 0.1203 - mae: 0.1203\n",
      "Epoch 13/50\n",
      "326/326 [==============================] - 2s 7ms/step - loss: 0.1178 - mae: 0.1178\n",
      "Epoch 14/50\n",
      "326/326 [==============================] - 2s 7ms/step - loss: 0.1155 - mae: 0.1155\n",
      "Epoch 15/50\n",
      "326/326 [==============================] - 2s 7ms/step - loss: 0.1171 - mae: 0.1171\n",
      "Epoch 16/50\n",
      "326/326 [==============================] - 2s 7ms/step - loss: 0.1155 - mae: 0.1155\n",
      "Epoch 17/50\n",
      "326/326 [==============================] - 2s 7ms/step - loss: 0.1161 - mae: 0.1161\n",
      "Epoch 18/50\n",
      "326/326 [==============================] - 2s 7ms/step - loss: 0.1158 - mae: 0.1158\n",
      "Epoch 19/50\n",
      "326/326 [==============================] - 2s 7ms/step - loss: 0.1151 - mae: 0.1151\n",
      "Epoch 20/50\n",
      "326/326 [==============================] - 2s 7ms/step - loss: 0.1148 - mae: 0.1148\n",
      "Epoch 21/50\n",
      "326/326 [==============================] - 2s 7ms/step - loss: 0.1163 - mae: 0.1163\n",
      "Epoch 22/50\n",
      "326/326 [==============================] - 2s 7ms/step - loss: 0.1144 - mae: 0.1144\n",
      "Epoch 23/50\n",
      "326/326 [==============================] - 2s 7ms/step - loss: 0.1150 - mae: 0.1150\n",
      "Epoch 24/50\n",
      "326/326 [==============================] - 2s 7ms/step - loss: 0.1141 - mae: 0.1141\n",
      "Epoch 25/50\n",
      "326/326 [==============================] - 2s 7ms/step - loss: 0.1155 - mae: 0.1155\n",
      "Epoch 26/50\n",
      "326/326 [==============================] - 2s 7ms/step - loss: 0.1144 - mae: 0.1144\n",
      "Epoch 27/50\n",
      "326/326 [==============================] - 2s 7ms/step - loss: 0.1154 - mae: 0.1154\n",
      "Epoch 28/50\n",
      "326/326 [==============================] - 2s 7ms/step - loss: 0.1137 - mae: 0.1137\n",
      "Epoch 29/50\n",
      "326/326 [==============================] - 2s 7ms/step - loss: 0.1151 - mae: 0.1151\n",
      "Epoch 30/50\n",
      "326/326 [==============================] - 2s 7ms/step - loss: 0.1141 - mae: 0.1141\n",
      "Epoch 31/50\n",
      "326/326 [==============================] - 2s 7ms/step - loss: 0.1145 - mae: 0.1145\n",
      "Epoch 32/50\n",
      "326/326 [==============================] - 2s 7ms/step - loss: 0.1133 - mae: 0.1133\n",
      "Epoch 33/50\n",
      "326/326 [==============================] - 2s 7ms/step - loss: 0.1140 - mae: 0.1140\n",
      "Epoch 34/50\n",
      "326/326 [==============================] - 2s 7ms/step - loss: 0.1140 - mae: 0.1140\n",
      "Epoch 35/50\n",
      "326/326 [==============================] - 2s 7ms/step - loss: 0.1141 - mae: 0.1141\n",
      "Epoch 36/50\n",
      "326/326 [==============================] - 2s 7ms/step - loss: 0.1136 - mae: 0.1136\n",
      "Epoch 37/50\n",
      "326/326 [==============================] - 2s 7ms/step - loss: 0.1140 - mae: 0.1140\n",
      "Epoch 38/50\n",
      "326/326 [==============================] - 2s 7ms/step - loss: 0.1136 - mae: 0.1136\n",
      "Epoch 39/50\n",
      "326/326 [==============================] - 2s 7ms/step - loss: 0.1126 - mae: 0.1126\n",
      "Epoch 40/50\n",
      "326/326 [==============================] - 2s 7ms/step - loss: 0.1134 - mae: 0.1134\n",
      "Epoch 41/50\n",
      "326/326 [==============================] - 2s 7ms/step - loss: 0.1132 - mae: 0.1132\n",
      "Epoch 42/50\n",
      "326/326 [==============================] - 2s 7ms/step - loss: 0.1127 - mae: 0.1127\n",
      "Epoch 43/50\n",
      "326/326 [==============================] - 2s 7ms/step - loss: 0.1135 - mae: 0.1135\n",
      "Epoch 44/50\n",
      "326/326 [==============================] - 2s 7ms/step - loss: 0.1144 - mae: 0.1144\n",
      "Epoch 45/50\n",
      "326/326 [==============================] - 2s 7ms/step - loss: 0.1129 - mae: 0.1129\n",
      "Epoch 46/50\n",
      "326/326 [==============================] - 2s 7ms/step - loss: 0.1131 - mae: 0.1131\n",
      "Epoch 47/50\n",
      "326/326 [==============================] - 2s 7ms/step - loss: 0.1126 - mae: 0.1126\n",
      "Epoch 48/50\n",
      "326/326 [==============================] - 2s 7ms/step - loss: 0.1128 - mae: 0.1128\n",
      "Epoch 49/50\n",
      "326/326 [==============================] - 2s 7ms/step - loss: 0.1126 - mae: 0.1126\n",
      "Epoch 50/50\n",
      "326/326 [==============================] - 2s 7ms/step - loss: 0.1134 - mae: 0.1134\n"
     ]
    },
    {
     "data": {
      "text/plain": [
       "<keras.src.callbacks.History at 0x793cd621e200>"
      ]
     },
     "execution_count": 17,
     "metadata": {},
     "output_type": "execute_result"
    }
   ],
   "source": [
    "model.fit(x, y, epochs=50, batch_size=32)"
   ]
  },
  {
   "cell_type": "markdown",
   "id": "354726c9",
   "metadata": {
    "papermill": {
     "duration": 0.197314,
     "end_time": "2023-12-03T20:44:38.457939",
     "exception": false,
     "start_time": "2023-12-03T20:44:38.260625",
     "status": "completed"
    },
    "tags": []
   },
   "source": [
    "### Test submission"
   ]
  },
  {
   "cell_type": "code",
   "execution_count": 18,
   "id": "b788060a",
   "metadata": {
    "execution": {
     "iopub.execute_input": "2023-12-03T20:44:38.855164Z",
     "iopub.status.busy": "2023-12-03T20:44:38.854795Z",
     "iopub.status.idle": "2023-12-03T20:44:38.889122Z",
     "shell.execute_reply": "2023-12-03T20:44:38.888321Z"
    },
    "papermill": {
     "duration": 0.242862,
     "end_time": "2023-12-03T20:44:38.891475",
     "exception": false,
     "start_time": "2023-12-03T20:44:38.648613",
     "status": "completed"
    },
    "tags": []
   },
   "outputs": [],
   "source": [
    "test_dataset = pd.read_csv(\"/kaggle/input/playground-series-s3e25/test.csv\")"
   ]
  },
  {
   "cell_type": "code",
   "execution_count": 19,
   "id": "d72e8db7",
   "metadata": {
    "execution": {
     "iopub.execute_input": "2023-12-03T20:44:39.314475Z",
     "iopub.status.busy": "2023-12-03T20:44:39.314081Z",
     "iopub.status.idle": "2023-12-03T20:44:39.337371Z",
     "shell.execute_reply": "2023-12-03T20:44:39.336423Z"
    },
    "papermill": {
     "duration": 0.233801,
     "end_time": "2023-12-03T20:44:39.339440",
     "exception": false,
     "start_time": "2023-12-03T20:44:39.105639",
     "status": "completed"
    },
    "tags": []
   },
   "outputs": [],
   "source": [
    "for column in test_dataset:\n",
    "    if column != 'id':\n",
    "        test_dataset[column] = test_dataset[column] / max(test_dataset[column])"
   ]
  },
  {
   "cell_type": "code",
   "execution_count": 20,
   "id": "f2f71b1c",
   "metadata": {
    "execution": {
     "iopub.execute_input": "2023-12-03T20:44:39.720868Z",
     "iopub.status.busy": "2023-12-03T20:44:39.720082Z",
     "iopub.status.idle": "2023-12-03T20:44:39.737480Z",
     "shell.execute_reply": "2023-12-03T20:44:39.736569Z"
    },
    "papermill": {
     "duration": 0.208497,
     "end_time": "2023-12-03T20:44:39.740064",
     "exception": false,
     "start_time": "2023-12-03T20:44:39.531567",
     "status": "completed"
    },
    "tags": []
   },
   "outputs": [
    {
     "data": {
      "text/html": [
       "<div>\n",
       "<style scoped>\n",
       "    .dataframe tbody tr th:only-of-type {\n",
       "        vertical-align: middle;\n",
       "    }\n",
       "\n",
       "    .dataframe tbody tr th {\n",
       "        vertical-align: top;\n",
       "    }\n",
       "\n",
       "    .dataframe thead th {\n",
       "        text-align: right;\n",
       "    }\n",
       "</style>\n",
       "<table border=\"1\" class=\"dataframe\">\n",
       "  <thead>\n",
       "    <tr style=\"text-align: right;\">\n",
       "      <th></th>\n",
       "      <th>id</th>\n",
       "      <th>allelectrons_Total</th>\n",
       "      <th>density_Total</th>\n",
       "      <th>allelectrons_Average</th>\n",
       "      <th>val_e_Average</th>\n",
       "      <th>atomicweight_Average</th>\n",
       "      <th>ionenergy_Average</th>\n",
       "      <th>el_neg_chi_Average</th>\n",
       "      <th>R_vdw_element_Average</th>\n",
       "      <th>R_cov_element_Average</th>\n",
       "      <th>zaratio_Average</th>\n",
       "      <th>density_Average</th>\n",
       "    </tr>\n",
       "  </thead>\n",
       "  <tbody>\n",
       "    <tr>\n",
       "      <th>0</th>\n",
       "      <td>10407</td>\n",
       "      <td>0.087386</td>\n",
       "      <td>0.188806</td>\n",
       "      <td>0.527761</td>\n",
       "      <td>0.880000</td>\n",
       "      <td>0.493197</td>\n",
       "      <td>0.614620</td>\n",
       "      <td>0.667441</td>\n",
       "      <td>0.847644</td>\n",
       "      <td>0.742881</td>\n",
       "      <td>0.559207</td>\n",
       "      <td>0.163591</td>\n",
       "    </tr>\n",
       "    <tr>\n",
       "      <th>1</th>\n",
       "      <td>10408</td>\n",
       "      <td>0.008897</td>\n",
       "      <td>0.015444</td>\n",
       "      <td>0.268657</td>\n",
       "      <td>0.933333</td>\n",
       "      <td>0.236368</td>\n",
       "      <td>0.792762</td>\n",
       "      <td>0.832994</td>\n",
       "      <td>0.734222</td>\n",
       "      <td>0.534874</td>\n",
       "      <td>0.576515</td>\n",
       "      <td>0.128709</td>\n",
       "    </tr>\n",
       "    <tr>\n",
       "      <th>2</th>\n",
       "      <td>10409</td>\n",
       "      <td>0.011467</td>\n",
       "      <td>0.012079</td>\n",
       "      <td>0.173134</td>\n",
       "      <td>0.800000</td>\n",
       "      <td>0.138780</td>\n",
       "      <td>0.723073</td>\n",
       "      <td>0.767935</td>\n",
       "      <td>0.797333</td>\n",
       "      <td>0.594305</td>\n",
       "      <td>0.604746</td>\n",
       "      <td>0.071863</td>\n",
       "    </tr>\n",
       "    <tr>\n",
       "      <th>3</th>\n",
       "      <td>10410</td>\n",
       "      <td>0.009885</td>\n",
       "      <td>0.014163</td>\n",
       "      <td>0.149254</td>\n",
       "      <td>0.800000</td>\n",
       "      <td>0.121260</td>\n",
       "      <td>0.792762</td>\n",
       "      <td>0.821377</td>\n",
       "      <td>0.738667</td>\n",
       "      <td>0.490301</td>\n",
       "      <td>0.600244</td>\n",
       "      <td>0.109814</td>\n",
       "    </tr>\n",
       "    <tr>\n",
       "      <th>4</th>\n",
       "      <td>10411</td>\n",
       "      <td>0.005437</td>\n",
       "      <td>0.006267</td>\n",
       "      <td>0.164179</td>\n",
       "      <td>0.666667</td>\n",
       "      <td>0.137262</td>\n",
       "      <td>0.739938</td>\n",
       "      <td>0.713041</td>\n",
       "      <td>0.777778</td>\n",
       "      <td>0.553033</td>\n",
       "      <td>0.576393</td>\n",
       "      <td>0.085192</td>\n",
       "    </tr>\n",
       "  </tbody>\n",
       "</table>\n",
       "</div>"
      ],
      "text/plain": [
       "      id  allelectrons_Total  density_Total  allelectrons_Average  \\\n",
       "0  10407            0.087386       0.188806              0.527761   \n",
       "1  10408            0.008897       0.015444              0.268657   \n",
       "2  10409            0.011467       0.012079              0.173134   \n",
       "3  10410            0.009885       0.014163              0.149254   \n",
       "4  10411            0.005437       0.006267              0.164179   \n",
       "\n",
       "   val_e_Average  atomicweight_Average  ionenergy_Average  el_neg_chi_Average  \\\n",
       "0       0.880000              0.493197           0.614620            0.667441   \n",
       "1       0.933333              0.236368           0.792762            0.832994   \n",
       "2       0.800000              0.138780           0.723073            0.767935   \n",
       "3       0.800000              0.121260           0.792762            0.821377   \n",
       "4       0.666667              0.137262           0.739938            0.713041   \n",
       "\n",
       "   R_vdw_element_Average  R_cov_element_Average  zaratio_Average  \\\n",
       "0               0.847644               0.742881         0.559207   \n",
       "1               0.734222               0.534874         0.576515   \n",
       "2               0.797333               0.594305         0.604746   \n",
       "3               0.738667               0.490301         0.600244   \n",
       "4               0.777778               0.553033         0.576393   \n",
       "\n",
       "   density_Average  \n",
       "0         0.163591  \n",
       "1         0.128709  \n",
       "2         0.071863  \n",
       "3         0.109814  \n",
       "4         0.085192  "
      ]
     },
     "execution_count": 20,
     "metadata": {},
     "output_type": "execute_result"
    }
   ],
   "source": [
    "test_dataset.head()"
   ]
  },
  {
   "cell_type": "code",
   "execution_count": 21,
   "id": "f50457c6",
   "metadata": {
    "execution": {
     "iopub.execute_input": "2023-12-03T20:44:40.123241Z",
     "iopub.status.busy": "2023-12-03T20:44:40.122914Z",
     "iopub.status.idle": "2023-12-03T20:44:42.065522Z",
     "shell.execute_reply": "2023-12-03T20:44:42.064618Z"
    },
    "papermill": {
     "duration": 2.138403,
     "end_time": "2023-12-03T20:44:42.067811",
     "exception": false,
     "start_time": "2023-12-03T20:44:39.929408",
     "status": "completed"
    },
    "tags": []
   },
   "outputs": [
    {
     "name": "stdout",
     "output_type": "stream",
     "text": [
      "217/217 [==============================] - 2s 3ms/step\n"
     ]
    }
   ],
   "source": [
    "predictions = model.predict(test_dataset)"
   ]
  },
  {
   "cell_type": "markdown",
   "id": "d2a3c42d",
   "metadata": {
    "papermill": {
     "duration": 0.192945,
     "end_time": "2023-12-03T20:44:42.453112",
     "exception": false,
     "start_time": "2023-12-03T20:44:42.260167",
     "status": "completed"
    },
    "tags": []
   },
   "source": [
    "Model was trained to predict normalised hardness values so need to unnormalise them"
   ]
  },
  {
   "cell_type": "code",
   "execution_count": 22,
   "id": "c4121688",
   "metadata": {
    "execution": {
     "iopub.execute_input": "2023-12-03T20:44:42.879609Z",
     "iopub.status.busy": "2023-12-03T20:44:42.879243Z",
     "iopub.status.idle": "2023-12-03T20:44:42.883776Z",
     "shell.execute_reply": "2023-12-03T20:44:42.882908Z"
    },
    "papermill": {
     "duration": 0.198507,
     "end_time": "2023-12-03T20:44:42.885815",
     "exception": false,
     "start_time": "2023-12-03T20:44:42.687308",
     "status": "completed"
    },
    "tags": []
   },
   "outputs": [],
   "source": [
    "predictions = predictions * 10 # 10 is max value of hardness in training dataset"
   ]
  },
  {
   "cell_type": "markdown",
   "id": "f5e549d9",
   "metadata": {
    "papermill": {
     "duration": 0.191819,
     "end_time": "2023-12-03T20:44:43.270315",
     "exception": false,
     "start_time": "2023-12-03T20:44:43.078496",
     "status": "completed"
    },
    "tags": []
   },
   "source": [
    "Create subbmission flie"
   ]
  },
  {
   "cell_type": "code",
   "execution_count": 23,
   "id": "44f31fdd",
   "metadata": {
    "execution": {
     "iopub.execute_input": "2023-12-03T20:44:43.656699Z",
     "iopub.status.busy": "2023-12-03T20:44:43.656312Z",
     "iopub.status.idle": "2023-12-03T20:44:43.663619Z",
     "shell.execute_reply": "2023-12-03T20:44:43.662790Z"
    },
    "papermill": {
     "duration": 0.20464,
     "end_time": "2023-12-03T20:44:43.665740",
     "exception": false,
     "start_time": "2023-12-03T20:44:43.461100",
     "status": "completed"
    },
    "tags": []
   },
   "outputs": [],
   "source": [
    "submission = pd.DataFrame()\n",
    "submission['id'] = test_dataset['id']\n",
    "submission['Hardness'] = predictions"
   ]
  },
  {
   "cell_type": "code",
   "execution_count": 24,
   "id": "2ab2e94f",
   "metadata": {
    "execution": {
     "iopub.execute_input": "2023-12-03T20:44:44.075119Z",
     "iopub.status.busy": "2023-12-03T20:44:44.074766Z",
     "iopub.status.idle": "2023-12-03T20:44:44.084606Z",
     "shell.execute_reply": "2023-12-03T20:44:44.083624Z"
    },
    "papermill": {
     "duration": 0.210363,
     "end_time": "2023-12-03T20:44:44.086789",
     "exception": false,
     "start_time": "2023-12-03T20:44:43.876426",
     "status": "completed"
    },
    "tags": []
   },
   "outputs": [
    {
     "data": {
      "text/html": [
       "<div>\n",
       "<style scoped>\n",
       "    .dataframe tbody tr th:only-of-type {\n",
       "        vertical-align: middle;\n",
       "    }\n",
       "\n",
       "    .dataframe tbody tr th {\n",
       "        vertical-align: top;\n",
       "    }\n",
       "\n",
       "    .dataframe thead th {\n",
       "        text-align: right;\n",
       "    }\n",
       "</style>\n",
       "<table border=\"1\" class=\"dataframe\">\n",
       "  <thead>\n",
       "    <tr style=\"text-align: right;\">\n",
       "      <th></th>\n",
       "      <th>id</th>\n",
       "      <th>Hardness</th>\n",
       "    </tr>\n",
       "  </thead>\n",
       "  <tbody>\n",
       "    <tr>\n",
       "      <th>0</th>\n",
       "      <td>10407</td>\n",
       "      <td>2.617746</td>\n",
       "    </tr>\n",
       "    <tr>\n",
       "      <th>1</th>\n",
       "      <td>10408</td>\n",
       "      <td>3.730274</td>\n",
       "    </tr>\n",
       "    <tr>\n",
       "      <th>2</th>\n",
       "      <td>10409</td>\n",
       "      <td>5.412306</td>\n",
       "    </tr>\n",
       "    <tr>\n",
       "      <th>3</th>\n",
       "      <td>10410</td>\n",
       "      <td>5.468734</td>\n",
       "    </tr>\n",
       "    <tr>\n",
       "      <th>4</th>\n",
       "      <td>10411</td>\n",
       "      <td>5.254254</td>\n",
       "    </tr>\n",
       "  </tbody>\n",
       "</table>\n",
       "</div>"
      ],
      "text/plain": [
       "      id  Hardness\n",
       "0  10407  2.617746\n",
       "1  10408  3.730274\n",
       "2  10409  5.412306\n",
       "3  10410  5.468734\n",
       "4  10411  5.254254"
      ]
     },
     "execution_count": 24,
     "metadata": {},
     "output_type": "execute_result"
    }
   ],
   "source": [
    "submission.head()"
   ]
  },
  {
   "cell_type": "code",
   "execution_count": 25,
   "id": "540ae501",
   "metadata": {
    "execution": {
     "iopub.execute_input": "2023-12-03T20:44:44.495728Z",
     "iopub.status.busy": "2023-12-03T20:44:44.495305Z",
     "iopub.status.idle": "2023-12-03T20:44:44.511520Z",
     "shell.execute_reply": "2023-12-03T20:44:44.510535Z"
    },
    "papermill": {
     "duration": 0.220206,
     "end_time": "2023-12-03T20:44:44.513740",
     "exception": false,
     "start_time": "2023-12-03T20:44:44.293534",
     "status": "completed"
    },
    "tags": []
   },
   "outputs": [
    {
     "data": {
      "text/html": [
       "<div>\n",
       "<style scoped>\n",
       "    .dataframe tbody tr th:only-of-type {\n",
       "        vertical-align: middle;\n",
       "    }\n",
       "\n",
       "    .dataframe tbody tr th {\n",
       "        vertical-align: top;\n",
       "    }\n",
       "\n",
       "    .dataframe thead th {\n",
       "        text-align: right;\n",
       "    }\n",
       "</style>\n",
       "<table border=\"1\" class=\"dataframe\">\n",
       "  <thead>\n",
       "    <tr style=\"text-align: right;\">\n",
       "      <th></th>\n",
       "      <th>id</th>\n",
       "      <th>Hardness</th>\n",
       "    </tr>\n",
       "  </thead>\n",
       "  <tbody>\n",
       "    <tr>\n",
       "      <th>count</th>\n",
       "      <td>6939.000000</td>\n",
       "      <td>6939.000000</td>\n",
       "    </tr>\n",
       "    <tr>\n",
       "      <th>mean</th>\n",
       "      <td>13876.000000</td>\n",
       "      <td>4.574521</td>\n",
       "    </tr>\n",
       "    <tr>\n",
       "      <th>std</th>\n",
       "      <td>2003.261091</td>\n",
       "      <td>1.082340</td>\n",
       "    </tr>\n",
       "    <tr>\n",
       "      <th>min</th>\n",
       "      <td>10407.000000</td>\n",
       "      <td>1.158028</td>\n",
       "    </tr>\n",
       "    <tr>\n",
       "      <th>25%</th>\n",
       "      <td>12141.500000</td>\n",
       "      <td>3.738278</td>\n",
       "    </tr>\n",
       "    <tr>\n",
       "      <th>50%</th>\n",
       "      <td>13876.000000</td>\n",
       "      <td>5.151823</td>\n",
       "    </tr>\n",
       "    <tr>\n",
       "      <th>75%</th>\n",
       "      <td>15610.500000</td>\n",
       "      <td>5.431907</td>\n",
       "    </tr>\n",
       "    <tr>\n",
       "      <th>max</th>\n",
       "      <td>17345.000000</td>\n",
       "      <td>5.556107</td>\n",
       "    </tr>\n",
       "  </tbody>\n",
       "</table>\n",
       "</div>"
      ],
      "text/plain": [
       "                 id     Hardness\n",
       "count   6939.000000  6939.000000\n",
       "mean   13876.000000     4.574521\n",
       "std     2003.261091     1.082340\n",
       "min    10407.000000     1.158028\n",
       "25%    12141.500000     3.738278\n",
       "50%    13876.000000     5.151823\n",
       "75%    15610.500000     5.431907\n",
       "max    17345.000000     5.556107"
      ]
     },
     "execution_count": 25,
     "metadata": {},
     "output_type": "execute_result"
    }
   ],
   "source": [
    "submission.describe()"
   ]
  },
  {
   "cell_type": "code",
   "execution_count": 26,
   "id": "674fe823",
   "metadata": {
    "execution": {
     "iopub.execute_input": "2023-12-03T20:44:44.941614Z",
     "iopub.status.busy": "2023-12-03T20:44:44.940871Z",
     "iopub.status.idle": "2023-12-03T20:44:44.969675Z",
     "shell.execute_reply": "2023-12-03T20:44:44.968612Z"
    },
    "papermill": {
     "duration": 0.254556,
     "end_time": "2023-12-03T20:44:44.972156",
     "exception": false,
     "start_time": "2023-12-03T20:44:44.717600",
     "status": "completed"
    },
    "tags": []
   },
   "outputs": [],
   "source": [
    "submission.to_csv('/kaggle/working/submission.csv',index=False,header=True)"
   ]
  }
 ],
 "metadata": {
  "kaggle": {
   "accelerator": "nvidiaTeslaT4",
   "dataSources": [
    {
     "databundleVersionId": 6989718,
     "sourceId": 60892,
     "sourceType": "competition"
    }
   ],
   "dockerImageVersionId": 30588,
   "isGpuEnabled": true,
   "isInternetEnabled": true,
   "language": "python",
   "sourceType": "notebook"
  },
  "kernelspec": {
   "display_name": "Python 3",
   "language": "python",
   "name": "python3"
  },
  "language_info": {
   "codemirror_mode": {
    "name": "ipython",
    "version": 3
   },
   "file_extension": ".py",
   "mimetype": "text/x-python",
   "name": "python",
   "nbconvert_exporter": "python",
   "pygments_lexer": "ipython3",
   "version": "3.10.12"
  },
  "papermill": {
   "default_parameters": {},
   "duration": 179.846339,
   "end_time": "2023-12-03T20:44:48.287108",
   "environment_variables": {},
   "exception": null,
   "input_path": "__notebook__.ipynb",
   "output_path": "__notebook__.ipynb",
   "parameters": {},
   "start_time": "2023-12-03T20:41:48.440769",
   "version": "2.4.0"
  }
 },
 "nbformat": 4,
 "nbformat_minor": 5
}
