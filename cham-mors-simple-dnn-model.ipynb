{
 "cells": [
  {
   "cell_type": "code",
   "execution_count": 1,
   "id": "d29df711",
   "metadata": {
    "_cell_guid": "b1076dfc-b9ad-4769-8c92-a6c4dae69d19",
    "_uuid": "8f2839f25d086af736a60e9eeb907d3b93b6e0e5",
    "execution": {
     "iopub.execute_input": "2023-11-28T18:45:05.291010Z",
     "iopub.status.busy": "2023-11-28T18:45:05.290096Z",
     "iopub.status.idle": "2023-11-28T18:45:24.811673Z",
     "shell.execute_reply": "2023-11-28T18:45:24.810451Z"
    },
    "papermill": {
     "duration": 19.532461,
     "end_time": "2023-11-28T18:45:24.813890",
     "exception": false,
     "start_time": "2023-11-28T18:45:05.281429",
     "status": "completed"
    },
    "tags": []
   },
   "outputs": [
    {
     "name": "stderr",
     "output_type": "stream",
     "text": [
      "/opt/conda/lib/python3.10/site-packages/scipy/__init__.py:146: UserWarning: A NumPy version >=1.16.5 and <1.23.0 is required for this version of SciPy (detected version 1.24.3\n",
      "  warnings.warn(f\"A NumPy version >={np_minversion} and <{np_maxversion}\"\n"
     ]
    },
    {
     "name": "stdout",
     "output_type": "stream",
     "text": [
      "/kaggle/input/playground-series-s3e25/sample_submission.csv\n",
      "/kaggle/input/playground-series-s3e25/train.csv\n",
      "/kaggle/input/playground-series-s3e25/test.csv\n"
     ]
    }
   ],
   "source": [
    "# This Python 3 environment comes with many helpful analytics libraries installed\n",
    "# It is defined by the kaggle/python Docker image: https://github.com/kaggle/docker-python\n",
    "# For example, here's several helpful packages to load\n",
    "\n",
    "import numpy as np # linear algebra\n",
    "import pandas as pd # data processing, CSV file I/O (e.g. pd.read_csv)\n",
    "import matplotlib.pyplot as plt\n",
    "\n",
    "import tensorflow as tf\n",
    "import tensorflow.keras.layers as layers\n",
    "\n",
    "# Input data files are available in the read-only \"../input/\" directory\n",
    "# For example, running this (by clicking run or pressing Shift+Enter) will list all files under the input directory\n",
    "\n",
    "import os\n",
    "for dirname, _, filenames in os.walk('/kaggle/input'):\n",
    "    for filename in filenames:\n",
    "        print(os.path.join(dirname, filename))\n",
    "\n",
    "# You can write up to 20GB to the current directory (/kaggle/working/) that gets preserved as output when you create a version using \"Save & Run All\" \n",
    "# You can also write temporary files to /kaggle/temp/, but they won't be saved outside of the current session"
   ]
  },
  {
   "cell_type": "code",
   "execution_count": 2,
   "id": "2b5118f8",
   "metadata": {
    "execution": {
     "iopub.execute_input": "2023-11-28T18:45:24.830594Z",
     "iopub.status.busy": "2023-11-28T18:45:24.829939Z",
     "iopub.status.idle": "2023-11-28T18:45:24.889279Z",
     "shell.execute_reply": "2023-11-28T18:45:24.888272Z"
    },
    "papermill": {
     "duration": 0.070304,
     "end_time": "2023-11-28T18:45:24.891540",
     "exception": false,
     "start_time": "2023-11-28T18:45:24.821236",
     "status": "completed"
    },
    "tags": []
   },
   "outputs": [],
   "source": [
    "filepath = \"/kaggle/input/playground-series-s3e25/train.csv\"\n",
    "\n",
    "dataset = pd.read_csv(filepath)"
   ]
  },
  {
   "cell_type": "code",
   "execution_count": 3,
   "id": "69e5f19b",
   "metadata": {
    "execution": {
     "iopub.execute_input": "2023-11-28T18:45:24.906604Z",
     "iopub.status.busy": "2023-11-28T18:45:24.906324Z",
     "iopub.status.idle": "2023-11-28T18:45:24.943102Z",
     "shell.execute_reply": "2023-11-28T18:45:24.941846Z"
    },
    "papermill": {
     "duration": 0.046542,
     "end_time": "2023-11-28T18:45:24.945084",
     "exception": false,
     "start_time": "2023-11-28T18:45:24.898542",
     "status": "completed"
    },
    "tags": []
   },
   "outputs": [
    {
     "name": "stdout",
     "output_type": "stream",
     "text": [
      "<class 'pandas.core.frame.DataFrame'>\n",
      "RangeIndex: 10407 entries, 0 to 10406\n",
      "Data columns (total 13 columns):\n",
      " #   Column                 Non-Null Count  Dtype  \n",
      "---  ------                 --------------  -----  \n",
      " 0   id                     10407 non-null  int64  \n",
      " 1   allelectrons_Total     10407 non-null  float64\n",
      " 2   density_Total          10407 non-null  float64\n",
      " 3   allelectrons_Average   10407 non-null  float64\n",
      " 4   val_e_Average          10407 non-null  float64\n",
      " 5   atomicweight_Average   10407 non-null  float64\n",
      " 6   ionenergy_Average      10407 non-null  float64\n",
      " 7   el_neg_chi_Average     10407 non-null  float64\n",
      " 8   R_vdw_element_Average  10407 non-null  float64\n",
      " 9   R_cov_element_Average  10407 non-null  float64\n",
      " 10  zaratio_Average        10407 non-null  float64\n",
      " 11  density_Average        10407 non-null  float64\n",
      " 12  Hardness               10407 non-null  float64\n",
      "dtypes: float64(12), int64(1)\n",
      "memory usage: 1.0 MB\n"
     ]
    }
   ],
   "source": [
    "dataset.info()"
   ]
  },
  {
   "cell_type": "code",
   "execution_count": 4,
   "id": "c75d8772",
   "metadata": {
    "execution": {
     "iopub.execute_input": "2023-11-28T18:45:24.959495Z",
     "iopub.status.busy": "2023-11-28T18:45:24.959218Z",
     "iopub.status.idle": "2023-11-28T18:45:24.965898Z",
     "shell.execute_reply": "2023-11-28T18:45:24.965032Z"
    },
    "papermill": {
     "duration": 0.016095,
     "end_time": "2023-11-28T18:45:24.967749",
     "exception": false,
     "start_time": "2023-11-28T18:45:24.951654",
     "status": "completed"
    },
    "tags": []
   },
   "outputs": [],
   "source": [
    "y = dataset.pop('Hardness')\n",
    "x = dataset"
   ]
  },
  {
   "cell_type": "markdown",
   "id": "6ff45ced",
   "metadata": {
    "papermill": {
     "duration": 0.006236,
     "end_time": "2023-11-28T18:45:24.980583",
     "exception": false,
     "start_time": "2023-11-28T18:45:24.974347",
     "status": "completed"
    },
    "tags": []
   },
   "source": [
    "### Check dataset"
   ]
  },
  {
   "cell_type": "code",
   "execution_count": 5,
   "id": "9d4ad45a",
   "metadata": {
    "execution": {
     "iopub.execute_input": "2023-11-28T18:45:24.995336Z",
     "iopub.status.busy": "2023-11-28T18:45:24.994534Z",
     "iopub.status.idle": "2023-11-28T18:45:25.016665Z",
     "shell.execute_reply": "2023-11-28T18:45:25.015873Z"
    },
    "papermill": {
     "duration": 0.031366,
     "end_time": "2023-11-28T18:45:25.018555",
     "exception": false,
     "start_time": "2023-11-28T18:45:24.987189",
     "status": "completed"
    },
    "tags": []
   },
   "outputs": [
    {
     "data": {
      "text/html": [
       "<div>\n",
       "<style scoped>\n",
       "    .dataframe tbody tr th:only-of-type {\n",
       "        vertical-align: middle;\n",
       "    }\n",
       "\n",
       "    .dataframe tbody tr th {\n",
       "        vertical-align: top;\n",
       "    }\n",
       "\n",
       "    .dataframe thead th {\n",
       "        text-align: right;\n",
       "    }\n",
       "</style>\n",
       "<table border=\"1\" class=\"dataframe\">\n",
       "  <thead>\n",
       "    <tr style=\"text-align: right;\">\n",
       "      <th></th>\n",
       "      <th>id</th>\n",
       "      <th>allelectrons_Total</th>\n",
       "      <th>density_Total</th>\n",
       "      <th>allelectrons_Average</th>\n",
       "      <th>val_e_Average</th>\n",
       "      <th>atomicweight_Average</th>\n",
       "      <th>ionenergy_Average</th>\n",
       "      <th>el_neg_chi_Average</th>\n",
       "      <th>R_vdw_element_Average</th>\n",
       "      <th>R_cov_element_Average</th>\n",
       "      <th>zaratio_Average</th>\n",
       "      <th>density_Average</th>\n",
       "    </tr>\n",
       "  </thead>\n",
       "  <tbody>\n",
       "    <tr>\n",
       "      <th>0</th>\n",
       "      <td>0</td>\n",
       "      <td>100.0</td>\n",
       "      <td>0.841611</td>\n",
       "      <td>10.0</td>\n",
       "      <td>4.8</td>\n",
       "      <td>20.612526</td>\n",
       "      <td>11.08810</td>\n",
       "      <td>2.766</td>\n",
       "      <td>1.732</td>\n",
       "      <td>0.860</td>\n",
       "      <td>0.496070</td>\n",
       "      <td>0.91457</td>\n",
       "    </tr>\n",
       "    <tr>\n",
       "      <th>1</th>\n",
       "      <td>1</td>\n",
       "      <td>100.0</td>\n",
       "      <td>7.558488</td>\n",
       "      <td>10.0</td>\n",
       "      <td>4.8</td>\n",
       "      <td>20.298893</td>\n",
       "      <td>12.04083</td>\n",
       "      <td>2.755</td>\n",
       "      <td>1.631</td>\n",
       "      <td>0.910</td>\n",
       "      <td>0.492719</td>\n",
       "      <td>0.71760</td>\n",
       "    </tr>\n",
       "    <tr>\n",
       "      <th>2</th>\n",
       "      <td>2</td>\n",
       "      <td>76.0</td>\n",
       "      <td>8.885992</td>\n",
       "      <td>15.6</td>\n",
       "      <td>5.6</td>\n",
       "      <td>33.739258</td>\n",
       "      <td>12.08630</td>\n",
       "      <td>2.828</td>\n",
       "      <td>1.788</td>\n",
       "      <td>0.864</td>\n",
       "      <td>0.481478</td>\n",
       "      <td>1.50633</td>\n",
       "    </tr>\n",
       "    <tr>\n",
       "      <th>3</th>\n",
       "      <td>3</td>\n",
       "      <td>100.0</td>\n",
       "      <td>8.795296</td>\n",
       "      <td>10.0</td>\n",
       "      <td>4.8</td>\n",
       "      <td>20.213349</td>\n",
       "      <td>10.94850</td>\n",
       "      <td>2.648</td>\n",
       "      <td>1.626</td>\n",
       "      <td>0.936</td>\n",
       "      <td>0.489272</td>\n",
       "      <td>0.78937</td>\n",
       "    </tr>\n",
       "    <tr>\n",
       "      <th>4</th>\n",
       "      <td>4</td>\n",
       "      <td>116.0</td>\n",
       "      <td>9.577996</td>\n",
       "      <td>11.6</td>\n",
       "      <td>4.8</td>\n",
       "      <td>24.988133</td>\n",
       "      <td>11.82448</td>\n",
       "      <td>2.766</td>\n",
       "      <td>1.682</td>\n",
       "      <td>0.896</td>\n",
       "      <td>0.492736</td>\n",
       "      <td>1.86481</td>\n",
       "    </tr>\n",
       "  </tbody>\n",
       "</table>\n",
       "</div>"
      ],
      "text/plain": [
       "   id  allelectrons_Total  density_Total  allelectrons_Average  val_e_Average  \\\n",
       "0   0               100.0       0.841611                  10.0            4.8   \n",
       "1   1               100.0       7.558488                  10.0            4.8   \n",
       "2   2                76.0       8.885992                  15.6            5.6   \n",
       "3   3               100.0       8.795296                  10.0            4.8   \n",
       "4   4               116.0       9.577996                  11.6            4.8   \n",
       "\n",
       "   atomicweight_Average  ionenergy_Average  el_neg_chi_Average  \\\n",
       "0             20.612526           11.08810               2.766   \n",
       "1             20.298893           12.04083               2.755   \n",
       "2             33.739258           12.08630               2.828   \n",
       "3             20.213349           10.94850               2.648   \n",
       "4             24.988133           11.82448               2.766   \n",
       "\n",
       "   R_vdw_element_Average  R_cov_element_Average  zaratio_Average  \\\n",
       "0                  1.732                  0.860         0.496070   \n",
       "1                  1.631                  0.910         0.492719   \n",
       "2                  1.788                  0.864         0.481478   \n",
       "3                  1.626                  0.936         0.489272   \n",
       "4                  1.682                  0.896         0.492736   \n",
       "\n",
       "   density_Average  \n",
       "0          0.91457  \n",
       "1          0.71760  \n",
       "2          1.50633  \n",
       "3          0.78937  \n",
       "4          1.86481  "
      ]
     },
     "execution_count": 5,
     "metadata": {},
     "output_type": "execute_result"
    }
   ],
   "source": [
    "x.head()"
   ]
  },
  {
   "cell_type": "code",
   "execution_count": 6,
   "id": "a614dc74",
   "metadata": {
    "execution": {
     "iopub.execute_input": "2023-11-28T18:45:25.033624Z",
     "iopub.status.busy": "2023-11-28T18:45:25.033340Z",
     "iopub.status.idle": "2023-11-28T18:45:25.039642Z",
     "shell.execute_reply": "2023-11-28T18:45:25.038854Z"
    },
    "papermill": {
     "duration": 0.016005,
     "end_time": "2023-11-28T18:45:25.041643",
     "exception": false,
     "start_time": "2023-11-28T18:45:25.025638",
     "status": "completed"
    },
    "tags": []
   },
   "outputs": [
    {
     "data": {
      "text/plain": [
       "0    6.0\n",
       "1    6.5\n",
       "2    2.5\n",
       "3    6.0\n",
       "4    6.0\n",
       "Name: Hardness, dtype: float64"
      ]
     },
     "execution_count": 6,
     "metadata": {},
     "output_type": "execute_result"
    }
   ],
   "source": [
    "y.head()"
   ]
  },
  {
   "cell_type": "code",
   "execution_count": 7,
   "id": "0e1bbdc6",
   "metadata": {
    "execution": {
     "iopub.execute_input": "2023-11-28T18:45:25.058249Z",
     "iopub.status.busy": "2023-11-28T18:45:25.057972Z",
     "iopub.status.idle": "2023-11-28T18:45:25.069459Z",
     "shell.execute_reply": "2023-11-28T18:45:25.068561Z"
    },
    "papermill": {
     "duration": 0.021594,
     "end_time": "2023-11-28T18:45:25.071453",
     "exception": false,
     "start_time": "2023-11-28T18:45:25.049859",
     "status": "completed"
    },
    "tags": []
   },
   "outputs": [
    {
     "data": {
      "text/plain": [
       "count    10407.000000\n",
       "mean         4.647126\n",
       "std          1.680525\n",
       "min          1.000000\n",
       "25%          3.000000\n",
       "50%          5.500000\n",
       "75%          6.000000\n",
       "max         10.000000\n",
       "Name: Hardness, dtype: float64"
      ]
     },
     "execution_count": 7,
     "metadata": {},
     "output_type": "execute_result"
    }
   ],
   "source": [
    "y.describe()"
   ]
  },
  {
   "cell_type": "code",
   "execution_count": 8,
   "id": "8289edb6",
   "metadata": {
    "execution": {
     "iopub.execute_input": "2023-11-28T18:45:25.089220Z",
     "iopub.status.busy": "2023-11-28T18:45:25.088929Z",
     "iopub.status.idle": "2023-11-28T18:45:43.227641Z",
     "shell.execute_reply": "2023-11-28T18:45:43.226647Z"
    },
    "papermill": {
     "duration": 18.149562,
     "end_time": "2023-11-28T18:45:43.229792",
     "exception": false,
     "start_time": "2023-11-28T18:45:25.080230",
     "status": "completed"
    },
    "tags": []
   },
   "outputs": [
    {
     "data": {
      "text/plain": [
       "<BarContainer object of 10407 artists>"
      ]
     },
     "execution_count": 8,
     "metadata": {},
     "output_type": "execute_result"
    },
    {
     "data": {
      "image/png": "[encoded data removed]",
      "text/plain": [
       "<Figure size 640x480 with 1 Axes>"
      ]
     },
     "metadata": {},
     "output_type": "display_data"
    }
   ],
   "source": [
    "plt.bar(y.index, y)"
   ]
  },
  {
   "cell_type": "markdown",
   "id": "8a7d8aa9",
   "metadata": {
    "papermill": {
     "duration": 0.007447,
     "end_time": "2023-11-28T18:45:43.244914",
     "exception": false,
     "start_time": "2023-11-28T18:45:43.237467",
     "status": "completed"
    },
    "tags": []
   },
   "source": [
    "### Create DNN model"
   ]
  },
  {
   "cell_type": "code",
   "execution_count": 9,
   "id": "6c3cf62c",
   "metadata": {
    "execution": {
     "iopub.execute_input": "2023-11-28T18:45:43.261902Z",
     "iopub.status.busy": "2023-11-28T18:45:43.261085Z",
     "iopub.status.idle": "2023-11-28T18:45:43.266134Z",
     "shell.execute_reply": "2023-11-28T18:45:43.265105Z"
    },
    "papermill": {
     "duration": 0.015439,
     "end_time": "2023-11-28T18:45:43.267986",
     "exception": false,
     "start_time": "2023-11-28T18:45:43.252547",
     "status": "completed"
    },
    "tags": []
   },
   "outputs": [
    {
     "name": "stdout",
     "output_type": "stream",
     "text": [
      "(10407, 12)\n"
     ]
    }
   ],
   "source": [
    "input_shape = x.shape\n",
    "print(input_shape)"
   ]
  },
  {
   "cell_type": "markdown",
   "id": "e31ba782",
   "metadata": {
    "papermill": {
     "duration": 0.007789,
     "end_time": "2023-11-28T18:45:43.283269",
     "exception": false,
     "start_time": "2023-11-28T18:45:43.275480",
     "status": "completed"
    },
    "tags": []
   },
   "source": [
    "try with for loop"
   ]
  },
  {
   "cell_type": "code",
   "execution_count": 10,
   "id": "b188e6fa",
   "metadata": {
    "execution": {
     "iopub.execute_input": "2023-11-28T18:45:43.299620Z",
     "iopub.status.busy": "2023-11-28T18:45:43.299353Z",
     "iopub.status.idle": "2023-11-28T18:45:49.330650Z",
     "shell.execute_reply": "2023-11-28T18:45:49.329829Z"
    },
    "papermill": {
     "duration": 6.042333,
     "end_time": "2023-11-28T18:45:49.333343",
     "exception": false,
     "start_time": "2023-11-28T18:45:43.291010",
     "status": "completed"
    },
    "tags": []
   },
   "outputs": [],
   "source": [
    "def dense_block(width):\n",
    "    def apply(dx):\n",
    "        dx = layers.Dense(width, activation='relu')(dx)\n",
    "        return dx\n",
    "    return apply\n",
    "\n",
    "def get_dense_network():\n",
    "    input_shape = x.shape\n",
    "    #widths = [130, 64, 32, 16, 8, 4, 2, 1]\n",
    "    \n",
    "    # define widths of dense layers\n",
    "    widths_array = np.arange(10, 0, -1)\n",
    "    widths = [2**x for x in widths_array]\n",
    "    \n",
    "    input_layer = layers.Input(input_shape[1])\n",
    "    \n",
    "    dx = layers.Dense(widths[0], activation='relu')(input_layer)\n",
    "    \n",
    "    for width in widths:\n",
    "        if width != widths[0]:\n",
    "            dx = dense_block(width)(dx)\n",
    "        \n",
    "    output_layer = layers.Dense(1, activation='linear')(dx)\n",
    "    return tf.keras.Model(inputs=input_layer, outputs=output_layer)\n",
    "\n",
    "DNN_model = get_dense_network()\n",
    "\n",
    "loss_function = tf.keras.losses.MeanAbsoluteError()\n",
    "optimiser = tf.keras.optimizers.Adam(learning_rate=0.001)\n",
    "DNN_model.compile(loss = loss_function, optimizer=optimiser, metrics=['mae'])"
   ]
  },
  {
   "cell_type": "code",
   "execution_count": 11,
   "id": "f3875897",
   "metadata": {
    "execution": {
     "iopub.execute_input": "2023-11-28T18:45:49.352067Z",
     "iopub.status.busy": "2023-11-28T18:45:49.351744Z",
     "iopub.status.idle": "2023-11-28T18:45:49.385944Z",
     "shell.execute_reply": "2023-11-28T18:45:49.384959Z"
    },
    "papermill": {
     "duration": 0.055293,
     "end_time": "2023-11-28T18:45:49.397307",
     "exception": false,
     "start_time": "2023-11-28T18:45:49.342014",
     "status": "completed"
    },
    "tags": []
   },
   "outputs": [
    {
     "name": "stdout",
     "output_type": "stream",
     "text": [
      "Model: \"model\"\n",
      "_________________________________________________________________\n",
      " Layer (type)                Output Shape              Param #   \n",
      "=================================================================\n",
      " input_1 (InputLayer)        [(None, 12)]              0         \n",
      "                                                                 \n",
      " dense (Dense)               (None, 1024)              13312     \n",
      "                                                                 \n",
      " dense_1 (Dense)             (None, 512)               524800    \n",
      "                                                                 \n",
      " dense_2 (Dense)             (None, 256)               131328    \n",
      "                                                                 \n",
      " dense_3 (Dense)             (None, 128)               32896     \n",
      "                                                                 \n",
      " dense_4 (Dense)             (None, 64)                8256      \n",
      "                                                                 \n",
      " dense_5 (Dense)             (None, 32)                2080      \n",
      "                                                                 \n",
      " dense_6 (Dense)             (None, 16)                528       \n",
      "                                                                 \n",
      " dense_7 (Dense)             (None, 8)                 136       \n",
      "                                                                 \n",
      " dense_8 (Dense)             (None, 4)                 36        \n",
      "                                                                 \n",
      " dense_9 (Dense)             (None, 2)                 10        \n",
      "                                                                 \n",
      " dense_10 (Dense)            (None, 1)                 3         \n",
      "                                                                 \n",
      "=================================================================\n",
      "Total params: 713385 (2.72 MB)\n",
      "Trainable params: 713385 (2.72 MB)\n",
      "Non-trainable params: 0 (0.00 Byte)\n",
      "_________________________________________________________________\n"
     ]
    }
   ],
   "source": [
    "DNN_model.summary()"
   ]
  },
  {
   "cell_type": "markdown",
   "id": "6b953869",
   "metadata": {
    "papermill": {
     "duration": 0.01014,
     "end_time": "2023-11-28T18:45:49.417878",
     "exception": false,
     "start_time": "2023-11-28T18:45:49.407738",
     "status": "completed"
    },
    "tags": []
   },
   "source": [
    "### Test dataset"
   ]
  },
  {
   "cell_type": "code",
   "execution_count": 12,
   "id": "d7e7227f",
   "metadata": {
    "execution": {
     "iopub.execute_input": "2023-11-28T18:45:49.440110Z",
     "iopub.status.busy": "2023-11-28T18:45:49.439804Z",
     "iopub.status.idle": "2023-11-28T18:47:16.109112Z",
     "shell.execute_reply": "2023-11-28T18:47:16.108039Z"
    },
    "papermill": {
     "duration": 86.682959,
     "end_time": "2023-11-28T18:47:16.111559",
     "exception": false,
     "start_time": "2023-11-28T18:45:49.428600",
     "status": "completed"
    },
    "tags": []
   },
   "outputs": [
    {
     "name": "stdout",
     "output_type": "stream",
     "text": [
      "Epoch 1/50\n",
      "326/326 [==============================] - 11s 5ms/step - loss: 4.2932 - mae: 4.2932\n",
      "Epoch 2/50\n",
      "326/326 [==============================] - 2s 5ms/step - loss: 3.7273 - mae: 3.7273\n",
      "Epoch 3/50\n",
      "326/326 [==============================] - 2s 5ms/step - loss: 2.9514 - mae: 2.9514\n",
      "Epoch 4/50\n",
      "326/326 [==============================] - 2s 5ms/step - loss: 2.1860 - mae: 2.1860\n",
      "Epoch 5/50\n",
      "326/326 [==============================] - 2s 5ms/step - loss: 1.7642 - mae: 1.7642\n",
      "Epoch 6/50\n",
      "326/326 [==============================] - 2s 5ms/step - loss: 1.5655 - mae: 1.5655\n",
      "Epoch 7/50\n",
      "326/326 [==============================] - 2s 5ms/step - loss: 1.4956 - mae: 1.4956\n",
      "Epoch 8/50\n",
      "326/326 [==============================] - 1s 5ms/step - loss: 1.4519 - mae: 1.4519\n",
      "Epoch 9/50\n",
      "326/326 [==============================] - 2s 5ms/step - loss: 1.4436 - mae: 1.4436\n",
      "Epoch 10/50\n",
      "326/326 [==============================] - 2s 5ms/step - loss: 1.4395 - mae: 1.4395\n",
      "Epoch 11/50\n",
      "326/326 [==============================] - 2s 5ms/step - loss: 1.4389 - mae: 1.4389\n",
      "Epoch 12/50\n",
      "326/326 [==============================] - 1s 4ms/step - loss: 1.4384 - mae: 1.4384\n",
      "Epoch 13/50\n",
      "326/326 [==============================] - 2s 5ms/step - loss: 1.4380 - mae: 1.4380\n",
      "Epoch 14/50\n",
      "326/326 [==============================] - 2s 5ms/step - loss: 1.4381 - mae: 1.4381\n",
      "Epoch 15/50\n",
      "326/326 [==============================] - 2s 5ms/step - loss: 1.4379 - mae: 1.4379\n",
      "Epoch 16/50\n",
      "326/326 [==============================] - 2s 5ms/step - loss: 1.4380 - mae: 1.4380\n",
      "Epoch 17/50\n",
      "326/326 [==============================] - 1s 5ms/step - loss: 1.4381 - mae: 1.4381\n",
      "Epoch 18/50\n",
      "326/326 [==============================] - 2s 5ms/step - loss: 1.4378 - mae: 1.4378\n",
      "Epoch 19/50\n",
      "326/326 [==============================] - 2s 5ms/step - loss: 1.4378 - mae: 1.4378\n",
      "Epoch 20/50\n",
      "326/326 [==============================] - 1s 4ms/step - loss: 1.4386 - mae: 1.4386\n",
      "Epoch 21/50\n",
      "326/326 [==============================] - 1s 5ms/step - loss: 1.4381 - mae: 1.4381\n",
      "Epoch 22/50\n",
      "326/326 [==============================] - 2s 5ms/step - loss: 1.4380 - mae: 1.4380\n",
      "Epoch 23/50\n",
      "326/326 [==============================] - 2s 5ms/step - loss: 1.4379 - mae: 1.4379\n",
      "Epoch 24/50\n",
      "326/326 [==============================] - 2s 5ms/step - loss: 1.4380 - mae: 1.4380\n",
      "Epoch 25/50\n",
      "326/326 [==============================] - 1s 4ms/step - loss: 1.4379 - mae: 1.4379\n",
      "Epoch 26/50\n",
      "326/326 [==============================] - 2s 5ms/step - loss: 1.4382 - mae: 1.4382\n",
      "Epoch 27/50\n",
      "326/326 [==============================] - 2s 5ms/step - loss: 1.4380 - mae: 1.4380\n",
      "Epoch 28/50\n",
      "326/326 [==============================] - 1s 5ms/step - loss: 1.4382 - mae: 1.4382\n",
      "Epoch 29/50\n",
      "326/326 [==============================] - 1s 4ms/step - loss: 1.4381 - mae: 1.4381\n",
      "Epoch 30/50\n",
      "326/326 [==============================] - 2s 5ms/step - loss: 1.4381 - mae: 1.4381\n",
      "Epoch 31/50\n",
      "326/326 [==============================] - 2s 5ms/step - loss: 1.4381 - mae: 1.4381\n",
      "Epoch 32/50\n",
      "326/326 [==============================] - 1s 5ms/step - loss: 1.4380 - mae: 1.4380\n",
      "Epoch 33/50\n",
      "326/326 [==============================] - 1s 4ms/step - loss: 1.4380 - mae: 1.4380\n",
      "Epoch 34/50\n",
      "326/326 [==============================] - 2s 5ms/step - loss: 1.4380 - mae: 1.4380\n",
      "Epoch 35/50\n",
      "326/326 [==============================] - 2s 5ms/step - loss: 1.4380 - mae: 1.4380\n",
      "Epoch 36/50\n",
      "326/326 [==============================] - 2s 5ms/step - loss: 1.4383 - mae: 1.4383\n",
      "Epoch 37/50\n",
      "326/326 [==============================] - 1s 4ms/step - loss: 1.4380 - mae: 1.4380\n",
      "Epoch 38/50\n",
      "326/326 [==============================] - 2s 5ms/step - loss: 1.4384 - mae: 1.4384\n",
      "Epoch 39/50\n",
      "326/326 [==============================] - 2s 5ms/step - loss: 1.4380 - mae: 1.4380\n",
      "Epoch 40/50\n",
      "326/326 [==============================] - 2s 5ms/step - loss: 1.4381 - mae: 1.4381\n",
      "Epoch 41/50\n",
      "326/326 [==============================] - 1s 5ms/step - loss: 1.4382 - mae: 1.4382\n",
      "Epoch 42/50\n",
      "326/326 [==============================] - 2s 5ms/step - loss: 1.4380 - mae: 1.4380\n",
      "Epoch 43/50\n",
      "326/326 [==============================] - 2s 5ms/step - loss: 1.4381 - mae: 1.4381\n",
      "Epoch 44/50\n",
      "326/326 [==============================] - 2s 5ms/step - loss: 1.4381 - mae: 1.4381\n",
      "Epoch 45/50\n",
      "326/326 [==============================] - 1s 5ms/step - loss: 1.4385 - mae: 1.4385\n",
      "Epoch 46/50\n",
      "326/326 [==============================] - 1s 4ms/step - loss: 1.4381 - mae: 1.4381\n",
      "Epoch 47/50\n",
      "326/326 [==============================] - 2s 5ms/step - loss: 1.4375 - mae: 1.4375\n",
      "Epoch 48/50\n",
      "326/326 [==============================] - 2s 5ms/step - loss: 1.4387 - mae: 1.4387\n",
      "Epoch 49/50\n",
      "326/326 [==============================] - 2s 5ms/step - loss: 1.4379 - mae: 1.4379\n",
      "Epoch 50/50\n",
      "326/326 [==============================] - 1s 4ms/step - loss: 1.4380 - mae: 1.4380\n"
     ]
    },
    {
     "data": {
      "text/plain": [
       "<keras.src.callbacks.History at 0x7b3a54233cd0>"
      ]
     },
     "execution_count": 12,
     "metadata": {},
     "output_type": "execute_result"
    }
   ],
   "source": [
    "DNN_model.fit(x, y, epochs=50)"
   ]
  },
  {
   "cell_type": "markdown",
   "id": "51554edf",
   "metadata": {
    "papermill": {
     "duration": 0.1405,
     "end_time": "2023-11-28T18:47:16.391748",
     "exception": false,
     "start_time": "2023-11-28T18:47:16.251248",
     "status": "completed"
    },
    "tags": []
   },
   "source": [
    "### Test submission"
   ]
  },
  {
   "cell_type": "code",
   "execution_count": 13,
   "id": "2feaaed2",
   "metadata": {
    "execution": {
     "iopub.execute_input": "2023-11-28T18:47:16.671482Z",
     "iopub.status.busy": "2023-11-28T18:47:16.671120Z",
     "iopub.status.idle": "2023-11-28T18:47:16.707606Z",
     "shell.execute_reply": "2023-11-28T18:47:16.706708Z"
    },
    "papermill": {
     "duration": 0.176951,
     "end_time": "2023-11-28T18:47:16.709710",
     "exception": false,
     "start_time": "2023-11-28T18:47:16.532759",
     "status": "completed"
    },
    "tags": []
   },
   "outputs": [],
   "source": [
    "test_dataset = pd.read_csv(\"/kaggle/input/playground-series-s3e25/test.csv\")"
   ]
  },
  {
   "cell_type": "code",
   "execution_count": 14,
   "id": "0203d3b2",
   "metadata": {
    "execution": {
     "iopub.execute_input": "2023-11-28T18:47:16.978676Z",
     "iopub.status.busy": "2023-11-28T18:47:16.978321Z",
     "iopub.status.idle": "2023-11-28T18:47:16.997100Z",
     "shell.execute_reply": "2023-11-28T18:47:16.996257Z"
    },
    "papermill": {
     "duration": 0.155733,
     "end_time": "2023-11-28T18:47:16.999121",
     "exception": false,
     "start_time": "2023-11-28T18:47:16.843388",
     "status": "completed"
    },
    "tags": []
   },
   "outputs": [
    {
     "data": {
      "text/html": [
       "<div>\n",
       "<style scoped>\n",
       "    .dataframe tbody tr th:only-of-type {\n",
       "        vertical-align: middle;\n",
       "    }\n",
       "\n",
       "    .dataframe tbody tr th {\n",
       "        vertical-align: top;\n",
       "    }\n",
       "\n",
       "    .dataframe thead th {\n",
       "        text-align: right;\n",
       "    }\n",
       "</style>\n",
       "<table border=\"1\" class=\"dataframe\">\n",
       "  <thead>\n",
       "    <tr style=\"text-align: right;\">\n",
       "      <th></th>\n",
       "      <th>id</th>\n",
       "      <th>allelectrons_Total</th>\n",
       "      <th>density_Total</th>\n",
       "      <th>allelectrons_Average</th>\n",
       "      <th>val_e_Average</th>\n",
       "      <th>atomicweight_Average</th>\n",
       "      <th>ionenergy_Average</th>\n",
       "      <th>el_neg_chi_Average</th>\n",
       "      <th>R_vdw_element_Average</th>\n",
       "      <th>R_cov_element_Average</th>\n",
       "      <th>zaratio_Average</th>\n",
       "      <th>density_Average</th>\n",
       "    </tr>\n",
       "  </thead>\n",
       "  <tbody>\n",
       "    <tr>\n",
       "      <th>0</th>\n",
       "      <td>10407</td>\n",
       "      <td>884.0</td>\n",
       "      <td>121.420000</td>\n",
       "      <td>35.36</td>\n",
       "      <td>5.28</td>\n",
       "      <td>82.561240</td>\n",
       "      <td>9.370384</td>\n",
       "      <td>2.298</td>\n",
       "      <td>1.9072</td>\n",
       "      <td>1.200000</td>\n",
       "      <td>0.461899</td>\n",
       "      <td>1.79459</td>\n",
       "    </tr>\n",
       "    <tr>\n",
       "      <th>1</th>\n",
       "      <td>10408</td>\n",
       "      <td>90.0</td>\n",
       "      <td>9.931960</td>\n",
       "      <td>18.00</td>\n",
       "      <td>5.60</td>\n",
       "      <td>39.568056</td>\n",
       "      <td>12.086300</td>\n",
       "      <td>2.868</td>\n",
       "      <td>1.6520</td>\n",
       "      <td>0.864000</td>\n",
       "      <td>0.476196</td>\n",
       "      <td>1.41194</td>\n",
       "    </tr>\n",
       "    <tr>\n",
       "      <th>2</th>\n",
       "      <td>10409</td>\n",
       "      <td>116.0</td>\n",
       "      <td>7.767992</td>\n",
       "      <td>11.60</td>\n",
       "      <td>4.80</td>\n",
       "      <td>23.231818</td>\n",
       "      <td>11.023840</td>\n",
       "      <td>2.644</td>\n",
       "      <td>1.7940</td>\n",
       "      <td>0.960000</td>\n",
       "      <td>0.499514</td>\n",
       "      <td>0.78834</td>\n",
       "    </tr>\n",
       "    <tr>\n",
       "      <th>3</th>\n",
       "      <td>10410</td>\n",
       "      <td>100.0</td>\n",
       "      <td>9.107996</td>\n",
       "      <td>10.00</td>\n",
       "      <td>4.80</td>\n",
       "      <td>20.298893</td>\n",
       "      <td>12.086300</td>\n",
       "      <td>2.828</td>\n",
       "      <td>1.6620</td>\n",
       "      <td>0.792000</td>\n",
       "      <td>0.495796</td>\n",
       "      <td>1.20466</td>\n",
       "    </tr>\n",
       "    <tr>\n",
       "      <th>4</th>\n",
       "      <td>10411</td>\n",
       "      <td>55.0</td>\n",
       "      <td>4.030000</td>\n",
       "      <td>11.00</td>\n",
       "      <td>4.00</td>\n",
       "      <td>22.977675</td>\n",
       "      <td>11.280950</td>\n",
       "      <td>2.455</td>\n",
       "      <td>1.7500</td>\n",
       "      <td>0.893333</td>\n",
       "      <td>0.476095</td>\n",
       "      <td>0.93456</td>\n",
       "    </tr>\n",
       "  </tbody>\n",
       "</table>\n",
       "</div>"
      ],
      "text/plain": [
       "      id  allelectrons_Total  density_Total  allelectrons_Average  \\\n",
       "0  10407               884.0     121.420000                 35.36   \n",
       "1  10408                90.0       9.931960                 18.00   \n",
       "2  10409               116.0       7.767992                 11.60   \n",
       "3  10410               100.0       9.107996                 10.00   \n",
       "4  10411                55.0       4.030000                 11.00   \n",
       "\n",
       "   val_e_Average  atomicweight_Average  ionenergy_Average  el_neg_chi_Average  \\\n",
       "0           5.28             82.561240           9.370384               2.298   \n",
       "1           5.60             39.568056          12.086300               2.868   \n",
       "2           4.80             23.231818          11.023840               2.644   \n",
       "3           4.80             20.298893          12.086300               2.828   \n",
       "4           4.00             22.977675          11.280950               2.455   \n",
       "\n",
       "   R_vdw_element_Average  R_cov_element_Average  zaratio_Average  \\\n",
       "0                 1.9072               1.200000         0.461899   \n",
       "1                 1.6520               0.864000         0.476196   \n",
       "2                 1.7940               0.960000         0.499514   \n",
       "3                 1.6620               0.792000         0.495796   \n",
       "4                 1.7500               0.893333         0.476095   \n",
       "\n",
       "   density_Average  \n",
       "0          1.79459  \n",
       "1          1.41194  \n",
       "2          0.78834  \n",
       "3          1.20466  \n",
       "4          0.93456  "
      ]
     },
     "execution_count": 14,
     "metadata": {},
     "output_type": "execute_result"
    }
   ],
   "source": [
    "test_dataset.head()"
   ]
  },
  {
   "cell_type": "code",
   "execution_count": 15,
   "id": "7826694a",
   "metadata": {
    "execution": {
     "iopub.execute_input": "2023-11-28T18:47:17.278747Z",
     "iopub.status.busy": "2023-11-28T18:47:17.278438Z",
     "iopub.status.idle": "2023-11-28T18:47:17.966892Z",
     "shell.execute_reply": "2023-11-28T18:47:17.965718Z"
    },
    "papermill": {
     "duration": 0.824997,
     "end_time": "2023-11-28T18:47:17.969408",
     "exception": false,
     "start_time": "2023-11-28T18:47:17.144411",
     "status": "completed"
    },
    "tags": []
   },
   "outputs": [
    {
     "name": "stdout",
     "output_type": "stream",
     "text": [
      "217/217 [==============================] - 0s 2ms/step\n"
     ]
    }
   ],
   "source": [
    "predictions = DNN_model.predict(test_dataset)"
   ]
  },
  {
   "cell_type": "markdown",
   "id": "50ba2ba6",
   "metadata": {
    "papermill": {
     "duration": 0.142819,
     "end_time": "2023-11-28T18:47:18.259228",
     "exception": false,
     "start_time": "2023-11-28T18:47:18.116409",
     "status": "completed"
    },
    "tags": []
   },
   "source": [
    "Create subbmission flie"
   ]
  },
  {
   "cell_type": "code",
   "execution_count": 16,
   "id": "1448691a",
   "metadata": {
    "execution": {
     "iopub.execute_input": "2023-11-28T18:47:18.543062Z",
     "iopub.status.busy": "2023-11-28T18:47:18.542081Z",
     "iopub.status.idle": "2023-11-28T18:47:18.549596Z",
     "shell.execute_reply": "2023-11-28T18:47:18.548742Z"
    },
    "papermill": {
     "duration": 0.155395,
     "end_time": "2023-11-28T18:47:18.552048",
     "exception": false,
     "start_time": "2023-11-28T18:47:18.396653",
     "status": "completed"
    },
    "tags": []
   },
   "outputs": [],
   "source": [
    "submission = pd.DataFrame()\n",
    "submission['id'] = test_dataset['id']\n",
    "submission['Hardness'] = predictions"
   ]
  },
  {
   "cell_type": "code",
   "execution_count": 17,
   "id": "377a4c1e",
   "metadata": {
    "execution": {
     "iopub.execute_input": "2023-11-28T18:47:18.835654Z",
     "iopub.status.busy": "2023-11-28T18:47:18.834820Z",
     "iopub.status.idle": "2023-11-28T18:47:18.844827Z",
     "shell.execute_reply": "2023-11-28T18:47:18.843803Z"
    },
    "papermill": {
     "duration": 0.148938,
     "end_time": "2023-11-28T18:47:18.847228",
     "exception": false,
     "start_time": "2023-11-28T18:47:18.698290",
     "status": "completed"
    },
    "tags": []
   },
   "outputs": [
    {
     "data": {
      "text/html": [
       "<div>\n",
       "<style scoped>\n",
       "    .dataframe tbody tr th:only-of-type {\n",
       "        vertical-align: middle;\n",
       "    }\n",
       "\n",
       "    .dataframe tbody tr th {\n",
       "        vertical-align: top;\n",
       "    }\n",
       "\n",
       "    .dataframe thead th {\n",
       "        text-align: right;\n",
       "    }\n",
       "</style>\n",
       "<table border=\"1\" class=\"dataframe\">\n",
       "  <thead>\n",
       "    <tr style=\"text-align: right;\">\n",
       "      <th></th>\n",
       "      <th>id</th>\n",
       "      <th>Hardness</th>\n",
       "    </tr>\n",
       "  </thead>\n",
       "  <tbody>\n",
       "    <tr>\n",
       "      <th>0</th>\n",
       "      <td>10407</td>\n",
       "      <td>5.489052</td>\n",
       "    </tr>\n",
       "    <tr>\n",
       "      <th>1</th>\n",
       "      <td>10408</td>\n",
       "      <td>5.489052</td>\n",
       "    </tr>\n",
       "    <tr>\n",
       "      <th>2</th>\n",
       "      <td>10409</td>\n",
       "      <td>5.489052</td>\n",
       "    </tr>\n",
       "    <tr>\n",
       "      <th>3</th>\n",
       "      <td>10410</td>\n",
       "      <td>5.489052</td>\n",
       "    </tr>\n",
       "    <tr>\n",
       "      <th>4</th>\n",
       "      <td>10411</td>\n",
       "      <td>5.489052</td>\n",
       "    </tr>\n",
       "  </tbody>\n",
       "</table>\n",
       "</div>"
      ],
      "text/plain": [
       "      id  Hardness\n",
       "0  10407  5.489052\n",
       "1  10408  5.489052\n",
       "2  10409  5.489052\n",
       "3  10410  5.489052\n",
       "4  10411  5.489052"
      ]
     },
     "execution_count": 17,
     "metadata": {},
     "output_type": "execute_result"
    }
   ],
   "source": [
    "submission.head()"
   ]
  },
  {
   "cell_type": "code",
   "execution_count": 18,
   "id": "06486704",
   "metadata": {
    "execution": {
     "iopub.execute_input": "2023-11-28T18:47:19.127059Z",
     "iopub.status.busy": "2023-11-28T18:47:19.126695Z",
     "iopub.status.idle": "2023-11-28T18:47:19.142416Z",
     "shell.execute_reply": "2023-11-28T18:47:19.141478Z"
    },
    "papermill": {
     "duration": 0.158176,
     "end_time": "2023-11-28T18:47:19.144319",
     "exception": false,
     "start_time": "2023-11-28T18:47:18.986143",
     "status": "completed"
    },
    "tags": []
   },
   "outputs": [
    {
     "data": {
      "text/html": [
       "<div>\n",
       "<style scoped>\n",
       "    .dataframe tbody tr th:only-of-type {\n",
       "        vertical-align: middle;\n",
       "    }\n",
       "\n",
       "    .dataframe tbody tr th {\n",
       "        vertical-align: top;\n",
       "    }\n",
       "\n",
       "    .dataframe thead th {\n",
       "        text-align: right;\n",
       "    }\n",
       "</style>\n",
       "<table border=\"1\" class=\"dataframe\">\n",
       "  <thead>\n",
       "    <tr style=\"text-align: right;\">\n",
       "      <th></th>\n",
       "      <th>id</th>\n",
       "      <th>Hardness</th>\n",
       "    </tr>\n",
       "  </thead>\n",
       "  <tbody>\n",
       "    <tr>\n",
       "      <th>count</th>\n",
       "      <td>6939.000000</td>\n",
       "      <td>6939.000000</td>\n",
       "    </tr>\n",
       "    <tr>\n",
       "      <th>mean</th>\n",
       "      <td>13876.000000</td>\n",
       "      <td>5.489052</td>\n",
       "    </tr>\n",
       "    <tr>\n",
       "      <th>std</th>\n",
       "      <td>2003.261091</td>\n",
       "      <td>0.000000</td>\n",
       "    </tr>\n",
       "    <tr>\n",
       "      <th>min</th>\n",
       "      <td>10407.000000</td>\n",
       "      <td>5.489052</td>\n",
       "    </tr>\n",
       "    <tr>\n",
       "      <th>25%</th>\n",
       "      <td>12141.500000</td>\n",
       "      <td>5.489052</td>\n",
       "    </tr>\n",
       "    <tr>\n",
       "      <th>50%</th>\n",
       "      <td>13876.000000</td>\n",
       "      <td>5.489052</td>\n",
       "    </tr>\n",
       "    <tr>\n",
       "      <th>75%</th>\n",
       "      <td>15610.500000</td>\n",
       "      <td>5.489052</td>\n",
       "    </tr>\n",
       "    <tr>\n",
       "      <th>max</th>\n",
       "      <td>17345.000000</td>\n",
       "      <td>5.489052</td>\n",
       "    </tr>\n",
       "  </tbody>\n",
       "</table>\n",
       "</div>"
      ],
      "text/plain": [
       "                 id     Hardness\n",
       "count   6939.000000  6939.000000\n",
       "mean   13876.000000     5.489052\n",
       "std     2003.261091     0.000000\n",
       "min    10407.000000     5.489052\n",
       "25%    12141.500000     5.489052\n",
       "50%    13876.000000     5.489052\n",
       "75%    15610.500000     5.489052\n",
       "max    17345.000000     5.489052"
      ]
     },
     "execution_count": 18,
     "metadata": {},
     "output_type": "execute_result"
    }
   ],
   "source": [
    "submission.describe()"
   ]
  },
  {
   "cell_type": "code",
   "execution_count": 19,
   "id": "d4775184",
   "metadata": {
    "execution": {
     "iopub.execute_input": "2023-11-28T18:47:19.416453Z",
     "iopub.status.busy": "2023-11-28T18:47:19.416094Z",
     "iopub.status.idle": "2023-11-28T18:47:19.445569Z",
     "shell.execute_reply": "2023-11-28T18:47:19.444820Z"
    },
    "papermill": {
     "duration": 0.167021,
     "end_time": "2023-11-28T18:47:19.447537",
     "exception": false,
     "start_time": "2023-11-28T18:47:19.280516",
     "status": "completed"
    },
    "tags": []
   },
   "outputs": [],
   "source": [
    "submission.to_csv('/kaggle/working/submission.csv',index=False,header=True)"
   ]
  }
 ],
 "metadata": {
  "kaggle": {
   "accelerator": "nvidiaTeslaT4",
   "dataSources": [
    {
     "databundleVersionId": 6989718,
     "sourceId": 60892,
     "sourceType": "competition"
    }
   ],
   "isGpuEnabled": true,
   "isInternetEnabled": true,
   "language": "python",
   "sourceType": "notebook"
  },
  "kernelspec": {
   "display_name": "Python 3",
   "language": "python",
   "name": "python3"
  },
  "language_info": {
   "codemirror_mode": {
    "name": "ipython",
    "version": 3
   },
   "file_extension": ".py",
   "mimetype": "text/x-python",
   "name": "python",
   "nbconvert_exporter": "python",
   "pygments_lexer": "ipython3",
   "version": "3.10.12"
  },
  "papermill": {
   "default_parameters": {},
   "duration": 142.648964,
   "end_time": "2023-11-28T18:47:23.126105",
   "environment_variables": {},
   "exception": null,
   "input_path": "__notebook__.ipynb",
   "output_path": "__notebook__.ipynb",
   "parameters": {},
   "start_time": "2023-11-28T18:45:00.477141",
   "version": "2.4.0"
  }
 },
 "nbformat": 4,
 "nbformat_minor": 5
}
