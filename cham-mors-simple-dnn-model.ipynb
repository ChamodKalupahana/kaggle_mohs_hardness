{
 "cells": [
  {
   "cell_type": "code",
   "execution_count": 1,
   "id": "87d0ddb1",
   "metadata": {
    "_cell_guid": "b1076dfc-b9ad-4769-8c92-a6c4dae69d19",
    "_uuid": "8f2839f25d086af736a60e9eeb907d3b93b6e0e5",
    "execution": {
     "iopub.execute_input": "2023-11-28T19:55:13.128973Z",
     "iopub.status.busy": "2023-11-28T19:55:13.128364Z",
     "iopub.status.idle": "2023-11-28T19:55:26.933602Z",
     "shell.execute_reply": "2023-11-28T19:55:26.932467Z"
    },
    "papermill": {
     "duration": 13.816823,
     "end_time": "2023-11-28T19:55:26.935832",
     "exception": false,
     "start_time": "2023-11-28T19:55:13.119009",
     "status": "completed"
    },
    "tags": []
   },
   "outputs": [
    {
     "name": "stderr",
     "output_type": "stream",
     "text": [
      "/opt/conda/lib/python3.10/site-packages/scipy/__init__.py:146: UserWarning: A NumPy version >=1.16.5 and <1.23.0 is required for this version of SciPy (detected version 1.24.3\n",
      "  warnings.warn(f\"A NumPy version >={np_minversion} and <{np_maxversion}\"\n"
     ]
    },
    {
     "name": "stdout",
     "output_type": "stream",
     "text": [
      "/kaggle/input/playground-series-s3e25/sample_submission.csv\n",
      "/kaggle/input/playground-series-s3e25/train.csv\n",
      "/kaggle/input/playground-series-s3e25/test.csv\n"
     ]
    }
   ],
   "source": [
    "# This Python 3 environment comes with many helpful analytics libraries installed\n",
    "# It is defined by the kaggle/python Docker image: https://github.com/kaggle/docker-python\n",
    "# For example, here's several helpful packages to load\n",
    "\n",
    "import numpy as np # linear algebra\n",
    "import pandas as pd # data processing, CSV file I/O (e.g. pd.read_csv)\n",
    "import matplotlib.pyplot as plt\n",
    "\n",
    "import tensorflow as tf\n",
    "import tensorflow.keras.layers as layers\n",
    "\n",
    "# Input data files are available in the read-only \"../input/\" directory\n",
    "# For example, running this (by clicking run or pressing Shift+Enter) will list all files under the input directory\n",
    "\n",
    "import os\n",
    "for dirname, _, filenames in os.walk('/kaggle/input'):\n",
    "    for filename in filenames:\n",
    "        print(os.path.join(dirname, filename))\n",
    "\n",
    "# You can write up to 20GB to the current directory (/kaggle/working/) that gets preserved as output when you create a version using \"Save & Run All\" \n",
    "# You can also write temporary files to /kaggle/temp/, but they won't be saved outside of the current session"
   ]
  },
  {
   "cell_type": "code",
   "execution_count": 2,
   "id": "d42212e2",
   "metadata": {
    "execution": {
     "iopub.execute_input": "2023-11-28T19:55:26.953215Z",
     "iopub.status.busy": "2023-11-28T19:55:26.952684Z",
     "iopub.status.idle": "2023-11-28T19:55:27.008815Z",
     "shell.execute_reply": "2023-11-28T19:55:27.008105Z"
    },
    "papermill": {
     "duration": 0.06659,
     "end_time": "2023-11-28T19:55:27.010723",
     "exception": false,
     "start_time": "2023-11-28T19:55:26.944133",
     "status": "completed"
    },
    "tags": []
   },
   "outputs": [],
   "source": [
    "filepath = \"/kaggle/input/playground-series-s3e25/train.csv\"\n",
    "\n",
    "dataset = pd.read_csv(filepath)"
   ]
  },
  {
   "cell_type": "code",
   "execution_count": 3,
   "id": "4d0944bc",
   "metadata": {
    "execution": {
     "iopub.execute_input": "2023-11-28T19:55:27.028795Z",
     "iopub.status.busy": "2023-11-28T19:55:27.028221Z",
     "iopub.status.idle": "2023-11-28T19:55:27.058361Z",
     "shell.execute_reply": "2023-11-28T19:55:27.057239Z"
    },
    "papermill": {
     "duration": 0.041917,
     "end_time": "2023-11-28T19:55:27.060596",
     "exception": false,
     "start_time": "2023-11-28T19:55:27.018679",
     "status": "completed"
    },
    "tags": []
   },
   "outputs": [
    {
     "name": "stdout",
     "output_type": "stream",
     "text": [
      "<class 'pandas.core.frame.DataFrame'>\n",
      "RangeIndex: 10407 entries, 0 to 10406\n",
      "Data columns (total 13 columns):\n",
      " #   Column                 Non-Null Count  Dtype  \n",
      "---  ------                 --------------  -----  \n",
      " 0   id                     10407 non-null  int64  \n",
      " 1   allelectrons_Total     10407 non-null  float64\n",
      " 2   density_Total          10407 non-null  float64\n",
      " 3   allelectrons_Average   10407 non-null  float64\n",
      " 4   val_e_Average          10407 non-null  float64\n",
      " 5   atomicweight_Average   10407 non-null  float64\n",
      " 6   ionenergy_Average      10407 non-null  float64\n",
      " 7   el_neg_chi_Average     10407 non-null  float64\n",
      " 8   R_vdw_element_Average  10407 non-null  float64\n",
      " 9   R_cov_element_Average  10407 non-null  float64\n",
      " 10  zaratio_Average        10407 non-null  float64\n",
      " 11  density_Average        10407 non-null  float64\n",
      " 12  Hardness               10407 non-null  float64\n",
      "dtypes: float64(12), int64(1)\n",
      "memory usage: 1.0 MB\n"
     ]
    }
   ],
   "source": [
    "dataset.info()"
   ]
  },
  {
   "cell_type": "code",
   "execution_count": 4,
   "id": "41fae9d6",
   "metadata": {
    "execution": {
     "iopub.execute_input": "2023-11-28T19:55:27.078491Z",
     "iopub.status.busy": "2023-11-28T19:55:27.077660Z",
     "iopub.status.idle": "2023-11-28T19:55:27.084502Z",
     "shell.execute_reply": "2023-11-28T19:55:27.083761Z"
    },
    "papermill": {
     "duration": 0.017852,
     "end_time": "2023-11-28T19:55:27.086716",
     "exception": false,
     "start_time": "2023-11-28T19:55:27.068864",
     "status": "completed"
    },
    "tags": []
   },
   "outputs": [],
   "source": [
    "y = dataset.pop('Hardness')\n",
    "x = dataset"
   ]
  },
  {
   "cell_type": "markdown",
   "id": "7d600721",
   "metadata": {
    "papermill": {
     "duration": 0.008876,
     "end_time": "2023-11-28T19:55:27.104658",
     "exception": false,
     "start_time": "2023-11-28T19:55:27.095782",
     "status": "completed"
    },
    "tags": []
   },
   "source": [
    "### Check dataset"
   ]
  },
  {
   "cell_type": "code",
   "execution_count": 5,
   "id": "9aa8a08f",
   "metadata": {
    "execution": {
     "iopub.execute_input": "2023-11-28T19:55:27.122552Z",
     "iopub.status.busy": "2023-11-28T19:55:27.122094Z",
     "iopub.status.idle": "2023-11-28T19:55:27.143823Z",
     "shell.execute_reply": "2023-11-28T19:55:27.142898Z"
    },
    "papermill": {
     "duration": 0.03254,
     "end_time": "2023-11-28T19:55:27.145831",
     "exception": false,
     "start_time": "2023-11-28T19:55:27.113291",
     "status": "completed"
    },
    "tags": []
   },
   "outputs": [
    {
     "data": {
      "text/html": [
       "<div>\n",
       "<style scoped>\n",
       "    .dataframe tbody tr th:only-of-type {\n",
       "        vertical-align: middle;\n",
       "    }\n",
       "\n",
       "    .dataframe tbody tr th {\n",
       "        vertical-align: top;\n",
       "    }\n",
       "\n",
       "    .dataframe thead th {\n",
       "        text-align: right;\n",
       "    }\n",
       "</style>\n",
       "<table border=\"1\" class=\"dataframe\">\n",
       "  <thead>\n",
       "    <tr style=\"text-align: right;\">\n",
       "      <th></th>\n",
       "      <th>id</th>\n",
       "      <th>allelectrons_Total</th>\n",
       "      <th>density_Total</th>\n",
       "      <th>allelectrons_Average</th>\n",
       "      <th>val_e_Average</th>\n",
       "      <th>atomicweight_Average</th>\n",
       "      <th>ionenergy_Average</th>\n",
       "      <th>el_neg_chi_Average</th>\n",
       "      <th>R_vdw_element_Average</th>\n",
       "      <th>R_cov_element_Average</th>\n",
       "      <th>zaratio_Average</th>\n",
       "      <th>density_Average</th>\n",
       "    </tr>\n",
       "  </thead>\n",
       "  <tbody>\n",
       "    <tr>\n",
       "      <th>0</th>\n",
       "      <td>0</td>\n",
       "      <td>100.0</td>\n",
       "      <td>0.841611</td>\n",
       "      <td>10.0</td>\n",
       "      <td>4.8</td>\n",
       "      <td>20.612526</td>\n",
       "      <td>11.08810</td>\n",
       "      <td>2.766</td>\n",
       "      <td>1.732</td>\n",
       "      <td>0.860</td>\n",
       "      <td>0.496070</td>\n",
       "      <td>0.91457</td>\n",
       "    </tr>\n",
       "    <tr>\n",
       "      <th>1</th>\n",
       "      <td>1</td>\n",
       "      <td>100.0</td>\n",
       "      <td>7.558488</td>\n",
       "      <td>10.0</td>\n",
       "      <td>4.8</td>\n",
       "      <td>20.298893</td>\n",
       "      <td>12.04083</td>\n",
       "      <td>2.755</td>\n",
       "      <td>1.631</td>\n",
       "      <td>0.910</td>\n",
       "      <td>0.492719</td>\n",
       "      <td>0.71760</td>\n",
       "    </tr>\n",
       "    <tr>\n",
       "      <th>2</th>\n",
       "      <td>2</td>\n",
       "      <td>76.0</td>\n",
       "      <td>8.885992</td>\n",
       "      <td>15.6</td>\n",
       "      <td>5.6</td>\n",
       "      <td>33.739258</td>\n",
       "      <td>12.08630</td>\n",
       "      <td>2.828</td>\n",
       "      <td>1.788</td>\n",
       "      <td>0.864</td>\n",
       "      <td>0.481478</td>\n",
       "      <td>1.50633</td>\n",
       "    </tr>\n",
       "    <tr>\n",
       "      <th>3</th>\n",
       "      <td>3</td>\n",
       "      <td>100.0</td>\n",
       "      <td>8.795296</td>\n",
       "      <td>10.0</td>\n",
       "      <td>4.8</td>\n",
       "      <td>20.213349</td>\n",
       "      <td>10.94850</td>\n",
       "      <td>2.648</td>\n",
       "      <td>1.626</td>\n",
       "      <td>0.936</td>\n",
       "      <td>0.489272</td>\n",
       "      <td>0.78937</td>\n",
       "    </tr>\n",
       "    <tr>\n",
       "      <th>4</th>\n",
       "      <td>4</td>\n",
       "      <td>116.0</td>\n",
       "      <td>9.577996</td>\n",
       "      <td>11.6</td>\n",
       "      <td>4.8</td>\n",
       "      <td>24.988133</td>\n",
       "      <td>11.82448</td>\n",
       "      <td>2.766</td>\n",
       "      <td>1.682</td>\n",
       "      <td>0.896</td>\n",
       "      <td>0.492736</td>\n",
       "      <td>1.86481</td>\n",
       "    </tr>\n",
       "  </tbody>\n",
       "</table>\n",
       "</div>"
      ],
      "text/plain": [
       "   id  allelectrons_Total  density_Total  allelectrons_Average  val_e_Average  \\\n",
       "0   0               100.0       0.841611                  10.0            4.8   \n",
       "1   1               100.0       7.558488                  10.0            4.8   \n",
       "2   2                76.0       8.885992                  15.6            5.6   \n",
       "3   3               100.0       8.795296                  10.0            4.8   \n",
       "4   4               116.0       9.577996                  11.6            4.8   \n",
       "\n",
       "   atomicweight_Average  ionenergy_Average  el_neg_chi_Average  \\\n",
       "0             20.612526           11.08810               2.766   \n",
       "1             20.298893           12.04083               2.755   \n",
       "2             33.739258           12.08630               2.828   \n",
       "3             20.213349           10.94850               2.648   \n",
       "4             24.988133           11.82448               2.766   \n",
       "\n",
       "   R_vdw_element_Average  R_cov_element_Average  zaratio_Average  \\\n",
       "0                  1.732                  0.860         0.496070   \n",
       "1                  1.631                  0.910         0.492719   \n",
       "2                  1.788                  0.864         0.481478   \n",
       "3                  1.626                  0.936         0.489272   \n",
       "4                  1.682                  0.896         0.492736   \n",
       "\n",
       "   density_Average  \n",
       "0          0.91457  \n",
       "1          0.71760  \n",
       "2          1.50633  \n",
       "3          0.78937  \n",
       "4          1.86481  "
      ]
     },
     "execution_count": 5,
     "metadata": {},
     "output_type": "execute_result"
    }
   ],
   "source": [
    "x.head()"
   ]
  },
  {
   "cell_type": "code",
   "execution_count": 6,
   "id": "add810c5",
   "metadata": {
    "execution": {
     "iopub.execute_input": "2023-11-28T19:55:27.163884Z",
     "iopub.status.busy": "2023-11-28T19:55:27.163232Z",
     "iopub.status.idle": "2023-11-28T19:55:27.169898Z",
     "shell.execute_reply": "2023-11-28T19:55:27.168954Z"
    },
    "papermill": {
     "duration": 0.017667,
     "end_time": "2023-11-28T19:55:27.171871",
     "exception": false,
     "start_time": "2023-11-28T19:55:27.154204",
     "status": "completed"
    },
    "tags": []
   },
   "outputs": [
    {
     "data": {
      "text/plain": [
       "0    6.0\n",
       "1    6.5\n",
       "2    2.5\n",
       "3    6.0\n",
       "4    6.0\n",
       "Name: Hardness, dtype: float64"
      ]
     },
     "execution_count": 6,
     "metadata": {},
     "output_type": "execute_result"
    }
   ],
   "source": [
    "y.head()"
   ]
  },
  {
   "cell_type": "code",
   "execution_count": 7,
   "id": "c0f03d69",
   "metadata": {
    "execution": {
     "iopub.execute_input": "2023-11-28T19:55:27.189971Z",
     "iopub.status.busy": "2023-11-28T19:55:27.189721Z",
     "iopub.status.idle": "2023-11-28T19:55:27.200751Z",
     "shell.execute_reply": "2023-11-28T19:55:27.199951Z"
    },
    "papermill": {
     "duration": 0.022119,
     "end_time": "2023-11-28T19:55:27.202697",
     "exception": false,
     "start_time": "2023-11-28T19:55:27.180578",
     "status": "completed"
    },
    "tags": []
   },
   "outputs": [
    {
     "data": {
      "text/plain": [
       "count    10407.000000\n",
       "mean         4.647126\n",
       "std          1.680525\n",
       "min          1.000000\n",
       "25%          3.000000\n",
       "50%          5.500000\n",
       "75%          6.000000\n",
       "max         10.000000\n",
       "Name: Hardness, dtype: float64"
      ]
     },
     "execution_count": 7,
     "metadata": {},
     "output_type": "execute_result"
    }
   ],
   "source": [
    "y.describe()"
   ]
  },
  {
   "cell_type": "code",
   "execution_count": 8,
   "id": "0c18348d",
   "metadata": {
    "execution": {
     "iopub.execute_input": "2023-11-28T19:55:27.220910Z",
     "iopub.status.busy": "2023-11-28T19:55:27.220656Z",
     "iopub.status.idle": "2023-11-28T19:55:27.224266Z",
     "shell.execute_reply": "2023-11-28T19:55:27.223458Z"
    },
    "papermill": {
     "duration": 0.015098,
     "end_time": "2023-11-28T19:55:27.226189",
     "exception": false,
     "start_time": "2023-11-28T19:55:27.211091",
     "status": "completed"
    },
    "tags": []
   },
   "outputs": [],
   "source": [
    "#plt.bar(y.index, y)"
   ]
  },
  {
   "cell_type": "markdown",
   "id": "eb565ff1",
   "metadata": {
    "papermill": {
     "duration": 0.008818,
     "end_time": "2023-11-28T19:55:27.243746",
     "exception": false,
     "start_time": "2023-11-28T19:55:27.234928",
     "status": "completed"
    },
    "tags": []
   },
   "source": [
    "### Normalise hardness values"
   ]
  },
  {
   "cell_type": "code",
   "execution_count": 9,
   "id": "c63eee0a",
   "metadata": {
    "execution": {
     "iopub.execute_input": "2023-11-28T19:55:27.262955Z",
     "iopub.status.busy": "2023-11-28T19:55:27.262602Z",
     "iopub.status.idle": "2023-11-28T19:55:27.274887Z",
     "shell.execute_reply": "2023-11-28T19:55:27.273984Z"
    },
    "papermill": {
     "duration": 0.024529,
     "end_time": "2023-11-28T19:55:27.276960",
     "exception": false,
     "start_time": "2023-11-28T19:55:27.252431",
     "status": "completed"
    },
    "tags": []
   },
   "outputs": [
    {
     "data": {
      "text/plain": [
       "count    10407.000000\n",
       "mean         0.464713\n",
       "std          0.168053\n",
       "min          0.100000\n",
       "25%          0.300000\n",
       "50%          0.550000\n",
       "75%          0.600000\n",
       "max          1.000000\n",
       "Name: Hardness, dtype: float64"
      ]
     },
     "execution_count": 9,
     "metadata": {},
     "output_type": "execute_result"
    }
   ],
   "source": [
    "y = y / max(y)\n",
    "y.describe()"
   ]
  },
  {
   "cell_type": "code",
   "execution_count": 10,
   "id": "c68cfbc3",
   "metadata": {
    "execution": {
     "iopub.execute_input": "2023-11-28T19:55:27.296297Z",
     "iopub.status.busy": "2023-11-28T19:55:27.296019Z",
     "iopub.status.idle": "2023-11-28T19:55:27.322722Z",
     "shell.execute_reply": "2023-11-28T19:55:27.321986Z"
    },
    "papermill": {
     "duration": 0.038567,
     "end_time": "2023-11-28T19:55:27.324796",
     "exception": false,
     "start_time": "2023-11-28T19:55:27.286229",
     "status": "completed"
    },
    "tags": []
   },
   "outputs": [],
   "source": [
    "for column in x:\n",
    "    if column != 'id':\n",
    "        x[column] = x[column] / max(x[column])"
   ]
  },
  {
   "cell_type": "markdown",
   "id": "73865b03",
   "metadata": {
    "papermill": {
     "duration": 0.00855,
     "end_time": "2023-11-28T19:55:27.341798",
     "exception": false,
     "start_time": "2023-11-28T19:55:27.333248",
     "status": "completed"
    },
    "tags": []
   },
   "source": [
    "### Create DNN model"
   ]
  },
  {
   "cell_type": "code",
   "execution_count": 11,
   "id": "ed0f58fb",
   "metadata": {
    "execution": {
     "iopub.execute_input": "2023-11-28T19:55:27.360187Z",
     "iopub.status.busy": "2023-11-28T19:55:27.359942Z",
     "iopub.status.idle": "2023-11-28T19:55:27.364686Z",
     "shell.execute_reply": "2023-11-28T19:55:27.363629Z"
    },
    "papermill": {
     "duration": 0.016379,
     "end_time": "2023-11-28T19:55:27.366793",
     "exception": false,
     "start_time": "2023-11-28T19:55:27.350414",
     "status": "completed"
    },
    "tags": []
   },
   "outputs": [
    {
     "name": "stdout",
     "output_type": "stream",
     "text": [
      "(10407, 12)\n"
     ]
    }
   ],
   "source": [
    "input_shape = x.shape\n",
    "print(input_shape)"
   ]
  },
  {
   "cell_type": "markdown",
   "id": "409d231c",
   "metadata": {
    "papermill": {
     "duration": 0.008567,
     "end_time": "2023-11-28T19:55:27.383936",
     "exception": false,
     "start_time": "2023-11-28T19:55:27.375369",
     "status": "completed"
    },
    "tags": []
   },
   "source": [
    "try with for loop"
   ]
  },
  {
   "cell_type": "code",
   "execution_count": 12,
   "id": "2d8a0afe",
   "metadata": {
    "execution": {
     "iopub.execute_input": "2023-11-28T19:55:27.402534Z",
     "iopub.status.busy": "2023-11-28T19:55:27.402248Z",
     "iopub.status.idle": "2023-11-28T19:55:31.795225Z",
     "shell.execute_reply": "2023-11-28T19:55:31.794494Z"
    },
    "papermill": {
     "duration": 4.405052,
     "end_time": "2023-11-28T19:55:31.797653",
     "exception": false,
     "start_time": "2023-11-28T19:55:27.392601",
     "status": "completed"
    },
    "tags": []
   },
   "outputs": [],
   "source": [
    "def dense_block(width):\n",
    "    def apply(dx):\n",
    "        dx = layers.Dense(width, activation='relu')(dx)\n",
    "        return dx\n",
    "    return apply\n",
    "\n",
    "def get_dense_network():\n",
    "    input_shape = x.shape\n",
    "    #widths = [130, 64, 32, 16, 8, 4, 2, 1]\n",
    "    \n",
    "    # define widths of dense layers\n",
    "    widths_array = np.arange(10, 0, -1)\n",
    "    widths = [2**x for x in widths_array]\n",
    "    \n",
    "    input_layer = layers.Input(input_shape[1])\n",
    "    \n",
    "    dx = layers.Dense(widths[0], activation='relu')(input_layer)\n",
    "    \n",
    "    for width in widths:\n",
    "        if width != widths[0]:\n",
    "            dx = dense_block(width)(dx)\n",
    "        \n",
    "    output_layer = layers.Dense(1, activation='sigmoid')(dx)\n",
    "    return tf.keras.Model(inputs=input_layer, outputs=output_layer)\n",
    "\n",
    "DNN_model = get_dense_network()\n",
    "\n",
    "loss_function = tf.keras.losses.MeanAbsoluteError()\n",
    "optimiser = tf.keras.optimizers.Adam(learning_rate=0.001)\n",
    "DNN_model.compile(loss = loss_function, optimizer=optimiser, metrics=['mae'])"
   ]
  },
  {
   "cell_type": "code",
   "execution_count": 13,
   "id": "2cf25406",
   "metadata": {
    "execution": {
     "iopub.execute_input": "2023-11-28T19:55:31.818909Z",
     "iopub.status.busy": "2023-11-28T19:55:31.818180Z",
     "iopub.status.idle": "2023-11-28T19:55:31.853678Z",
     "shell.execute_reply": "2023-11-28T19:55:31.852740Z"
    },
    "papermill": {
     "duration": 0.055264,
     "end_time": "2023-11-28T19:55:31.862030",
     "exception": false,
     "start_time": "2023-11-28T19:55:31.806766",
     "status": "completed"
    },
    "tags": []
   },
   "outputs": [
    {
     "name": "stdout",
     "output_type": "stream",
     "text": [
      "Model: \"model\"\n",
      "_________________________________________________________________\n",
      " Layer (type)                Output Shape              Param #   \n",
      "=================================================================\n",
      " input_1 (InputLayer)        [(None, 12)]              0         \n",
      "                                                                 \n",
      " dense (Dense)               (None, 1024)              13312     \n",
      "                                                                 \n",
      " dense_1 (Dense)             (None, 512)               524800    \n",
      "                                                                 \n",
      " dense_2 (Dense)             (None, 256)               131328    \n",
      "                                                                 \n",
      " dense_3 (Dense)             (None, 128)               32896     \n",
      "                                                                 \n",
      " dense_4 (Dense)             (None, 64)                8256      \n",
      "                                                                 \n",
      " dense_5 (Dense)             (None, 32)                2080      \n",
      "                                                                 \n",
      " dense_6 (Dense)             (None, 16)                528       \n",
      "                                                                 \n",
      " dense_7 (Dense)             (None, 8)                 136       \n",
      "                                                                 \n",
      " dense_8 (Dense)             (None, 4)                 36        \n",
      "                                                                 \n",
      " dense_9 (Dense)             (None, 2)                 10        \n",
      "                                                                 \n",
      " dense_10 (Dense)            (None, 1)                 3         \n",
      "                                                                 \n",
      "=================================================================\n",
      "Total params: 713385 (2.72 MB)\n",
      "Trainable params: 713385 (2.72 MB)\n",
      "Non-trainable params: 0 (0.00 Byte)\n",
      "_________________________________________________________________\n"
     ]
    }
   ],
   "source": [
    "DNN_model.summary()"
   ]
  },
  {
   "cell_type": "markdown",
   "id": "6ef28192",
   "metadata": {
    "papermill": {
     "duration": 0.011283,
     "end_time": "2023-11-28T19:55:31.884784",
     "exception": false,
     "start_time": "2023-11-28T19:55:31.873501",
     "status": "completed"
    },
    "tags": []
   },
   "source": [
    "### Test dataset"
   ]
  },
  {
   "cell_type": "code",
   "execution_count": 14,
   "id": "b70143d2",
   "metadata": {
    "execution": {
     "iopub.execute_input": "2023-11-28T19:55:31.908344Z",
     "iopub.status.busy": "2023-11-28T19:55:31.907764Z",
     "iopub.status.idle": "2023-11-28T19:56:52.704160Z",
     "shell.execute_reply": "2023-11-28T19:56:52.703232Z"
    },
    "papermill": {
     "duration": 80.810666,
     "end_time": "2023-11-28T19:56:52.706241",
     "exception": false,
     "start_time": "2023-11-28T19:55:31.895575",
     "status": "completed"
    },
    "tags": []
   },
   "outputs": [
    {
     "name": "stdout",
     "output_type": "stream",
     "text": [
      "Epoch 1/50\n",
      "326/326 [==============================] - 10s 4ms/step - loss: 0.1471 - mae: 0.1471\n",
      "Epoch 2/50\n",
      "326/326 [==============================] - 1s 4ms/step - loss: 0.1443 - mae: 0.1443\n",
      "Epoch 3/50\n",
      "326/326 [==============================] - 1s 4ms/step - loss: 0.1439 - mae: 0.1439\n",
      "Epoch 4/50\n",
      "326/326 [==============================] - 1s 4ms/step - loss: 0.1439 - mae: 0.1439\n",
      "Epoch 5/50\n",
      "326/326 [==============================] - 1s 4ms/step - loss: 0.1439 - mae: 0.1439\n",
      "Epoch 6/50\n",
      "326/326 [==============================] - 1s 4ms/step - loss: 0.1438 - mae: 0.1438\n",
      "Epoch 7/50\n",
      "326/326 [==============================] - 1s 4ms/step - loss: 0.1438 - mae: 0.1438\n",
      "Epoch 8/50\n",
      "326/326 [==============================] - 1s 4ms/step - loss: 0.1438 - mae: 0.1438\n",
      "Epoch 9/50\n",
      "326/326 [==============================] - 1s 4ms/step - loss: 0.1438 - mae: 0.1438\n",
      "Epoch 10/50\n",
      "326/326 [==============================] - 1s 4ms/step - loss: 0.1438 - mae: 0.1438\n",
      "Epoch 11/50\n",
      "326/326 [==============================] - 2s 5ms/step - loss: 0.1438 - mae: 0.1438\n",
      "Epoch 12/50\n",
      "326/326 [==============================] - 1s 4ms/step - loss: 0.1438 - mae: 0.1438\n",
      "Epoch 13/50\n",
      "326/326 [==============================] - 1s 4ms/step - loss: 0.1438 - mae: 0.1438\n",
      "Epoch 14/50\n",
      "326/326 [==============================] - 1s 4ms/step - loss: 0.1438 - mae: 0.1438\n",
      "Epoch 15/50\n",
      "326/326 [==============================] - 1s 4ms/step - loss: 0.1438 - mae: 0.1438\n",
      "Epoch 16/50\n",
      "326/326 [==============================] - 1s 4ms/step - loss: 0.1438 - mae: 0.1438\n",
      "Epoch 17/50\n",
      "326/326 [==============================] - 1s 4ms/step - loss: 0.1438 - mae: 0.1438\n",
      "Epoch 18/50\n",
      "326/326 [==============================] - 1s 4ms/step - loss: 0.1438 - mae: 0.1438\n",
      "Epoch 19/50\n",
      "326/326 [==============================] - 1s 4ms/step - loss: 0.1438 - mae: 0.1438\n",
      "Epoch 20/50\n",
      "326/326 [==============================] - 1s 4ms/step - loss: 0.1438 - mae: 0.1438\n",
      "Epoch 21/50\n",
      "326/326 [==============================] - 1s 4ms/step - loss: 0.1438 - mae: 0.1438\n",
      "Epoch 22/50\n",
      "326/326 [==============================] - 1s 4ms/step - loss: 0.1438 - mae: 0.1438\n",
      "Epoch 23/50\n",
      "326/326 [==============================] - 1s 4ms/step - loss: 0.1438 - mae: 0.1438\n",
      "Epoch 24/50\n",
      "326/326 [==============================] - 1s 4ms/step - loss: 0.1438 - mae: 0.1438\n",
      "Epoch 25/50\n",
      "326/326 [==============================] - 1s 4ms/step - loss: 0.1438 - mae: 0.1438\n",
      "Epoch 26/50\n",
      "326/326 [==============================] - 1s 4ms/step - loss: 0.1438 - mae: 0.1438\n",
      "Epoch 27/50\n",
      "326/326 [==============================] - 1s 4ms/step - loss: 0.1438 - mae: 0.1438\n",
      "Epoch 28/50\n",
      "326/326 [==============================] - 1s 4ms/step - loss: 0.1438 - mae: 0.1438\n",
      "Epoch 29/50\n",
      "326/326 [==============================] - 1s 5ms/step - loss: 0.1438 - mae: 0.1438\n",
      "Epoch 30/50\n",
      "326/326 [==============================] - 1s 4ms/step - loss: 0.1438 - mae: 0.1438\n",
      "Epoch 31/50\n",
      "326/326 [==============================] - 1s 4ms/step - loss: 0.1438 - mae: 0.1438\n",
      "Epoch 32/50\n",
      "326/326 [==============================] - 2s 5ms/step - loss: 0.1438 - mae: 0.1438\n",
      "Epoch 33/50\n",
      "326/326 [==============================] - 2s 5ms/step - loss: 0.1438 - mae: 0.1438\n",
      "Epoch 34/50\n",
      "326/326 [==============================] - 1s 4ms/step - loss: 0.1438 - mae: 0.1438\n",
      "Epoch 35/50\n",
      "326/326 [==============================] - 2s 5ms/step - loss: 0.1438 - mae: 0.1438\n",
      "Epoch 36/50\n",
      "326/326 [==============================] - 1s 4ms/step - loss: 0.1438 - mae: 0.1438\n",
      "Epoch 37/50\n",
      "326/326 [==============================] - 1s 4ms/step - loss: 0.1438 - mae: 0.1438\n",
      "Epoch 38/50\n",
      "326/326 [==============================] - 1s 4ms/step - loss: 0.1438 - mae: 0.1438\n",
      "Epoch 39/50\n",
      "326/326 [==============================] - 2s 5ms/step - loss: 0.1438 - mae: 0.1438\n",
      "Epoch 40/50\n",
      "326/326 [==============================] - 2s 5ms/step - loss: 0.1438 - mae: 0.1438\n",
      "Epoch 41/50\n",
      "326/326 [==============================] - 1s 4ms/step - loss: 0.1438 - mae: 0.1438\n",
      "Epoch 42/50\n",
      "326/326 [==============================] - 1s 4ms/step - loss: 0.1438 - mae: 0.1438\n",
      "Epoch 43/50\n",
      "326/326 [==============================] - 1s 4ms/step - loss: 0.1438 - mae: 0.1438\n",
      "Epoch 44/50\n",
      "326/326 [==============================] - 1s 4ms/step - loss: 0.1438 - mae: 0.1438\n",
      "Epoch 45/50\n",
      "326/326 [==============================] - 1s 4ms/step - loss: 0.1438 - mae: 0.1438\n",
      "Epoch 46/50\n",
      "326/326 [==============================] - 2s 5ms/step - loss: 0.1438 - mae: 0.1438\n",
      "Epoch 47/50\n",
      "326/326 [==============================] - 2s 5ms/step - loss: 0.1438 - mae: 0.1438\n",
      "Epoch 48/50\n",
      "326/326 [==============================] - 2s 5ms/step - loss: 0.1438 - mae: 0.1438\n",
      "Epoch 49/50\n",
      "326/326 [==============================] - 1s 4ms/step - loss: 0.1438 - mae: 0.1438\n",
      "Epoch 50/50\n",
      "326/326 [==============================] - 1s 4ms/step - loss: 0.1438 - mae: 0.1438\n"
     ]
    },
    {
     "data": {
      "text/plain": [
       "<keras.src.callbacks.History at 0x7eb4a868e0e0>"
      ]
     },
     "execution_count": 14,
     "metadata": {},
     "output_type": "execute_result"
    }
   ],
   "source": [
    "DNN_model.fit(x, y, epochs=50)"
   ]
  },
  {
   "cell_type": "markdown",
   "id": "38891d45",
   "metadata": {
    "papermill": {
     "duration": 0.140826,
     "end_time": "2023-11-28T19:56:52.981703",
     "exception": false,
     "start_time": "2023-11-28T19:56:52.840877",
     "status": "completed"
    },
    "tags": []
   },
   "source": [
    "### Test submission"
   ]
  },
  {
   "cell_type": "code",
   "execution_count": 15,
   "id": "c7268121",
   "metadata": {
    "execution": {
     "iopub.execute_input": "2023-11-28T19:56:53.256178Z",
     "iopub.status.busy": "2023-11-28T19:56:53.255803Z",
     "iopub.status.idle": "2023-11-28T19:56:53.292136Z",
     "shell.execute_reply": "2023-11-28T19:56:53.291116Z"
    },
    "papermill": {
     "duration": 0.179233,
     "end_time": "2023-11-28T19:56:53.294630",
     "exception": false,
     "start_time": "2023-11-28T19:56:53.115397",
     "status": "completed"
    },
    "tags": []
   },
   "outputs": [],
   "source": [
    "test_dataset = pd.read_csv(\"/kaggle/input/playground-series-s3e25/test.csv\")"
   ]
  },
  {
   "cell_type": "code",
   "execution_count": 16,
   "id": "30fcb2ae",
   "metadata": {
    "execution": {
     "iopub.execute_input": "2023-11-28T19:56:53.593370Z",
     "iopub.status.busy": "2023-11-28T19:56:53.592404Z",
     "iopub.status.idle": "2023-11-28T19:56:53.617746Z",
     "shell.execute_reply": "2023-11-28T19:56:53.616892Z"
    },
    "papermill": {
     "duration": 0.176333,
     "end_time": "2023-11-28T19:56:53.620105",
     "exception": false,
     "start_time": "2023-11-28T19:56:53.443772",
     "status": "completed"
    },
    "tags": []
   },
   "outputs": [],
   "source": [
    "for column in test_dataset:\n",
    "    if column != 'id':\n",
    "        test_dataset[column] = test_dataset[column] / max(test_dataset[column])"
   ]
  },
  {
   "cell_type": "code",
   "execution_count": 17,
   "id": "056be3d5",
   "metadata": {
    "execution": {
     "iopub.execute_input": "2023-11-28T19:56:53.925624Z",
     "iopub.status.busy": "2023-11-28T19:56:53.925203Z",
     "iopub.status.idle": "2023-11-28T19:56:53.944352Z",
     "shell.execute_reply": "2023-11-28T19:56:53.943353Z"
    },
    "papermill": {
     "duration": 0.17239,
     "end_time": "2023-11-28T19:56:53.946465",
     "exception": false,
     "start_time": "2023-11-28T19:56:53.774075",
     "status": "completed"
    },
    "tags": []
   },
   "outputs": [
    {
     "data": {
      "text/html": [
       "<div>\n",
       "<style scoped>\n",
       "    .dataframe tbody tr th:only-of-type {\n",
       "        vertical-align: middle;\n",
       "    }\n",
       "\n",
       "    .dataframe tbody tr th {\n",
       "        vertical-align: top;\n",
       "    }\n",
       "\n",
       "    .dataframe thead th {\n",
       "        text-align: right;\n",
       "    }\n",
       "</style>\n",
       "<table border=\"1\" class=\"dataframe\">\n",
       "  <thead>\n",
       "    <tr style=\"text-align: right;\">\n",
       "      <th></th>\n",
       "      <th>id</th>\n",
       "      <th>allelectrons_Total</th>\n",
       "      <th>density_Total</th>\n",
       "      <th>allelectrons_Average</th>\n",
       "      <th>val_e_Average</th>\n",
       "      <th>atomicweight_Average</th>\n",
       "      <th>ionenergy_Average</th>\n",
       "      <th>el_neg_chi_Average</th>\n",
       "      <th>R_vdw_element_Average</th>\n",
       "      <th>R_cov_element_Average</th>\n",
       "      <th>zaratio_Average</th>\n",
       "      <th>density_Average</th>\n",
       "    </tr>\n",
       "  </thead>\n",
       "  <tbody>\n",
       "    <tr>\n",
       "      <th>0</th>\n",
       "      <td>10407</td>\n",
       "      <td>0.087386</td>\n",
       "      <td>0.188806</td>\n",
       "      <td>0.527761</td>\n",
       "      <td>0.880000</td>\n",
       "      <td>0.493197</td>\n",
       "      <td>0.614620</td>\n",
       "      <td>0.667441</td>\n",
       "      <td>0.847644</td>\n",
       "      <td>0.742881</td>\n",
       "      <td>0.559207</td>\n",
       "      <td>0.163591</td>\n",
       "    </tr>\n",
       "    <tr>\n",
       "      <th>1</th>\n",
       "      <td>10408</td>\n",
       "      <td>0.008897</td>\n",
       "      <td>0.015444</td>\n",
       "      <td>0.268657</td>\n",
       "      <td>0.933333</td>\n",
       "      <td>0.236368</td>\n",
       "      <td>0.792762</td>\n",
       "      <td>0.832994</td>\n",
       "      <td>0.734222</td>\n",
       "      <td>0.534874</td>\n",
       "      <td>0.576515</td>\n",
       "      <td>0.128709</td>\n",
       "    </tr>\n",
       "    <tr>\n",
       "      <th>2</th>\n",
       "      <td>10409</td>\n",
       "      <td>0.011467</td>\n",
       "      <td>0.012079</td>\n",
       "      <td>0.173134</td>\n",
       "      <td>0.800000</td>\n",
       "      <td>0.138780</td>\n",
       "      <td>0.723073</td>\n",
       "      <td>0.767935</td>\n",
       "      <td>0.797333</td>\n",
       "      <td>0.594305</td>\n",
       "      <td>0.604746</td>\n",
       "      <td>0.071863</td>\n",
       "    </tr>\n",
       "    <tr>\n",
       "      <th>3</th>\n",
       "      <td>10410</td>\n",
       "      <td>0.009885</td>\n",
       "      <td>0.014163</td>\n",
       "      <td>0.149254</td>\n",
       "      <td>0.800000</td>\n",
       "      <td>0.121260</td>\n",
       "      <td>0.792762</td>\n",
       "      <td>0.821377</td>\n",
       "      <td>0.738667</td>\n",
       "      <td>0.490301</td>\n",
       "      <td>0.600244</td>\n",
       "      <td>0.109814</td>\n",
       "    </tr>\n",
       "    <tr>\n",
       "      <th>4</th>\n",
       "      <td>10411</td>\n",
       "      <td>0.005437</td>\n",
       "      <td>0.006267</td>\n",
       "      <td>0.164179</td>\n",
       "      <td>0.666667</td>\n",
       "      <td>0.137262</td>\n",
       "      <td>0.739938</td>\n",
       "      <td>0.713041</td>\n",
       "      <td>0.777778</td>\n",
       "      <td>0.553033</td>\n",
       "      <td>0.576393</td>\n",
       "      <td>0.085192</td>\n",
       "    </tr>\n",
       "  </tbody>\n",
       "</table>\n",
       "</div>"
      ],
      "text/plain": [
       "      id  allelectrons_Total  density_Total  allelectrons_Average  \\\n",
       "0  10407            0.087386       0.188806              0.527761   \n",
       "1  10408            0.008897       0.015444              0.268657   \n",
       "2  10409            0.011467       0.012079              0.173134   \n",
       "3  10410            0.009885       0.014163              0.149254   \n",
       "4  10411            0.005437       0.006267              0.164179   \n",
       "\n",
       "   val_e_Average  atomicweight_Average  ionenergy_Average  el_neg_chi_Average  \\\n",
       "0       0.880000              0.493197           0.614620            0.667441   \n",
       "1       0.933333              0.236368           0.792762            0.832994   \n",
       "2       0.800000              0.138780           0.723073            0.767935   \n",
       "3       0.800000              0.121260           0.792762            0.821377   \n",
       "4       0.666667              0.137262           0.739938            0.713041   \n",
       "\n",
       "   R_vdw_element_Average  R_cov_element_Average  zaratio_Average  \\\n",
       "0               0.847644               0.742881         0.559207   \n",
       "1               0.734222               0.534874         0.576515   \n",
       "2               0.797333               0.594305         0.604746   \n",
       "3               0.738667               0.490301         0.600244   \n",
       "4               0.777778               0.553033         0.576393   \n",
       "\n",
       "   density_Average  \n",
       "0         0.163591  \n",
       "1         0.128709  \n",
       "2         0.071863  \n",
       "3         0.109814  \n",
       "4         0.085192  "
      ]
     },
     "execution_count": 17,
     "metadata": {},
     "output_type": "execute_result"
    }
   ],
   "source": [
    "test_dataset.head()"
   ]
  },
  {
   "cell_type": "code",
   "execution_count": 18,
   "id": "f5b29377",
   "metadata": {
    "execution": {
     "iopub.execute_input": "2023-11-28T19:56:54.251006Z",
     "iopub.status.busy": "2023-11-28T19:56:54.250125Z",
     "iopub.status.idle": "2023-11-28T19:56:54.995216Z",
     "shell.execute_reply": "2023-11-28T19:56:54.994173Z"
    },
    "papermill": {
     "duration": 0.899816,
     "end_time": "2023-11-28T19:56:54.997617",
     "exception": false,
     "start_time": "2023-11-28T19:56:54.097801",
     "status": "completed"
    },
    "tags": []
   },
   "outputs": [
    {
     "name": "stdout",
     "output_type": "stream",
     "text": [
      "217/217 [==============================] - 1s 2ms/step\n"
     ]
    }
   ],
   "source": [
    "predictions = DNN_model.predict(test_dataset)"
   ]
  },
  {
   "cell_type": "code",
   "execution_count": 19,
   "id": "a90088f2",
   "metadata": {
    "execution": {
     "iopub.execute_input": "2023-11-28T19:56:55.291042Z",
     "iopub.status.busy": "2023-11-28T19:56:55.290676Z",
     "iopub.status.idle": "2023-11-28T19:56:55.296273Z",
     "shell.execute_reply": "2023-11-28T19:56:55.295182Z"
    },
    "papermill": {
     "duration": 0.151688,
     "end_time": "2023-11-28T19:56:55.298425",
     "exception": false,
     "start_time": "2023-11-28T19:56:55.146737",
     "status": "completed"
    },
    "tags": []
   },
   "outputs": [],
   "source": [
    "predictions = predictions * 10 # 10 is max value of hardness in training dataset"
   ]
  },
  {
   "cell_type": "markdown",
   "id": "27bfa69d",
   "metadata": {
    "papermill": {
     "duration": 0.147246,
     "end_time": "2023-11-28T19:56:55.589646",
     "exception": false,
     "start_time": "2023-11-28T19:56:55.442400",
     "status": "completed"
    },
    "tags": []
   },
   "source": [
    "Create subbmission flie"
   ]
  },
  {
   "cell_type": "code",
   "execution_count": 20,
   "id": "f6266950",
   "metadata": {
    "execution": {
     "iopub.execute_input": "2023-11-28T19:56:55.882598Z",
     "iopub.status.busy": "2023-11-28T19:56:55.882175Z",
     "iopub.status.idle": "2023-11-28T19:56:55.890222Z",
     "shell.execute_reply": "2023-11-28T19:56:55.889154Z"
    },
    "papermill": {
     "duration": 0.154687,
     "end_time": "2023-11-28T19:56:55.892486",
     "exception": false,
     "start_time": "2023-11-28T19:56:55.737799",
     "status": "completed"
    },
    "tags": []
   },
   "outputs": [],
   "source": [
    "submission = pd.DataFrame()\n",
    "submission['id'] = test_dataset['id']\n",
    "submission['Hardness'] = predictions"
   ]
  },
  {
   "cell_type": "code",
   "execution_count": 21,
   "id": "dd1af8d3",
   "metadata": {
    "execution": {
     "iopub.execute_input": "2023-11-28T19:56:56.220560Z",
     "iopub.status.busy": "2023-11-28T19:56:56.219563Z",
     "iopub.status.idle": "2023-11-28T19:56:56.230456Z",
     "shell.execute_reply": "2023-11-28T19:56:56.229357Z"
    },
    "papermill": {
     "duration": 0.186478,
     "end_time": "2023-11-28T19:56:56.232622",
     "exception": false,
     "start_time": "2023-11-28T19:56:56.046144",
     "status": "completed"
    },
    "tags": []
   },
   "outputs": [
    {
     "data": {
      "text/html": [
       "<div>\n",
       "<style scoped>\n",
       "    .dataframe tbody tr th:only-of-type {\n",
       "        vertical-align: middle;\n",
       "    }\n",
       "\n",
       "    .dataframe tbody tr th {\n",
       "        vertical-align: top;\n",
       "    }\n",
       "\n",
       "    .dataframe thead th {\n",
       "        text-align: right;\n",
       "    }\n",
       "</style>\n",
       "<table border=\"1\" class=\"dataframe\">\n",
       "  <thead>\n",
       "    <tr style=\"text-align: right;\">\n",
       "      <th></th>\n",
       "      <th>id</th>\n",
       "      <th>Hardness</th>\n",
       "    </tr>\n",
       "  </thead>\n",
       "  <tbody>\n",
       "    <tr>\n",
       "      <th>0</th>\n",
       "      <td>10407</td>\n",
       "      <td>5.483816</td>\n",
       "    </tr>\n",
       "    <tr>\n",
       "      <th>1</th>\n",
       "      <td>10408</td>\n",
       "      <td>5.483816</td>\n",
       "    </tr>\n",
       "    <tr>\n",
       "      <th>2</th>\n",
       "      <td>10409</td>\n",
       "      <td>5.483816</td>\n",
       "    </tr>\n",
       "    <tr>\n",
       "      <th>3</th>\n",
       "      <td>10410</td>\n",
       "      <td>5.483816</td>\n",
       "    </tr>\n",
       "    <tr>\n",
       "      <th>4</th>\n",
       "      <td>10411</td>\n",
       "      <td>5.483816</td>\n",
       "    </tr>\n",
       "  </tbody>\n",
       "</table>\n",
       "</div>"
      ],
      "text/plain": [
       "      id  Hardness\n",
       "0  10407  5.483816\n",
       "1  10408  5.483816\n",
       "2  10409  5.483816\n",
       "3  10410  5.483816\n",
       "4  10411  5.483816"
      ]
     },
     "execution_count": 21,
     "metadata": {},
     "output_type": "execute_result"
    }
   ],
   "source": [
    "submission.head()"
   ]
  },
  {
   "cell_type": "code",
   "execution_count": 22,
   "id": "b269582e",
   "metadata": {
    "execution": {
     "iopub.execute_input": "2023-11-28T19:56:56.534829Z",
     "iopub.status.busy": "2023-11-28T19:56:56.533939Z",
     "iopub.status.idle": "2023-11-28T19:56:56.551818Z",
     "shell.execute_reply": "2023-11-28T19:56:56.550780Z"
    },
    "papermill": {
     "duration": 0.170903,
     "end_time": "2023-11-28T19:56:56.554090",
     "exception": false,
     "start_time": "2023-11-28T19:56:56.383187",
     "status": "completed"
    },
    "tags": []
   },
   "outputs": [
    {
     "data": {
      "text/html": [
       "<div>\n",
       "<style scoped>\n",
       "    .dataframe tbody tr th:only-of-type {\n",
       "        vertical-align: middle;\n",
       "    }\n",
       "\n",
       "    .dataframe tbody tr th {\n",
       "        vertical-align: top;\n",
       "    }\n",
       "\n",
       "    .dataframe thead th {\n",
       "        text-align: right;\n",
       "    }\n",
       "</style>\n",
       "<table border=\"1\" class=\"dataframe\">\n",
       "  <thead>\n",
       "    <tr style=\"text-align: right;\">\n",
       "      <th></th>\n",
       "      <th>id</th>\n",
       "      <th>Hardness</th>\n",
       "    </tr>\n",
       "  </thead>\n",
       "  <tbody>\n",
       "    <tr>\n",
       "      <th>count</th>\n",
       "      <td>6939.000000</td>\n",
       "      <td>6939.000000</td>\n",
       "    </tr>\n",
       "    <tr>\n",
       "      <th>mean</th>\n",
       "      <td>13876.000000</td>\n",
       "      <td>5.483817</td>\n",
       "    </tr>\n",
       "    <tr>\n",
       "      <th>std</th>\n",
       "      <td>2003.261091</td>\n",
       "      <td>0.000000</td>\n",
       "    </tr>\n",
       "    <tr>\n",
       "      <th>min</th>\n",
       "      <td>10407.000000</td>\n",
       "      <td>5.483816</td>\n",
       "    </tr>\n",
       "    <tr>\n",
       "      <th>25%</th>\n",
       "      <td>12141.500000</td>\n",
       "      <td>5.483816</td>\n",
       "    </tr>\n",
       "    <tr>\n",
       "      <th>50%</th>\n",
       "      <td>13876.000000</td>\n",
       "      <td>5.483816</td>\n",
       "    </tr>\n",
       "    <tr>\n",
       "      <th>75%</th>\n",
       "      <td>15610.500000</td>\n",
       "      <td>5.483816</td>\n",
       "    </tr>\n",
       "    <tr>\n",
       "      <th>max</th>\n",
       "      <td>17345.000000</td>\n",
       "      <td>5.483816</td>\n",
       "    </tr>\n",
       "  </tbody>\n",
       "</table>\n",
       "</div>"
      ],
      "text/plain": [
       "                 id     Hardness\n",
       "count   6939.000000  6939.000000\n",
       "mean   13876.000000     5.483817\n",
       "std     2003.261091     0.000000\n",
       "min    10407.000000     5.483816\n",
       "25%    12141.500000     5.483816\n",
       "50%    13876.000000     5.483816\n",
       "75%    15610.500000     5.483816\n",
       "max    17345.000000     5.483816"
      ]
     },
     "execution_count": 22,
     "metadata": {},
     "output_type": "execute_result"
    }
   ],
   "source": [
    "submission.describe()"
   ]
  },
  {
   "cell_type": "code",
   "execution_count": 23,
   "id": "68893a45",
   "metadata": {
    "execution": {
     "iopub.execute_input": "2023-11-28T19:56:56.835429Z",
     "iopub.status.busy": "2023-11-28T19:56:56.834535Z",
     "iopub.status.idle": "2023-11-28T19:56:56.867357Z",
     "shell.execute_reply": "2023-11-28T19:56:56.866178Z"
    },
    "papermill": {
     "duration": 0.177768,
     "end_time": "2023-11-28T19:56:56.870054",
     "exception": false,
     "start_time": "2023-11-28T19:56:56.692286",
     "status": "completed"
    },
    "tags": []
   },
   "outputs": [],
   "source": [
    "submission.to_csv('/kaggle/working/submission.csv',index=False,header=True)"
   ]
  }
 ],
 "metadata": {
  "kaggle": {
   "accelerator": "nvidiaTeslaT4",
   "dataSources": [
    {
     "databundleVersionId": 6989718,
     "sourceId": 60892,
     "sourceType": "competition"
    }
   ],
   "dockerImageVersionId": 30588,
   "isGpuEnabled": true,
   "isInternetEnabled": true,
   "language": "python",
   "sourceType": "notebook"
  },
  "kernelspec": {
   "display_name": "Python 3",
   "language": "python",
   "name": "python3"
  },
  "language_info": {
   "codemirror_mode": {
    "name": "ipython",
    "version": 3
   },
   "file_extension": ".py",
   "mimetype": "text/x-python",
   "name": "python",
   "nbconvert_exporter": "python",
   "pygments_lexer": "ipython3",
   "version": "3.10.12"
  },
  "papermill": {
   "default_parameters": {},
   "duration": 110.805813,
   "end_time": "2023-11-28T19:57:00.284480",
   "environment_variables": {},
   "exception": null,
   "input_path": "__notebook__.ipynb",
   "output_path": "__notebook__.ipynb",
   "parameters": {},
   "start_time": "2023-11-28T19:55:09.478667",
   "version": "2.4.0"
  }
 },
 "nbformat": 4,
 "nbformat_minor": 5
}
