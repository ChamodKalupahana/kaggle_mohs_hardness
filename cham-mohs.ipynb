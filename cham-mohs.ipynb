{
 "cells": [
  {
   "cell_type": "code",
   "execution_count": 1,
   "id": "7f230727",
   "metadata": {
    "_cell_guid": "b1076dfc-b9ad-4769-8c92-a6c4dae69d19",
    "_uuid": "8f2839f25d086af736a60e9eeb907d3b93b6e0e5",
    "execution": {
     "iopub.execute_input": "2023-11-27T02:29:54.605508Z",
     "iopub.status.busy": "2023-11-27T02:29:54.605210Z",
     "iopub.status.idle": "2023-11-27T02:30:07.957763Z",
     "shell.execute_reply": "2023-11-27T02:30:07.956520Z"
    },
    "papermill": {
     "duration": 13.363072,
     "end_time": "2023-11-27T02:30:07.960146",
     "exception": false,
     "start_time": "2023-11-27T02:29:54.597074",
     "status": "completed"
    },
    "tags": []
   },
   "outputs": [
    {
     "name": "stderr",
     "output_type": "stream",
     "text": [
      "/opt/conda/lib/python3.10/site-packages/scipy/__init__.py:146: UserWarning: A NumPy version >=1.16.5 and <1.23.0 is required for this version of SciPy (detected version 1.24.3\n",
      "  warnings.warn(f\"A NumPy version >={np_minversion} and <{np_maxversion}\"\n"
     ]
    },
    {
     "name": "stdout",
     "output_type": "stream",
     "text": [
      "/kaggle/input/playground-series-s3e25/sample_submission.csv\n",
      "/kaggle/input/playground-series-s3e25/train.csv\n",
      "/kaggle/input/playground-series-s3e25/test.csv\n"
     ]
    }
   ],
   "source": [
    "# This Python 3 environment comes with many helpful analytics libraries installed\n",
    "# It is defined by the kaggle/python Docker image: https://github.com/kaggle/docker-python\n",
    "# For example, here's several helpful packages to load\n",
    "\n",
    "import numpy as np # linear algebra\n",
    "import pandas as pd # data processing, CSV file I/O (e.g. pd.read_csv)\n",
    "import matplotlib.pyplot as plt\n",
    "\n",
    "import tensorflow as tf\n",
    "import tensorflow.keras.layers as layers\n",
    "\n",
    "# Input data files are available in the read-only \"../input/\" directory\n",
    "# For example, running this (by clicking run or pressing Shift+Enter) will list all files under the input directory\n",
    "\n",
    "import os\n",
    "for dirname, _, filenames in os.walk('/kaggle/input'):\n",
    "    for filename in filenames:\n",
    "        print(os.path.join(dirname, filename))\n",
    "\n",
    "# You can write up to 20GB to the current directory (/kaggle/working/) that gets preserved as output when you create a version using \"Save & Run All\" \n",
    "# You can also write temporary files to /kaggle/temp/, but they won't be saved outside of the current session"
   ]
  },
  {
   "cell_type": "code",
   "execution_count": 2,
   "id": "84f5c866",
   "metadata": {
    "execution": {
     "iopub.execute_input": "2023-11-27T02:30:07.977356Z",
     "iopub.status.busy": "2023-11-27T02:30:07.976770Z",
     "iopub.status.idle": "2023-11-27T02:30:08.034684Z",
     "shell.execute_reply": "2023-11-27T02:30:08.033938Z"
    },
    "papermill": {
     "duration": 0.068886,
     "end_time": "2023-11-27T02:30:08.036996",
     "exception": false,
     "start_time": "2023-11-27T02:30:07.968110",
     "status": "completed"
    },
    "tags": []
   },
   "outputs": [],
   "source": [
    "filepath = \"/kaggle/input/playground-series-s3e25/train.csv\"\n",
    "\n",
    "dataset = pd.read_csv(filepath)"
   ]
  },
  {
   "cell_type": "code",
   "execution_count": 3,
   "id": "c937ad1b",
   "metadata": {
    "execution": {
     "iopub.execute_input": "2023-11-27T02:30:08.053602Z",
     "iopub.status.busy": "2023-11-27T02:30:08.053302Z",
     "iopub.status.idle": "2023-11-27T02:30:08.082485Z",
     "shell.execute_reply": "2023-11-27T02:30:08.081153Z"
    },
    "papermill": {
     "duration": 0.040064,
     "end_time": "2023-11-27T02:30:08.084789",
     "exception": false,
     "start_time": "2023-11-27T02:30:08.044725",
     "status": "completed"
    },
    "tags": []
   },
   "outputs": [
    {
     "name": "stdout",
     "output_type": "stream",
     "text": [
      "<class 'pandas.core.frame.DataFrame'>\n",
      "RangeIndex: 10407 entries, 0 to 10406\n",
      "Data columns (total 13 columns):\n",
      " #   Column                 Non-Null Count  Dtype  \n",
      "---  ------                 --------------  -----  \n",
      " 0   id                     10407 non-null  int64  \n",
      " 1   allelectrons_Total     10407 non-null  float64\n",
      " 2   density_Total          10407 non-null  float64\n",
      " 3   allelectrons_Average   10407 non-null  float64\n",
      " 4   val_e_Average          10407 non-null  float64\n",
      " 5   atomicweight_Average   10407 non-null  float64\n",
      " 6   ionenergy_Average      10407 non-null  float64\n",
      " 7   el_neg_chi_Average     10407 non-null  float64\n",
      " 8   R_vdw_element_Average  10407 non-null  float64\n",
      " 9   R_cov_element_Average  10407 non-null  float64\n",
      " 10  zaratio_Average        10407 non-null  float64\n",
      " 11  density_Average        10407 non-null  float64\n",
      " 12  Hardness               10407 non-null  float64\n",
      "dtypes: float64(12), int64(1)\n",
      "memory usage: 1.0 MB\n"
     ]
    }
   ],
   "source": [
    "dataset.info()"
   ]
  },
  {
   "cell_type": "code",
   "execution_count": 4,
   "id": "3bf3372b",
   "metadata": {
    "execution": {
     "iopub.execute_input": "2023-11-27T02:30:08.099846Z",
     "iopub.status.busy": "2023-11-27T02:30:08.099392Z",
     "iopub.status.idle": "2023-11-27T02:30:08.104915Z",
     "shell.execute_reply": "2023-11-27T02:30:08.103999Z"
    },
    "papermill": {
     "duration": 0.015043,
     "end_time": "2023-11-27T02:30:08.106891",
     "exception": false,
     "start_time": "2023-11-27T02:30:08.091848",
     "status": "completed"
    },
    "tags": []
   },
   "outputs": [],
   "source": [
    "y = dataset.pop('Hardness')\n",
    "x = dataset"
   ]
  },
  {
   "cell_type": "markdown",
   "id": "86eff478",
   "metadata": {
    "papermill": {
     "duration": 0.006602,
     "end_time": "2023-11-27T02:30:08.120123",
     "exception": false,
     "start_time": "2023-11-27T02:30:08.113521",
     "status": "completed"
    },
    "tags": []
   },
   "source": [
    "### Check dataset"
   ]
  },
  {
   "cell_type": "code",
   "execution_count": 5,
   "id": "c5453f17",
   "metadata": {
    "execution": {
     "iopub.execute_input": "2023-11-27T02:30:08.135725Z",
     "iopub.status.busy": "2023-11-27T02:30:08.135217Z",
     "iopub.status.idle": "2023-11-27T02:30:08.157034Z",
     "shell.execute_reply": "2023-11-27T02:30:08.156153Z"
    },
    "papermill": {
     "duration": 0.031958,
     "end_time": "2023-11-27T02:30:08.159132",
     "exception": false,
     "start_time": "2023-11-27T02:30:08.127174",
     "status": "completed"
    },
    "tags": []
   },
   "outputs": [
    {
     "data": {
      "text/html": [
       "<div>\n",
       "<style scoped>\n",
       "    .dataframe tbody tr th:only-of-type {\n",
       "        vertical-align: middle;\n",
       "    }\n",
       "\n",
       "    .dataframe tbody tr th {\n",
       "        vertical-align: top;\n",
       "    }\n",
       "\n",
       "    .dataframe thead th {\n",
       "        text-align: right;\n",
       "    }\n",
       "</style>\n",
       "<table border=\"1\" class=\"dataframe\">\n",
       "  <thead>\n",
       "    <tr style=\"text-align: right;\">\n",
       "      <th></th>\n",
       "      <th>id</th>\n",
       "      <th>allelectrons_Total</th>\n",
       "      <th>density_Total</th>\n",
       "      <th>allelectrons_Average</th>\n",
       "      <th>val_e_Average</th>\n",
       "      <th>atomicweight_Average</th>\n",
       "      <th>ionenergy_Average</th>\n",
       "      <th>el_neg_chi_Average</th>\n",
       "      <th>R_vdw_element_Average</th>\n",
       "      <th>R_cov_element_Average</th>\n",
       "      <th>zaratio_Average</th>\n",
       "      <th>density_Average</th>\n",
       "    </tr>\n",
       "  </thead>\n",
       "  <tbody>\n",
       "    <tr>\n",
       "      <th>0</th>\n",
       "      <td>0</td>\n",
       "      <td>100.0</td>\n",
       "      <td>0.841611</td>\n",
       "      <td>10.0</td>\n",
       "      <td>4.8</td>\n",
       "      <td>20.612526</td>\n",
       "      <td>11.08810</td>\n",
       "      <td>2.766</td>\n",
       "      <td>1.732</td>\n",
       "      <td>0.860</td>\n",
       "      <td>0.496070</td>\n",
       "      <td>0.91457</td>\n",
       "    </tr>\n",
       "    <tr>\n",
       "      <th>1</th>\n",
       "      <td>1</td>\n",
       "      <td>100.0</td>\n",
       "      <td>7.558488</td>\n",
       "      <td>10.0</td>\n",
       "      <td>4.8</td>\n",
       "      <td>20.298893</td>\n",
       "      <td>12.04083</td>\n",
       "      <td>2.755</td>\n",
       "      <td>1.631</td>\n",
       "      <td>0.910</td>\n",
       "      <td>0.492719</td>\n",
       "      <td>0.71760</td>\n",
       "    </tr>\n",
       "    <tr>\n",
       "      <th>2</th>\n",
       "      <td>2</td>\n",
       "      <td>76.0</td>\n",
       "      <td>8.885992</td>\n",
       "      <td>15.6</td>\n",
       "      <td>5.6</td>\n",
       "      <td>33.739258</td>\n",
       "      <td>12.08630</td>\n",
       "      <td>2.828</td>\n",
       "      <td>1.788</td>\n",
       "      <td>0.864</td>\n",
       "      <td>0.481478</td>\n",
       "      <td>1.50633</td>\n",
       "    </tr>\n",
       "    <tr>\n",
       "      <th>3</th>\n",
       "      <td>3</td>\n",
       "      <td>100.0</td>\n",
       "      <td>8.795296</td>\n",
       "      <td>10.0</td>\n",
       "      <td>4.8</td>\n",
       "      <td>20.213349</td>\n",
       "      <td>10.94850</td>\n",
       "      <td>2.648</td>\n",
       "      <td>1.626</td>\n",
       "      <td>0.936</td>\n",
       "      <td>0.489272</td>\n",
       "      <td>0.78937</td>\n",
       "    </tr>\n",
       "    <tr>\n",
       "      <th>4</th>\n",
       "      <td>4</td>\n",
       "      <td>116.0</td>\n",
       "      <td>9.577996</td>\n",
       "      <td>11.6</td>\n",
       "      <td>4.8</td>\n",
       "      <td>24.988133</td>\n",
       "      <td>11.82448</td>\n",
       "      <td>2.766</td>\n",
       "      <td>1.682</td>\n",
       "      <td>0.896</td>\n",
       "      <td>0.492736</td>\n",
       "      <td>1.86481</td>\n",
       "    </tr>\n",
       "  </tbody>\n",
       "</table>\n",
       "</div>"
      ],
      "text/plain": [
       "   id  allelectrons_Total  density_Total  allelectrons_Average  val_e_Average  \\\n",
       "0   0               100.0       0.841611                  10.0            4.8   \n",
       "1   1               100.0       7.558488                  10.0            4.8   \n",
       "2   2                76.0       8.885992                  15.6            5.6   \n",
       "3   3               100.0       8.795296                  10.0            4.8   \n",
       "4   4               116.0       9.577996                  11.6            4.8   \n",
       "\n",
       "   atomicweight_Average  ionenergy_Average  el_neg_chi_Average  \\\n",
       "0             20.612526           11.08810               2.766   \n",
       "1             20.298893           12.04083               2.755   \n",
       "2             33.739258           12.08630               2.828   \n",
       "3             20.213349           10.94850               2.648   \n",
       "4             24.988133           11.82448               2.766   \n",
       "\n",
       "   R_vdw_element_Average  R_cov_element_Average  zaratio_Average  \\\n",
       "0                  1.732                  0.860         0.496070   \n",
       "1                  1.631                  0.910         0.492719   \n",
       "2                  1.788                  0.864         0.481478   \n",
       "3                  1.626                  0.936         0.489272   \n",
       "4                  1.682                  0.896         0.492736   \n",
       "\n",
       "   density_Average  \n",
       "0          0.91457  \n",
       "1          0.71760  \n",
       "2          1.50633  \n",
       "3          0.78937  \n",
       "4          1.86481  "
      ]
     },
     "execution_count": 5,
     "metadata": {},
     "output_type": "execute_result"
    }
   ],
   "source": [
    "x.head()"
   ]
  },
  {
   "cell_type": "code",
   "execution_count": 6,
   "id": "fda8efcd",
   "metadata": {
    "execution": {
     "iopub.execute_input": "2023-11-27T02:30:08.175845Z",
     "iopub.status.busy": "2023-11-27T02:30:08.175564Z",
     "iopub.status.idle": "2023-11-27T02:30:08.182090Z",
     "shell.execute_reply": "2023-11-27T02:30:08.181094Z"
    },
    "papermill": {
     "duration": 0.016978,
     "end_time": "2023-11-27T02:30:08.184280",
     "exception": false,
     "start_time": "2023-11-27T02:30:08.167302",
     "status": "completed"
    },
    "tags": []
   },
   "outputs": [
    {
     "data": {
      "text/plain": [
       "0    6.0\n",
       "1    6.5\n",
       "2    2.5\n",
       "3    6.0\n",
       "4    6.0\n",
       "Name: Hardness, dtype: float64"
      ]
     },
     "execution_count": 6,
     "metadata": {},
     "output_type": "execute_result"
    }
   ],
   "source": [
    "y.head()"
   ]
  },
  {
   "cell_type": "code",
   "execution_count": 7,
   "id": "3936b334",
   "metadata": {
    "execution": {
     "iopub.execute_input": "2023-11-27T02:30:08.201063Z",
     "iopub.status.busy": "2023-11-27T02:30:08.200779Z",
     "iopub.status.idle": "2023-11-27T02:30:08.211605Z",
     "shell.execute_reply": "2023-11-27T02:30:08.210708Z"
    },
    "papermill": {
     "duration": 0.021518,
     "end_time": "2023-11-27T02:30:08.213812",
     "exception": false,
     "start_time": "2023-11-27T02:30:08.192294",
     "status": "completed"
    },
    "tags": []
   },
   "outputs": [
    {
     "data": {
      "text/plain": [
       "count    10407.000000\n",
       "mean         4.647126\n",
       "std          1.680525\n",
       "min          1.000000\n",
       "25%          3.000000\n",
       "50%          5.500000\n",
       "75%          6.000000\n",
       "max         10.000000\n",
       "Name: Hardness, dtype: float64"
      ]
     },
     "execution_count": 7,
     "metadata": {},
     "output_type": "execute_result"
    }
   ],
   "source": [
    "y.describe()"
   ]
  },
  {
   "cell_type": "code",
   "execution_count": 8,
   "id": "ea7f6e70",
   "metadata": {
    "execution": {
     "iopub.execute_input": "2023-11-27T02:30:08.230389Z",
     "iopub.status.busy": "2023-11-27T02:30:08.230134Z",
     "iopub.status.idle": "2023-11-27T02:30:26.556767Z",
     "shell.execute_reply": "2023-11-27T02:30:26.555734Z"
    },
    "papermill": {
     "duration": 18.336852,
     "end_time": "2023-11-27T02:30:26.559008",
     "exception": false,
     "start_time": "2023-11-27T02:30:08.222156",
     "status": "completed"
    },
    "tags": []
   },
   "outputs": [
    {
     "data": {
      "text/plain": [
       "<BarContainer object of 10407 artists>"
      ]
     },
     "execution_count": 8,
     "metadata": {},
     "output_type": "execute_result"
    },
    {
     "data": {
      "image/png": "[encoded data removed]",
      "text/plain": [
       "<Figure size 640x480 with 1 Axes>"
      ]
     },
     "metadata": {},
     "output_type": "display_data"
    }
   ],
   "source": [
    "plt.bar(y.index, y)"
   ]
  },
  {
   "cell_type": "markdown",
   "id": "6ff6ada5",
   "metadata": {
    "papermill": {
     "duration": 0.007651,
     "end_time": "2023-11-27T02:30:26.574752",
     "exception": false,
     "start_time": "2023-11-27T02:30:26.567101",
     "status": "completed"
    },
    "tags": []
   },
   "source": [
    "### Create DNN model"
   ]
  },
  {
   "cell_type": "code",
   "execution_count": 9,
   "id": "2a6c6398",
   "metadata": {
    "execution": {
     "iopub.execute_input": "2023-11-27T02:30:26.591953Z",
     "iopub.status.busy": "2023-11-27T02:30:26.591609Z",
     "iopub.status.idle": "2023-11-27T02:30:26.596472Z",
     "shell.execute_reply": "2023-11-27T02:30:26.595560Z"
    },
    "papermill": {
     "duration": 0.015974,
     "end_time": "2023-11-27T02:30:26.598750",
     "exception": false,
     "start_time": "2023-11-27T02:30:26.582776",
     "status": "completed"
    },
    "tags": []
   },
   "outputs": [
    {
     "name": "stdout",
     "output_type": "stream",
     "text": [
      "(10407, 12)\n"
     ]
    }
   ],
   "source": [
    "input_shape = x.shape\n",
    "print(input_shape)"
   ]
  },
  {
   "cell_type": "markdown",
   "id": "664cb6f1",
   "metadata": {
    "papermill": {
     "duration": 0.008012,
     "end_time": "2023-11-27T02:30:26.615060",
     "exception": false,
     "start_time": "2023-11-27T02:30:26.607048",
     "status": "completed"
    },
    "tags": []
   },
   "source": [
    "try with for loop"
   ]
  },
  {
   "cell_type": "code",
   "execution_count": 10,
   "id": "f75a1957",
   "metadata": {
    "execution": {
     "iopub.execute_input": "2023-11-27T02:30:26.632469Z",
     "iopub.status.busy": "2023-11-27T02:30:26.632219Z",
     "iopub.status.idle": "2023-11-27T02:30:30.786093Z",
     "shell.execute_reply": "2023-11-27T02:30:30.785202Z"
    },
    "papermill": {
     "duration": 4.16562,
     "end_time": "2023-11-27T02:30:30.788662",
     "exception": false,
     "start_time": "2023-11-27T02:30:26.623042",
     "status": "completed"
    },
    "tags": []
   },
   "outputs": [],
   "source": [
    "def dense_block(width):\n",
    "    def apply(dx):\n",
    "        dx = layers.Dense(width, activation='relu')(dx)\n",
    "        return dx\n",
    "    return apply\n",
    "\n",
    "def get_dense_network():\n",
    "    input_shape = x.shape\n",
    "    #widths = [130, 64, 32, 16, 8, 4, 2, 1]\n",
    "    \n",
    "    # define widths of dense layers\n",
    "    widths_array = np.arange(10, 0, -1)\n",
    "    widths = [2**x for x in widths_array]\n",
    "    \n",
    "    input_layer = layers.Input(input_shape[1])\n",
    "    \n",
    "    dx = layers.Dense(widths[0], activation='relu')(input_layer)\n",
    "    \n",
    "    skips = [dx]\n",
    "    \n",
    "    # Upblock\n",
    "    for width in widths:\n",
    "        if width != widths[0]:\n",
    "            dx = dense_block(width)(dx)\n",
    "        \n",
    "    output_layer = layers.Dense(1, activation='linear')(dx)\n",
    "    return tf.keras.Model(inputs=input_layer, outputs=output_layer)\n",
    "\n",
    "DNN_model = get_dense_network()\n",
    "\n",
    "loss_function = tf.keras.losses.MeanAbsoluteError()\n",
    "optimiser = tf.keras.optimizers.Adam(learning_rate=0.001)\n",
    "DNN_model.compile(loss = loss_function, optimizer=optimiser, metrics=['mae'])"
   ]
  },
  {
   "cell_type": "code",
   "execution_count": 11,
   "id": "61be7d32",
   "metadata": {
    "execution": {
     "iopub.execute_input": "2023-11-27T02:30:30.805684Z",
     "iopub.status.busy": "2023-11-27T02:30:30.805372Z",
     "iopub.status.idle": "2023-11-27T02:30:30.840252Z",
     "shell.execute_reply": "2023-11-27T02:30:30.837303Z"
    },
    "papermill": {
     "duration": 0.056264,
     "end_time": "2023-11-27T02:30:30.853034",
     "exception": false,
     "start_time": "2023-11-27T02:30:30.796770",
     "status": "completed"
    },
    "tags": []
   },
   "outputs": [
    {
     "name": "stdout",
     "output_type": "stream",
     "text": [
      "Model: \"model\"\n",
      "_________________________________________________________________\n",
      " Layer (type)                Output Shape              Param #   \n",
      "=================================================================\n",
      " input_1 (InputLayer)        [(None, 12)]              0         \n",
      "                                                                 \n",
      " dense (Dense)               (None, 1024)              13312     \n",
      "                                                                 \n",
      " dense_1 (Dense)             (None, 512)               524800    \n",
      "                                                                 \n",
      " dense_2 (Dense)             (None, 256)               131328    \n",
      "                                                                 \n",
      " dense_3 (Dense)             (None, 128)               32896     \n",
      "                                                                 \n",
      " dense_4 (Dense)             (None, 64)                8256      \n",
      "                                                                 \n",
      " dense_5 (Dense)             (None, 32)                2080      \n",
      "                                                                 \n",
      " dense_6 (Dense)             (None, 16)                528       \n",
      "                                                                 \n",
      " dense_7 (Dense)             (None, 8)                 136       \n",
      "                                                                 \n",
      " dense_8 (Dense)             (None, 4)                 36        \n",
      "                                                                 \n",
      " dense_9 (Dense)             (None, 2)                 10        \n",
      "                                                                 \n",
      " dense_10 (Dense)            (None, 1)                 3         \n",
      "                                                                 \n",
      "=================================================================\n",
      "Total params: 713385 (2.72 MB)\n",
      "Trainable params: 713385 (2.72 MB)\n",
      "Non-trainable params: 0 (0.00 Byte)\n",
      "_________________________________________________________________\n"
     ]
    }
   ],
   "source": [
    "DNN_model.summary()"
   ]
  },
  {
   "cell_type": "markdown",
   "id": "c9480dd4",
   "metadata": {
    "papermill": {
     "duration": 0.010127,
     "end_time": "2023-11-27T02:30:30.873177",
     "exception": false,
     "start_time": "2023-11-27T02:30:30.863050",
     "status": "completed"
    },
    "tags": []
   },
   "source": [
    "### Test dataset"
   ]
  },
  {
   "cell_type": "code",
   "execution_count": 12,
   "id": "3f3ddfbb",
   "metadata": {
    "execution": {
     "iopub.execute_input": "2023-11-27T02:30:30.895281Z",
     "iopub.status.busy": "2023-11-27T02:30:30.894573Z",
     "iopub.status.idle": "2023-11-27T02:31:51.136611Z",
     "shell.execute_reply": "2023-11-27T02:31:51.135815Z"
    },
    "papermill": {
     "duration": 80.255333,
     "end_time": "2023-11-27T02:31:51.138745",
     "exception": false,
     "start_time": "2023-11-27T02:30:30.883412",
     "status": "completed"
    },
    "tags": []
   },
   "outputs": [
    {
     "name": "stdout",
     "output_type": "stream",
     "text": [
      "Epoch 1/50\n",
      "326/326 [==============================] - 9s 4ms/step - loss: 4.4855 - mae: 4.4855\n",
      "Epoch 2/50\n",
      "326/326 [==============================] - 1s 5ms/step - loss: 4.1590 - mae: 4.1590\n",
      "Epoch 3/50\n",
      "326/326 [==============================] - 1s 4ms/step - loss: 3.8330 - mae: 3.8330\n",
      "Epoch 4/50\n",
      "326/326 [==============================] - 1s 4ms/step - loss: 3.5071 - mae: 3.5071\n",
      "Epoch 5/50\n",
      "326/326 [==============================] - 1s 4ms/step - loss: 3.1841 - mae: 3.1841\n",
      "Epoch 6/50\n",
      "326/326 [==============================] - 1s 5ms/step - loss: 2.8778 - mae: 2.8778\n",
      "Epoch 7/50\n",
      "326/326 [==============================] - 1s 4ms/step - loss: 2.5989 - mae: 2.5989\n",
      "Epoch 8/50\n",
      "326/326 [==============================] - 1s 4ms/step - loss: 2.3548 - mae: 2.3548\n",
      "Epoch 9/50\n",
      "326/326 [==============================] - 1s 4ms/step - loss: 2.1811 - mae: 2.1811\n",
      "Epoch 10/50\n",
      "326/326 [==============================] - 1s 4ms/step - loss: 2.0524 - mae: 2.0524\n",
      "Epoch 11/50\n",
      "326/326 [==============================] - 1s 4ms/step - loss: 1.9452 - mae: 1.9452\n",
      "Epoch 12/50\n",
      "326/326 [==============================] - 2s 5ms/step - loss: 1.8482 - mae: 1.8482\n",
      "Epoch 13/50\n",
      "326/326 [==============================] - 2s 5ms/step - loss: 1.7550 - mae: 1.7550\n",
      "Epoch 14/50\n",
      "326/326 [==============================] - 1s 4ms/step - loss: 1.6734 - mae: 1.6734\n",
      "Epoch 15/50\n",
      "326/326 [==============================] - 1s 4ms/step - loss: 1.6165 - mae: 1.6165\n",
      "Epoch 16/50\n",
      "326/326 [==============================] - 1s 4ms/step - loss: 1.5834 - mae: 1.5834\n",
      "Epoch 17/50\n",
      "326/326 [==============================] - 1s 4ms/step - loss: 1.5608 - mae: 1.5608\n",
      "Epoch 18/50\n",
      "326/326 [==============================] - 1s 4ms/step - loss: 1.5377 - mae: 1.5377\n",
      "Epoch 19/50\n",
      "326/326 [==============================] - 1s 4ms/step - loss: 1.5177 - mae: 1.5177\n",
      "Epoch 20/50\n",
      "326/326 [==============================] - 1s 5ms/step - loss: 1.4997 - mae: 1.4997\n",
      "Epoch 21/50\n",
      "326/326 [==============================] - 1s 4ms/step - loss: 1.4823 - mae: 1.4823\n",
      "Epoch 22/50\n",
      "326/326 [==============================] - 1s 4ms/step - loss: 1.4656 - mae: 1.4656\n",
      "Epoch 23/50\n",
      "326/326 [==============================] - 1s 4ms/step - loss: 1.4524 - mae: 1.4524\n",
      "Epoch 24/50\n",
      "326/326 [==============================] - 1s 4ms/step - loss: 1.4486 - mae: 1.4486\n",
      "Epoch 25/50\n",
      "326/326 [==============================] - 1s 4ms/step - loss: 1.4469 - mae: 1.4469\n",
      "Epoch 26/50\n",
      "326/326 [==============================] - 1s 4ms/step - loss: 1.4452 - mae: 1.4452\n",
      "Epoch 27/50\n",
      "326/326 [==============================] - 1s 4ms/step - loss: 1.4432 - mae: 1.4432\n",
      "Epoch 28/50\n",
      "326/326 [==============================] - 1s 4ms/step - loss: 1.4413 - mae: 1.4413\n",
      "Epoch 29/50\n",
      "326/326 [==============================] - 1s 4ms/step - loss: 1.4396 - mae: 1.4396\n",
      "Epoch 30/50\n",
      "326/326 [==============================] - 1s 4ms/step - loss: 1.4393 - mae: 1.4393\n",
      "Epoch 31/50\n",
      "326/326 [==============================] - 1s 4ms/step - loss: 1.4391 - mae: 1.4391\n",
      "Epoch 32/50\n",
      "326/326 [==============================] - 1s 4ms/step - loss: 1.4390 - mae: 1.4390\n",
      "Epoch 33/50\n",
      "326/326 [==============================] - 1s 4ms/step - loss: 1.4389 - mae: 1.4389\n",
      "Epoch 34/50\n",
      "326/326 [==============================] - 2s 5ms/step - loss: 1.4388 - mae: 1.4388\n",
      "Epoch 35/50\n",
      "326/326 [==============================] - 1s 4ms/step - loss: 1.4386 - mae: 1.4386\n",
      "Epoch 36/50\n",
      "326/326 [==============================] - 1s 4ms/step - loss: 1.4385 - mae: 1.4385\n",
      "Epoch 37/50\n",
      "326/326 [==============================] - 1s 4ms/step - loss: 1.4384 - mae: 1.4384\n",
      "Epoch 38/50\n",
      "326/326 [==============================] - 1s 4ms/step - loss: 1.4382 - mae: 1.4382\n",
      "Epoch 39/50\n",
      "326/326 [==============================] - 1s 4ms/step - loss: 1.4381 - mae: 1.4381\n",
      "Epoch 40/50\n",
      "326/326 [==============================] - 1s 4ms/step - loss: 1.4380 - mae: 1.4380\n",
      "Epoch 41/50\n",
      "326/326 [==============================] - 1s 4ms/step - loss: 1.4379 - mae: 1.4379\n",
      "Epoch 42/50\n",
      "326/326 [==============================] - 1s 4ms/step - loss: 1.4378 - mae: 1.4378\n",
      "Epoch 43/50\n",
      "326/326 [==============================] - 1s 4ms/step - loss: 1.4378 - mae: 1.4378\n",
      "Epoch 44/50\n",
      "326/326 [==============================] - 1s 4ms/step - loss: 1.4377 - mae: 1.4377\n",
      "Epoch 45/50\n",
      "326/326 [==============================] - 1s 4ms/step - loss: 1.4377 - mae: 1.4377\n",
      "Epoch 46/50\n",
      "326/326 [==============================] - 1s 4ms/step - loss: 1.4378 - mae: 1.4378\n",
      "Epoch 47/50\n",
      "326/326 [==============================] - 1s 4ms/step - loss: 1.4377 - mae: 1.4377\n",
      "Epoch 48/50\n",
      "326/326 [==============================] - 1s 5ms/step - loss: 1.4378 - mae: 1.4378\n",
      "Epoch 49/50\n",
      "326/326 [==============================] - 1s 4ms/step - loss: 1.4378 - mae: 1.4378\n",
      "Epoch 50/50\n",
      "326/326 [==============================] - 1s 4ms/step - loss: 1.4378 - mae: 1.4378\n"
     ]
    },
    {
     "data": {
      "text/plain": [
       "<keras.src.callbacks.History at 0x7b81954dbdf0>"
      ]
     },
     "execution_count": 12,
     "metadata": {},
     "output_type": "execute_result"
    }
   ],
   "source": [
    "DNN_model.fit(x, y, epochs=50)"
   ]
  },
  {
   "cell_type": "markdown",
   "id": "62044ccc",
   "metadata": {
    "papermill": {
     "duration": 0.135752,
     "end_time": "2023-11-27T02:31:51.448215",
     "exception": false,
     "start_time": "2023-11-27T02:31:51.312463",
     "status": "completed"
    },
    "tags": []
   },
   "source": [
    "### Test submission"
   ]
  },
  {
   "cell_type": "code",
   "execution_count": 13,
   "id": "32ab316c",
   "metadata": {
    "execution": {
     "iopub.execute_input": "2023-11-27T02:31:51.712791Z",
     "iopub.status.busy": "2023-11-27T02:31:51.712023Z",
     "iopub.status.idle": "2023-11-27T02:31:51.744307Z",
     "shell.execute_reply": "2023-11-27T02:31:51.743514Z"
    },
    "papermill": {
     "duration": 0.168592,
     "end_time": "2023-11-27T02:31:51.746578",
     "exception": false,
     "start_time": "2023-11-27T02:31:51.577986",
     "status": "completed"
    },
    "tags": []
   },
   "outputs": [],
   "source": [
    "test_dataset = pd.read_csv(\"/kaggle/input/playground-series-s3e25/test.csv\")"
   ]
  },
  {
   "cell_type": "code",
   "execution_count": 14,
   "id": "bbda73b8",
   "metadata": {
    "execution": {
     "iopub.execute_input": "2023-11-27T02:31:52.006820Z",
     "iopub.status.busy": "2023-11-27T02:31:52.006456Z",
     "iopub.status.idle": "2023-11-27T02:31:52.023818Z",
     "shell.execute_reply": "2023-11-27T02:31:52.022919Z"
    },
    "papermill": {
     "duration": 0.148337,
     "end_time": "2023-11-27T02:31:52.026082",
     "exception": false,
     "start_time": "2023-11-27T02:31:51.877745",
     "status": "completed"
    },
    "tags": []
   },
   "outputs": [
    {
     "data": {
      "text/html": [
       "<div>\n",
       "<style scoped>\n",
       "    .dataframe tbody tr th:only-of-type {\n",
       "        vertical-align: middle;\n",
       "    }\n",
       "\n",
       "    .dataframe tbody tr th {\n",
       "        vertical-align: top;\n",
       "    }\n",
       "\n",
       "    .dataframe thead th {\n",
       "        text-align: right;\n",
       "    }\n",
       "</style>\n",
       "<table border=\"1\" class=\"dataframe\">\n",
       "  <thead>\n",
       "    <tr style=\"text-align: right;\">\n",
       "      <th></th>\n",
       "      <th>id</th>\n",
       "      <th>allelectrons_Total</th>\n",
       "      <th>density_Total</th>\n",
       "      <th>allelectrons_Average</th>\n",
       "      <th>val_e_Average</th>\n",
       "      <th>atomicweight_Average</th>\n",
       "      <th>ionenergy_Average</th>\n",
       "      <th>el_neg_chi_Average</th>\n",
       "      <th>R_vdw_element_Average</th>\n",
       "      <th>R_cov_element_Average</th>\n",
       "      <th>zaratio_Average</th>\n",
       "      <th>density_Average</th>\n",
       "    </tr>\n",
       "  </thead>\n",
       "  <tbody>\n",
       "    <tr>\n",
       "      <th>0</th>\n",
       "      <td>10407</td>\n",
       "      <td>884.0</td>\n",
       "      <td>121.420000</td>\n",
       "      <td>35.36</td>\n",
       "      <td>5.28</td>\n",
       "      <td>82.561240</td>\n",
       "      <td>9.370384</td>\n",
       "      <td>2.298</td>\n",
       "      <td>1.9072</td>\n",
       "      <td>1.200000</td>\n",
       "      <td>0.461899</td>\n",
       "      <td>1.79459</td>\n",
       "    </tr>\n",
       "    <tr>\n",
       "      <th>1</th>\n",
       "      <td>10408</td>\n",
       "      <td>90.0</td>\n",
       "      <td>9.931960</td>\n",
       "      <td>18.00</td>\n",
       "      <td>5.60</td>\n",
       "      <td>39.568056</td>\n",
       "      <td>12.086300</td>\n",
       "      <td>2.868</td>\n",
       "      <td>1.6520</td>\n",
       "      <td>0.864000</td>\n",
       "      <td>0.476196</td>\n",
       "      <td>1.41194</td>\n",
       "    </tr>\n",
       "    <tr>\n",
       "      <th>2</th>\n",
       "      <td>10409</td>\n",
       "      <td>116.0</td>\n",
       "      <td>7.767992</td>\n",
       "      <td>11.60</td>\n",
       "      <td>4.80</td>\n",
       "      <td>23.231818</td>\n",
       "      <td>11.023840</td>\n",
       "      <td>2.644</td>\n",
       "      <td>1.7940</td>\n",
       "      <td>0.960000</td>\n",
       "      <td>0.499514</td>\n",
       "      <td>0.78834</td>\n",
       "    </tr>\n",
       "    <tr>\n",
       "      <th>3</th>\n",
       "      <td>10410</td>\n",
       "      <td>100.0</td>\n",
       "      <td>9.107996</td>\n",
       "      <td>10.00</td>\n",
       "      <td>4.80</td>\n",
       "      <td>20.298893</td>\n",
       "      <td>12.086300</td>\n",
       "      <td>2.828</td>\n",
       "      <td>1.6620</td>\n",
       "      <td>0.792000</td>\n",
       "      <td>0.495796</td>\n",
       "      <td>1.20466</td>\n",
       "    </tr>\n",
       "    <tr>\n",
       "      <th>4</th>\n",
       "      <td>10411</td>\n",
       "      <td>55.0</td>\n",
       "      <td>4.030000</td>\n",
       "      <td>11.00</td>\n",
       "      <td>4.00</td>\n",
       "      <td>22.977675</td>\n",
       "      <td>11.280950</td>\n",
       "      <td>2.455</td>\n",
       "      <td>1.7500</td>\n",
       "      <td>0.893333</td>\n",
       "      <td>0.476095</td>\n",
       "      <td>0.93456</td>\n",
       "    </tr>\n",
       "  </tbody>\n",
       "</table>\n",
       "</div>"
      ],
      "text/plain": [
       "      id  allelectrons_Total  density_Total  allelectrons_Average  \\\n",
       "0  10407               884.0     121.420000                 35.36   \n",
       "1  10408                90.0       9.931960                 18.00   \n",
       "2  10409               116.0       7.767992                 11.60   \n",
       "3  10410               100.0       9.107996                 10.00   \n",
       "4  10411                55.0       4.030000                 11.00   \n",
       "\n",
       "   val_e_Average  atomicweight_Average  ionenergy_Average  el_neg_chi_Average  \\\n",
       "0           5.28             82.561240           9.370384               2.298   \n",
       "1           5.60             39.568056          12.086300               2.868   \n",
       "2           4.80             23.231818          11.023840               2.644   \n",
       "3           4.80             20.298893          12.086300               2.828   \n",
       "4           4.00             22.977675          11.280950               2.455   \n",
       "\n",
       "   R_vdw_element_Average  R_cov_element_Average  zaratio_Average  \\\n",
       "0                 1.9072               1.200000         0.461899   \n",
       "1                 1.6520               0.864000         0.476196   \n",
       "2                 1.7940               0.960000         0.499514   \n",
       "3                 1.6620               0.792000         0.495796   \n",
       "4                 1.7500               0.893333         0.476095   \n",
       "\n",
       "   density_Average  \n",
       "0          1.79459  \n",
       "1          1.41194  \n",
       "2          0.78834  \n",
       "3          1.20466  \n",
       "4          0.93456  "
      ]
     },
     "execution_count": 14,
     "metadata": {},
     "output_type": "execute_result"
    }
   ],
   "source": [
    "test_dataset.head()"
   ]
  },
  {
   "cell_type": "code",
   "execution_count": 15,
   "id": "b3e50670",
   "metadata": {
    "execution": {
     "iopub.execute_input": "2023-11-27T02:31:52.291257Z",
     "iopub.status.busy": "2023-11-27T02:31:52.290933Z",
     "iopub.status.idle": "2023-11-27T02:31:52.964612Z",
     "shell.execute_reply": "2023-11-27T02:31:52.963869Z"
    },
    "papermill": {
     "duration": 0.807076,
     "end_time": "2023-11-27T02:31:52.966673",
     "exception": false,
     "start_time": "2023-11-27T02:31:52.159597",
     "status": "completed"
    },
    "tags": []
   },
   "outputs": [
    {
     "name": "stdout",
     "output_type": "stream",
     "text": [
      "217/217 [==============================] - 0s 2ms/step\n"
     ]
    }
   ],
   "source": [
    "predictions = DNN_model.predict(test_dataset)"
   ]
  },
  {
   "cell_type": "markdown",
   "id": "f0ae0e3b",
   "metadata": {
    "papermill": {
     "duration": 0.133335,
     "end_time": "2023-11-27T02:31:53.231047",
     "exception": false,
     "start_time": "2023-11-27T02:31:53.097712",
     "status": "completed"
    },
    "tags": []
   },
   "source": [
    "Create subbmission flie"
   ]
  },
  {
   "cell_type": "code",
   "execution_count": 16,
   "id": "7ce09d49",
   "metadata": {
    "execution": {
     "iopub.execute_input": "2023-11-27T02:31:53.498560Z",
     "iopub.status.busy": "2023-11-27T02:31:53.497842Z",
     "iopub.status.idle": "2023-11-27T02:31:53.504991Z",
     "shell.execute_reply": "2023-11-27T02:31:53.504178Z"
    },
    "papermill": {
     "duration": 0.144768,
     "end_time": "2023-11-27T02:31:53.507225",
     "exception": false,
     "start_time": "2023-11-27T02:31:53.362457",
     "status": "completed"
    },
    "tags": []
   },
   "outputs": [],
   "source": [
    "submission = pd.DataFrame()\n",
    "submission['id'] = test_dataset['id']\n",
    "submission['Hardness'] = predictions"
   ]
  },
  {
   "cell_type": "code",
   "execution_count": 17,
   "id": "b688d278",
   "metadata": {
    "execution": {
     "iopub.execute_input": "2023-11-27T02:31:53.780448Z",
     "iopub.status.busy": "2023-11-27T02:31:53.780071Z",
     "iopub.status.idle": "2023-11-27T02:31:53.789443Z",
     "shell.execute_reply": "2023-11-27T02:31:53.788562Z"
    },
    "papermill": {
     "duration": 0.148532,
     "end_time": "2023-11-27T02:31:53.791454",
     "exception": false,
     "start_time": "2023-11-27T02:31:53.642922",
     "status": "completed"
    },
    "tags": []
   },
   "outputs": [
    {
     "data": {
      "text/html": [
       "<div>\n",
       "<style scoped>\n",
       "    .dataframe tbody tr th:only-of-type {\n",
       "        vertical-align: middle;\n",
       "    }\n",
       "\n",
       "    .dataframe tbody tr th {\n",
       "        vertical-align: top;\n",
       "    }\n",
       "\n",
       "    .dataframe thead th {\n",
       "        text-align: right;\n",
       "    }\n",
       "</style>\n",
       "<table border=\"1\" class=\"dataframe\">\n",
       "  <thead>\n",
       "    <tr style=\"text-align: right;\">\n",
       "      <th></th>\n",
       "      <th>id</th>\n",
       "      <th>Hardness</th>\n",
       "    </tr>\n",
       "  </thead>\n",
       "  <tbody>\n",
       "    <tr>\n",
       "      <th>0</th>\n",
       "      <td>10407</td>\n",
       "      <td>5.498637</td>\n",
       "    </tr>\n",
       "    <tr>\n",
       "      <th>1</th>\n",
       "      <td>10408</td>\n",
       "      <td>5.498637</td>\n",
       "    </tr>\n",
       "    <tr>\n",
       "      <th>2</th>\n",
       "      <td>10409</td>\n",
       "      <td>5.498637</td>\n",
       "    </tr>\n",
       "    <tr>\n",
       "      <th>3</th>\n",
       "      <td>10410</td>\n",
       "      <td>5.498637</td>\n",
       "    </tr>\n",
       "    <tr>\n",
       "      <th>4</th>\n",
       "      <td>10411</td>\n",
       "      <td>5.498637</td>\n",
       "    </tr>\n",
       "  </tbody>\n",
       "</table>\n",
       "</div>"
      ],
      "text/plain": [
       "      id  Hardness\n",
       "0  10407  5.498637\n",
       "1  10408  5.498637\n",
       "2  10409  5.498637\n",
       "3  10410  5.498637\n",
       "4  10411  5.498637"
      ]
     },
     "execution_count": 17,
     "metadata": {},
     "output_type": "execute_result"
    }
   ],
   "source": [
    "submission.head()"
   ]
  },
  {
   "cell_type": "code",
   "execution_count": 18,
   "id": "e4f45d07",
   "metadata": {
    "execution": {
     "iopub.execute_input": "2023-11-27T02:31:54.055324Z",
     "iopub.status.busy": "2023-11-27T02:31:54.054581Z",
     "iopub.status.idle": "2023-11-27T02:31:54.069583Z",
     "shell.execute_reply": "2023-11-27T02:31:54.068681Z"
    },
    "papermill": {
     "duration": 0.149329,
     "end_time": "2023-11-27T02:31:54.071573",
     "exception": false,
     "start_time": "2023-11-27T02:31:53.922244",
     "status": "completed"
    },
    "tags": []
   },
   "outputs": [
    {
     "data": {
      "text/html": [
       "<div>\n",
       "<style scoped>\n",
       "    .dataframe tbody tr th:only-of-type {\n",
       "        vertical-align: middle;\n",
       "    }\n",
       "\n",
       "    .dataframe tbody tr th {\n",
       "        vertical-align: top;\n",
       "    }\n",
       "\n",
       "    .dataframe thead th {\n",
       "        text-align: right;\n",
       "    }\n",
       "</style>\n",
       "<table border=\"1\" class=\"dataframe\">\n",
       "  <thead>\n",
       "    <tr style=\"text-align: right;\">\n",
       "      <th></th>\n",
       "      <th>id</th>\n",
       "      <th>Hardness</th>\n",
       "    </tr>\n",
       "  </thead>\n",
       "  <tbody>\n",
       "    <tr>\n",
       "      <th>count</th>\n",
       "      <td>6939.000000</td>\n",
       "      <td>6939.000000</td>\n",
       "    </tr>\n",
       "    <tr>\n",
       "      <th>mean</th>\n",
       "      <td>13876.000000</td>\n",
       "      <td>5.498637</td>\n",
       "    </tr>\n",
       "    <tr>\n",
       "      <th>std</th>\n",
       "      <td>2003.261091</td>\n",
       "      <td>0.000000</td>\n",
       "    </tr>\n",
       "    <tr>\n",
       "      <th>min</th>\n",
       "      <td>10407.000000</td>\n",
       "      <td>5.498637</td>\n",
       "    </tr>\n",
       "    <tr>\n",
       "      <th>25%</th>\n",
       "      <td>12141.500000</td>\n",
       "      <td>5.498637</td>\n",
       "    </tr>\n",
       "    <tr>\n",
       "      <th>50%</th>\n",
       "      <td>13876.000000</td>\n",
       "      <td>5.498637</td>\n",
       "    </tr>\n",
       "    <tr>\n",
       "      <th>75%</th>\n",
       "      <td>15610.500000</td>\n",
       "      <td>5.498637</td>\n",
       "    </tr>\n",
       "    <tr>\n",
       "      <th>max</th>\n",
       "      <td>17345.000000</td>\n",
       "      <td>5.498637</td>\n",
       "    </tr>\n",
       "  </tbody>\n",
       "</table>\n",
       "</div>"
      ],
      "text/plain": [
       "                 id     Hardness\n",
       "count   6939.000000  6939.000000\n",
       "mean   13876.000000     5.498637\n",
       "std     2003.261091     0.000000\n",
       "min    10407.000000     5.498637\n",
       "25%    12141.500000     5.498637\n",
       "50%    13876.000000     5.498637\n",
       "75%    15610.500000     5.498637\n",
       "max    17345.000000     5.498637"
      ]
     },
     "execution_count": 18,
     "metadata": {},
     "output_type": "execute_result"
    }
   ],
   "source": [
    "submission.describe()"
   ]
  },
  {
   "cell_type": "code",
   "execution_count": 19,
   "id": "a5fb0f64",
   "metadata": {
    "execution": {
     "iopub.execute_input": "2023-11-27T02:31:54.333591Z",
     "iopub.status.busy": "2023-11-27T02:31:54.333269Z",
     "iopub.status.idle": "2023-11-27T02:31:54.361848Z",
     "shell.execute_reply": "2023-11-27T02:31:54.361048Z"
    },
    "papermill": {
     "duration": 0.163462,
     "end_time": "2023-11-27T02:31:54.364147",
     "exception": false,
     "start_time": "2023-11-27T02:31:54.200685",
     "status": "completed"
    },
    "tags": []
   },
   "outputs": [],
   "source": [
    "submission.to_csv('/kaggle/working/submission.csv',index=False,header=True)"
   ]
  }
 ],
 "metadata": {
  "kaggle": {
   "accelerator": "nvidiaTeslaT4",
   "dataSources": [
    {
     "databundleVersionId": 6989718,
     "sourceId": 60892,
     "sourceType": "competition"
    }
   ],
   "dockerImageVersionId": 30587,
   "isGpuEnabled": true,
   "isInternetEnabled": true,
   "language": "python",
   "sourceType": "notebook"
  },
  "kernelspec": {
   "display_name": "Python 3",
   "language": "python",
   "name": "python3"
  },
  "language_info": {
   "codemirror_mode": {
    "name": "ipython",
    "version": 3
   },
   "file_extension": ".py",
   "mimetype": "text/x-python",
   "name": "python",
   "nbconvert_exporter": "python",
   "pygments_lexer": "ipython3",
   "version": "3.10.12"
  },
  "papermill": {
   "default_parameters": {},
   "duration": 126.78283,
   "end_time": "2023-11-27T02:31:57.666939",
   "environment_variables": {},
   "exception": null,
   "input_path": "__notebook__.ipynb",
   "output_path": "__notebook__.ipynb",
   "parameters": {},
   "start_time": "2023-11-27T02:29:50.884109",
   "version": "2.4.0"
  }
 },
 "nbformat": 4,
 "nbformat_minor": 5
}
