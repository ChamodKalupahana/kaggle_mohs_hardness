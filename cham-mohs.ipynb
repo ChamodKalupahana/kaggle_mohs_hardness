{
 "cells": [
  {
   "cell_type": "code",
   "execution_count": 1,
   "id": "8f5b4d57",
   "metadata": {
    "_cell_guid": "b1076dfc-b9ad-4769-8c92-a6c4dae69d19",
    "_uuid": "8f2839f25d086af736a60e9eeb907d3b93b6e0e5",
    "execution": {
     "iopub.execute_input": "2023-11-26T23:34:35.241260Z",
     "iopub.status.busy": "2023-11-26T23:34:35.240639Z",
     "iopub.status.idle": "2023-11-26T23:34:49.417570Z",
     "shell.execute_reply": "2023-11-26T23:34:49.416622Z"
    },
    "papermill": {
     "duration": 14.189302,
     "end_time": "2023-11-26T23:34:49.419925",
     "exception": false,
     "start_time": "2023-11-26T23:34:35.230623",
     "status": "completed"
    },
    "tags": []
   },
   "outputs": [
    {
     "name": "stdout",
     "output_type": "stream",
     "text": [
      "/kaggle/input/playground-series-s3e25/sample_submission.csv\n",
      "/kaggle/input/playground-series-s3e25/train.csv\n",
      "/kaggle/input/playground-series-s3e25/test.csv\n"
     ]
    }
   ],
   "source": [
    "# This Python 3 environment comes with many helpful analytics libraries installed\n",
    "# It is defined by the kaggle/python Docker image: https://github.com/kaggle/docker-python\n",
    "# For example, here's several helpful packages to load\n",
    "\n",
    "import numpy as np # linear algebra\n",
    "import pandas as pd # data processing, CSV file I/O (e.g. pd.read_csv)\n",
    "\n",
    "import tensorflow as tf\n",
    "import tensorflow.keras.layers as layers\n",
    "\n",
    "# Input data files are available in the read-only \"../input/\" directory\n",
    "# For example, running this (by clicking run or pressing Shift+Enter) will list all files under the input directory\n",
    "\n",
    "import os\n",
    "for dirname, _, filenames in os.walk('/kaggle/input'):\n",
    "    for filename in filenames:\n",
    "        print(os.path.join(dirname, filename))\n",
    "\n",
    "# You can write up to 20GB to the current directory (/kaggle/working/) that gets preserved as output when you create a version using \"Save & Run All\" \n",
    "# You can also write temporary files to /kaggle/temp/, but they won't be saved outside of the current session"
   ]
  },
  {
   "cell_type": "code",
   "execution_count": 2,
   "id": "79db0940",
   "metadata": {
    "execution": {
     "iopub.execute_input": "2023-11-26T23:34:49.434241Z",
     "iopub.status.busy": "2023-11-26T23:34:49.433374Z",
     "iopub.status.idle": "2023-11-26T23:34:49.485673Z",
     "shell.execute_reply": "2023-11-26T23:34:49.484825Z"
    },
    "papermill": {
     "duration": 0.062402,
     "end_time": "2023-11-26T23:34:49.488212",
     "exception": false,
     "start_time": "2023-11-26T23:34:49.425810",
     "status": "completed"
    },
    "tags": []
   },
   "outputs": [],
   "source": [
    "filepath = \"/kaggle/input/playground-series-s3e25/train.csv\"\n",
    "\n",
    "dataset = pd.read_csv(filepath)"
   ]
  },
  {
   "cell_type": "code",
   "execution_count": 3,
   "id": "6b2caa6f",
   "metadata": {
    "execution": {
     "iopub.execute_input": "2023-11-26T23:34:49.500758Z",
     "iopub.status.busy": "2023-11-26T23:34:49.500217Z",
     "iopub.status.idle": "2023-11-26T23:34:49.538529Z",
     "shell.execute_reply": "2023-11-26T23:34:49.536292Z"
    },
    "papermill": {
     "duration": 0.047309,
     "end_time": "2023-11-26T23:34:49.540703",
     "exception": false,
     "start_time": "2023-11-26T23:34:49.493394",
     "status": "completed"
    },
    "tags": []
   },
   "outputs": [
    {
     "name": "stdout",
     "output_type": "stream",
     "text": [
      "<class 'pandas.core.frame.DataFrame'>\n",
      "RangeIndex: 10407 entries, 0 to 10406\n",
      "Data columns (total 13 columns):\n",
      " #   Column                 Non-Null Count  Dtype  \n",
      "---  ------                 --------------  -----  \n",
      " 0   id                     10407 non-null  int64  \n",
      " 1   allelectrons_Total     10407 non-null  float64\n",
      " 2   density_Total          10407 non-null  float64\n",
      " 3   allelectrons_Average   10407 non-null  float64\n",
      " 4   val_e_Average          10407 non-null  float64\n",
      " 5   atomicweight_Average   10407 non-null  float64\n",
      " 6   ionenergy_Average      10407 non-null  float64\n",
      " 7   el_neg_chi_Average     10407 non-null  float64\n",
      " 8   R_vdw_element_Average  10407 non-null  float64\n",
      " 9   R_cov_element_Average  10407 non-null  float64\n",
      " 10  zaratio_Average        10407 non-null  float64\n",
      " 11  density_Average        10407 non-null  float64\n",
      " 12  Hardness               10407 non-null  float64\n",
      "dtypes: float64(12), int64(1)\n",
      "memory usage: 1.0 MB\n"
     ]
    }
   ],
   "source": [
    "dataset.info()"
   ]
  },
  {
   "cell_type": "code",
   "execution_count": 4,
   "id": "6dd678f2",
   "metadata": {
    "execution": {
     "iopub.execute_input": "2023-11-26T23:34:49.553739Z",
     "iopub.status.busy": "2023-11-26T23:34:49.552631Z",
     "iopub.status.idle": "2023-11-26T23:34:49.561046Z",
     "shell.execute_reply": "2023-11-26T23:34:49.560157Z"
    },
    "papermill": {
     "duration": 0.017544,
     "end_time": "2023-11-26T23:34:49.563580",
     "exception": false,
     "start_time": "2023-11-26T23:34:49.546036",
     "status": "completed"
    },
    "tags": []
   },
   "outputs": [],
   "source": [
    "y = dataset.pop('Hardness')\n",
    "x = dataset"
   ]
  },
  {
   "cell_type": "markdown",
   "id": "30b571bc",
   "metadata": {
    "papermill": {
     "duration": 0.004514,
     "end_time": "2023-11-26T23:34:49.573135",
     "exception": false,
     "start_time": "2023-11-26T23:34:49.568621",
     "status": "completed"
    },
    "tags": []
   },
   "source": [
    "### Check dataset"
   ]
  },
  {
   "cell_type": "code",
   "execution_count": 5,
   "id": "de138844",
   "metadata": {
    "execution": {
     "iopub.execute_input": "2023-11-26T23:34:49.585637Z",
     "iopub.status.busy": "2023-11-26T23:34:49.584207Z",
     "iopub.status.idle": "2023-11-26T23:34:49.611616Z",
     "shell.execute_reply": "2023-11-26T23:34:49.610526Z"
    },
    "papermill": {
     "duration": 0.036809,
     "end_time": "2023-11-26T23:34:49.614799",
     "exception": false,
     "start_time": "2023-11-26T23:34:49.577990",
     "status": "completed"
    },
    "tags": []
   },
   "outputs": [
    {
     "data": {
      "text/html": [
       "<div>\n",
       "<style scoped>\n",
       "    .dataframe tbody tr th:only-of-type {\n",
       "        vertical-align: middle;\n",
       "    }\n",
       "\n",
       "    .dataframe tbody tr th {\n",
       "        vertical-align: top;\n",
       "    }\n",
       "\n",
       "    .dataframe thead th {\n",
       "        text-align: right;\n",
       "    }\n",
       "</style>\n",
       "<table border=\"1\" class=\"dataframe\">\n",
       "  <thead>\n",
       "    <tr style=\"text-align: right;\">\n",
       "      <th></th>\n",
       "      <th>id</th>\n",
       "      <th>allelectrons_Total</th>\n",
       "      <th>density_Total</th>\n",
       "      <th>allelectrons_Average</th>\n",
       "      <th>val_e_Average</th>\n",
       "      <th>atomicweight_Average</th>\n",
       "      <th>ionenergy_Average</th>\n",
       "      <th>el_neg_chi_Average</th>\n",
       "      <th>R_vdw_element_Average</th>\n",
       "      <th>R_cov_element_Average</th>\n",
       "      <th>zaratio_Average</th>\n",
       "      <th>density_Average</th>\n",
       "    </tr>\n",
       "  </thead>\n",
       "  <tbody>\n",
       "    <tr>\n",
       "      <th>0</th>\n",
       "      <td>0</td>\n",
       "      <td>100.0</td>\n",
       "      <td>0.841611</td>\n",
       "      <td>10.0</td>\n",
       "      <td>4.8</td>\n",
       "      <td>20.612526</td>\n",
       "      <td>11.08810</td>\n",
       "      <td>2.766</td>\n",
       "      <td>1.732</td>\n",
       "      <td>0.860</td>\n",
       "      <td>0.496070</td>\n",
       "      <td>0.91457</td>\n",
       "    </tr>\n",
       "    <tr>\n",
       "      <th>1</th>\n",
       "      <td>1</td>\n",
       "      <td>100.0</td>\n",
       "      <td>7.558488</td>\n",
       "      <td>10.0</td>\n",
       "      <td>4.8</td>\n",
       "      <td>20.298893</td>\n",
       "      <td>12.04083</td>\n",
       "      <td>2.755</td>\n",
       "      <td>1.631</td>\n",
       "      <td>0.910</td>\n",
       "      <td>0.492719</td>\n",
       "      <td>0.71760</td>\n",
       "    </tr>\n",
       "    <tr>\n",
       "      <th>2</th>\n",
       "      <td>2</td>\n",
       "      <td>76.0</td>\n",
       "      <td>8.885992</td>\n",
       "      <td>15.6</td>\n",
       "      <td>5.6</td>\n",
       "      <td>33.739258</td>\n",
       "      <td>12.08630</td>\n",
       "      <td>2.828</td>\n",
       "      <td>1.788</td>\n",
       "      <td>0.864</td>\n",
       "      <td>0.481478</td>\n",
       "      <td>1.50633</td>\n",
       "    </tr>\n",
       "    <tr>\n",
       "      <th>3</th>\n",
       "      <td>3</td>\n",
       "      <td>100.0</td>\n",
       "      <td>8.795296</td>\n",
       "      <td>10.0</td>\n",
       "      <td>4.8</td>\n",
       "      <td>20.213349</td>\n",
       "      <td>10.94850</td>\n",
       "      <td>2.648</td>\n",
       "      <td>1.626</td>\n",
       "      <td>0.936</td>\n",
       "      <td>0.489272</td>\n",
       "      <td>0.78937</td>\n",
       "    </tr>\n",
       "    <tr>\n",
       "      <th>4</th>\n",
       "      <td>4</td>\n",
       "      <td>116.0</td>\n",
       "      <td>9.577996</td>\n",
       "      <td>11.6</td>\n",
       "      <td>4.8</td>\n",
       "      <td>24.988133</td>\n",
       "      <td>11.82448</td>\n",
       "      <td>2.766</td>\n",
       "      <td>1.682</td>\n",
       "      <td>0.896</td>\n",
       "      <td>0.492736</td>\n",
       "      <td>1.86481</td>\n",
       "    </tr>\n",
       "  </tbody>\n",
       "</table>\n",
       "</div>"
      ],
      "text/plain": [
       "   id  allelectrons_Total  density_Total  allelectrons_Average  val_e_Average  \\\n",
       "0   0               100.0       0.841611                  10.0            4.8   \n",
       "1   1               100.0       7.558488                  10.0            4.8   \n",
       "2   2                76.0       8.885992                  15.6            5.6   \n",
       "3   3               100.0       8.795296                  10.0            4.8   \n",
       "4   4               116.0       9.577996                  11.6            4.8   \n",
       "\n",
       "   atomicweight_Average  ionenergy_Average  el_neg_chi_Average  \\\n",
       "0             20.612526           11.08810               2.766   \n",
       "1             20.298893           12.04083               2.755   \n",
       "2             33.739258           12.08630               2.828   \n",
       "3             20.213349           10.94850               2.648   \n",
       "4             24.988133           11.82448               2.766   \n",
       "\n",
       "   R_vdw_element_Average  R_cov_element_Average  zaratio_Average  \\\n",
       "0                  1.732                  0.860         0.496070   \n",
       "1                  1.631                  0.910         0.492719   \n",
       "2                  1.788                  0.864         0.481478   \n",
       "3                  1.626                  0.936         0.489272   \n",
       "4                  1.682                  0.896         0.492736   \n",
       "\n",
       "   density_Average  \n",
       "0          0.91457  \n",
       "1          0.71760  \n",
       "2          1.50633  \n",
       "3          0.78937  \n",
       "4          1.86481  "
      ]
     },
     "execution_count": 5,
     "metadata": {},
     "output_type": "execute_result"
    }
   ],
   "source": [
    "x.head()"
   ]
  },
  {
   "cell_type": "code",
   "execution_count": 6,
   "id": "d166ee59",
   "metadata": {
    "execution": {
     "iopub.execute_input": "2023-11-26T23:34:49.629362Z",
     "iopub.status.busy": "2023-11-26T23:34:49.628860Z",
     "iopub.status.idle": "2023-11-26T23:34:49.637858Z",
     "shell.execute_reply": "2023-11-26T23:34:49.636101Z"
    },
    "papermill": {
     "duration": 0.01931,
     "end_time": "2023-11-26T23:34:49.639997",
     "exception": false,
     "start_time": "2023-11-26T23:34:49.620687",
     "status": "completed"
    },
    "tags": []
   },
   "outputs": [
    {
     "data": {
      "text/plain": [
       "0    6.0\n",
       "1    6.5\n",
       "2    2.5\n",
       "3    6.0\n",
       "4    6.0\n",
       "Name: Hardness, dtype: float64"
      ]
     },
     "execution_count": 6,
     "metadata": {},
     "output_type": "execute_result"
    }
   ],
   "source": [
    "y.head()"
   ]
  },
  {
   "cell_type": "markdown",
   "id": "e088b4ee",
   "metadata": {
    "papermill": {
     "duration": 0.004827,
     "end_time": "2023-11-26T23:34:49.650158",
     "exception": false,
     "start_time": "2023-11-26T23:34:49.645331",
     "status": "completed"
    },
    "tags": []
   },
   "source": [
    "### Create DNN model"
   ]
  },
  {
   "cell_type": "code",
   "execution_count": 7,
   "id": "8001da43",
   "metadata": {
    "execution": {
     "iopub.execute_input": "2023-11-26T23:34:49.663385Z",
     "iopub.status.busy": "2023-11-26T23:34:49.662913Z",
     "iopub.status.idle": "2023-11-26T23:34:49.667600Z",
     "shell.execute_reply": "2023-11-26T23:34:49.666860Z"
    },
    "papermill": {
     "duration": 0.013526,
     "end_time": "2023-11-26T23:34:49.669411",
     "exception": false,
     "start_time": "2023-11-26T23:34:49.655885",
     "status": "completed"
    },
    "tags": []
   },
   "outputs": [
    {
     "name": "stdout",
     "output_type": "stream",
     "text": [
      "(10407, 12)\n"
     ]
    }
   ],
   "source": [
    "input_shape = x.shape\n",
    "print(input_shape)"
   ]
  },
  {
   "cell_type": "code",
   "execution_count": 8,
   "id": "70a50ae2",
   "metadata": {
    "execution": {
     "iopub.execute_input": "2023-11-26T23:34:49.681658Z",
     "iopub.status.busy": "2023-11-26T23:34:49.680883Z",
     "iopub.status.idle": "2023-11-26T23:34:49.903835Z",
     "shell.execute_reply": "2023-11-26T23:34:49.902805Z"
    },
    "papermill": {
     "duration": 0.23286,
     "end_time": "2023-11-26T23:34:49.906954",
     "exception": false,
     "start_time": "2023-11-26T23:34:49.674094",
     "status": "completed"
    },
    "tags": []
   },
   "outputs": [],
   "source": [
    "def get_dense_network():\n",
    "    input_shape = x.shape\n",
    "    input_layer = layers.Input(input_shape[1])\n",
    "    \n",
    "    d1 = layers.Dense(13)(input_layer)\n",
    "    d2 = layers.Dense(8)(d1)\n",
    "    d3 = layers.Dense(4)(d2)\n",
    "    d4 = layers.Dense(2)(d3)\n",
    "    \n",
    "    output_layer = layers.Dense(1, activation='sigmoid')(d4)\n",
    "    return tf.keras.Model(inputs=input_layer, outputs=output_layer)\n",
    "\n",
    "DNN_model = get_dense_network()\n",
    "\n",
    "loss_function = tf.keras.losses.MeanAbsoluteError()\n",
    "optimiser = tf.keras.optimizers.Adam(learning_rate=0.001)\n",
    "DNN_model.compile(loss = loss_function, optimizer=optimiser, metrics=['mae'])"
   ]
  },
  {
   "cell_type": "code",
   "execution_count": 9,
   "id": "951f6d21",
   "metadata": {
    "execution": {
     "iopub.execute_input": "2023-11-26T23:34:49.920506Z",
     "iopub.status.busy": "2023-11-26T23:34:49.919782Z",
     "iopub.status.idle": "2023-11-26T23:34:49.948700Z",
     "shell.execute_reply": "2023-11-26T23:34:49.947023Z"
    },
    "papermill": {
     "duration": 0.038165,
     "end_time": "2023-11-26T23:34:49.950940",
     "exception": false,
     "start_time": "2023-11-26T23:34:49.912775",
     "status": "completed"
    },
    "tags": []
   },
   "outputs": [
    {
     "name": "stdout",
     "output_type": "stream",
     "text": [
      "Model: \"model\"\n",
      "_________________________________________________________________\n",
      " Layer (type)                Output Shape              Param #   \n",
      "=================================================================\n",
      " input_1 (InputLayer)        [(None, 12)]              0         \n",
      "                                                                 \n",
      " dense (Dense)               (None, 13)                169       \n",
      "                                                                 \n",
      " dense_1 (Dense)             (None, 8)                 112       \n",
      "                                                                 \n",
      " dense_2 (Dense)             (None, 4)                 36        \n",
      "                                                                 \n",
      " dense_3 (Dense)             (None, 2)                 10        \n",
      "                                                                 \n",
      " dense_4 (Dense)             (None, 1)                 3         \n",
      "                                                                 \n",
      "=================================================================\n",
      "Total params: 330 (1.29 KB)\n",
      "Trainable params: 330 (1.29 KB)\n",
      "Non-trainable params: 0 (0.00 Byte)\n",
      "_________________________________________________________________\n"
     ]
    }
   ],
   "source": [
    "DNN_model.summary()"
   ]
  },
  {
   "cell_type": "markdown",
   "id": "3bea7f30",
   "metadata": {
    "papermill": {
     "duration": 0.006772,
     "end_time": "2023-11-26T23:34:49.964765",
     "exception": false,
     "start_time": "2023-11-26T23:34:49.957993",
     "status": "completed"
    },
    "tags": []
   },
   "source": [
    "### Test dataset"
   ]
  },
  {
   "cell_type": "code",
   "execution_count": 10,
   "id": "b06a9d54",
   "metadata": {
    "execution": {
     "iopub.execute_input": "2023-11-26T23:34:49.981350Z",
     "iopub.status.busy": "2023-11-26T23:34:49.980902Z",
     "iopub.status.idle": "2023-11-26T23:34:53.518331Z",
     "shell.execute_reply": "2023-11-26T23:34:53.517527Z"
    },
    "papermill": {
     "duration": 3.549157,
     "end_time": "2023-11-26T23:34:53.521008",
     "exception": false,
     "start_time": "2023-11-26T23:34:49.971851",
     "status": "completed"
    },
    "tags": []
   },
   "outputs": [
    {
     "name": "stdout",
     "output_type": "stream",
     "text": [
      "Epoch 1/2\n",
      "326/326 [==============================] - 2s 2ms/step - loss: 3.6480 - mae: 3.6480\n",
      "Epoch 2/2\n",
      "326/326 [==============================] - 1s 2ms/step - loss: 3.6474 - mae: 3.6474\n"
     ]
    },
    {
     "data": {
      "text/plain": [
       "<keras.src.callbacks.History at 0x7e20442e5870>"
      ]
     },
     "execution_count": 10,
     "metadata": {},
     "output_type": "execute_result"
    }
   ],
   "source": [
    "DNN_model.fit(x, y, epochs=2)"
   ]
  },
  {
   "cell_type": "markdown",
   "id": "1c356490",
   "metadata": {
    "papermill": {
     "duration": 0.008687,
     "end_time": "2023-11-26T23:34:53.548871",
     "exception": false,
     "start_time": "2023-11-26T23:34:53.540184",
     "status": "completed"
    },
    "tags": []
   },
   "source": [
    "### Test submission"
   ]
  },
  {
   "cell_type": "code",
   "execution_count": 11,
   "id": "d0a0c3de",
   "metadata": {
    "execution": {
     "iopub.execute_input": "2023-11-26T23:34:53.569192Z",
     "iopub.status.busy": "2023-11-26T23:34:53.568814Z",
     "iopub.status.idle": "2023-11-26T23:34:53.602651Z",
     "shell.execute_reply": "2023-11-26T23:34:53.600164Z"
    },
    "papermill": {
     "duration": 0.048524,
     "end_time": "2023-11-26T23:34:53.606488",
     "exception": false,
     "start_time": "2023-11-26T23:34:53.557964",
     "status": "completed"
    },
    "tags": []
   },
   "outputs": [],
   "source": [
    "test_dataset = pd.read_csv(\"/kaggle/input/playground-series-s3e25/test.csv\")"
   ]
  },
  {
   "cell_type": "code",
   "execution_count": 12,
   "id": "5a612574",
   "metadata": {
    "execution": {
     "iopub.execute_input": "2023-11-26T23:34:53.634467Z",
     "iopub.status.busy": "2023-11-26T23:34:53.633961Z",
     "iopub.status.idle": "2023-11-26T23:34:53.653316Z",
     "shell.execute_reply": "2023-11-26T23:34:53.652242Z"
    },
    "papermill": {
     "duration": 0.036232,
     "end_time": "2023-11-26T23:34:53.655273",
     "exception": false,
     "start_time": "2023-11-26T23:34:53.619041",
     "status": "completed"
    },
    "tags": []
   },
   "outputs": [
    {
     "data": {
      "text/html": [
       "<div>\n",
       "<style scoped>\n",
       "    .dataframe tbody tr th:only-of-type {\n",
       "        vertical-align: middle;\n",
       "    }\n",
       "\n",
       "    .dataframe tbody tr th {\n",
       "        vertical-align: top;\n",
       "    }\n",
       "\n",
       "    .dataframe thead th {\n",
       "        text-align: right;\n",
       "    }\n",
       "</style>\n",
       "<table border=\"1\" class=\"dataframe\">\n",
       "  <thead>\n",
       "    <tr style=\"text-align: right;\">\n",
       "      <th></th>\n",
       "      <th>id</th>\n",
       "      <th>allelectrons_Total</th>\n",
       "      <th>density_Total</th>\n",
       "      <th>allelectrons_Average</th>\n",
       "      <th>val_e_Average</th>\n",
       "      <th>atomicweight_Average</th>\n",
       "      <th>ionenergy_Average</th>\n",
       "      <th>el_neg_chi_Average</th>\n",
       "      <th>R_vdw_element_Average</th>\n",
       "      <th>R_cov_element_Average</th>\n",
       "      <th>zaratio_Average</th>\n",
       "      <th>density_Average</th>\n",
       "    </tr>\n",
       "  </thead>\n",
       "  <tbody>\n",
       "    <tr>\n",
       "      <th>0</th>\n",
       "      <td>10407</td>\n",
       "      <td>884.0</td>\n",
       "      <td>121.420000</td>\n",
       "      <td>35.36</td>\n",
       "      <td>5.28</td>\n",
       "      <td>82.561240</td>\n",
       "      <td>9.370384</td>\n",
       "      <td>2.298</td>\n",
       "      <td>1.9072</td>\n",
       "      <td>1.200000</td>\n",
       "      <td>0.461899</td>\n",
       "      <td>1.79459</td>\n",
       "    </tr>\n",
       "    <tr>\n",
       "      <th>1</th>\n",
       "      <td>10408</td>\n",
       "      <td>90.0</td>\n",
       "      <td>9.931960</td>\n",
       "      <td>18.00</td>\n",
       "      <td>5.60</td>\n",
       "      <td>39.568056</td>\n",
       "      <td>12.086300</td>\n",
       "      <td>2.868</td>\n",
       "      <td>1.6520</td>\n",
       "      <td>0.864000</td>\n",
       "      <td>0.476196</td>\n",
       "      <td>1.41194</td>\n",
       "    </tr>\n",
       "    <tr>\n",
       "      <th>2</th>\n",
       "      <td>10409</td>\n",
       "      <td>116.0</td>\n",
       "      <td>7.767992</td>\n",
       "      <td>11.60</td>\n",
       "      <td>4.80</td>\n",
       "      <td>23.231818</td>\n",
       "      <td>11.023840</td>\n",
       "      <td>2.644</td>\n",
       "      <td>1.7940</td>\n",
       "      <td>0.960000</td>\n",
       "      <td>0.499514</td>\n",
       "      <td>0.78834</td>\n",
       "    </tr>\n",
       "    <tr>\n",
       "      <th>3</th>\n",
       "      <td>10410</td>\n",
       "      <td>100.0</td>\n",
       "      <td>9.107996</td>\n",
       "      <td>10.00</td>\n",
       "      <td>4.80</td>\n",
       "      <td>20.298893</td>\n",
       "      <td>12.086300</td>\n",
       "      <td>2.828</td>\n",
       "      <td>1.6620</td>\n",
       "      <td>0.792000</td>\n",
       "      <td>0.495796</td>\n",
       "      <td>1.20466</td>\n",
       "    </tr>\n",
       "    <tr>\n",
       "      <th>4</th>\n",
       "      <td>10411</td>\n",
       "      <td>55.0</td>\n",
       "      <td>4.030000</td>\n",
       "      <td>11.00</td>\n",
       "      <td>4.00</td>\n",
       "      <td>22.977675</td>\n",
       "      <td>11.280950</td>\n",
       "      <td>2.455</td>\n",
       "      <td>1.7500</td>\n",
       "      <td>0.893333</td>\n",
       "      <td>0.476095</td>\n",
       "      <td>0.93456</td>\n",
       "    </tr>\n",
       "  </tbody>\n",
       "</table>\n",
       "</div>"
      ],
      "text/plain": [
       "      id  allelectrons_Total  density_Total  allelectrons_Average  \\\n",
       "0  10407               884.0     121.420000                 35.36   \n",
       "1  10408                90.0       9.931960                 18.00   \n",
       "2  10409               116.0       7.767992                 11.60   \n",
       "3  10410               100.0       9.107996                 10.00   \n",
       "4  10411                55.0       4.030000                 11.00   \n",
       "\n",
       "   val_e_Average  atomicweight_Average  ionenergy_Average  el_neg_chi_Average  \\\n",
       "0           5.28             82.561240           9.370384               2.298   \n",
       "1           5.60             39.568056          12.086300               2.868   \n",
       "2           4.80             23.231818          11.023840               2.644   \n",
       "3           4.80             20.298893          12.086300               2.828   \n",
       "4           4.00             22.977675          11.280950               2.455   \n",
       "\n",
       "   R_vdw_element_Average  R_cov_element_Average  zaratio_Average  \\\n",
       "0                 1.9072               1.200000         0.461899   \n",
       "1                 1.6520               0.864000         0.476196   \n",
       "2                 1.7940               0.960000         0.499514   \n",
       "3                 1.6620               0.792000         0.495796   \n",
       "4                 1.7500               0.893333         0.476095   \n",
       "\n",
       "   density_Average  \n",
       "0          1.79459  \n",
       "1          1.41194  \n",
       "2          0.78834  \n",
       "3          1.20466  \n",
       "4          0.93456  "
      ]
     },
     "execution_count": 12,
     "metadata": {},
     "output_type": "execute_result"
    }
   ],
   "source": [
    "test_dataset.head()"
   ]
  },
  {
   "cell_type": "code",
   "execution_count": 13,
   "id": "33ef93ff",
   "metadata": {
    "execution": {
     "iopub.execute_input": "2023-11-26T23:34:53.675327Z",
     "iopub.status.busy": "2023-11-26T23:34:53.675000Z",
     "iopub.status.idle": "2023-11-26T23:34:54.770628Z",
     "shell.execute_reply": "2023-11-26T23:34:54.768863Z"
    },
    "papermill": {
     "duration": 1.109998,
     "end_time": "2023-11-26T23:34:54.773761",
     "exception": false,
     "start_time": "2023-11-26T23:34:53.663763",
     "status": "completed"
    },
    "tags": []
   },
   "outputs": [
    {
     "name": "stdout",
     "output_type": "stream",
     "text": [
      "217/217 [==============================] - 0s 1ms/step\n"
     ]
    }
   ],
   "source": [
    "predictions = DNN_model.predict(test_dataset)"
   ]
  },
  {
   "cell_type": "markdown",
   "id": "f9eed5a9",
   "metadata": {
    "papermill": {
     "duration": 0.010198,
     "end_time": "2023-11-26T23:34:54.795092",
     "exception": false,
     "start_time": "2023-11-26T23:34:54.784894",
     "status": "completed"
    },
    "tags": []
   },
   "source": [
    "Create subbmission flie"
   ]
  },
  {
   "cell_type": "code",
   "execution_count": 14,
   "id": "a8d275b2",
   "metadata": {
    "execution": {
     "iopub.execute_input": "2023-11-26T23:34:54.816699Z",
     "iopub.status.busy": "2023-11-26T23:34:54.815723Z",
     "iopub.status.idle": "2023-11-26T23:34:54.822396Z",
     "shell.execute_reply": "2023-11-26T23:34:54.821689Z"
    },
    "papermill": {
     "duration": 0.019532,
     "end_time": "2023-11-26T23:34:54.824234",
     "exception": false,
     "start_time": "2023-11-26T23:34:54.804702",
     "status": "completed"
    },
    "tags": []
   },
   "outputs": [],
   "source": [
    "submission = pd.DataFrame()\n",
    "submission['id'] = test_dataset['id']\n",
    "submission['Hardness'] = predictions"
   ]
  },
  {
   "cell_type": "code",
   "execution_count": 15,
   "id": "ff6339ab",
   "metadata": {
    "execution": {
     "iopub.execute_input": "2023-11-26T23:34:54.846401Z",
     "iopub.status.busy": "2023-11-26T23:34:54.844945Z",
     "iopub.status.idle": "2023-11-26T23:34:54.856203Z",
     "shell.execute_reply": "2023-11-26T23:34:54.855204Z"
    },
    "papermill": {
     "duration": 0.024746,
     "end_time": "2023-11-26T23:34:54.858965",
     "exception": false,
     "start_time": "2023-11-26T23:34:54.834219",
     "status": "completed"
    },
    "tags": []
   },
   "outputs": [
    {
     "data": {
      "text/html": [
       "<div>\n",
       "<style scoped>\n",
       "    .dataframe tbody tr th:only-of-type {\n",
       "        vertical-align: middle;\n",
       "    }\n",
       "\n",
       "    .dataframe tbody tr th {\n",
       "        vertical-align: top;\n",
       "    }\n",
       "\n",
       "    .dataframe thead th {\n",
       "        text-align: right;\n",
       "    }\n",
       "</style>\n",
       "<table border=\"1\" class=\"dataframe\">\n",
       "  <thead>\n",
       "    <tr style=\"text-align: right;\">\n",
       "      <th></th>\n",
       "      <th>id</th>\n",
       "      <th>Hardness</th>\n",
       "    </tr>\n",
       "  </thead>\n",
       "  <tbody>\n",
       "    <tr>\n",
       "      <th>0</th>\n",
       "      <td>10407</td>\n",
       "      <td>1.0</td>\n",
       "    </tr>\n",
       "    <tr>\n",
       "      <th>1</th>\n",
       "      <td>10408</td>\n",
       "      <td>1.0</td>\n",
       "    </tr>\n",
       "    <tr>\n",
       "      <th>2</th>\n",
       "      <td>10409</td>\n",
       "      <td>1.0</td>\n",
       "    </tr>\n",
       "    <tr>\n",
       "      <th>3</th>\n",
       "      <td>10410</td>\n",
       "      <td>1.0</td>\n",
       "    </tr>\n",
       "    <tr>\n",
       "      <th>4</th>\n",
       "      <td>10411</td>\n",
       "      <td>1.0</td>\n",
       "    </tr>\n",
       "  </tbody>\n",
       "</table>\n",
       "</div>"
      ],
      "text/plain": [
       "      id  Hardness\n",
       "0  10407       1.0\n",
       "1  10408       1.0\n",
       "2  10409       1.0\n",
       "3  10410       1.0\n",
       "4  10411       1.0"
      ]
     },
     "execution_count": 15,
     "metadata": {},
     "output_type": "execute_result"
    }
   ],
   "source": [
    "submission.head()"
   ]
  },
  {
   "cell_type": "code",
   "execution_count": 16,
   "id": "f3e0664b",
   "metadata": {
    "execution": {
     "iopub.execute_input": "2023-11-26T23:34:54.880118Z",
     "iopub.status.busy": "2023-11-26T23:34:54.879488Z",
     "iopub.status.idle": "2023-11-26T23:34:54.897562Z",
     "shell.execute_reply": "2023-11-26T23:34:54.896006Z"
    },
    "papermill": {
     "duration": 0.030734,
     "end_time": "2023-11-26T23:34:54.899840",
     "exception": false,
     "start_time": "2023-11-26T23:34:54.869106",
     "status": "completed"
    },
    "tags": []
   },
   "outputs": [],
   "source": [
    "submission.to_csv('/kaggle/working/submission.csv',index=False,header=True)"
   ]
  }
 ],
 "metadata": {
  "kaggle": {
   "accelerator": "none",
   "dataSources": [
    {
     "databundleVersionId": 6989718,
     "sourceId": 60892,
     "sourceType": "competition"
    }
   ],
   "dockerImageVersionId": 30587,
   "isGpuEnabled": false,
   "isInternetEnabled": true,
   "language": "python",
   "sourceType": "notebook"
  },
  "kernelspec": {
   "display_name": "Python 3",
   "language": "python",
   "name": "python3"
  },
  "language_info": {
   "codemirror_mode": {
    "name": "ipython",
    "version": 3
   },
   "file_extension": ".py",
   "mimetype": "text/x-python",
   "name": "python",
   "nbconvert_exporter": "python",
   "pygments_lexer": "ipython3",
   "version": "3.10.12"
  },
  "papermill": {
   "default_parameters": {},
   "duration": 26.17931,
   "end_time": "2023-11-26T23:34:57.472805",
   "environment_variables": {},
   "exception": null,
   "input_path": "__notebook__.ipynb",
   "output_path": "__notebook__.ipynb",
   "parameters": {},
   "start_time": "2023-11-26T23:34:31.293495",
   "version": "2.4.0"
  }
 },
 "nbformat": 4,
 "nbformat_minor": 5
}
