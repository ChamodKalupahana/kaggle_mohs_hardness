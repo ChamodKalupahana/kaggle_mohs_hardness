{
 "cells": [
  {
   "cell_type": "code",
   "execution_count": 1,
   "id": "8c07c4f1",
   "metadata": {
    "_cell_guid": "b1076dfc-b9ad-4769-8c92-a6c4dae69d19",
    "_uuid": "8f2839f25d086af736a60e9eeb907d3b93b6e0e5",
    "execution": {
     "iopub.execute_input": "2023-11-27T00:35:55.325928Z",
     "iopub.status.busy": "2023-11-27T00:35:55.325049Z",
     "iopub.status.idle": "2023-11-27T00:36:09.203843Z",
     "shell.execute_reply": "2023-11-27T00:36:09.202896Z"
    },
    "papermill": {
     "duration": 13.888844,
     "end_time": "2023-11-27T00:36:09.206118",
     "exception": false,
     "start_time": "2023-11-27T00:35:55.317274",
     "status": "completed"
    },
    "tags": []
   },
   "outputs": [
    {
     "name": "stderr",
     "output_type": "stream",
     "text": [
      "/opt/conda/lib/python3.10/site-packages/scipy/__init__.py:146: UserWarning: A NumPy version >=1.16.5 and <1.23.0 is required for this version of SciPy (detected version 1.24.3\n",
      "  warnings.warn(f\"A NumPy version >={np_minversion} and <{np_maxversion}\"\n"
     ]
    },
    {
     "name": "stdout",
     "output_type": "stream",
     "text": [
      "/kaggle/input/playground-series-s3e25/sample_submission.csv\n",
      "/kaggle/input/playground-series-s3e25/train.csv\n",
      "/kaggle/input/playground-series-s3e25/test.csv\n"
     ]
    }
   ],
   "source": [
    "# This Python 3 environment comes with many helpful analytics libraries installed\n",
    "# It is defined by the kaggle/python Docker image: https://github.com/kaggle/docker-python\n",
    "# For example, here's several helpful packages to load\n",
    "\n",
    "import numpy as np # linear algebra\n",
    "import pandas as pd # data processing, CSV file I/O (e.g. pd.read_csv)\n",
    "\n",
    "import tensorflow as tf\n",
    "import tensorflow.keras.layers as layers\n",
    "\n",
    "# Input data files are available in the read-only \"../input/\" directory\n",
    "# For example, running this (by clicking run or pressing Shift+Enter) will list all files under the input directory\n",
    "\n",
    "import os\n",
    "for dirname, _, filenames in os.walk('/kaggle/input'):\n",
    "    for filename in filenames:\n",
    "        print(os.path.join(dirname, filename))\n",
    "\n",
    "# You can write up to 20GB to the current directory (/kaggle/working/) that gets preserved as output when you create a version using \"Save & Run All\" \n",
    "# You can also write temporary files to /kaggle/temp/, but they won't be saved outside of the current session"
   ]
  },
  {
   "cell_type": "code",
   "execution_count": 2,
   "id": "5f835ff6",
   "metadata": {
    "execution": {
     "iopub.execute_input": "2023-11-27T00:36:09.221319Z",
     "iopub.status.busy": "2023-11-27T00:36:09.220441Z",
     "iopub.status.idle": "2023-11-27T00:36:09.269165Z",
     "shell.execute_reply": "2023-11-27T00:36:09.268423Z"
    },
    "papermill": {
     "duration": 0.058494,
     "end_time": "2023-11-27T00:36:09.271498",
     "exception": false,
     "start_time": "2023-11-27T00:36:09.213004",
     "status": "completed"
    },
    "tags": []
   },
   "outputs": [],
   "source": [
    "filepath = \"/kaggle/input/playground-series-s3e25/train.csv\"\n",
    "\n",
    "dataset = pd.read_csv(filepath)"
   ]
  },
  {
   "cell_type": "code",
   "execution_count": 3,
   "id": "a61b1a84",
   "metadata": {
    "execution": {
     "iopub.execute_input": "2023-11-27T00:36:09.285849Z",
     "iopub.status.busy": "2023-11-27T00:36:09.285350Z",
     "iopub.status.idle": "2023-11-27T00:36:09.314315Z",
     "shell.execute_reply": "2023-11-27T00:36:09.313148Z"
    },
    "papermill": {
     "duration": 0.038304,
     "end_time": "2023-11-27T00:36:09.316454",
     "exception": false,
     "start_time": "2023-11-27T00:36:09.278150",
     "status": "completed"
    },
    "tags": []
   },
   "outputs": [
    {
     "name": "stdout",
     "output_type": "stream",
     "text": [
      "<class 'pandas.core.frame.DataFrame'>\n",
      "RangeIndex: 10407 entries, 0 to 10406\n",
      "Data columns (total 13 columns):\n",
      " #   Column                 Non-Null Count  Dtype  \n",
      "---  ------                 --------------  -----  \n",
      " 0   id                     10407 non-null  int64  \n",
      " 1   allelectrons_Total     10407 non-null  float64\n",
      " 2   density_Total          10407 non-null  float64\n",
      " 3   allelectrons_Average   10407 non-null  float64\n",
      " 4   val_e_Average          10407 non-null  float64\n",
      " 5   atomicweight_Average   10407 non-null  float64\n",
      " 6   ionenergy_Average      10407 non-null  float64\n",
      " 7   el_neg_chi_Average     10407 non-null  float64\n",
      " 8   R_vdw_element_Average  10407 non-null  float64\n",
      " 9   R_cov_element_Average  10407 non-null  float64\n",
      " 10  zaratio_Average        10407 non-null  float64\n",
      " 11  density_Average        10407 non-null  float64\n",
      " 12  Hardness               10407 non-null  float64\n",
      "dtypes: float64(12), int64(1)\n",
      "memory usage: 1.0 MB\n"
     ]
    }
   ],
   "source": [
    "dataset.info()"
   ]
  },
  {
   "cell_type": "code",
   "execution_count": 4,
   "id": "0644e0aa",
   "metadata": {
    "execution": {
     "iopub.execute_input": "2023-11-27T00:36:09.331132Z",
     "iopub.status.busy": "2023-11-27T00:36:09.330844Z",
     "iopub.status.idle": "2023-11-27T00:36:09.337170Z",
     "shell.execute_reply": "2023-11-27T00:36:09.336214Z"
    },
    "papermill": {
     "duration": 0.016444,
     "end_time": "2023-11-27T00:36:09.339482",
     "exception": false,
     "start_time": "2023-11-27T00:36:09.323038",
     "status": "completed"
    },
    "tags": []
   },
   "outputs": [],
   "source": [
    "y = dataset.pop('Hardness')\n",
    "x = dataset"
   ]
  },
  {
   "cell_type": "markdown",
   "id": "8be2a588",
   "metadata": {
    "papermill": {
     "duration": 0.006555,
     "end_time": "2023-11-27T00:36:09.353695",
     "exception": false,
     "start_time": "2023-11-27T00:36:09.347140",
     "status": "completed"
    },
    "tags": []
   },
   "source": [
    "### Check dataset"
   ]
  },
  {
   "cell_type": "code",
   "execution_count": 5,
   "id": "bc23284c",
   "metadata": {
    "execution": {
     "iopub.execute_input": "2023-11-27T00:36:09.368730Z",
     "iopub.status.busy": "2023-11-27T00:36:09.368429Z",
     "iopub.status.idle": "2023-11-27T00:36:09.392709Z",
     "shell.execute_reply": "2023-11-27T00:36:09.391705Z"
    },
    "papermill": {
     "duration": 0.034291,
     "end_time": "2023-11-27T00:36:09.394839",
     "exception": false,
     "start_time": "2023-11-27T00:36:09.360548",
     "status": "completed"
    },
    "tags": []
   },
   "outputs": [
    {
     "data": {
      "text/html": [
       "<div>\n",
       "<style scoped>\n",
       "    .dataframe tbody tr th:only-of-type {\n",
       "        vertical-align: middle;\n",
       "    }\n",
       "\n",
       "    .dataframe tbody tr th {\n",
       "        vertical-align: top;\n",
       "    }\n",
       "\n",
       "    .dataframe thead th {\n",
       "        text-align: right;\n",
       "    }\n",
       "</style>\n",
       "<table border=\"1\" class=\"dataframe\">\n",
       "  <thead>\n",
       "    <tr style=\"text-align: right;\">\n",
       "      <th></th>\n",
       "      <th>id</th>\n",
       "      <th>allelectrons_Total</th>\n",
       "      <th>density_Total</th>\n",
       "      <th>allelectrons_Average</th>\n",
       "      <th>val_e_Average</th>\n",
       "      <th>atomicweight_Average</th>\n",
       "      <th>ionenergy_Average</th>\n",
       "      <th>el_neg_chi_Average</th>\n",
       "      <th>R_vdw_element_Average</th>\n",
       "      <th>R_cov_element_Average</th>\n",
       "      <th>zaratio_Average</th>\n",
       "      <th>density_Average</th>\n",
       "    </tr>\n",
       "  </thead>\n",
       "  <tbody>\n",
       "    <tr>\n",
       "      <th>0</th>\n",
       "      <td>0</td>\n",
       "      <td>100.0</td>\n",
       "      <td>0.841611</td>\n",
       "      <td>10.0</td>\n",
       "      <td>4.8</td>\n",
       "      <td>20.612526</td>\n",
       "      <td>11.08810</td>\n",
       "      <td>2.766</td>\n",
       "      <td>1.732</td>\n",
       "      <td>0.860</td>\n",
       "      <td>0.496070</td>\n",
       "      <td>0.91457</td>\n",
       "    </tr>\n",
       "    <tr>\n",
       "      <th>1</th>\n",
       "      <td>1</td>\n",
       "      <td>100.0</td>\n",
       "      <td>7.558488</td>\n",
       "      <td>10.0</td>\n",
       "      <td>4.8</td>\n",
       "      <td>20.298893</td>\n",
       "      <td>12.04083</td>\n",
       "      <td>2.755</td>\n",
       "      <td>1.631</td>\n",
       "      <td>0.910</td>\n",
       "      <td>0.492719</td>\n",
       "      <td>0.71760</td>\n",
       "    </tr>\n",
       "    <tr>\n",
       "      <th>2</th>\n",
       "      <td>2</td>\n",
       "      <td>76.0</td>\n",
       "      <td>8.885992</td>\n",
       "      <td>15.6</td>\n",
       "      <td>5.6</td>\n",
       "      <td>33.739258</td>\n",
       "      <td>12.08630</td>\n",
       "      <td>2.828</td>\n",
       "      <td>1.788</td>\n",
       "      <td>0.864</td>\n",
       "      <td>0.481478</td>\n",
       "      <td>1.50633</td>\n",
       "    </tr>\n",
       "    <tr>\n",
       "      <th>3</th>\n",
       "      <td>3</td>\n",
       "      <td>100.0</td>\n",
       "      <td>8.795296</td>\n",
       "      <td>10.0</td>\n",
       "      <td>4.8</td>\n",
       "      <td>20.213349</td>\n",
       "      <td>10.94850</td>\n",
       "      <td>2.648</td>\n",
       "      <td>1.626</td>\n",
       "      <td>0.936</td>\n",
       "      <td>0.489272</td>\n",
       "      <td>0.78937</td>\n",
       "    </tr>\n",
       "    <tr>\n",
       "      <th>4</th>\n",
       "      <td>4</td>\n",
       "      <td>116.0</td>\n",
       "      <td>9.577996</td>\n",
       "      <td>11.6</td>\n",
       "      <td>4.8</td>\n",
       "      <td>24.988133</td>\n",
       "      <td>11.82448</td>\n",
       "      <td>2.766</td>\n",
       "      <td>1.682</td>\n",
       "      <td>0.896</td>\n",
       "      <td>0.492736</td>\n",
       "      <td>1.86481</td>\n",
       "    </tr>\n",
       "  </tbody>\n",
       "</table>\n",
       "</div>"
      ],
      "text/plain": [
       "   id  allelectrons_Total  density_Total  allelectrons_Average  val_e_Average  \\\n",
       "0   0               100.0       0.841611                  10.0            4.8   \n",
       "1   1               100.0       7.558488                  10.0            4.8   \n",
       "2   2                76.0       8.885992                  15.6            5.6   \n",
       "3   3               100.0       8.795296                  10.0            4.8   \n",
       "4   4               116.0       9.577996                  11.6            4.8   \n",
       "\n",
       "   atomicweight_Average  ionenergy_Average  el_neg_chi_Average  \\\n",
       "0             20.612526           11.08810               2.766   \n",
       "1             20.298893           12.04083               2.755   \n",
       "2             33.739258           12.08630               2.828   \n",
       "3             20.213349           10.94850               2.648   \n",
       "4             24.988133           11.82448               2.766   \n",
       "\n",
       "   R_vdw_element_Average  R_cov_element_Average  zaratio_Average  \\\n",
       "0                  1.732                  0.860         0.496070   \n",
       "1                  1.631                  0.910         0.492719   \n",
       "2                  1.788                  0.864         0.481478   \n",
       "3                  1.626                  0.936         0.489272   \n",
       "4                  1.682                  0.896         0.492736   \n",
       "\n",
       "   density_Average  \n",
       "0          0.91457  \n",
       "1          0.71760  \n",
       "2          1.50633  \n",
       "3          0.78937  \n",
       "4          1.86481  "
      ]
     },
     "execution_count": 5,
     "metadata": {},
     "output_type": "execute_result"
    }
   ],
   "source": [
    "x.head()"
   ]
  },
  {
   "cell_type": "code",
   "execution_count": 6,
   "id": "b07c32fe",
   "metadata": {
    "execution": {
     "iopub.execute_input": "2023-11-27T00:36:09.409820Z",
     "iopub.status.busy": "2023-11-27T00:36:09.409216Z",
     "iopub.status.idle": "2023-11-27T00:36:09.416518Z",
     "shell.execute_reply": "2023-11-27T00:36:09.415499Z"
    },
    "papermill": {
     "duration": 0.017118,
     "end_time": "2023-11-27T00:36:09.418820",
     "exception": false,
     "start_time": "2023-11-27T00:36:09.401702",
     "status": "completed"
    },
    "tags": []
   },
   "outputs": [
    {
     "data": {
      "text/plain": [
       "0    6.0\n",
       "1    6.5\n",
       "2    2.5\n",
       "3    6.0\n",
       "4    6.0\n",
       "Name: Hardness, dtype: float64"
      ]
     },
     "execution_count": 6,
     "metadata": {},
     "output_type": "execute_result"
    }
   ],
   "source": [
    "y.head()"
   ]
  },
  {
   "cell_type": "markdown",
   "id": "4cb07576",
   "metadata": {
    "papermill": {
     "duration": 0.006669,
     "end_time": "2023-11-27T00:36:09.432488",
     "exception": false,
     "start_time": "2023-11-27T00:36:09.425819",
     "status": "completed"
    },
    "tags": []
   },
   "source": [
    "### Create DNN model"
   ]
  },
  {
   "cell_type": "code",
   "execution_count": 7,
   "id": "55a3cc89",
   "metadata": {
    "execution": {
     "iopub.execute_input": "2023-11-27T00:36:09.446923Z",
     "iopub.status.busy": "2023-11-27T00:36:09.446651Z",
     "iopub.status.idle": "2023-11-27T00:36:09.450920Z",
     "shell.execute_reply": "2023-11-27T00:36:09.450139Z"
    },
    "papermill": {
     "duration": 0.014018,
     "end_time": "2023-11-27T00:36:09.453048",
     "exception": false,
     "start_time": "2023-11-27T00:36:09.439030",
     "status": "completed"
    },
    "tags": []
   },
   "outputs": [
    {
     "name": "stdout",
     "output_type": "stream",
     "text": [
      "(10407, 12)\n"
     ]
    }
   ],
   "source": [
    "input_shape = x.shape\n",
    "print(input_shape)"
   ]
  },
  {
   "cell_type": "markdown",
   "id": "c859843e",
   "metadata": {
    "papermill": {
     "duration": 0.006595,
     "end_time": "2023-11-27T00:36:09.466481",
     "exception": false,
     "start_time": "2023-11-27T00:36:09.459886",
     "status": "completed"
    },
    "tags": []
   },
   "source": [
    "try with for loop"
   ]
  },
  {
   "cell_type": "code",
   "execution_count": 8,
   "id": "89e274ea",
   "metadata": {
    "execution": {
     "iopub.execute_input": "2023-11-27T00:36:09.481130Z",
     "iopub.status.busy": "2023-11-27T00:36:09.480876Z",
     "iopub.status.idle": "2023-11-27T00:36:13.805336Z",
     "shell.execute_reply": "2023-11-27T00:36:13.804514Z"
    },
    "papermill": {
     "duration": 4.33444,
     "end_time": "2023-11-27T00:36:13.807823",
     "exception": false,
     "start_time": "2023-11-27T00:36:09.473383",
     "status": "completed"
    },
    "tags": []
   },
   "outputs": [],
   "source": [
    "def dense_block(width):\n",
    "    def apply(dx):\n",
    "        dx = layers.Dense(width, activation='relu')(dx)\n",
    "        return dx\n",
    "    return apply\n",
    "\n",
    "def get_dense_network():\n",
    "    input_shape = x.shape\n",
    "    #widths = [130, 64, 32, 16, 8, 4, 2, 1]\n",
    "    \n",
    "    # define widths of dense layers\n",
    "    widths_array = np.arange(10, 0, -1)\n",
    "    widths = [2**x for x in widths_array]\n",
    "    \n",
    "    input_layer = layers.Input(input_shape[1])\n",
    "    \n",
    "    dx = layers.Dense(widths[0], activation='relu')(input_layer)\n",
    "    \n",
    "    for width in widths:\n",
    "        if width != widths[0]:\n",
    "            dx = dense_block(width)(dx)\n",
    "        \n",
    "    output_layer = layers.Dense(1, activation='sigmoid')(dx)\n",
    "    return tf.keras.Model(inputs=input_layer, outputs=output_layer)\n",
    "\n",
    "DNN_model = get_dense_network()\n",
    "\n",
    "loss_function = tf.keras.losses.MeanAbsoluteError()\n",
    "optimiser = tf.keras.optimizers.Adam(learning_rate=0.001)\n",
    "DNN_model.compile(loss = loss_function, optimizer=optimiser, metrics=['mae'])"
   ]
  },
  {
   "cell_type": "code",
   "execution_count": 9,
   "id": "d09fe0dd",
   "metadata": {
    "execution": {
     "iopub.execute_input": "2023-11-27T00:36:13.827552Z",
     "iopub.status.busy": "2023-11-27T00:36:13.826720Z",
     "iopub.status.idle": "2023-11-27T00:36:13.863253Z",
     "shell.execute_reply": "2023-11-27T00:36:13.862025Z"
    },
    "papermill": {
     "duration": 0.055977,
     "end_time": "2023-11-27T00:36:13.873168",
     "exception": false,
     "start_time": "2023-11-27T00:36:13.817191",
     "status": "completed"
    },
    "tags": []
   },
   "outputs": [
    {
     "name": "stdout",
     "output_type": "stream",
     "text": [
      "Model: \"model\"\n",
      "_________________________________________________________________\n",
      " Layer (type)                Output Shape              Param #   \n",
      "=================================================================\n",
      " input_1 (InputLayer)        [(None, 12)]              0         \n",
      "                                                                 \n",
      " dense (Dense)               (None, 1024)              13312     \n",
      "                                                                 \n",
      " dense_1 (Dense)             (None, 512)               524800    \n",
      "                                                                 \n",
      " dense_2 (Dense)             (None, 256)               131328    \n",
      "                                                                 \n",
      " dense_3 (Dense)             (None, 128)               32896     \n",
      "                                                                 \n",
      " dense_4 (Dense)             (None, 64)                8256      \n",
      "                                                                 \n",
      " dense_5 (Dense)             (None, 32)                2080      \n",
      "                                                                 \n",
      " dense_6 (Dense)             (None, 16)                528       \n",
      "                                                                 \n",
      " dense_7 (Dense)             (None, 8)                 136       \n",
      "                                                                 \n",
      " dense_8 (Dense)             (None, 4)                 36        \n",
      "                                                                 \n",
      " dense_9 (Dense)             (None, 2)                 10        \n",
      "                                                                 \n",
      " dense_10 (Dense)            (None, 1)                 3         \n",
      "                                                                 \n",
      "=================================================================\n",
      "Total params: 713385 (2.72 MB)\n",
      "Trainable params: 713385 (2.72 MB)\n",
      "Non-trainable params: 0 (0.00 Byte)\n",
      "_________________________________________________________________\n"
     ]
    }
   ],
   "source": [
    "DNN_model.summary()"
   ]
  },
  {
   "cell_type": "markdown",
   "id": "80101b04",
   "metadata": {
    "papermill": {
     "duration": 0.009057,
     "end_time": "2023-11-27T00:36:13.891551",
     "exception": false,
     "start_time": "2023-11-27T00:36:13.882494",
     "status": "completed"
    },
    "tags": []
   },
   "source": [
    "### Test dataset"
   ]
  },
  {
   "cell_type": "code",
   "execution_count": 10,
   "id": "c57400c9",
   "metadata": {
    "execution": {
     "iopub.execute_input": "2023-11-27T00:36:13.911901Z",
     "iopub.status.busy": "2023-11-27T00:36:13.911185Z",
     "iopub.status.idle": "2023-11-27T00:36:37.456542Z",
     "shell.execute_reply": "2023-11-27T00:36:37.455551Z"
    },
    "papermill": {
     "duration": 23.55796,
     "end_time": "2023-11-27T00:36:37.458626",
     "exception": false,
     "start_time": "2023-11-27T00:36:13.900666",
     "status": "completed"
    },
    "tags": []
   },
   "outputs": [
    {
     "name": "stdout",
     "output_type": "stream",
     "text": [
      "Epoch 1/10\n",
      "326/326 [==============================] - 10s 4ms/step - loss: 3.6472 - mae: 3.6472\n",
      "Epoch 2/10\n",
      "326/326 [==============================] - 1s 5ms/step - loss: 3.6471 - mae: 3.6471\n",
      "Epoch 3/10\n",
      "326/326 [==============================] - 1s 5ms/step - loss: 3.6471 - mae: 3.6471\n",
      "Epoch 4/10\n",
      "326/326 [==============================] - 1s 5ms/step - loss: 3.6471 - mae: 3.6471\n",
      "Epoch 5/10\n",
      "326/326 [==============================] - 1s 4ms/step - loss: 3.6471 - mae: 3.6471\n",
      "Epoch 6/10\n",
      "326/326 [==============================] - 1s 5ms/step - loss: 3.6471 - mae: 3.6471\n",
      "Epoch 7/10\n",
      "326/326 [==============================] - 1s 5ms/step - loss: 3.6471 - mae: 3.6471\n",
      "Epoch 8/10\n",
      "326/326 [==============================] - 2s 5ms/step - loss: 3.6471 - mae: 3.6471\n",
      "Epoch 9/10\n",
      "326/326 [==============================] - 1s 4ms/step - loss: 3.6471 - mae: 3.6471\n",
      "Epoch 10/10\n",
      "326/326 [==============================] - 1s 4ms/step - loss: 3.6471 - mae: 3.6471\n"
     ]
    },
    {
     "data": {
      "text/plain": [
       "<keras.src.callbacks.History at 0x7cca48f13100>"
      ]
     },
     "execution_count": 10,
     "metadata": {},
     "output_type": "execute_result"
    }
   ],
   "source": [
    "DNN_model.fit(x, y, epochs=10)"
   ]
  },
  {
   "cell_type": "markdown",
   "id": "5b189bc3",
   "metadata": {
    "papermill": {
     "duration": 0.033636,
     "end_time": "2023-11-27T00:36:37.526398",
     "exception": false,
     "start_time": "2023-11-27T00:36:37.492762",
     "status": "completed"
    },
    "tags": []
   },
   "source": [
    "### Test submission"
   ]
  },
  {
   "cell_type": "code",
   "execution_count": 11,
   "id": "54542d26",
   "metadata": {
    "execution": {
     "iopub.execute_input": "2023-11-27T00:36:37.598485Z",
     "iopub.status.busy": "2023-11-27T00:36:37.598057Z",
     "iopub.status.idle": "2023-11-27T00:36:37.628880Z",
     "shell.execute_reply": "2023-11-27T00:36:37.627884Z"
    },
    "papermill": {
     "duration": 0.070179,
     "end_time": "2023-11-27T00:36:37.631346",
     "exception": false,
     "start_time": "2023-11-27T00:36:37.561167",
     "status": "completed"
    },
    "tags": []
   },
   "outputs": [],
   "source": [
    "test_dataset = pd.read_csv(\"/kaggle/input/playground-series-s3e25/test.csv\")"
   ]
  },
  {
   "cell_type": "code",
   "execution_count": 12,
   "id": "e499876a",
   "metadata": {
    "execution": {
     "iopub.execute_input": "2023-11-27T00:36:37.701741Z",
     "iopub.status.busy": "2023-11-27T00:36:37.701380Z",
     "iopub.status.idle": "2023-11-27T00:36:37.720113Z",
     "shell.execute_reply": "2023-11-27T00:36:37.719208Z"
    },
    "papermill": {
     "duration": 0.056152,
     "end_time": "2023-11-27T00:36:37.722129",
     "exception": false,
     "start_time": "2023-11-27T00:36:37.665977",
     "status": "completed"
    },
    "tags": []
   },
   "outputs": [
    {
     "data": {
      "text/html": [
       "<div>\n",
       "<style scoped>\n",
       "    .dataframe tbody tr th:only-of-type {\n",
       "        vertical-align: middle;\n",
       "    }\n",
       "\n",
       "    .dataframe tbody tr th {\n",
       "        vertical-align: top;\n",
       "    }\n",
       "\n",
       "    .dataframe thead th {\n",
       "        text-align: right;\n",
       "    }\n",
       "</style>\n",
       "<table border=\"1\" class=\"dataframe\">\n",
       "  <thead>\n",
       "    <tr style=\"text-align: right;\">\n",
       "      <th></th>\n",
       "      <th>id</th>\n",
       "      <th>allelectrons_Total</th>\n",
       "      <th>density_Total</th>\n",
       "      <th>allelectrons_Average</th>\n",
       "      <th>val_e_Average</th>\n",
       "      <th>atomicweight_Average</th>\n",
       "      <th>ionenergy_Average</th>\n",
       "      <th>el_neg_chi_Average</th>\n",
       "      <th>R_vdw_element_Average</th>\n",
       "      <th>R_cov_element_Average</th>\n",
       "      <th>zaratio_Average</th>\n",
       "      <th>density_Average</th>\n",
       "    </tr>\n",
       "  </thead>\n",
       "  <tbody>\n",
       "    <tr>\n",
       "      <th>0</th>\n",
       "      <td>10407</td>\n",
       "      <td>884.0</td>\n",
       "      <td>121.420000</td>\n",
       "      <td>35.36</td>\n",
       "      <td>5.28</td>\n",
       "      <td>82.561240</td>\n",
       "      <td>9.370384</td>\n",
       "      <td>2.298</td>\n",
       "      <td>1.9072</td>\n",
       "      <td>1.200000</td>\n",
       "      <td>0.461899</td>\n",
       "      <td>1.79459</td>\n",
       "    </tr>\n",
       "    <tr>\n",
       "      <th>1</th>\n",
       "      <td>10408</td>\n",
       "      <td>90.0</td>\n",
       "      <td>9.931960</td>\n",
       "      <td>18.00</td>\n",
       "      <td>5.60</td>\n",
       "      <td>39.568056</td>\n",
       "      <td>12.086300</td>\n",
       "      <td>2.868</td>\n",
       "      <td>1.6520</td>\n",
       "      <td>0.864000</td>\n",
       "      <td>0.476196</td>\n",
       "      <td>1.41194</td>\n",
       "    </tr>\n",
       "    <tr>\n",
       "      <th>2</th>\n",
       "      <td>10409</td>\n",
       "      <td>116.0</td>\n",
       "      <td>7.767992</td>\n",
       "      <td>11.60</td>\n",
       "      <td>4.80</td>\n",
       "      <td>23.231818</td>\n",
       "      <td>11.023840</td>\n",
       "      <td>2.644</td>\n",
       "      <td>1.7940</td>\n",
       "      <td>0.960000</td>\n",
       "      <td>0.499514</td>\n",
       "      <td>0.78834</td>\n",
       "    </tr>\n",
       "    <tr>\n",
       "      <th>3</th>\n",
       "      <td>10410</td>\n",
       "      <td>100.0</td>\n",
       "      <td>9.107996</td>\n",
       "      <td>10.00</td>\n",
       "      <td>4.80</td>\n",
       "      <td>20.298893</td>\n",
       "      <td>12.086300</td>\n",
       "      <td>2.828</td>\n",
       "      <td>1.6620</td>\n",
       "      <td>0.792000</td>\n",
       "      <td>0.495796</td>\n",
       "      <td>1.20466</td>\n",
       "    </tr>\n",
       "    <tr>\n",
       "      <th>4</th>\n",
       "      <td>10411</td>\n",
       "      <td>55.0</td>\n",
       "      <td>4.030000</td>\n",
       "      <td>11.00</td>\n",
       "      <td>4.00</td>\n",
       "      <td>22.977675</td>\n",
       "      <td>11.280950</td>\n",
       "      <td>2.455</td>\n",
       "      <td>1.7500</td>\n",
       "      <td>0.893333</td>\n",
       "      <td>0.476095</td>\n",
       "      <td>0.93456</td>\n",
       "    </tr>\n",
       "  </tbody>\n",
       "</table>\n",
       "</div>"
      ],
      "text/plain": [
       "      id  allelectrons_Total  density_Total  allelectrons_Average  \\\n",
       "0  10407               884.0     121.420000                 35.36   \n",
       "1  10408                90.0       9.931960                 18.00   \n",
       "2  10409               116.0       7.767992                 11.60   \n",
       "3  10410               100.0       9.107996                 10.00   \n",
       "4  10411                55.0       4.030000                 11.00   \n",
       "\n",
       "   val_e_Average  atomicweight_Average  ionenergy_Average  el_neg_chi_Average  \\\n",
       "0           5.28             82.561240           9.370384               2.298   \n",
       "1           5.60             39.568056          12.086300               2.868   \n",
       "2           4.80             23.231818          11.023840               2.644   \n",
       "3           4.80             20.298893          12.086300               2.828   \n",
       "4           4.00             22.977675          11.280950               2.455   \n",
       "\n",
       "   R_vdw_element_Average  R_cov_element_Average  zaratio_Average  \\\n",
       "0                 1.9072               1.200000         0.461899   \n",
       "1                 1.6520               0.864000         0.476196   \n",
       "2                 1.7940               0.960000         0.499514   \n",
       "3                 1.6620               0.792000         0.495796   \n",
       "4                 1.7500               0.893333         0.476095   \n",
       "\n",
       "   density_Average  \n",
       "0          1.79459  \n",
       "1          1.41194  \n",
       "2          0.78834  \n",
       "3          1.20466  \n",
       "4          0.93456  "
      ]
     },
     "execution_count": 12,
     "metadata": {},
     "output_type": "execute_result"
    }
   ],
   "source": [
    "test_dataset.head()"
   ]
  },
  {
   "cell_type": "code",
   "execution_count": 13,
   "id": "9e64ff85",
   "metadata": {
    "execution": {
     "iopub.execute_input": "2023-11-27T00:36:37.792517Z",
     "iopub.status.busy": "2023-11-27T00:36:37.791970Z",
     "iopub.status.idle": "2023-11-27T00:36:38.521625Z",
     "shell.execute_reply": "2023-11-27T00:36:38.520663Z"
    },
    "papermill": {
     "duration": 0.76785,
     "end_time": "2023-11-27T00:36:38.524043",
     "exception": false,
     "start_time": "2023-11-27T00:36:37.756193",
     "status": "completed"
    },
    "tags": []
   },
   "outputs": [
    {
     "name": "stdout",
     "output_type": "stream",
     "text": [
      "217/217 [==============================] - 1s 2ms/step\n"
     ]
    }
   ],
   "source": [
    "predictions = DNN_model.predict(test_dataset)"
   ]
  },
  {
   "cell_type": "markdown",
   "id": "114bb223",
   "metadata": {
    "papermill": {
     "duration": 0.035219,
     "end_time": "2023-11-27T00:36:38.597045",
     "exception": false,
     "start_time": "2023-11-27T00:36:38.561826",
     "status": "completed"
    },
    "tags": []
   },
   "source": [
    "Create subbmission flie"
   ]
  },
  {
   "cell_type": "code",
   "execution_count": 14,
   "id": "2f82057c",
   "metadata": {
    "execution": {
     "iopub.execute_input": "2023-11-27T00:36:38.714941Z",
     "iopub.status.busy": "2023-11-27T00:36:38.714004Z",
     "iopub.status.idle": "2023-11-27T00:36:38.721704Z",
     "shell.execute_reply": "2023-11-27T00:36:38.720912Z"
    },
    "papermill": {
     "duration": 0.046116,
     "end_time": "2023-11-27T00:36:38.723615",
     "exception": false,
     "start_time": "2023-11-27T00:36:38.677499",
     "status": "completed"
    },
    "tags": []
   },
   "outputs": [],
   "source": [
    "submission = pd.DataFrame()\n",
    "submission['id'] = test_dataset['id']\n",
    "submission['Hardness'] = predictions"
   ]
  },
  {
   "cell_type": "code",
   "execution_count": 15,
   "id": "a5d756da",
   "metadata": {
    "execution": {
     "iopub.execute_input": "2023-11-27T00:36:38.796821Z",
     "iopub.status.busy": "2023-11-27T00:36:38.796465Z",
     "iopub.status.idle": "2023-11-27T00:36:38.806345Z",
     "shell.execute_reply": "2023-11-27T00:36:38.805413Z"
    },
    "papermill": {
     "duration": 0.049272,
     "end_time": "2023-11-27T00:36:38.808373",
     "exception": false,
     "start_time": "2023-11-27T00:36:38.759101",
     "status": "completed"
    },
    "tags": []
   },
   "outputs": [
    {
     "data": {
      "text/html": [
       "<div>\n",
       "<style scoped>\n",
       "    .dataframe tbody tr th:only-of-type {\n",
       "        vertical-align: middle;\n",
       "    }\n",
       "\n",
       "    .dataframe tbody tr th {\n",
       "        vertical-align: top;\n",
       "    }\n",
       "\n",
       "    .dataframe thead th {\n",
       "        text-align: right;\n",
       "    }\n",
       "</style>\n",
       "<table border=\"1\" class=\"dataframe\">\n",
       "  <thead>\n",
       "    <tr style=\"text-align: right;\">\n",
       "      <th></th>\n",
       "      <th>id</th>\n",
       "      <th>Hardness</th>\n",
       "    </tr>\n",
       "  </thead>\n",
       "  <tbody>\n",
       "    <tr>\n",
       "      <th>0</th>\n",
       "      <td>10407</td>\n",
       "      <td>1.0</td>\n",
       "    </tr>\n",
       "    <tr>\n",
       "      <th>1</th>\n",
       "      <td>10408</td>\n",
       "      <td>1.0</td>\n",
       "    </tr>\n",
       "    <tr>\n",
       "      <th>2</th>\n",
       "      <td>10409</td>\n",
       "      <td>1.0</td>\n",
       "    </tr>\n",
       "    <tr>\n",
       "      <th>3</th>\n",
       "      <td>10410</td>\n",
       "      <td>1.0</td>\n",
       "    </tr>\n",
       "    <tr>\n",
       "      <th>4</th>\n",
       "      <td>10411</td>\n",
       "      <td>1.0</td>\n",
       "    </tr>\n",
       "  </tbody>\n",
       "</table>\n",
       "</div>"
      ],
      "text/plain": [
       "      id  Hardness\n",
       "0  10407       1.0\n",
       "1  10408       1.0\n",
       "2  10409       1.0\n",
       "3  10410       1.0\n",
       "4  10411       1.0"
      ]
     },
     "execution_count": 15,
     "metadata": {},
     "output_type": "execute_result"
    }
   ],
   "source": [
    "submission.head()"
   ]
  },
  {
   "cell_type": "code",
   "execution_count": 16,
   "id": "04d948b7",
   "metadata": {
    "execution": {
     "iopub.execute_input": "2023-11-27T00:36:38.887792Z",
     "iopub.status.busy": "2023-11-27T00:36:38.886709Z",
     "iopub.status.idle": "2023-11-27T00:36:38.913132Z",
     "shell.execute_reply": "2023-11-27T00:36:38.912370Z"
    },
    "papermill": {
     "duration": 0.066541,
     "end_time": "2023-11-27T00:36:38.915176",
     "exception": false,
     "start_time": "2023-11-27T00:36:38.848635",
     "status": "completed"
    },
    "tags": []
   },
   "outputs": [],
   "source": [
    "submission.to_csv('/kaggle/working/submission.csv',index=False,header=True)"
   ]
  }
 ],
 "metadata": {
  "kaggle": {
   "accelerator": "nvidiaTeslaT4",
   "dataSources": [
    {
     "databundleVersionId": 6989718,
     "sourceId": 60892,
     "sourceType": "competition"
    }
   ],
   "dockerImageVersionId": 30587,
   "isGpuEnabled": true,
   "isInternetEnabled": true,
   "language": "python",
   "sourceType": "notebook"
  },
  "kernelspec": {
   "display_name": "Python 3",
   "language": "python",
   "name": "python3"
  },
  "language_info": {
   "codemirror_mode": {
    "name": "ipython",
    "version": 3
   },
   "file_extension": ".py",
   "mimetype": "text/x-python",
   "name": "python",
   "nbconvert_exporter": "python",
   "pygments_lexer": "ipython3",
   "version": "3.10.12"
  },
  "papermill": {
   "default_parameters": {},
   "duration": 50.718172,
   "end_time": "2023-11-27T00:36:42.359480",
   "environment_variables": {},
   "exception": null,
   "input_path": "__notebook__.ipynb",
   "output_path": "__notebook__.ipynb",
   "parameters": {},
   "start_time": "2023-11-27T00:35:51.641308",
   "version": "2.4.0"
  }
 },
 "nbformat": 4,
 "nbformat_minor": 5
}
