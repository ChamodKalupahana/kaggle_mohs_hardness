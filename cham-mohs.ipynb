{
 "cells": [
  {
   "cell_type": "code",
   "execution_count": 1,
   "id": "e71268f4",
   "metadata": {
    "_cell_guid": "b1076dfc-b9ad-4769-8c92-a6c4dae69d19",
    "_uuid": "8f2839f25d086af736a60e9eeb907d3b93b6e0e5",
    "execution": {
     "iopub.execute_input": "2023-11-26T23:55:24.331807Z",
     "iopub.status.busy": "2023-11-26T23:55:24.331459Z",
     "iopub.status.idle": "2023-11-26T23:55:38.030361Z",
     "shell.execute_reply": "2023-11-26T23:55:38.029240Z"
    },
    "papermill": {
     "duration": 13.709246,
     "end_time": "2023-11-26T23:55:38.032678",
     "exception": false,
     "start_time": "2023-11-26T23:55:24.323432",
     "status": "completed"
    },
    "tags": []
   },
   "outputs": [
    {
     "name": "stderr",
     "output_type": "stream",
     "text": [
      "/opt/conda/lib/python3.10/site-packages/scipy/__init__.py:146: UserWarning: A NumPy version >=1.16.5 and <1.23.0 is required for this version of SciPy (detected version 1.24.3\n",
      "  warnings.warn(f\"A NumPy version >={np_minversion} and <{np_maxversion}\"\n"
     ]
    },
    {
     "name": "stdout",
     "output_type": "stream",
     "text": [
      "/kaggle/input/playground-series-s3e25/sample_submission.csv\n",
      "/kaggle/input/playground-series-s3e25/train.csv\n",
      "/kaggle/input/playground-series-s3e25/test.csv\n"
     ]
    }
   ],
   "source": [
    "# This Python 3 environment comes with many helpful analytics libraries installed\n",
    "# It is defined by the kaggle/python Docker image: https://github.com/kaggle/docker-python\n",
    "# For example, here's several helpful packages to load\n",
    "\n",
    "import numpy as np # linear algebra\n",
    "import pandas as pd # data processing, CSV file I/O (e.g. pd.read_csv)\n",
    "\n",
    "import tensorflow as tf\n",
    "import tensorflow.keras.layers as layers\n",
    "\n",
    "# Input data files are available in the read-only \"../input/\" directory\n",
    "# For example, running this (by clicking run or pressing Shift+Enter) will list all files under the input directory\n",
    "\n",
    "import os\n",
    "for dirname, _, filenames in os.walk('/kaggle/input'):\n",
    "    for filename in filenames:\n",
    "        print(os.path.join(dirname, filename))\n",
    "\n",
    "# You can write up to 20GB to the current directory (/kaggle/working/) that gets preserved as output when you create a version using \"Save & Run All\" \n",
    "# You can also write temporary files to /kaggle/temp/, but they won't be saved outside of the current session"
   ]
  },
  {
   "cell_type": "code",
   "execution_count": 2,
   "id": "37dd66f2",
   "metadata": {
    "execution": {
     "iopub.execute_input": "2023-11-26T23:55:38.046848Z",
     "iopub.status.busy": "2023-11-26T23:55:38.046255Z",
     "iopub.status.idle": "2023-11-26T23:55:38.098531Z",
     "shell.execute_reply": "2023-11-26T23:55:38.097654Z"
    },
    "papermill": {
     "duration": 0.061618,
     "end_time": "2023-11-26T23:55:38.100778",
     "exception": false,
     "start_time": "2023-11-26T23:55:38.039160",
     "status": "completed"
    },
    "tags": []
   },
   "outputs": [],
   "source": [
    "filepath = \"/kaggle/input/playground-series-s3e25/train.csv\"\n",
    "\n",
    "dataset = pd.read_csv(filepath)"
   ]
  },
  {
   "cell_type": "code",
   "execution_count": 3,
   "id": "7bdf2e97",
   "metadata": {
    "execution": {
     "iopub.execute_input": "2023-11-26T23:55:38.115010Z",
     "iopub.status.busy": "2023-11-26T23:55:38.114271Z",
     "iopub.status.idle": "2023-11-26T23:55:38.142645Z",
     "shell.execute_reply": "2023-11-26T23:55:38.141496Z"
    },
    "papermill": {
     "duration": 0.03741,
     "end_time": "2023-11-26T23:55:38.144559",
     "exception": false,
     "start_time": "2023-11-26T23:55:38.107149",
     "status": "completed"
    },
    "tags": []
   },
   "outputs": [
    {
     "name": "stdout",
     "output_type": "stream",
     "text": [
      "<class 'pandas.core.frame.DataFrame'>\n",
      "RangeIndex: 10407 entries, 0 to 10406\n",
      "Data columns (total 13 columns):\n",
      " #   Column                 Non-Null Count  Dtype  \n",
      "---  ------                 --------------  -----  \n",
      " 0   id                     10407 non-null  int64  \n",
      " 1   allelectrons_Total     10407 non-null  float64\n",
      " 2   density_Total          10407 non-null  float64\n",
      " 3   allelectrons_Average   10407 non-null  float64\n",
      " 4   val_e_Average          10407 non-null  float64\n",
      " 5   atomicweight_Average   10407 non-null  float64\n",
      " 6   ionenergy_Average      10407 non-null  float64\n",
      " 7   el_neg_chi_Average     10407 non-null  float64\n",
      " 8   R_vdw_element_Average  10407 non-null  float64\n",
      " 9   R_cov_element_Average  10407 non-null  float64\n",
      " 10  zaratio_Average        10407 non-null  float64\n",
      " 11  density_Average        10407 non-null  float64\n",
      " 12  Hardness               10407 non-null  float64\n",
      "dtypes: float64(12), int64(1)\n",
      "memory usage: 1.0 MB\n"
     ]
    }
   ],
   "source": [
    "dataset.info()"
   ]
  },
  {
   "cell_type": "code",
   "execution_count": 4,
   "id": "85673fc1",
   "metadata": {
    "execution": {
     "iopub.execute_input": "2023-11-26T23:55:38.158215Z",
     "iopub.status.busy": "2023-11-26T23:55:38.157943Z",
     "iopub.status.idle": "2023-11-26T23:55:38.163789Z",
     "shell.execute_reply": "2023-11-26T23:55:38.162952Z"
    },
    "papermill": {
     "duration": 0.014746,
     "end_time": "2023-11-26T23:55:38.165643",
     "exception": false,
     "start_time": "2023-11-26T23:55:38.150897",
     "status": "completed"
    },
    "tags": []
   },
   "outputs": [],
   "source": [
    "y = dataset.pop('Hardness')\n",
    "x = dataset"
   ]
  },
  {
   "cell_type": "markdown",
   "id": "4580b88a",
   "metadata": {
    "papermill": {
     "duration": 0.00604,
     "end_time": "2023-11-26T23:55:38.177817",
     "exception": false,
     "start_time": "2023-11-26T23:55:38.171777",
     "status": "completed"
    },
    "tags": []
   },
   "source": [
    "### Check dataset"
   ]
  },
  {
   "cell_type": "code",
   "execution_count": 5,
   "id": "88715583",
   "metadata": {
    "execution": {
     "iopub.execute_input": "2023-11-26T23:55:38.191278Z",
     "iopub.status.busy": "2023-11-26T23:55:38.191001Z",
     "iopub.status.idle": "2023-11-26T23:55:38.211568Z",
     "shell.execute_reply": "2023-11-26T23:55:38.210760Z"
    },
    "papermill": {
     "duration": 0.029579,
     "end_time": "2023-11-26T23:55:38.213533",
     "exception": false,
     "start_time": "2023-11-26T23:55:38.183954",
     "status": "completed"
    },
    "tags": []
   },
   "outputs": [
    {
     "data": {
      "text/html": [
       "<div>\n",
       "<style scoped>\n",
       "    .dataframe tbody tr th:only-of-type {\n",
       "        vertical-align: middle;\n",
       "    }\n",
       "\n",
       "    .dataframe tbody tr th {\n",
       "        vertical-align: top;\n",
       "    }\n",
       "\n",
       "    .dataframe thead th {\n",
       "        text-align: right;\n",
       "    }\n",
       "</style>\n",
       "<table border=\"1\" class=\"dataframe\">\n",
       "  <thead>\n",
       "    <tr style=\"text-align: right;\">\n",
       "      <th></th>\n",
       "      <th>id</th>\n",
       "      <th>allelectrons_Total</th>\n",
       "      <th>density_Total</th>\n",
       "      <th>allelectrons_Average</th>\n",
       "      <th>val_e_Average</th>\n",
       "      <th>atomicweight_Average</th>\n",
       "      <th>ionenergy_Average</th>\n",
       "      <th>el_neg_chi_Average</th>\n",
       "      <th>R_vdw_element_Average</th>\n",
       "      <th>R_cov_element_Average</th>\n",
       "      <th>zaratio_Average</th>\n",
       "      <th>density_Average</th>\n",
       "    </tr>\n",
       "  </thead>\n",
       "  <tbody>\n",
       "    <tr>\n",
       "      <th>0</th>\n",
       "      <td>0</td>\n",
       "      <td>100.0</td>\n",
       "      <td>0.841611</td>\n",
       "      <td>10.0</td>\n",
       "      <td>4.8</td>\n",
       "      <td>20.612526</td>\n",
       "      <td>11.08810</td>\n",
       "      <td>2.766</td>\n",
       "      <td>1.732</td>\n",
       "      <td>0.860</td>\n",
       "      <td>0.496070</td>\n",
       "      <td>0.91457</td>\n",
       "    </tr>\n",
       "    <tr>\n",
       "      <th>1</th>\n",
       "      <td>1</td>\n",
       "      <td>100.0</td>\n",
       "      <td>7.558488</td>\n",
       "      <td>10.0</td>\n",
       "      <td>4.8</td>\n",
       "      <td>20.298893</td>\n",
       "      <td>12.04083</td>\n",
       "      <td>2.755</td>\n",
       "      <td>1.631</td>\n",
       "      <td>0.910</td>\n",
       "      <td>0.492719</td>\n",
       "      <td>0.71760</td>\n",
       "    </tr>\n",
       "    <tr>\n",
       "      <th>2</th>\n",
       "      <td>2</td>\n",
       "      <td>76.0</td>\n",
       "      <td>8.885992</td>\n",
       "      <td>15.6</td>\n",
       "      <td>5.6</td>\n",
       "      <td>33.739258</td>\n",
       "      <td>12.08630</td>\n",
       "      <td>2.828</td>\n",
       "      <td>1.788</td>\n",
       "      <td>0.864</td>\n",
       "      <td>0.481478</td>\n",
       "      <td>1.50633</td>\n",
       "    </tr>\n",
       "    <tr>\n",
       "      <th>3</th>\n",
       "      <td>3</td>\n",
       "      <td>100.0</td>\n",
       "      <td>8.795296</td>\n",
       "      <td>10.0</td>\n",
       "      <td>4.8</td>\n",
       "      <td>20.213349</td>\n",
       "      <td>10.94850</td>\n",
       "      <td>2.648</td>\n",
       "      <td>1.626</td>\n",
       "      <td>0.936</td>\n",
       "      <td>0.489272</td>\n",
       "      <td>0.78937</td>\n",
       "    </tr>\n",
       "    <tr>\n",
       "      <th>4</th>\n",
       "      <td>4</td>\n",
       "      <td>116.0</td>\n",
       "      <td>9.577996</td>\n",
       "      <td>11.6</td>\n",
       "      <td>4.8</td>\n",
       "      <td>24.988133</td>\n",
       "      <td>11.82448</td>\n",
       "      <td>2.766</td>\n",
       "      <td>1.682</td>\n",
       "      <td>0.896</td>\n",
       "      <td>0.492736</td>\n",
       "      <td>1.86481</td>\n",
       "    </tr>\n",
       "  </tbody>\n",
       "</table>\n",
       "</div>"
      ],
      "text/plain": [
       "   id  allelectrons_Total  density_Total  allelectrons_Average  val_e_Average  \\\n",
       "0   0               100.0       0.841611                  10.0            4.8   \n",
       "1   1               100.0       7.558488                  10.0            4.8   \n",
       "2   2                76.0       8.885992                  15.6            5.6   \n",
       "3   3               100.0       8.795296                  10.0            4.8   \n",
       "4   4               116.0       9.577996                  11.6            4.8   \n",
       "\n",
       "   atomicweight_Average  ionenergy_Average  el_neg_chi_Average  \\\n",
       "0             20.612526           11.08810               2.766   \n",
       "1             20.298893           12.04083               2.755   \n",
       "2             33.739258           12.08630               2.828   \n",
       "3             20.213349           10.94850               2.648   \n",
       "4             24.988133           11.82448               2.766   \n",
       "\n",
       "   R_vdw_element_Average  R_cov_element_Average  zaratio_Average  \\\n",
       "0                  1.732                  0.860         0.496070   \n",
       "1                  1.631                  0.910         0.492719   \n",
       "2                  1.788                  0.864         0.481478   \n",
       "3                  1.626                  0.936         0.489272   \n",
       "4                  1.682                  0.896         0.492736   \n",
       "\n",
       "   density_Average  \n",
       "0          0.91457  \n",
       "1          0.71760  \n",
       "2          1.50633  \n",
       "3          0.78937  \n",
       "4          1.86481  "
      ]
     },
     "execution_count": 5,
     "metadata": {},
     "output_type": "execute_result"
    }
   ],
   "source": [
    "x.head()"
   ]
  },
  {
   "cell_type": "code",
   "execution_count": 6,
   "id": "f1c891a7",
   "metadata": {
    "execution": {
     "iopub.execute_input": "2023-11-26T23:55:38.227520Z",
     "iopub.status.busy": "2023-11-26T23:55:38.227233Z",
     "iopub.status.idle": "2023-11-26T23:55:38.233531Z",
     "shell.execute_reply": "2023-11-26T23:55:38.232723Z"
    },
    "papermill": {
     "duration": 0.015508,
     "end_time": "2023-11-26T23:55:38.235539",
     "exception": false,
     "start_time": "2023-11-26T23:55:38.220031",
     "status": "completed"
    },
    "tags": []
   },
   "outputs": [
    {
     "data": {
      "text/plain": [
       "0    6.0\n",
       "1    6.5\n",
       "2    2.5\n",
       "3    6.0\n",
       "4    6.0\n",
       "Name: Hardness, dtype: float64"
      ]
     },
     "execution_count": 6,
     "metadata": {},
     "output_type": "execute_result"
    }
   ],
   "source": [
    "y.head()"
   ]
  },
  {
   "cell_type": "markdown",
   "id": "e9900781",
   "metadata": {
    "papermill": {
     "duration": 0.006349,
     "end_time": "2023-11-26T23:55:38.248827",
     "exception": false,
     "start_time": "2023-11-26T23:55:38.242478",
     "status": "completed"
    },
    "tags": []
   },
   "source": [
    "### Create DNN model"
   ]
  },
  {
   "cell_type": "code",
   "execution_count": 7,
   "id": "4689ae1c",
   "metadata": {
    "execution": {
     "iopub.execute_input": "2023-11-26T23:55:38.262976Z",
     "iopub.status.busy": "2023-11-26T23:55:38.262706Z",
     "iopub.status.idle": "2023-11-26T23:55:38.266856Z",
     "shell.execute_reply": "2023-11-26T23:55:38.266080Z"
    },
    "papermill": {
     "duration": 0.013534,
     "end_time": "2023-11-26T23:55:38.268870",
     "exception": false,
     "start_time": "2023-11-26T23:55:38.255336",
     "status": "completed"
    },
    "tags": []
   },
   "outputs": [
    {
     "name": "stdout",
     "output_type": "stream",
     "text": [
      "(10407, 12)\n"
     ]
    }
   ],
   "source": [
    "input_shape = x.shape\n",
    "print(input_shape)"
   ]
  },
  {
   "cell_type": "code",
   "execution_count": 8,
   "id": "118a64ae",
   "metadata": {
    "execution": {
     "iopub.execute_input": "2023-11-26T23:55:38.283223Z",
     "iopub.status.busy": "2023-11-26T23:55:38.282981Z",
     "iopub.status.idle": "2023-11-26T23:55:42.613855Z",
     "shell.execute_reply": "2023-11-26T23:55:42.612932Z"
    },
    "papermill": {
     "duration": 4.340684,
     "end_time": "2023-11-26T23:55:42.616262",
     "exception": false,
     "start_time": "2023-11-26T23:55:38.275578",
     "status": "completed"
    },
    "tags": []
   },
   "outputs": [],
   "source": [
    "def get_dense_network():\n",
    "    input_shape = x.shape\n",
    "    input_layer = layers.Input(input_shape[1])\n",
    "    \n",
    "    d1 = layers.Dense(130, activation='relu')(input_layer)\n",
    "    d2 = layers.Dense(64, activation='relu')(d1)\n",
    "    d3 = layers.Dense(32, activation='relu')(d1)\n",
    "    d4 = layers.Dense(16, activation='relu')(d1)\n",
    "    d5 = layers.Dense(8, activation='relu')(d1)\n",
    "    d6 = layers.Dense(4, activation='relu')(d2)\n",
    "    d7 = layers.Dense(2, activation='relu')(d3)\n",
    "    \n",
    "    output_layer = layers.Dense(1, activation='sigmoid')(d4)\n",
    "    return tf.keras.Model(inputs=input_layer, outputs=output_layer)\n",
    "\n",
    "DNN_model = get_dense_network()\n",
    "\n",
    "loss_function = tf.keras.losses.MeanAbsoluteError()\n",
    "optimiser = tf.keras.optimizers.Adam(learning_rate=0.001)\n",
    "DNN_model.compile(loss = loss_function, optimizer=optimiser, metrics=['mae'])"
   ]
  },
  {
   "cell_type": "markdown",
   "id": "62c1fae3",
   "metadata": {
    "papermill": {
     "duration": 0.006708,
     "end_time": "2023-11-26T23:55:42.631474",
     "exception": false,
     "start_time": "2023-11-26T23:55:42.624766",
     "status": "completed"
    },
    "tags": []
   },
   "source": [
    "try with for loop"
   ]
  },
  {
   "cell_type": "code",
   "execution_count": 9,
   "id": "eb312ef8",
   "metadata": {
    "execution": {
     "iopub.execute_input": "2023-11-26T23:55:42.646233Z",
     "iopub.status.busy": "2023-11-26T23:55:42.645915Z",
     "iopub.status.idle": "2023-11-26T23:55:42.756074Z",
     "shell.execute_reply": "2023-11-26T23:55:42.755338Z"
    },
    "papermill": {
     "duration": 0.120079,
     "end_time": "2023-11-26T23:55:42.758281",
     "exception": false,
     "start_time": "2023-11-26T23:55:42.638202",
     "status": "completed"
    },
    "tags": []
   },
   "outputs": [],
   "source": [
    "def get_dense_network():\n",
    "    input_shape = x.shape\n",
    "    widths = [130, 64, 32, 16, 8, 4, 2, 1]\n",
    "    input_layer = layers.Input(input_shape[1])\n",
    "    \n",
    "    d1 = layers.Dense(widths[1], activation='relu')(input_layer)\n",
    "    for width in widths:\n",
    "        if width != widths[0]:\n",
    "            dx = layers.Dense(width, activation='relu')(d1)\n",
    "        \n",
    "    output_layer = layers.Dense(1, activation='sigmoid')(dx)\n",
    "    return tf.keras.Model(inputs=input_layer, outputs=output_layer)\n",
    "\n",
    "DNN_model = get_dense_network()\n",
    "\n",
    "loss_function = tf.keras.losses.MeanAbsoluteError()\n",
    "optimiser = tf.keras.optimizers.Adam(learning_rate=0.001)\n",
    "DNN_model.compile(loss = loss_function, optimizer=optimiser, metrics=['mae'])"
   ]
  },
  {
   "cell_type": "code",
   "execution_count": 10,
   "id": "167c015d",
   "metadata": {
    "execution": {
     "iopub.execute_input": "2023-11-26T23:55:42.773890Z",
     "iopub.status.busy": "2023-11-26T23:55:42.773137Z",
     "iopub.status.idle": "2023-11-26T23:55:42.792502Z",
     "shell.execute_reply": "2023-11-26T23:55:42.791588Z"
    },
    "papermill": {
     "duration": 0.03073,
     "end_time": "2023-11-26T23:55:42.796028",
     "exception": false,
     "start_time": "2023-11-26T23:55:42.765298",
     "status": "completed"
    },
    "tags": []
   },
   "outputs": [
    {
     "name": "stdout",
     "output_type": "stream",
     "text": [
      "Model: \"model_1\"\n",
      "_________________________________________________________________\n",
      " Layer (type)                Output Shape              Param #   \n",
      "=================================================================\n",
      " input_2 (InputLayer)        [(None, 12)]              0         \n",
      "                                                                 \n",
      " dense_8 (Dense)             (None, 64)                832       \n",
      "                                                                 \n",
      " dense_15 (Dense)            (None, 1)                 65        \n",
      "                                                                 \n",
      " dense_16 (Dense)            (None, 1)                 2         \n",
      "                                                                 \n",
      "=================================================================\n",
      "Total params: 899 (3.51 KB)\n",
      "Trainable params: 899 (3.51 KB)\n",
      "Non-trainable params: 0 (0.00 Byte)\n",
      "_________________________________________________________________\n"
     ]
    }
   ],
   "source": [
    "DNN_model.summary()"
   ]
  },
  {
   "cell_type": "markdown",
   "id": "6105a060",
   "metadata": {
    "papermill": {
     "duration": 0.007706,
     "end_time": "2023-11-26T23:55:42.811739",
     "exception": false,
     "start_time": "2023-11-26T23:55:42.804033",
     "status": "completed"
    },
    "tags": []
   },
   "source": [
    "### Test dataset"
   ]
  },
  {
   "cell_type": "code",
   "execution_count": 11,
   "id": "614e308b",
   "metadata": {
    "execution": {
     "iopub.execute_input": "2023-11-26T23:55:42.829043Z",
     "iopub.status.busy": "2023-11-26T23:55:42.828759Z",
     "iopub.status.idle": "2023-11-26T23:55:57.168513Z",
     "shell.execute_reply": "2023-11-26T23:55:57.167636Z"
    },
    "papermill": {
     "duration": 14.350435,
     "end_time": "2023-11-26T23:55:57.170337",
     "exception": false,
     "start_time": "2023-11-26T23:55:42.819902",
     "status": "completed"
    },
    "tags": []
   },
   "outputs": [
    {
     "name": "stdout",
     "output_type": "stream",
     "text": [
      "Epoch 1/10\n",
      "326/326 [==============================] - 6s 3ms/step - loss: 3.6471 - mae: 3.6471\n",
      "Epoch 2/10\n",
      "326/326 [==============================] - 1s 3ms/step - loss: 3.6471 - mae: 3.6471\n",
      "Epoch 3/10\n",
      "326/326 [==============================] - 1s 3ms/step - loss: 3.6471 - mae: 3.6471\n",
      "Epoch 4/10\n",
      "326/326 [==============================] - 1s 3ms/step - loss: 3.6471 - mae: 3.6471\n",
      "Epoch 5/10\n",
      "326/326 [==============================] - 1s 3ms/step - loss: 3.6471 - mae: 3.6471\n",
      "Epoch 6/10\n",
      "326/326 [==============================] - 1s 3ms/step - loss: 3.6471 - mae: 3.6471\n",
      "Epoch 7/10\n",
      "326/326 [==============================] - 1s 3ms/step - loss: 3.6471 - mae: 3.6471\n",
      "Epoch 8/10\n",
      "326/326 [==============================] - 1s 3ms/step - loss: 3.6471 - mae: 3.6471\n",
      "Epoch 9/10\n",
      "326/326 [==============================] - 1s 3ms/step - loss: 3.6471 - mae: 3.6471\n",
      "Epoch 10/10\n",
      "326/326 [==============================] - 1s 3ms/step - loss: 3.6471 - mae: 3.6471\n"
     ]
    },
    {
     "data": {
      "text/plain": [
       "<keras.src.callbacks.History at 0x7ca8d5948670>"
      ]
     },
     "execution_count": 11,
     "metadata": {},
     "output_type": "execute_result"
    }
   ],
   "source": [
    "DNN_model.fit(x, y, epochs=10)"
   ]
  },
  {
   "cell_type": "markdown",
   "id": "a0d7bd2d",
   "metadata": {
    "papermill": {
     "duration": 0.023919,
     "end_time": "2023-11-26T23:55:57.218223",
     "exception": false,
     "start_time": "2023-11-26T23:55:57.194304",
     "status": "completed"
    },
    "tags": []
   },
   "source": [
    "### Test submission"
   ]
  },
  {
   "cell_type": "code",
   "execution_count": 12,
   "id": "4ddf8641",
   "metadata": {
    "execution": {
     "iopub.execute_input": "2023-11-26T23:55:57.269263Z",
     "iopub.status.busy": "2023-11-26T23:55:57.268492Z",
     "iopub.status.idle": "2023-11-26T23:55:57.296978Z",
     "shell.execute_reply": "2023-11-26T23:55:57.296123Z"
    },
    "papermill": {
     "duration": 0.055152,
     "end_time": "2023-11-26T23:55:57.299030",
     "exception": false,
     "start_time": "2023-11-26T23:55:57.243878",
     "status": "completed"
    },
    "tags": []
   },
   "outputs": [],
   "source": [
    "test_dataset = pd.read_csv(\"/kaggle/input/playground-series-s3e25/test.csv\")"
   ]
  },
  {
   "cell_type": "code",
   "execution_count": 13,
   "id": "4510698e",
   "metadata": {
    "execution": {
     "iopub.execute_input": "2023-11-26T23:55:57.354776Z",
     "iopub.status.busy": "2023-11-26T23:55:57.354397Z",
     "iopub.status.idle": "2023-11-26T23:55:57.380038Z",
     "shell.execute_reply": "2023-11-26T23:55:57.378743Z"
    },
    "papermill": {
     "duration": 0.059572,
     "end_time": "2023-11-26T23:55:57.382290",
     "exception": false,
     "start_time": "2023-11-26T23:55:57.322718",
     "status": "completed"
    },
    "tags": []
   },
   "outputs": [
    {
     "data": {
      "text/html": [
       "<div>\n",
       "<style scoped>\n",
       "    .dataframe tbody tr th:only-of-type {\n",
       "        vertical-align: middle;\n",
       "    }\n",
       "\n",
       "    .dataframe tbody tr th {\n",
       "        vertical-align: top;\n",
       "    }\n",
       "\n",
       "    .dataframe thead th {\n",
       "        text-align: right;\n",
       "    }\n",
       "</style>\n",
       "<table border=\"1\" class=\"dataframe\">\n",
       "  <thead>\n",
       "    <tr style=\"text-align: right;\">\n",
       "      <th></th>\n",
       "      <th>id</th>\n",
       "      <th>allelectrons_Total</th>\n",
       "      <th>density_Total</th>\n",
       "      <th>allelectrons_Average</th>\n",
       "      <th>val_e_Average</th>\n",
       "      <th>atomicweight_Average</th>\n",
       "      <th>ionenergy_Average</th>\n",
       "      <th>el_neg_chi_Average</th>\n",
       "      <th>R_vdw_element_Average</th>\n",
       "      <th>R_cov_element_Average</th>\n",
       "      <th>zaratio_Average</th>\n",
       "      <th>density_Average</th>\n",
       "    </tr>\n",
       "  </thead>\n",
       "  <tbody>\n",
       "    <tr>\n",
       "      <th>0</th>\n",
       "      <td>10407</td>\n",
       "      <td>884.0</td>\n",
       "      <td>121.420000</td>\n",
       "      <td>35.36</td>\n",
       "      <td>5.28</td>\n",
       "      <td>82.561240</td>\n",
       "      <td>9.370384</td>\n",
       "      <td>2.298</td>\n",
       "      <td>1.9072</td>\n",
       "      <td>1.200000</td>\n",
       "      <td>0.461899</td>\n",
       "      <td>1.79459</td>\n",
       "    </tr>\n",
       "    <tr>\n",
       "      <th>1</th>\n",
       "      <td>10408</td>\n",
       "      <td>90.0</td>\n",
       "      <td>9.931960</td>\n",
       "      <td>18.00</td>\n",
       "      <td>5.60</td>\n",
       "      <td>39.568056</td>\n",
       "      <td>12.086300</td>\n",
       "      <td>2.868</td>\n",
       "      <td>1.6520</td>\n",
       "      <td>0.864000</td>\n",
       "      <td>0.476196</td>\n",
       "      <td>1.41194</td>\n",
       "    </tr>\n",
       "    <tr>\n",
       "      <th>2</th>\n",
       "      <td>10409</td>\n",
       "      <td>116.0</td>\n",
       "      <td>7.767992</td>\n",
       "      <td>11.60</td>\n",
       "      <td>4.80</td>\n",
       "      <td>23.231818</td>\n",
       "      <td>11.023840</td>\n",
       "      <td>2.644</td>\n",
       "      <td>1.7940</td>\n",
       "      <td>0.960000</td>\n",
       "      <td>0.499514</td>\n",
       "      <td>0.78834</td>\n",
       "    </tr>\n",
       "    <tr>\n",
       "      <th>3</th>\n",
       "      <td>10410</td>\n",
       "      <td>100.0</td>\n",
       "      <td>9.107996</td>\n",
       "      <td>10.00</td>\n",
       "      <td>4.80</td>\n",
       "      <td>20.298893</td>\n",
       "      <td>12.086300</td>\n",
       "      <td>2.828</td>\n",
       "      <td>1.6620</td>\n",
       "      <td>0.792000</td>\n",
       "      <td>0.495796</td>\n",
       "      <td>1.20466</td>\n",
       "    </tr>\n",
       "    <tr>\n",
       "      <th>4</th>\n",
       "      <td>10411</td>\n",
       "      <td>55.0</td>\n",
       "      <td>4.030000</td>\n",
       "      <td>11.00</td>\n",
       "      <td>4.00</td>\n",
       "      <td>22.977675</td>\n",
       "      <td>11.280950</td>\n",
       "      <td>2.455</td>\n",
       "      <td>1.7500</td>\n",
       "      <td>0.893333</td>\n",
       "      <td>0.476095</td>\n",
       "      <td>0.93456</td>\n",
       "    </tr>\n",
       "  </tbody>\n",
       "</table>\n",
       "</div>"
      ],
      "text/plain": [
       "      id  allelectrons_Total  density_Total  allelectrons_Average  \\\n",
       "0  10407               884.0     121.420000                 35.36   \n",
       "1  10408                90.0       9.931960                 18.00   \n",
       "2  10409               116.0       7.767992                 11.60   \n",
       "3  10410               100.0       9.107996                 10.00   \n",
       "4  10411                55.0       4.030000                 11.00   \n",
       "\n",
       "   val_e_Average  atomicweight_Average  ionenergy_Average  el_neg_chi_Average  \\\n",
       "0           5.28             82.561240           9.370384               2.298   \n",
       "1           5.60             39.568056          12.086300               2.868   \n",
       "2           4.80             23.231818          11.023840               2.644   \n",
       "3           4.80             20.298893          12.086300               2.828   \n",
       "4           4.00             22.977675          11.280950               2.455   \n",
       "\n",
       "   R_vdw_element_Average  R_cov_element_Average  zaratio_Average  \\\n",
       "0                 1.9072               1.200000         0.461899   \n",
       "1                 1.6520               0.864000         0.476196   \n",
       "2                 1.7940               0.960000         0.499514   \n",
       "3                 1.6620               0.792000         0.495796   \n",
       "4                 1.7500               0.893333         0.476095   \n",
       "\n",
       "   density_Average  \n",
       "0          1.79459  \n",
       "1          1.41194  \n",
       "2          0.78834  \n",
       "3          1.20466  \n",
       "4          0.93456  "
      ]
     },
     "execution_count": 13,
     "metadata": {},
     "output_type": "execute_result"
    }
   ],
   "source": [
    "test_dataset.head()"
   ]
  },
  {
   "cell_type": "code",
   "execution_count": 14,
   "id": "54179d31",
   "metadata": {
    "execution": {
     "iopub.execute_input": "2023-11-26T23:55:57.438191Z",
     "iopub.status.busy": "2023-11-26T23:55:57.437565Z",
     "iopub.status.idle": "2023-11-26T23:55:58.013260Z",
     "shell.execute_reply": "2023-11-26T23:55:58.012409Z"
    },
    "papermill": {
     "duration": 0.603354,
     "end_time": "2023-11-26T23:55:58.015589",
     "exception": false,
     "start_time": "2023-11-26T23:55:57.412235",
     "status": "completed"
    },
    "tags": []
   },
   "outputs": [
    {
     "name": "stdout",
     "output_type": "stream",
     "text": [
      "217/217 [==============================] - 0s 1ms/step\n"
     ]
    }
   ],
   "source": [
    "predictions = DNN_model.predict(test_dataset)"
   ]
  },
  {
   "cell_type": "markdown",
   "id": "bb982021",
   "metadata": {
    "papermill": {
     "duration": 0.023869,
     "end_time": "2023-11-26T23:55:58.064285",
     "exception": false,
     "start_time": "2023-11-26T23:55:58.040416",
     "status": "completed"
    },
    "tags": []
   },
   "source": [
    "Create subbmission flie"
   ]
  },
  {
   "cell_type": "code",
   "execution_count": 15,
   "id": "7672a747",
   "metadata": {
    "execution": {
     "iopub.execute_input": "2023-11-26T23:55:58.114695Z",
     "iopub.status.busy": "2023-11-26T23:55:58.114038Z",
     "iopub.status.idle": "2023-11-26T23:55:58.120789Z",
     "shell.execute_reply": "2023-11-26T23:55:58.119954Z"
    },
    "papermill": {
     "duration": 0.034463,
     "end_time": "2023-11-26T23:55:58.122693",
     "exception": false,
     "start_time": "2023-11-26T23:55:58.088230",
     "status": "completed"
    },
    "tags": []
   },
   "outputs": [],
   "source": [
    "submission = pd.DataFrame()\n",
    "submission['id'] = test_dataset['id']\n",
    "submission['Hardness'] = predictions"
   ]
  },
  {
   "cell_type": "code",
   "execution_count": 16,
   "id": "539629a8",
   "metadata": {
    "execution": {
     "iopub.execute_input": "2023-11-26T23:55:58.172709Z",
     "iopub.status.busy": "2023-11-26T23:55:58.172050Z",
     "iopub.status.idle": "2023-11-26T23:55:58.181625Z",
     "shell.execute_reply": "2023-11-26T23:55:58.180736Z"
    },
    "papermill": {
     "duration": 0.036593,
     "end_time": "2023-11-26T23:55:58.183602",
     "exception": false,
     "start_time": "2023-11-26T23:55:58.147009",
     "status": "completed"
    },
    "tags": []
   },
   "outputs": [
    {
     "data": {
      "text/html": [
       "<div>\n",
       "<style scoped>\n",
       "    .dataframe tbody tr th:only-of-type {\n",
       "        vertical-align: middle;\n",
       "    }\n",
       "\n",
       "    .dataframe tbody tr th {\n",
       "        vertical-align: top;\n",
       "    }\n",
       "\n",
       "    .dataframe thead th {\n",
       "        text-align: right;\n",
       "    }\n",
       "</style>\n",
       "<table border=\"1\" class=\"dataframe\">\n",
       "  <thead>\n",
       "    <tr style=\"text-align: right;\">\n",
       "      <th></th>\n",
       "      <th>id</th>\n",
       "      <th>Hardness</th>\n",
       "    </tr>\n",
       "  </thead>\n",
       "  <tbody>\n",
       "    <tr>\n",
       "      <th>0</th>\n",
       "      <td>10407</td>\n",
       "      <td>1.0</td>\n",
       "    </tr>\n",
       "    <tr>\n",
       "      <th>1</th>\n",
       "      <td>10408</td>\n",
       "      <td>1.0</td>\n",
       "    </tr>\n",
       "    <tr>\n",
       "      <th>2</th>\n",
       "      <td>10409</td>\n",
       "      <td>1.0</td>\n",
       "    </tr>\n",
       "    <tr>\n",
       "      <th>3</th>\n",
       "      <td>10410</td>\n",
       "      <td>1.0</td>\n",
       "    </tr>\n",
       "    <tr>\n",
       "      <th>4</th>\n",
       "      <td>10411</td>\n",
       "      <td>1.0</td>\n",
       "    </tr>\n",
       "  </tbody>\n",
       "</table>\n",
       "</div>"
      ],
      "text/plain": [
       "      id  Hardness\n",
       "0  10407       1.0\n",
       "1  10408       1.0\n",
       "2  10409       1.0\n",
       "3  10410       1.0\n",
       "4  10411       1.0"
      ]
     },
     "execution_count": 16,
     "metadata": {},
     "output_type": "execute_result"
    }
   ],
   "source": [
    "submission.head()"
   ]
  },
  {
   "cell_type": "code",
   "execution_count": 17,
   "id": "f2e65daa",
   "metadata": {
    "execution": {
     "iopub.execute_input": "2023-11-26T23:55:58.276183Z",
     "iopub.status.busy": "2023-11-26T23:55:58.275516Z",
     "iopub.status.idle": "2023-11-26T23:55:58.299711Z",
     "shell.execute_reply": "2023-11-26T23:55:58.298991Z"
    },
    "papermill": {
     "duration": 0.051939,
     "end_time": "2023-11-26T23:55:58.301679",
     "exception": false,
     "start_time": "2023-11-26T23:55:58.249740",
     "status": "completed"
    },
    "tags": []
   },
   "outputs": [],
   "source": [
    "submission.to_csv('/kaggle/working/submission.csv',index=False,header=True)"
   ]
  }
 ],
 "metadata": {
  "kaggle": {
   "accelerator": "nvidiaTeslaT4",
   "dataSources": [
    {
     "databundleVersionId": 6989718,
     "sourceId": 60892,
     "sourceType": "competition"
    }
   ],
   "dockerImageVersionId": 30587,
   "isGpuEnabled": true,
   "isInternetEnabled": true,
   "language": "python",
   "sourceType": "notebook"
  },
  "kernelspec": {
   "display_name": "Python 3",
   "language": "python",
   "name": "python3"
  },
  "language_info": {
   "codemirror_mode": {
    "name": "ipython",
    "version": 3
   },
   "file_extension": ".py",
   "mimetype": "text/x-python",
   "name": "python",
   "nbconvert_exporter": "python",
   "pygments_lexer": "ipython3",
   "version": "3.10.12"
  },
  "papermill": {
   "default_parameters": {},
   "duration": 40.694912,
   "end_time": "2023-11-26T23:56:01.438244",
   "environment_variables": {},
   "exception": null,
   "input_path": "__notebook__.ipynb",
   "output_path": "__notebook__.ipynb",
   "parameters": {},
   "start_time": "2023-11-26T23:55:20.743332",
   "version": "2.4.0"
  }
 },
 "nbformat": 4,
 "nbformat_minor": 5
}
